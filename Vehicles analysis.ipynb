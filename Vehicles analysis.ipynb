{
 "cells": [
  {
   "cell_type": "markdown",
   "metadata": {},
   "source": [
    "#                               Research on car sales ads\n",
    "\n",
    "\n",
    "In this project we have data with <i>free advertisements for vehicles</i>. The goal is to study data collected over the last few years and determine which factors influence the price of a vehicle.\n",
    "The dataset contains the following fields:\n",
    "<ol>\n",
    "    <li>price</li>\n",
    "<li>model_year</li>\n",
    "<li>model</li>\n",
    "<li>condition</li>\n",
    "<li>cylinders</li>\n",
    "<li>fuel — gas, diesel, etc.</li>\n",
    "<li>odometer — the vehicle's mileage when the ad was published</li>\n",
    "<li>transmission</li>\n",
    "<li>paint_color</li>\n",
    "<li>is_4wd — whether the vehicle has 4-wheel drive (Boolean type)</li>\n",
    "<li>date_posted — the date the ad was published</li>\n",
    "<li>days_listed — from publication to removal</li>\n",
    "</ol>\n",
    "    \n",
    "#### Let's move on and study the data more thorougly.    "
   ]
  },
  {
   "cell_type": "markdown",
   "metadata": {},
   "source": [
    "## Step 1"
   ]
  },
  {
   "cell_type": "code",
   "execution_count": 1,
   "metadata": {},
   "outputs": [],
   "source": [
    "import pandas as pd\n",
    "import numpy as np\n",
    "import matplotlib.pyplot as plt"
   ]
  },
  {
   "cell_type": "code",
   "execution_count": 2,
   "metadata": {},
   "outputs": [],
   "source": [
    "try:\n",
    "    vehicles_data = pd.read_csv('/datasets/vehicles_us.csv')\n",
    "except IOError as e:\n",
    "    print(e) "
   ]
  },
  {
   "cell_type": "code",
   "execution_count": 3,
   "metadata": {},
   "outputs": [
    {
     "name": "stdout",
     "output_type": "stream",
     "text": [
      "<class 'pandas.core.frame.DataFrame'>\n",
      "RangeIndex: 51525 entries, 0 to 51524\n",
      "Data columns (total 13 columns):\n",
      "price           51525 non-null int64\n",
      "model_year      47906 non-null float64\n",
      "model           51525 non-null object\n",
      "condition       51525 non-null object\n",
      "cylinders       46265 non-null float64\n",
      "fuel            51525 non-null object\n",
      "odometer        43633 non-null float64\n",
      "transmission    51525 non-null object\n",
      "type            51525 non-null object\n",
      "paint_color     42258 non-null object\n",
      "is_4wd          25572 non-null float64\n",
      "date_posted     51525 non-null object\n",
      "days_listed     51525 non-null int64\n",
      "dtypes: float64(4), int64(2), object(7)\n",
      "memory usage: 5.1+ MB\n"
     ]
    }
   ],
   "source": [
    "vehicles_data.info()"
   ]
  },
  {
   "cell_type": "code",
   "execution_count": 4,
   "metadata": {},
   "outputs": [
    {
     "data": {
      "text/html": [
       "<div>\n",
       "<style scoped>\n",
       "    .dataframe tbody tr th:only-of-type {\n",
       "        vertical-align: middle;\n",
       "    }\n",
       "\n",
       "    .dataframe tbody tr th {\n",
       "        vertical-align: top;\n",
       "    }\n",
       "\n",
       "    .dataframe thead th {\n",
       "        text-align: right;\n",
       "    }\n",
       "</style>\n",
       "<table border=\"1\" class=\"dataframe\">\n",
       "  <thead>\n",
       "    <tr style=\"text-align: right;\">\n",
       "      <th></th>\n",
       "      <th>price</th>\n",
       "      <th>model_year</th>\n",
       "      <th>model</th>\n",
       "      <th>condition</th>\n",
       "      <th>cylinders</th>\n",
       "      <th>fuel</th>\n",
       "      <th>odometer</th>\n",
       "      <th>transmission</th>\n",
       "      <th>type</th>\n",
       "      <th>paint_color</th>\n",
       "      <th>is_4wd</th>\n",
       "      <th>date_posted</th>\n",
       "      <th>days_listed</th>\n",
       "    </tr>\n",
       "  </thead>\n",
       "  <tbody>\n",
       "    <tr>\n",
       "      <td>0</td>\n",
       "      <td>9400</td>\n",
       "      <td>2011.0</td>\n",
       "      <td>bmw x5</td>\n",
       "      <td>good</td>\n",
       "      <td>6.0</td>\n",
       "      <td>gas</td>\n",
       "      <td>145000.0</td>\n",
       "      <td>automatic</td>\n",
       "      <td>SUV</td>\n",
       "      <td>NaN</td>\n",
       "      <td>1.0</td>\n",
       "      <td>2018-06-23</td>\n",
       "      <td>19</td>\n",
       "    </tr>\n",
       "    <tr>\n",
       "      <td>1</td>\n",
       "      <td>25500</td>\n",
       "      <td>NaN</td>\n",
       "      <td>ford f-150</td>\n",
       "      <td>good</td>\n",
       "      <td>6.0</td>\n",
       "      <td>gas</td>\n",
       "      <td>88705.0</td>\n",
       "      <td>automatic</td>\n",
       "      <td>pickup</td>\n",
       "      <td>white</td>\n",
       "      <td>1.0</td>\n",
       "      <td>2018-10-19</td>\n",
       "      <td>50</td>\n",
       "    </tr>\n",
       "    <tr>\n",
       "      <td>2</td>\n",
       "      <td>5500</td>\n",
       "      <td>2013.0</td>\n",
       "      <td>hyundai sonata</td>\n",
       "      <td>like new</td>\n",
       "      <td>4.0</td>\n",
       "      <td>gas</td>\n",
       "      <td>110000.0</td>\n",
       "      <td>automatic</td>\n",
       "      <td>sedan</td>\n",
       "      <td>red</td>\n",
       "      <td>NaN</td>\n",
       "      <td>2019-02-07</td>\n",
       "      <td>79</td>\n",
       "    </tr>\n",
       "    <tr>\n",
       "      <td>3</td>\n",
       "      <td>1500</td>\n",
       "      <td>2003.0</td>\n",
       "      <td>ford f-150</td>\n",
       "      <td>fair</td>\n",
       "      <td>8.0</td>\n",
       "      <td>gas</td>\n",
       "      <td>NaN</td>\n",
       "      <td>automatic</td>\n",
       "      <td>pickup</td>\n",
       "      <td>NaN</td>\n",
       "      <td>NaN</td>\n",
       "      <td>2019-03-22</td>\n",
       "      <td>9</td>\n",
       "    </tr>\n",
       "    <tr>\n",
       "      <td>4</td>\n",
       "      <td>14900</td>\n",
       "      <td>2017.0</td>\n",
       "      <td>chrysler 200</td>\n",
       "      <td>excellent</td>\n",
       "      <td>4.0</td>\n",
       "      <td>gas</td>\n",
       "      <td>80903.0</td>\n",
       "      <td>automatic</td>\n",
       "      <td>sedan</td>\n",
       "      <td>black</td>\n",
       "      <td>NaN</td>\n",
       "      <td>2019-04-02</td>\n",
       "      <td>28</td>\n",
       "    </tr>\n",
       "  </tbody>\n",
       "</table>\n",
       "</div>"
      ],
      "text/plain": [
       "   price  model_year           model  condition  cylinders fuel  odometer  \\\n",
       "0   9400      2011.0          bmw x5       good        6.0  gas  145000.0   \n",
       "1  25500         NaN      ford f-150       good        6.0  gas   88705.0   \n",
       "2   5500      2013.0  hyundai sonata   like new        4.0  gas  110000.0   \n",
       "3   1500      2003.0      ford f-150       fair        8.0  gas       NaN   \n",
       "4  14900      2017.0    chrysler 200  excellent        4.0  gas   80903.0   \n",
       "\n",
       "  transmission    type paint_color  is_4wd date_posted  days_listed  \n",
       "0    automatic     SUV         NaN     1.0  2018-06-23           19  \n",
       "1    automatic  pickup       white     1.0  2018-10-19           50  \n",
       "2    automatic   sedan         red     NaN  2019-02-07           79  \n",
       "3    automatic  pickup         NaN     NaN  2019-03-22            9  \n",
       "4    automatic   sedan       black     NaN  2019-04-02           28  "
      ]
     },
     "execution_count": 4,
     "metadata": {},
     "output_type": "execute_result"
    }
   ],
   "source": [
    "vehicles_data.head(5)"
   ]
  },
  {
   "cell_type": "markdown",
   "metadata": {},
   "source": [
    "I opened the data and start to analyse the columns. First of all we see missing values at columns: model_year, cylinders ,odometer,paint_color,is_4wd\n",
    "Now I want to understand what is the procent of missing values. So we have 7% missing in model_year, 10% missing in cylinders, 15% in odometer, 17% paint_color, 50% of \"is_4wd\" column. I've decided that all the missing data under 15% I'll replace with the mean values, paint_colour we can't replace with the mean, so I'll put an \"unknown\" and 50% of the column \"is_4wd\" is filled with 1, so I understand that it is actually the car that is 4_wd, that why we can just put 0,that will mean the car is not 4_wd."
   ]
  },
  {
   "cell_type": "markdown",
   "metadata": {},
   "source": [
    "## Data preprocessing\n"
   ]
  },
  {
   "cell_type": "code",
   "execution_count": 5,
   "metadata": {},
   "outputs": [
    {
     "data": {
      "text/plain": [
       "price            0.000000\n",
       "model_year       7.023775\n",
       "model            0.000000\n",
       "condition        0.000000\n",
       "cylinders       10.208637\n",
       "fuel             0.000000\n",
       "odometer        15.316836\n",
       "transmission     0.000000\n",
       "type             0.000000\n",
       "paint_color     17.985444\n",
       "is_4wd          50.369723\n",
       "date_posted      0.000000\n",
       "days_listed      0.000000\n",
       "dtype: float64"
      ]
     },
     "execution_count": 5,
     "metadata": {},
     "output_type": "execute_result"
    }
   ],
   "source": [
    "vehicles_data.isnull().sum()/len(vehicles_data)*100"
   ]
  },
  {
   "cell_type": "code",
   "execution_count": 6,
   "metadata": {},
   "outputs": [
    {
     "data": {
      "text/plain": [
       "1.0    25572\n",
       "Name: is_4wd, dtype: int64"
      ]
     },
     "execution_count": 6,
     "metadata": {},
     "output_type": "execute_result"
    }
   ],
   "source": [
    "vehicles_data['is_4wd'].value_counts()"
   ]
  },
  {
   "cell_type": "markdown",
   "metadata": {},
   "source": [
    "There are 2 types of values (1 if the vehicle is_4wd, and Nan - if not). So my logic is to replace the column with True/False meanings."
   ]
  },
  {
   "cell_type": "code",
   "execution_count": 7,
   "metadata": {},
   "outputs": [],
   "source": [
    "vehicles_data['is_4wd']= vehicles_data['is_4wd'].fillna(False)"
   ]
  },
  {
   "cell_type": "code",
   "execution_count": 8,
   "metadata": {},
   "outputs": [
    {
     "data": {
      "text/plain": [
       "0"
      ]
     },
     "execution_count": 8,
     "metadata": {},
     "output_type": "execute_result"
    }
   ],
   "source": [
    "vehicles_data['is_4wd'].isnull().sum()"
   ]
  },
  {
   "cell_type": "code",
   "execution_count": 9,
   "metadata": {},
   "outputs": [
    {
     "name": "stdout",
     "output_type": "stream",
     "text": [
      "<class 'pandas.core.frame.DataFrame'>\n",
      "RangeIndex: 51525 entries, 0 to 51524\n",
      "Data columns (total 13 columns):\n",
      "price           51525 non-null int64\n",
      "model_year      47906 non-null float64\n",
      "model           51525 non-null object\n",
      "condition       51525 non-null object\n",
      "cylinders       46265 non-null float64\n",
      "fuel            51525 non-null object\n",
      "odometer        43633 non-null float64\n",
      "transmission    51525 non-null object\n",
      "type            51525 non-null object\n",
      "paint_color     42258 non-null object\n",
      "is_4wd          51525 non-null object\n",
      "date_posted     51525 non-null object\n",
      "days_listed     51525 non-null int64\n",
      "dtypes: float64(3), int64(2), object(8)\n",
      "memory usage: 5.1+ MB\n"
     ]
    }
   ],
   "source": [
    "vehicles_data.info()"
   ]
  },
  {
   "cell_type": "markdown",
   "metadata": {},
   "source": [
    "Now we fixed the column (4_wd) and we don't have missing data there"
   ]
  },
  {
   "cell_type": "code",
   "execution_count": 10,
   "metadata": {},
   "outputs": [
    {
     "data": {
      "text/html": [
       "<div>\n",
       "<style scoped>\n",
       "    .dataframe tbody tr th:only-of-type {\n",
       "        vertical-align: middle;\n",
       "    }\n",
       "\n",
       "    .dataframe tbody tr th {\n",
       "        vertical-align: top;\n",
       "    }\n",
       "\n",
       "    .dataframe thead th {\n",
       "        text-align: right;\n",
       "    }\n",
       "</style>\n",
       "<table border=\"1\" class=\"dataframe\">\n",
       "  <thead>\n",
       "    <tr style=\"text-align: right;\">\n",
       "      <th></th>\n",
       "      <th>price</th>\n",
       "      <th>model_year</th>\n",
       "      <th>model</th>\n",
       "      <th>condition</th>\n",
       "      <th>cylinders</th>\n",
       "      <th>fuel</th>\n",
       "      <th>odometer</th>\n",
       "      <th>transmission</th>\n",
       "      <th>type</th>\n",
       "      <th>paint_color</th>\n",
       "      <th>is_4wd</th>\n",
       "      <th>date_posted</th>\n",
       "      <th>days_listed</th>\n",
       "    </tr>\n",
       "  </thead>\n",
       "  <tbody>\n",
       "    <tr>\n",
       "      <td>count</td>\n",
       "      <td>51525.000000</td>\n",
       "      <td>47906.000000</td>\n",
       "      <td>51525</td>\n",
       "      <td>51525</td>\n",
       "      <td>46265.000000</td>\n",
       "      <td>51525</td>\n",
       "      <td>43633.000000</td>\n",
       "      <td>51525</td>\n",
       "      <td>51525</td>\n",
       "      <td>42258</td>\n",
       "      <td>51525</td>\n",
       "      <td>51525</td>\n",
       "      <td>51525.00000</td>\n",
       "    </tr>\n",
       "    <tr>\n",
       "      <td>unique</td>\n",
       "      <td>NaN</td>\n",
       "      <td>NaN</td>\n",
       "      <td>100</td>\n",
       "      <td>6</td>\n",
       "      <td>NaN</td>\n",
       "      <td>5</td>\n",
       "      <td>NaN</td>\n",
       "      <td>3</td>\n",
       "      <td>13</td>\n",
       "      <td>12</td>\n",
       "      <td>2</td>\n",
       "      <td>354</td>\n",
       "      <td>NaN</td>\n",
       "    </tr>\n",
       "    <tr>\n",
       "      <td>top</td>\n",
       "      <td>NaN</td>\n",
       "      <td>NaN</td>\n",
       "      <td>ford f-150</td>\n",
       "      <td>excellent</td>\n",
       "      <td>NaN</td>\n",
       "      <td>gas</td>\n",
       "      <td>NaN</td>\n",
       "      <td>automatic</td>\n",
       "      <td>SUV</td>\n",
       "      <td>white</td>\n",
       "      <td>False</td>\n",
       "      <td>2019-03-17</td>\n",
       "      <td>NaN</td>\n",
       "    </tr>\n",
       "    <tr>\n",
       "      <td>freq</td>\n",
       "      <td>NaN</td>\n",
       "      <td>NaN</td>\n",
       "      <td>2796</td>\n",
       "      <td>24773</td>\n",
       "      <td>NaN</td>\n",
       "      <td>47288</td>\n",
       "      <td>NaN</td>\n",
       "      <td>46902</td>\n",
       "      <td>12405</td>\n",
       "      <td>10029</td>\n",
       "      <td>25953</td>\n",
       "      <td>186</td>\n",
       "      <td>NaN</td>\n",
       "    </tr>\n",
       "    <tr>\n",
       "      <td>mean</td>\n",
       "      <td>12132.464920</td>\n",
       "      <td>2009.750470</td>\n",
       "      <td>NaN</td>\n",
       "      <td>NaN</td>\n",
       "      <td>6.125235</td>\n",
       "      <td>NaN</td>\n",
       "      <td>115553.461738</td>\n",
       "      <td>NaN</td>\n",
       "      <td>NaN</td>\n",
       "      <td>NaN</td>\n",
       "      <td>NaN</td>\n",
       "      <td>NaN</td>\n",
       "      <td>39.55476</td>\n",
       "    </tr>\n",
       "    <tr>\n",
       "      <td>std</td>\n",
       "      <td>10040.803015</td>\n",
       "      <td>6.282065</td>\n",
       "      <td>NaN</td>\n",
       "      <td>NaN</td>\n",
       "      <td>1.660360</td>\n",
       "      <td>NaN</td>\n",
       "      <td>65094.611341</td>\n",
       "      <td>NaN</td>\n",
       "      <td>NaN</td>\n",
       "      <td>NaN</td>\n",
       "      <td>NaN</td>\n",
       "      <td>NaN</td>\n",
       "      <td>28.20427</td>\n",
       "    </tr>\n",
       "    <tr>\n",
       "      <td>min</td>\n",
       "      <td>1.000000</td>\n",
       "      <td>1908.000000</td>\n",
       "      <td>NaN</td>\n",
       "      <td>NaN</td>\n",
       "      <td>3.000000</td>\n",
       "      <td>NaN</td>\n",
       "      <td>0.000000</td>\n",
       "      <td>NaN</td>\n",
       "      <td>NaN</td>\n",
       "      <td>NaN</td>\n",
       "      <td>NaN</td>\n",
       "      <td>NaN</td>\n",
       "      <td>0.00000</td>\n",
       "    </tr>\n",
       "    <tr>\n",
       "      <td>25%</td>\n",
       "      <td>5000.000000</td>\n",
       "      <td>2006.000000</td>\n",
       "      <td>NaN</td>\n",
       "      <td>NaN</td>\n",
       "      <td>4.000000</td>\n",
       "      <td>NaN</td>\n",
       "      <td>70000.000000</td>\n",
       "      <td>NaN</td>\n",
       "      <td>NaN</td>\n",
       "      <td>NaN</td>\n",
       "      <td>NaN</td>\n",
       "      <td>NaN</td>\n",
       "      <td>19.00000</td>\n",
       "    </tr>\n",
       "    <tr>\n",
       "      <td>50%</td>\n",
       "      <td>9000.000000</td>\n",
       "      <td>2011.000000</td>\n",
       "      <td>NaN</td>\n",
       "      <td>NaN</td>\n",
       "      <td>6.000000</td>\n",
       "      <td>NaN</td>\n",
       "      <td>113000.000000</td>\n",
       "      <td>NaN</td>\n",
       "      <td>NaN</td>\n",
       "      <td>NaN</td>\n",
       "      <td>NaN</td>\n",
       "      <td>NaN</td>\n",
       "      <td>33.00000</td>\n",
       "    </tr>\n",
       "    <tr>\n",
       "      <td>75%</td>\n",
       "      <td>16839.000000</td>\n",
       "      <td>2014.000000</td>\n",
       "      <td>NaN</td>\n",
       "      <td>NaN</td>\n",
       "      <td>8.000000</td>\n",
       "      <td>NaN</td>\n",
       "      <td>155000.000000</td>\n",
       "      <td>NaN</td>\n",
       "      <td>NaN</td>\n",
       "      <td>NaN</td>\n",
       "      <td>NaN</td>\n",
       "      <td>NaN</td>\n",
       "      <td>53.00000</td>\n",
       "    </tr>\n",
       "    <tr>\n",
       "      <td>max</td>\n",
       "      <td>375000.000000</td>\n",
       "      <td>2019.000000</td>\n",
       "      <td>NaN</td>\n",
       "      <td>NaN</td>\n",
       "      <td>12.000000</td>\n",
       "      <td>NaN</td>\n",
       "      <td>990000.000000</td>\n",
       "      <td>NaN</td>\n",
       "      <td>NaN</td>\n",
       "      <td>NaN</td>\n",
       "      <td>NaN</td>\n",
       "      <td>NaN</td>\n",
       "      <td>271.00000</td>\n",
       "    </tr>\n",
       "  </tbody>\n",
       "</table>\n",
       "</div>"
      ],
      "text/plain": [
       "                price    model_year       model  condition     cylinders  \\\n",
       "count    51525.000000  47906.000000       51525      51525  46265.000000   \n",
       "unique            NaN           NaN         100          6           NaN   \n",
       "top               NaN           NaN  ford f-150  excellent           NaN   \n",
       "freq              NaN           NaN        2796      24773           NaN   \n",
       "mean     12132.464920   2009.750470         NaN        NaN      6.125235   \n",
       "std      10040.803015      6.282065         NaN        NaN      1.660360   \n",
       "min          1.000000   1908.000000         NaN        NaN      3.000000   \n",
       "25%       5000.000000   2006.000000         NaN        NaN      4.000000   \n",
       "50%       9000.000000   2011.000000         NaN        NaN      6.000000   \n",
       "75%      16839.000000   2014.000000         NaN        NaN      8.000000   \n",
       "max     375000.000000   2019.000000         NaN        NaN     12.000000   \n",
       "\n",
       "         fuel       odometer transmission   type paint_color is_4wd  \\\n",
       "count   51525   43633.000000        51525  51525       42258  51525   \n",
       "unique      5            NaN            3     13          12      2   \n",
       "top       gas            NaN    automatic    SUV       white  False   \n",
       "freq    47288            NaN        46902  12405       10029  25953   \n",
       "mean      NaN  115553.461738          NaN    NaN         NaN    NaN   \n",
       "std       NaN   65094.611341          NaN    NaN         NaN    NaN   \n",
       "min       NaN       0.000000          NaN    NaN         NaN    NaN   \n",
       "25%       NaN   70000.000000          NaN    NaN         NaN    NaN   \n",
       "50%       NaN  113000.000000          NaN    NaN         NaN    NaN   \n",
       "75%       NaN  155000.000000          NaN    NaN         NaN    NaN   \n",
       "max       NaN  990000.000000          NaN    NaN         NaN    NaN   \n",
       "\n",
       "       date_posted  days_listed  \n",
       "count        51525  51525.00000  \n",
       "unique         354          NaN  \n",
       "top     2019-03-17          NaN  \n",
       "freq           186          NaN  \n",
       "mean           NaN     39.55476  \n",
       "std            NaN     28.20427  \n",
       "min            NaN      0.00000  \n",
       "25%            NaN     19.00000  \n",
       "50%            NaN     33.00000  \n",
       "75%            NaN     53.00000  \n",
       "max            NaN    271.00000  "
      ]
     },
     "execution_count": 10,
     "metadata": {},
     "output_type": "execute_result"
    }
   ],
   "source": [
    "vehicles_data.describe(include='all')"
   ]
  },
  {
   "cell_type": "code",
   "execution_count": 11,
   "metadata": {},
   "outputs": [
    {
     "data": {
      "text/html": [
       "<div>\n",
       "<style scoped>\n",
       "    .dataframe tbody tr th:only-of-type {\n",
       "        vertical-align: middle;\n",
       "    }\n",
       "\n",
       "    .dataframe tbody tr th {\n",
       "        vertical-align: top;\n",
       "    }\n",
       "\n",
       "    .dataframe thead th {\n",
       "        text-align: right;\n",
       "    }\n",
       "</style>\n",
       "<table border=\"1\" class=\"dataframe\">\n",
       "  <thead>\n",
       "    <tr style=\"text-align: right;\">\n",
       "      <th></th>\n",
       "      <th>price</th>\n",
       "      <th>model_year</th>\n",
       "      <th>model</th>\n",
       "      <th>condition</th>\n",
       "      <th>cylinders</th>\n",
       "      <th>fuel</th>\n",
       "      <th>odometer</th>\n",
       "      <th>transmission</th>\n",
       "      <th>type</th>\n",
       "      <th>paint_color</th>\n",
       "      <th>is_4wd</th>\n",
       "      <th>date_posted</th>\n",
       "      <th>days_listed</th>\n",
       "    </tr>\n",
       "  </thead>\n",
       "  <tbody>\n",
       "    <tr>\n",
       "      <td>0</td>\n",
       "      <td>9400</td>\n",
       "      <td>2011.0</td>\n",
       "      <td>bmw x5</td>\n",
       "      <td>good</td>\n",
       "      <td>6.0</td>\n",
       "      <td>gas</td>\n",
       "      <td>145000.0</td>\n",
       "      <td>automatic</td>\n",
       "      <td>SUV</td>\n",
       "      <td>NaN</td>\n",
       "      <td>1</td>\n",
       "      <td>2018-06-23</td>\n",
       "      <td>19</td>\n",
       "    </tr>\n",
       "    <tr>\n",
       "      <td>1</td>\n",
       "      <td>25500</td>\n",
       "      <td>NaN</td>\n",
       "      <td>ford f-150</td>\n",
       "      <td>good</td>\n",
       "      <td>6.0</td>\n",
       "      <td>gas</td>\n",
       "      <td>88705.0</td>\n",
       "      <td>automatic</td>\n",
       "      <td>pickup</td>\n",
       "      <td>white</td>\n",
       "      <td>1</td>\n",
       "      <td>2018-10-19</td>\n",
       "      <td>50</td>\n",
       "    </tr>\n",
       "    <tr>\n",
       "      <td>2</td>\n",
       "      <td>5500</td>\n",
       "      <td>2013.0</td>\n",
       "      <td>hyundai sonata</td>\n",
       "      <td>like new</td>\n",
       "      <td>4.0</td>\n",
       "      <td>gas</td>\n",
       "      <td>110000.0</td>\n",
       "      <td>automatic</td>\n",
       "      <td>sedan</td>\n",
       "      <td>red</td>\n",
       "      <td>False</td>\n",
       "      <td>2019-02-07</td>\n",
       "      <td>79</td>\n",
       "    </tr>\n",
       "    <tr>\n",
       "      <td>3</td>\n",
       "      <td>1500</td>\n",
       "      <td>2003.0</td>\n",
       "      <td>ford f-150</td>\n",
       "      <td>fair</td>\n",
       "      <td>8.0</td>\n",
       "      <td>gas</td>\n",
       "      <td>NaN</td>\n",
       "      <td>automatic</td>\n",
       "      <td>pickup</td>\n",
       "      <td>NaN</td>\n",
       "      <td>False</td>\n",
       "      <td>2019-03-22</td>\n",
       "      <td>9</td>\n",
       "    </tr>\n",
       "    <tr>\n",
       "      <td>4</td>\n",
       "      <td>14900</td>\n",
       "      <td>2017.0</td>\n",
       "      <td>chrysler 200</td>\n",
       "      <td>excellent</td>\n",
       "      <td>4.0</td>\n",
       "      <td>gas</td>\n",
       "      <td>80903.0</td>\n",
       "      <td>automatic</td>\n",
       "      <td>sedan</td>\n",
       "      <td>black</td>\n",
       "      <td>False</td>\n",
       "      <td>2019-04-02</td>\n",
       "      <td>28</td>\n",
       "    </tr>\n",
       "  </tbody>\n",
       "</table>\n",
       "</div>"
      ],
      "text/plain": [
       "   price  model_year           model  condition  cylinders fuel  odometer  \\\n",
       "0   9400      2011.0          bmw x5       good        6.0  gas  145000.0   \n",
       "1  25500         NaN      ford f-150       good        6.0  gas   88705.0   \n",
       "2   5500      2013.0  hyundai sonata   like new        4.0  gas  110000.0   \n",
       "3   1500      2003.0      ford f-150       fair        8.0  gas       NaN   \n",
       "4  14900      2017.0    chrysler 200  excellent        4.0  gas   80903.0   \n",
       "\n",
       "  transmission    type paint_color is_4wd date_posted  days_listed  \n",
       "0    automatic     SUV         NaN      1  2018-06-23           19  \n",
       "1    automatic  pickup       white      1  2018-10-19           50  \n",
       "2    automatic   sedan         red  False  2019-02-07           79  \n",
       "3    automatic  pickup         NaN  False  2019-03-22            9  \n",
       "4    automatic   sedan       black  False  2019-04-02           28  "
      ]
     },
     "execution_count": 11,
     "metadata": {},
     "output_type": "execute_result"
    }
   ],
   "source": [
    "vehicles_data.head()"
   ]
  },
  {
   "cell_type": "markdown",
   "metadata": {},
   "source": [
    "Next step is to count median of model_year, cylinders and odometer to put all the missing data.\n",
    "After that I want to change float type of data to int type in columns (model_year, odometer, cylinders) and the column is_4wd change to boolean."
   ]
  },
  {
   "cell_type": "code",
   "execution_count": 12,
   "metadata": {},
   "outputs": [
    {
     "data": {
      "text/plain": [
       "2011.0"
      ]
     },
     "execution_count": 12,
     "metadata": {},
     "output_type": "execute_result"
    }
   ],
   "source": [
    "vehicles_data['model_year'].median()"
   ]
  },
  {
   "cell_type": "code",
   "execution_count": 13,
   "metadata": {},
   "outputs": [
    {
     "data": {
      "text/plain": [
       "count    47906.000000\n",
       "mean      2009.750470\n",
       "std          6.282065\n",
       "min       1908.000000\n",
       "25%       2006.000000\n",
       "50%       2011.000000\n",
       "75%       2014.000000\n",
       "max       2019.000000\n",
       "Name: model_year, dtype: float64"
      ]
     },
     "execution_count": 13,
     "metadata": {},
     "output_type": "execute_result"
    }
   ],
   "source": [
    "vehicles_data['model_year'].describe()"
   ]
  },
  {
   "cell_type": "code",
   "execution_count": 14,
   "metadata": {},
   "outputs": [
    {
     "data": {
      "text/plain": [
       "count    46265.000000\n",
       "mean         6.125235\n",
       "std          1.660360\n",
       "min          3.000000\n",
       "25%          4.000000\n",
       "50%          6.000000\n",
       "75%          8.000000\n",
       "max         12.000000\n",
       "Name: cylinders, dtype: float64"
      ]
     },
     "execution_count": 14,
     "metadata": {},
     "output_type": "execute_result"
    }
   ],
   "source": [
    "vehicles_data['cylinders'].describe()"
   ]
  },
  {
   "cell_type": "code",
   "execution_count": 15,
   "metadata": {},
   "outputs": [
    {
     "data": {
      "text/plain": [
       "count     43633.000000\n",
       "mean     115553.461738\n",
       "std       65094.611341\n",
       "min           0.000000\n",
       "25%       70000.000000\n",
       "50%      113000.000000\n",
       "75%      155000.000000\n",
       "max      990000.000000\n",
       "Name: odometer, dtype: float64"
      ]
     },
     "execution_count": 15,
     "metadata": {},
     "output_type": "execute_result"
    }
   ],
   "source": [
    "vehicles_data['odometer'].describe()"
   ]
  },
  {
   "cell_type": "code",
   "execution_count": 16,
   "metadata": {},
   "outputs": [],
   "source": [
    "vehicles_data.loc[vehicles_data['model_year'].isna(), 'model_year'] = vehicles_data['model_year'].median()\n",
    "vehicles_data.loc[vehicles_data['cylinders'].isna(), 'cylinders'] = vehicles_data['cylinders'].median()\n",
    "vehicles_data.loc[vehicles_data['odometer'].isna(), 'odometer'] = vehicles_data['odometer'].median()"
   ]
  },
  {
   "cell_type": "code",
   "execution_count": 17,
   "metadata": {},
   "outputs": [
    {
     "data": {
      "text/html": [
       "<div>\n",
       "<style scoped>\n",
       "    .dataframe tbody tr th:only-of-type {\n",
       "        vertical-align: middle;\n",
       "    }\n",
       "\n",
       "    .dataframe tbody tr th {\n",
       "        vertical-align: top;\n",
       "    }\n",
       "\n",
       "    .dataframe thead th {\n",
       "        text-align: right;\n",
       "    }\n",
       "</style>\n",
       "<table border=\"1\" class=\"dataframe\">\n",
       "  <thead>\n",
       "    <tr style=\"text-align: right;\">\n",
       "      <th></th>\n",
       "      <th>price</th>\n",
       "      <th>model_year</th>\n",
       "      <th>model</th>\n",
       "      <th>condition</th>\n",
       "      <th>cylinders</th>\n",
       "      <th>fuel</th>\n",
       "      <th>odometer</th>\n",
       "      <th>transmission</th>\n",
       "      <th>type</th>\n",
       "      <th>paint_color</th>\n",
       "      <th>is_4wd</th>\n",
       "      <th>date_posted</th>\n",
       "      <th>days_listed</th>\n",
       "    </tr>\n",
       "  </thead>\n",
       "  <tbody>\n",
       "    <tr>\n",
       "      <td>26896</td>\n",
       "      <td>6500</td>\n",
       "      <td>2012.0</td>\n",
       "      <td>ford fusion se</td>\n",
       "      <td>excellent</td>\n",
       "      <td>4.0</td>\n",
       "      <td>gas</td>\n",
       "      <td>104000.0</td>\n",
       "      <td>automatic</td>\n",
       "      <td>sedan</td>\n",
       "      <td>red</td>\n",
       "      <td>False</td>\n",
       "      <td>2019-03-16</td>\n",
       "      <td>56</td>\n",
       "    </tr>\n",
       "    <tr>\n",
       "      <td>39536</td>\n",
       "      <td>15500</td>\n",
       "      <td>2016.0</td>\n",
       "      <td>chevrolet equinox</td>\n",
       "      <td>excellent</td>\n",
       "      <td>4.0</td>\n",
       "      <td>gas</td>\n",
       "      <td>41000.0</td>\n",
       "      <td>automatic</td>\n",
       "      <td>SUV</td>\n",
       "      <td>black</td>\n",
       "      <td>False</td>\n",
       "      <td>2018-12-26</td>\n",
       "      <td>18</td>\n",
       "    </tr>\n",
       "    <tr>\n",
       "      <td>14652</td>\n",
       "      <td>13900</td>\n",
       "      <td>2010.0</td>\n",
       "      <td>ford f-150</td>\n",
       "      <td>excellent</td>\n",
       "      <td>8.0</td>\n",
       "      <td>gas</td>\n",
       "      <td>133327.0</td>\n",
       "      <td>automatic</td>\n",
       "      <td>truck</td>\n",
       "      <td>silver</td>\n",
       "      <td>False</td>\n",
       "      <td>2018-12-02</td>\n",
       "      <td>51</td>\n",
       "    </tr>\n",
       "    <tr>\n",
       "      <td>48957</td>\n",
       "      <td>21900</td>\n",
       "      <td>2008.0</td>\n",
       "      <td>chevrolet silverado 3500hd</td>\n",
       "      <td>excellent</td>\n",
       "      <td>8.0</td>\n",
       "      <td>diesel</td>\n",
       "      <td>203000.0</td>\n",
       "      <td>automatic</td>\n",
       "      <td>truck</td>\n",
       "      <td>white</td>\n",
       "      <td>1</td>\n",
       "      <td>2018-12-22</td>\n",
       "      <td>36</td>\n",
       "    </tr>\n",
       "    <tr>\n",
       "      <td>30408</td>\n",
       "      <td>7500</td>\n",
       "      <td>2013.0</td>\n",
       "      <td>nissan altima</td>\n",
       "      <td>excellent</td>\n",
       "      <td>4.0</td>\n",
       "      <td>gas</td>\n",
       "      <td>111000.0</td>\n",
       "      <td>automatic</td>\n",
       "      <td>sedan</td>\n",
       "      <td>grey</td>\n",
       "      <td>False</td>\n",
       "      <td>2018-10-04</td>\n",
       "      <td>49</td>\n",
       "    </tr>\n",
       "    <tr>\n",
       "      <td>46984</td>\n",
       "      <td>5400</td>\n",
       "      <td>2009.0</td>\n",
       "      <td>subaru forester</td>\n",
       "      <td>excellent</td>\n",
       "      <td>4.0</td>\n",
       "      <td>gas</td>\n",
       "      <td>162491.0</td>\n",
       "      <td>automatic</td>\n",
       "      <td>wagon</td>\n",
       "      <td>white</td>\n",
       "      <td>1</td>\n",
       "      <td>2018-12-29</td>\n",
       "      <td>16</td>\n",
       "    </tr>\n",
       "    <tr>\n",
       "      <td>12456</td>\n",
       "      <td>3950</td>\n",
       "      <td>2007.0</td>\n",
       "      <td>ford explorer</td>\n",
       "      <td>good</td>\n",
       "      <td>8.0</td>\n",
       "      <td>gas</td>\n",
       "      <td>168000.0</td>\n",
       "      <td>automatic</td>\n",
       "      <td>SUV</td>\n",
       "      <td>NaN</td>\n",
       "      <td>False</td>\n",
       "      <td>2018-09-23</td>\n",
       "      <td>61</td>\n",
       "    </tr>\n",
       "    <tr>\n",
       "      <td>29555</td>\n",
       "      <td>42000</td>\n",
       "      <td>2018.0</td>\n",
       "      <td>ram 2500</td>\n",
       "      <td>like new</td>\n",
       "      <td>6.0</td>\n",
       "      <td>diesel</td>\n",
       "      <td>113000.0</td>\n",
       "      <td>automatic</td>\n",
       "      <td>truck</td>\n",
       "      <td>black</td>\n",
       "      <td>1</td>\n",
       "      <td>2018-10-02</td>\n",
       "      <td>40</td>\n",
       "    </tr>\n",
       "    <tr>\n",
       "      <td>34744</td>\n",
       "      <td>7799</td>\n",
       "      <td>2012.0</td>\n",
       "      <td>hyundai elantra</td>\n",
       "      <td>excellent</td>\n",
       "      <td>4.0</td>\n",
       "      <td>gas</td>\n",
       "      <td>123900.0</td>\n",
       "      <td>automatic</td>\n",
       "      <td>sedan</td>\n",
       "      <td>red</td>\n",
       "      <td>False</td>\n",
       "      <td>2018-12-25</td>\n",
       "      <td>9</td>\n",
       "    </tr>\n",
       "    <tr>\n",
       "      <td>45733</td>\n",
       "      <td>24800</td>\n",
       "      <td>2014.0</td>\n",
       "      <td>chevrolet silverado 2500hd</td>\n",
       "      <td>good</td>\n",
       "      <td>8.0</td>\n",
       "      <td>gas</td>\n",
       "      <td>32915.0</td>\n",
       "      <td>automatic</td>\n",
       "      <td>truck</td>\n",
       "      <td>blue</td>\n",
       "      <td>False</td>\n",
       "      <td>2018-09-04</td>\n",
       "      <td>56</td>\n",
       "    </tr>\n",
       "  </tbody>\n",
       "</table>\n",
       "</div>"
      ],
      "text/plain": [
       "       price  model_year                       model  condition  cylinders  \\\n",
       "26896   6500      2012.0              ford fusion se  excellent        4.0   \n",
       "39536  15500      2016.0           chevrolet equinox  excellent        4.0   \n",
       "14652  13900      2010.0                  ford f-150  excellent        8.0   \n",
       "48957  21900      2008.0  chevrolet silverado 3500hd  excellent        8.0   \n",
       "30408   7500      2013.0               nissan altima  excellent        4.0   \n",
       "46984   5400      2009.0             subaru forester  excellent        4.0   \n",
       "12456   3950      2007.0               ford explorer       good        8.0   \n",
       "29555  42000      2018.0                    ram 2500   like new        6.0   \n",
       "34744   7799      2012.0             hyundai elantra  excellent        4.0   \n",
       "45733  24800      2014.0  chevrolet silverado 2500hd       good        8.0   \n",
       "\n",
       "         fuel  odometer transmission   type paint_color is_4wd date_posted  \\\n",
       "26896     gas  104000.0    automatic  sedan         red  False  2019-03-16   \n",
       "39536     gas   41000.0    automatic    SUV       black  False  2018-12-26   \n",
       "14652     gas  133327.0    automatic  truck      silver  False  2018-12-02   \n",
       "48957  diesel  203000.0    automatic  truck       white      1  2018-12-22   \n",
       "30408     gas  111000.0    automatic  sedan        grey  False  2018-10-04   \n",
       "46984     gas  162491.0    automatic  wagon       white      1  2018-12-29   \n",
       "12456     gas  168000.0    automatic    SUV         NaN  False  2018-09-23   \n",
       "29555  diesel  113000.0    automatic  truck       black      1  2018-10-02   \n",
       "34744     gas  123900.0    automatic  sedan         red  False  2018-12-25   \n",
       "45733     gas   32915.0    automatic  truck        blue  False  2018-09-04   \n",
       "\n",
       "       days_listed  \n",
       "26896           56  \n",
       "39536           18  \n",
       "14652           51  \n",
       "48957           36  \n",
       "30408           49  \n",
       "46984           16  \n",
       "12456           61  \n",
       "29555           40  \n",
       "34744            9  \n",
       "45733           56  "
      ]
     },
     "execution_count": 17,
     "metadata": {},
     "output_type": "execute_result"
    }
   ],
   "source": [
    "vehicles_data.sample(10)"
   ]
  },
  {
   "cell_type": "code",
   "execution_count": 18,
   "metadata": {},
   "outputs": [
    {
     "data": {
      "text/plain": [
       "array([nan, 'white', 'red', 'black', 'blue', 'grey', 'silver', 'custom',\n",
       "       'orange', 'yellow', 'brown', 'green', 'purple'], dtype=object)"
      ]
     },
     "execution_count": 18,
     "metadata": {},
     "output_type": "execute_result"
    }
   ],
   "source": [
    "vehicles_data['paint_color'].unique()"
   ]
  },
  {
   "cell_type": "code",
   "execution_count": 19,
   "metadata": {},
   "outputs": [],
   "source": [
    "vehicles_data[\"paint_color\"].fillna(\"unknown\", inplace = True) "
   ]
  },
  {
   "cell_type": "code",
   "execution_count": 20,
   "metadata": {},
   "outputs": [
    {
     "data": {
      "text/plain": [
       "0"
      ]
     },
     "execution_count": 20,
     "metadata": {},
     "output_type": "execute_result"
    }
   ],
   "source": [
    "vehicles_data[\"paint_color\"].isnull().sum()"
   ]
  },
  {
   "cell_type": "code",
   "execution_count": 21,
   "metadata": {},
   "outputs": [
    {
     "data": {
      "text/plain": [
       "array(['unknown', 'white', 'red', 'black', 'blue', 'grey', 'silver',\n",
       "       'custom', 'orange', 'yellow', 'brown', 'green', 'purple'],\n",
       "      dtype=object)"
      ]
     },
     "execution_count": 21,
     "metadata": {},
     "output_type": "execute_result"
    }
   ],
   "source": [
    "vehicles_data['paint_color'].unique()"
   ]
  },
  {
   "cell_type": "markdown",
   "metadata": {},
   "source": [
    "Now I want to change data type from float to int in columns:\n",
    "    model_year\n",
    "    cylinders\n",
    "    odometer"
   ]
  },
  {
   "cell_type": "code",
   "execution_count": 22,
   "metadata": {},
   "outputs": [],
   "source": [
    "vehicles_data['model_year'] = vehicles_data['model_year'].astype('int64')"
   ]
  },
  {
   "cell_type": "code",
   "execution_count": 23,
   "metadata": {},
   "outputs": [],
   "source": [
    "vehicles_data['cylinders'] = vehicles_data['cylinders'].astype('int64')"
   ]
  },
  {
   "cell_type": "code",
   "execution_count": 24,
   "metadata": {},
   "outputs": [],
   "source": [
    "vehicles_data['odometer'] = vehicles_data['odometer'].astype('int64')"
   ]
  },
  {
   "cell_type": "code",
   "execution_count": 25,
   "metadata": {},
   "outputs": [],
   "source": [
    "vehicles_data['is_4wd'] = vehicles_data['is_4wd'].astype(bool)"
   ]
  },
  {
   "cell_type": "code",
   "execution_count": 26,
   "metadata": {},
   "outputs": [
    {
     "data": {
      "text/html": [
       "<div>\n",
       "<style scoped>\n",
       "    .dataframe tbody tr th:only-of-type {\n",
       "        vertical-align: middle;\n",
       "    }\n",
       "\n",
       "    .dataframe tbody tr th {\n",
       "        vertical-align: top;\n",
       "    }\n",
       "\n",
       "    .dataframe thead th {\n",
       "        text-align: right;\n",
       "    }\n",
       "</style>\n",
       "<table border=\"1\" class=\"dataframe\">\n",
       "  <thead>\n",
       "    <tr style=\"text-align: right;\">\n",
       "      <th></th>\n",
       "      <th>price</th>\n",
       "      <th>model_year</th>\n",
       "      <th>cylinders</th>\n",
       "      <th>odometer</th>\n",
       "      <th>days_listed</th>\n",
       "    </tr>\n",
       "  </thead>\n",
       "  <tbody>\n",
       "    <tr>\n",
       "      <td>count</td>\n",
       "      <td>51525.000000</td>\n",
       "      <td>51525.000000</td>\n",
       "      <td>51525.000000</td>\n",
       "      <td>51525.000000</td>\n",
       "      <td>51525.00000</td>\n",
       "    </tr>\n",
       "    <tr>\n",
       "      <td>mean</td>\n",
       "      <td>12132.464920</td>\n",
       "      <td>2009.838234</td>\n",
       "      <td>6.112450</td>\n",
       "      <td>115162.352179</td>\n",
       "      <td>39.55476</td>\n",
       "    </tr>\n",
       "    <tr>\n",
       "      <td>std</td>\n",
       "      <td>10040.803015</td>\n",
       "      <td>6.065836</td>\n",
       "      <td>1.573784</td>\n",
       "      <td>59909.264385</td>\n",
       "      <td>28.20427</td>\n",
       "    </tr>\n",
       "    <tr>\n",
       "      <td>min</td>\n",
       "      <td>1.000000</td>\n",
       "      <td>1908.000000</td>\n",
       "      <td>3.000000</td>\n",
       "      <td>0.000000</td>\n",
       "      <td>0.00000</td>\n",
       "    </tr>\n",
       "    <tr>\n",
       "      <td>25%</td>\n",
       "      <td>5000.000000</td>\n",
       "      <td>2007.000000</td>\n",
       "      <td>4.000000</td>\n",
       "      <td>79181.000000</td>\n",
       "      <td>19.00000</td>\n",
       "    </tr>\n",
       "    <tr>\n",
       "      <td>50%</td>\n",
       "      <td>9000.000000</td>\n",
       "      <td>2011.000000</td>\n",
       "      <td>6.000000</td>\n",
       "      <td>113000.000000</td>\n",
       "      <td>33.00000</td>\n",
       "    </tr>\n",
       "    <tr>\n",
       "      <td>75%</td>\n",
       "      <td>16839.000000</td>\n",
       "      <td>2014.000000</td>\n",
       "      <td>8.000000</td>\n",
       "      <td>146541.000000</td>\n",
       "      <td>53.00000</td>\n",
       "    </tr>\n",
       "    <tr>\n",
       "      <td>max</td>\n",
       "      <td>375000.000000</td>\n",
       "      <td>2019.000000</td>\n",
       "      <td>12.000000</td>\n",
       "      <td>990000.000000</td>\n",
       "      <td>271.00000</td>\n",
       "    </tr>\n",
       "  </tbody>\n",
       "</table>\n",
       "</div>"
      ],
      "text/plain": [
       "               price    model_year     cylinders       odometer  days_listed\n",
       "count   51525.000000  51525.000000  51525.000000   51525.000000  51525.00000\n",
       "mean    12132.464920   2009.838234      6.112450  115162.352179     39.55476\n",
       "std     10040.803015      6.065836      1.573784   59909.264385     28.20427\n",
       "min         1.000000   1908.000000      3.000000       0.000000      0.00000\n",
       "25%      5000.000000   2007.000000      4.000000   79181.000000     19.00000\n",
       "50%      9000.000000   2011.000000      6.000000  113000.000000     33.00000\n",
       "75%     16839.000000   2014.000000      8.000000  146541.000000     53.00000\n",
       "max    375000.000000   2019.000000     12.000000  990000.000000    271.00000"
      ]
     },
     "execution_count": 26,
     "metadata": {},
     "output_type": "execute_result"
    }
   ],
   "source": [
    "vehicles_data.describe()"
   ]
  },
  {
   "cell_type": "code",
   "execution_count": 93,
   "metadata": {},
   "outputs": [
    {
     "data": {
      "text/plain": [
       "False    25953\n",
       "True     25572\n",
       "Name: is_4wd, dtype: int64"
      ]
     },
     "execution_count": 93,
     "metadata": {},
     "output_type": "execute_result"
    }
   ],
   "source": [
    "vehicles_data['is_4wd'].value_counts()"
   ]
  },
  {
   "cell_type": "code",
   "execution_count": 27,
   "metadata": {},
   "outputs": [],
   "source": [
    "vehicles_data['date_posted'] = pd.to_datetime(vehicles_data['date_posted'])"
   ]
  },
  {
   "cell_type": "markdown",
   "metadata": {},
   "source": [
    "Also I changed the date, when the ad was posted to the readable date format"
   ]
  },
  {
   "cell_type": "code",
   "execution_count": 28,
   "metadata": {},
   "outputs": [
    {
     "data": {
      "text/html": [
       "<div>\n",
       "<style scoped>\n",
       "    .dataframe tbody tr th:only-of-type {\n",
       "        vertical-align: middle;\n",
       "    }\n",
       "\n",
       "    .dataframe tbody tr th {\n",
       "        vertical-align: top;\n",
       "    }\n",
       "\n",
       "    .dataframe thead th {\n",
       "        text-align: right;\n",
       "    }\n",
       "</style>\n",
       "<table border=\"1\" class=\"dataframe\">\n",
       "  <thead>\n",
       "    <tr style=\"text-align: right;\">\n",
       "      <th></th>\n",
       "      <th>price</th>\n",
       "      <th>model_year</th>\n",
       "      <th>model</th>\n",
       "      <th>condition</th>\n",
       "      <th>cylinders</th>\n",
       "      <th>fuel</th>\n",
       "      <th>odometer</th>\n",
       "      <th>transmission</th>\n",
       "      <th>type</th>\n",
       "      <th>paint_color</th>\n",
       "      <th>is_4wd</th>\n",
       "      <th>date_posted</th>\n",
       "      <th>days_listed</th>\n",
       "    </tr>\n",
       "  </thead>\n",
       "  <tbody>\n",
       "    <tr>\n",
       "      <td>0</td>\n",
       "      <td>9400</td>\n",
       "      <td>2011</td>\n",
       "      <td>bmw x5</td>\n",
       "      <td>good</td>\n",
       "      <td>6</td>\n",
       "      <td>gas</td>\n",
       "      <td>145000</td>\n",
       "      <td>automatic</td>\n",
       "      <td>SUV</td>\n",
       "      <td>unknown</td>\n",
       "      <td>True</td>\n",
       "      <td>2018-06-23</td>\n",
       "      <td>19</td>\n",
       "    </tr>\n",
       "    <tr>\n",
       "      <td>1</td>\n",
       "      <td>25500</td>\n",
       "      <td>2011</td>\n",
       "      <td>ford f-150</td>\n",
       "      <td>good</td>\n",
       "      <td>6</td>\n",
       "      <td>gas</td>\n",
       "      <td>88705</td>\n",
       "      <td>automatic</td>\n",
       "      <td>pickup</td>\n",
       "      <td>white</td>\n",
       "      <td>True</td>\n",
       "      <td>2018-10-19</td>\n",
       "      <td>50</td>\n",
       "    </tr>\n",
       "    <tr>\n",
       "      <td>2</td>\n",
       "      <td>5500</td>\n",
       "      <td>2013</td>\n",
       "      <td>hyundai sonata</td>\n",
       "      <td>like new</td>\n",
       "      <td>4</td>\n",
       "      <td>gas</td>\n",
       "      <td>110000</td>\n",
       "      <td>automatic</td>\n",
       "      <td>sedan</td>\n",
       "      <td>red</td>\n",
       "      <td>False</td>\n",
       "      <td>2019-02-07</td>\n",
       "      <td>79</td>\n",
       "    </tr>\n",
       "    <tr>\n",
       "      <td>3</td>\n",
       "      <td>1500</td>\n",
       "      <td>2003</td>\n",
       "      <td>ford f-150</td>\n",
       "      <td>fair</td>\n",
       "      <td>8</td>\n",
       "      <td>gas</td>\n",
       "      <td>113000</td>\n",
       "      <td>automatic</td>\n",
       "      <td>pickup</td>\n",
       "      <td>unknown</td>\n",
       "      <td>False</td>\n",
       "      <td>2019-03-22</td>\n",
       "      <td>9</td>\n",
       "    </tr>\n",
       "    <tr>\n",
       "      <td>4</td>\n",
       "      <td>14900</td>\n",
       "      <td>2017</td>\n",
       "      <td>chrysler 200</td>\n",
       "      <td>excellent</td>\n",
       "      <td>4</td>\n",
       "      <td>gas</td>\n",
       "      <td>80903</td>\n",
       "      <td>automatic</td>\n",
       "      <td>sedan</td>\n",
       "      <td>black</td>\n",
       "      <td>False</td>\n",
       "      <td>2019-04-02</td>\n",
       "      <td>28</td>\n",
       "    </tr>\n",
       "  </tbody>\n",
       "</table>\n",
       "</div>"
      ],
      "text/plain": [
       "   price  model_year           model  condition  cylinders fuel  odometer  \\\n",
       "0   9400        2011          bmw x5       good          6  gas    145000   \n",
       "1  25500        2011      ford f-150       good          6  gas     88705   \n",
       "2   5500        2013  hyundai sonata   like new          4  gas    110000   \n",
       "3   1500        2003      ford f-150       fair          8  gas    113000   \n",
       "4  14900        2017    chrysler 200  excellent          4  gas     80903   \n",
       "\n",
       "  transmission    type paint_color  is_4wd date_posted  days_listed  \n",
       "0    automatic     SUV     unknown    True  2018-06-23           19  \n",
       "1    automatic  pickup       white    True  2018-10-19           50  \n",
       "2    automatic   sedan         red   False  2019-02-07           79  \n",
       "3    automatic  pickup     unknown   False  2019-03-22            9  \n",
       "4    automatic   sedan       black   False  2019-04-02           28  "
      ]
     },
     "execution_count": 28,
     "metadata": {},
     "output_type": "execute_result"
    }
   ],
   "source": [
    "vehicles_data.head()"
   ]
  },
  {
   "cell_type": "code",
   "execution_count": 29,
   "metadata": {},
   "outputs": [
    {
     "data": {
      "text/plain": [
       "0"
      ]
     },
     "execution_count": 29,
     "metadata": {},
     "output_type": "execute_result"
    }
   ],
   "source": [
    "vehicles_data.duplicated().sum()"
   ]
  },
  {
   "cell_type": "code",
   "execution_count": 30,
   "metadata": {},
   "outputs": [
    {
     "name": "stdout",
     "output_type": "stream",
     "text": [
      "<class 'pandas.core.frame.DataFrame'>\n",
      "RangeIndex: 51525 entries, 0 to 51524\n",
      "Data columns (total 13 columns):\n",
      "price           51525 non-null int64\n",
      "model_year      51525 non-null int64\n",
      "model           51525 non-null object\n",
      "condition       51525 non-null object\n",
      "cylinders       51525 non-null int64\n",
      "fuel            51525 non-null object\n",
      "odometer        51525 non-null int64\n",
      "transmission    51525 non-null object\n",
      "type            51525 non-null object\n",
      "paint_color     51525 non-null object\n",
      "is_4wd          51525 non-null bool\n",
      "date_posted     51525 non-null datetime64[ns]\n",
      "days_listed     51525 non-null int64\n",
      "dtypes: bool(1), datetime64[ns](1), int64(5), object(6)\n",
      "memory usage: 4.8+ MB\n"
     ]
    }
   ],
   "source": [
    "vehicles_data.info()"
   ]
  },
  {
   "cell_type": "markdown",
   "metadata": {},
   "source": [
    "I also checked if there are duplicated rows in data but there are none"
   ]
  },
  {
   "cell_type": "markdown",
   "metadata": {},
   "source": [
    "### Conclusion"
   ]
  },
  {
   "cell_type": "markdown",
   "metadata": {},
   "source": [
    "I checked the data, the data is almost good. We have all type of information needed to make further analysis. I fixed all the missing data and changed the data type, now it's time to make all necessary calculations"
   ]
  },
  {
   "cell_type": "markdown",
   "metadata": {},
   "source": [
    "## Make calculations and add them to the table"
   ]
  },
  {
   "cell_type": "code",
   "execution_count": 31,
   "metadata": {},
   "outputs": [],
   "source": [
    "vehicles_data['week'] = pd.DatetimeIndex(vehicles_data['date_posted']).weekday"
   ]
  },
  {
   "cell_type": "code",
   "execution_count": 32,
   "metadata": {},
   "outputs": [],
   "source": [
    "vehicles_data['month'] = pd.DatetimeIndex(vehicles_data['date_posted']).month"
   ]
  },
  {
   "cell_type": "code",
   "execution_count": 33,
   "metadata": {},
   "outputs": [],
   "source": [
    "vehicles_data['year']=pd.DatetimeIndex(vehicles_data['date_posted']).year"
   ]
  },
  {
   "cell_type": "code",
   "execution_count": 34,
   "metadata": {},
   "outputs": [],
   "source": [
    "vehicles_data['vehicles_age'] = vehicles_data['year'] - vehicles_data['model_year']"
   ]
  },
  {
   "cell_type": "code",
   "execution_count": 35,
   "metadata": {},
   "outputs": [],
   "source": [
    "def mileage_count(row):\n",
    "    if row['vehicles_age'] == 0:\n",
    "        return row['odometer']\n",
    "    else:\n",
    "        return row['odometer'] / row['vehicles_age']"
   ]
  },
  {
   "cell_type": "markdown",
   "metadata": {},
   "source": [
    "I ve calculated vehicles_age using 2 values (year, when the ad was placed and model_year)"
   ]
  },
  {
   "cell_type": "code",
   "execution_count": 36,
   "metadata": {},
   "outputs": [],
   "source": [
    "vehicles_data['avg_mileage'] = vehicles_data.apply(mileage_count, axis=1)"
   ]
  },
  {
   "cell_type": "markdown",
   "metadata": {},
   "source": [
    "I also added average_mileage column."
   ]
  },
  {
   "cell_type": "code",
   "execution_count": 37,
   "metadata": {},
   "outputs": [],
   "source": [
    "def condition_change(row):\n",
    "    if row['condition']== 'new':\n",
    "        return 5\n",
    "    if row['condition']=='like new':\n",
    "        return 4\n",
    "    if row['condition']=='excellent':\n",
    "        return 3\n",
    "    if row['condition']=='good':\n",
    "        return 2 \n",
    "    if row['condition']=='fair':\n",
    "        return 1\n",
    "    if row['condition']=='salvage':\n",
    "        return 0"
   ]
  },
  {
   "cell_type": "code",
   "execution_count": 38,
   "metadata": {},
   "outputs": [],
   "source": [
    "vehicles_data['condition'] = vehicles_data.apply(condition_change, axis=1)"
   ]
  },
  {
   "cell_type": "code",
   "execution_count": 39,
   "metadata": {},
   "outputs": [
    {
     "data": {
      "text/plain": [
       "0    2\n",
       "1    2\n",
       "2    4\n",
       "3    1\n",
       "4    3\n",
       "Name: condition, dtype: int64"
      ]
     },
     "execution_count": 39,
     "metadata": {},
     "output_type": "execute_result"
    }
   ],
   "source": [
    "vehicles_data['condition'].head()"
   ]
  },
  {
   "cell_type": "markdown",
   "metadata": {},
   "source": [
    "I ve changed condition values to the numeric values, it will help us to make new countings and conclusions"
   ]
  },
  {
   "cell_type": "code",
   "execution_count": 40,
   "metadata": {},
   "outputs": [
    {
     "data": {
      "text/html": [
       "<div>\n",
       "<style scoped>\n",
       "    .dataframe tbody tr th:only-of-type {\n",
       "        vertical-align: middle;\n",
       "    }\n",
       "\n",
       "    .dataframe tbody tr th {\n",
       "        vertical-align: top;\n",
       "    }\n",
       "\n",
       "    .dataframe thead th {\n",
       "        text-align: right;\n",
       "    }\n",
       "</style>\n",
       "<table border=\"1\" class=\"dataframe\">\n",
       "  <thead>\n",
       "    <tr style=\"text-align: right;\">\n",
       "      <th></th>\n",
       "      <th>price</th>\n",
       "      <th>model_year</th>\n",
       "      <th>model</th>\n",
       "      <th>condition</th>\n",
       "      <th>cylinders</th>\n",
       "      <th>fuel</th>\n",
       "      <th>odometer</th>\n",
       "      <th>transmission</th>\n",
       "      <th>type</th>\n",
       "      <th>paint_color</th>\n",
       "      <th>is_4wd</th>\n",
       "      <th>date_posted</th>\n",
       "      <th>days_listed</th>\n",
       "      <th>week</th>\n",
       "      <th>month</th>\n",
       "      <th>year</th>\n",
       "      <th>vehicles_age</th>\n",
       "      <th>avg_mileage</th>\n",
       "    </tr>\n",
       "  </thead>\n",
       "  <tbody>\n",
       "    <tr>\n",
       "      <td>0</td>\n",
       "      <td>9400</td>\n",
       "      <td>2011</td>\n",
       "      <td>bmw x5</td>\n",
       "      <td>2</td>\n",
       "      <td>6</td>\n",
       "      <td>gas</td>\n",
       "      <td>145000</td>\n",
       "      <td>automatic</td>\n",
       "      <td>SUV</td>\n",
       "      <td>unknown</td>\n",
       "      <td>True</td>\n",
       "      <td>2018-06-23</td>\n",
       "      <td>19</td>\n",
       "      <td>5</td>\n",
       "      <td>6</td>\n",
       "      <td>2018</td>\n",
       "      <td>7</td>\n",
       "      <td>20714.285714</td>\n",
       "    </tr>\n",
       "    <tr>\n",
       "      <td>1</td>\n",
       "      <td>25500</td>\n",
       "      <td>2011</td>\n",
       "      <td>ford f-150</td>\n",
       "      <td>2</td>\n",
       "      <td>6</td>\n",
       "      <td>gas</td>\n",
       "      <td>88705</td>\n",
       "      <td>automatic</td>\n",
       "      <td>pickup</td>\n",
       "      <td>white</td>\n",
       "      <td>True</td>\n",
       "      <td>2018-10-19</td>\n",
       "      <td>50</td>\n",
       "      <td>4</td>\n",
       "      <td>10</td>\n",
       "      <td>2018</td>\n",
       "      <td>7</td>\n",
       "      <td>12672.142857</td>\n",
       "    </tr>\n",
       "    <tr>\n",
       "      <td>2</td>\n",
       "      <td>5500</td>\n",
       "      <td>2013</td>\n",
       "      <td>hyundai sonata</td>\n",
       "      <td>4</td>\n",
       "      <td>4</td>\n",
       "      <td>gas</td>\n",
       "      <td>110000</td>\n",
       "      <td>automatic</td>\n",
       "      <td>sedan</td>\n",
       "      <td>red</td>\n",
       "      <td>False</td>\n",
       "      <td>2019-02-07</td>\n",
       "      <td>79</td>\n",
       "      <td>3</td>\n",
       "      <td>2</td>\n",
       "      <td>2019</td>\n",
       "      <td>6</td>\n",
       "      <td>18333.333333</td>\n",
       "    </tr>\n",
       "    <tr>\n",
       "      <td>3</td>\n",
       "      <td>1500</td>\n",
       "      <td>2003</td>\n",
       "      <td>ford f-150</td>\n",
       "      <td>1</td>\n",
       "      <td>8</td>\n",
       "      <td>gas</td>\n",
       "      <td>113000</td>\n",
       "      <td>automatic</td>\n",
       "      <td>pickup</td>\n",
       "      <td>unknown</td>\n",
       "      <td>False</td>\n",
       "      <td>2019-03-22</td>\n",
       "      <td>9</td>\n",
       "      <td>4</td>\n",
       "      <td>3</td>\n",
       "      <td>2019</td>\n",
       "      <td>16</td>\n",
       "      <td>7062.500000</td>\n",
       "    </tr>\n",
       "    <tr>\n",
       "      <td>4</td>\n",
       "      <td>14900</td>\n",
       "      <td>2017</td>\n",
       "      <td>chrysler 200</td>\n",
       "      <td>3</td>\n",
       "      <td>4</td>\n",
       "      <td>gas</td>\n",
       "      <td>80903</td>\n",
       "      <td>automatic</td>\n",
       "      <td>sedan</td>\n",
       "      <td>black</td>\n",
       "      <td>False</td>\n",
       "      <td>2019-04-02</td>\n",
       "      <td>28</td>\n",
       "      <td>1</td>\n",
       "      <td>4</td>\n",
       "      <td>2019</td>\n",
       "      <td>2</td>\n",
       "      <td>40451.500000</td>\n",
       "    </tr>\n",
       "  </tbody>\n",
       "</table>\n",
       "</div>"
      ],
      "text/plain": [
       "   price  model_year           model  condition  cylinders fuel  odometer  \\\n",
       "0   9400        2011          bmw x5          2          6  gas    145000   \n",
       "1  25500        2011      ford f-150          2          6  gas     88705   \n",
       "2   5500        2013  hyundai sonata          4          4  gas    110000   \n",
       "3   1500        2003      ford f-150          1          8  gas    113000   \n",
       "4  14900        2017    chrysler 200          3          4  gas     80903   \n",
       "\n",
       "  transmission    type paint_color  is_4wd date_posted  days_listed  week  \\\n",
       "0    automatic     SUV     unknown    True  2018-06-23           19     5   \n",
       "1    automatic  pickup       white    True  2018-10-19           50     4   \n",
       "2    automatic   sedan         red   False  2019-02-07           79     3   \n",
       "3    automatic  pickup     unknown   False  2019-03-22            9     4   \n",
       "4    automatic   sedan       black   False  2019-04-02           28     1   \n",
       "\n",
       "   month  year  vehicles_age   avg_mileage  \n",
       "0      6  2018             7  20714.285714  \n",
       "1     10  2018             7  12672.142857  \n",
       "2      2  2019             6  18333.333333  \n",
       "3      3  2019            16   7062.500000  \n",
       "4      4  2019             2  40451.500000  "
      ]
     },
     "execution_count": 40,
     "metadata": {},
     "output_type": "execute_result"
    }
   ],
   "source": [
    "vehicles_data.head()"
   ]
  },
  {
   "cell_type": "markdown",
   "metadata": {},
   "source": [
    "## Exploratory data analysis"
   ]
  },
  {
   "cell_type": "markdown",
   "metadata": {},
   "source": [
    "Now we need to study the following parameters: price, vehicle's age when the ad was placed, mileage, number of cylinders, and condition."
   ]
  },
  {
   "cell_type": "code",
   "execution_count": 41,
   "metadata": {},
   "outputs": [
    {
     "data": {
      "image/png": "[encoded data removed]",
      "text/plain": [
       "<Figure size 432x432 with 1 Axes>"
      ]
     },
     "metadata": {
      "needs_background": "light"
     },
     "output_type": "display_data"
    }
   ],
   "source": [
    "vehicles_data['price'].plot(kind='hist',bins=30,range=(0,75000), title='price', grid=\"true\",figsize=(6,6))\n",
    "plt.show()"
   ]
  },
  {
   "cell_type": "markdown",
   "metadata": {},
   "source": [
    "I ve made hist to see what is going on with the price of our vehicles. We now figure out that the most popular price is between 5000 and 10000, however there are few cars with price more than 60000"
   ]
  },
  {
   "cell_type": "code",
   "execution_count": 42,
   "metadata": {},
   "outputs": [
    {
     "data": {
      "text/plain": [
       "<matplotlib.axes._subplots.AxesSubplot at 0x7fe98b79bd10>"
      ]
     },
     "execution_count": 42,
     "metadata": {},
     "output_type": "execute_result"
    },
    {
     "data": {
      "image/png": "[encoded data removed]",
      "text/plain": [
       "<Figure size 432x432 with 1 Axes>"
      ]
     },
     "metadata": {
      "needs_background": "light"
     },
     "output_type": "display_data"
    }
   ],
   "source": [
    "vehicles_data['vehicles_age'].plot(kind='hist', bins=30, range=(0,60), title='vehicles_age', grid=\"true\",figsize=(6,6))"
   ]
  },
  {
   "cell_type": "markdown",
   "metadata": {},
   "source": [
    "THe common vehicles_age is about 6-9 years, but again we have some outliers that are older than 23 years."
   ]
  },
  {
   "cell_type": "code",
   "execution_count": 43,
   "metadata": {},
   "outputs": [
    {
     "data": {
      "image/png": "[encoded data removed]",
      "text/plain": [
       "<Figure size 432x432 with 1 Axes>"
      ]
     },
     "metadata": {
      "needs_background": "light"
     },
     "output_type": "display_data"
    }
   ],
   "source": [
    "vehicles_data['odometer'].plot(kind='hist', bins=30, range=(0,400000), title='mileage', grid=\"true\",figsize=(6,6))\n",
    "plt.show()"
   ]
  },
  {
   "cell_type": "markdown",
   "metadata": {},
   "source": [
    "The pick of mileage is at point 120 000, but we also see some with the values more than 250 000"
   ]
  },
  {
   "cell_type": "code",
   "execution_count": 44,
   "metadata": {},
   "outputs": [
    {
     "data": {
      "image/png": "[encoded data removed]",
      "text/plain": [
       "<Figure size 432x432 with 1 Axes>"
      ]
     },
     "metadata": {
      "needs_background": "light"
     },
     "output_type": "display_data"
    }
   ],
   "source": [
    "vehicles_data['cylinders'].plot(kind='hist',bins=10, title='cylinders', grid=\"true\",figsize=(6,6))\n",
    "plt.show()"
   ]
  },
  {
   "cell_type": "markdown",
   "metadata": {},
   "source": [
    "Everything is fine with cylinders. I see nothing that is need to be fixed"
   ]
  },
  {
   "cell_type": "code",
   "execution_count": 45,
   "metadata": {},
   "outputs": [
    {
     "data": {
      "image/png": "[encoded data removed]",
      "text/plain": [
       "<Figure size 432x432 with 1 Axes>"
      ]
     },
     "metadata": {
      "needs_background": "light"
     },
     "output_type": "display_data"
    }
   ],
   "source": [
    "vehicles_data['condition'].plot(kind='hist',bins=10, title='condition', grid=\"true\",figsize=(6,6))\n",
    "plt.show()"
   ]
  },
  {
   "cell_type": "markdown",
   "metadata": {},
   "source": [
    "The column Condition is also good, nothing abnormal there"
   ]
  },
  {
   "cell_type": "markdown",
   "metadata": {},
   "source": [
    "To see outliers I would like to make boxplot for several parameteres."
   ]
  },
  {
   "cell_type": "code",
   "execution_count": 46,
   "metadata": {},
   "outputs": [
    {
     "data": {
      "text/plain": [
       "count     51525.000000\n",
       "mean      12132.464920\n",
       "std       10040.803015\n",
       "min           1.000000\n",
       "25%        5000.000000\n",
       "50%        9000.000000\n",
       "75%       16839.000000\n",
       "max      375000.000000\n",
       "Name: price, dtype: float64"
      ]
     },
     "execution_count": 46,
     "metadata": {},
     "output_type": "execute_result"
    }
   ],
   "source": [
    "vehicles_data['price'].describe()"
   ]
  },
  {
   "cell_type": "code",
   "execution_count": 47,
   "metadata": {},
   "outputs": [
    {
     "data": {
      "text/plain": [
       "(0, 50000)"
      ]
     },
     "execution_count": 47,
     "metadata": {},
     "output_type": "execute_result"
    },
    {
     "data": {
      "image/png": "[encoded data removed]",
      "text/plain": [
       "<Figure size 432x288 with 1 Axes>"
      ]
     },
     "metadata": {
      "needs_background": "light"
     },
     "output_type": "display_data"
    }
   ],
   "source": [
    "boxplot = vehicles_data.boxplot(column=['price'])\n",
    "boxplot.plot()\n",
    "plt.ylim(0,50000)"
   ]
  },
  {
   "cell_type": "markdown",
   "metadata": {},
   "source": [
    "We notice that the outliers start from 35000, let's get rid of them to work on filtered data."
   ]
  },
  {
   "cell_type": "code",
   "execution_count": 48,
   "metadata": {},
   "outputs": [],
   "source": [
    "filtered_vehicles = vehicles_data.query('price <= 35000')"
   ]
  },
  {
   "cell_type": "code",
   "execution_count": 49,
   "metadata": {},
   "outputs": [
    {
     "data": {
      "text/html": [
       "<div>\n",
       "<style scoped>\n",
       "    .dataframe tbody tr th:only-of-type {\n",
       "        vertical-align: middle;\n",
       "    }\n",
       "\n",
       "    .dataframe tbody tr th {\n",
       "        vertical-align: top;\n",
       "    }\n",
       "\n",
       "    .dataframe thead th {\n",
       "        text-align: right;\n",
       "    }\n",
       "</style>\n",
       "<table border=\"1\" class=\"dataframe\">\n",
       "  <thead>\n",
       "    <tr style=\"text-align: right;\">\n",
       "      <th></th>\n",
       "      <th>price</th>\n",
       "      <th>model_year</th>\n",
       "      <th>condition</th>\n",
       "      <th>cylinders</th>\n",
       "      <th>odometer</th>\n",
       "      <th>days_listed</th>\n",
       "      <th>week</th>\n",
       "      <th>month</th>\n",
       "      <th>year</th>\n",
       "      <th>vehicles_age</th>\n",
       "      <th>avg_mileage</th>\n",
       "    </tr>\n",
       "  </thead>\n",
       "  <tbody>\n",
       "    <tr>\n",
       "      <td>count</td>\n",
       "      <td>50111.000000</td>\n",
       "      <td>50111.000000</td>\n",
       "      <td>50111.000000</td>\n",
       "      <td>50111.000000</td>\n",
       "      <td>50111.000000</td>\n",
       "      <td>50111.000000</td>\n",
       "      <td>50111.000000</td>\n",
       "      <td>50111.000000</td>\n",
       "      <td>50111.000000</td>\n",
       "      <td>50111.000000</td>\n",
       "      <td>50111.000000</td>\n",
       "    </tr>\n",
       "    <tr>\n",
       "      <td>mean</td>\n",
       "      <td>11205.937179</td>\n",
       "      <td>2009.682325</td>\n",
       "      <td>2.622498</td>\n",
       "      <td>6.080102</td>\n",
       "      <td>116879.221029</td>\n",
       "      <td>39.548123</td>\n",
       "      <td>3.005348</td>\n",
       "      <td>6.626888</td>\n",
       "      <td>2018.307597</td>\n",
       "      <td>8.625272</td>\n",
       "      <td>18816.049922</td>\n",
       "    </tr>\n",
       "    <tr>\n",
       "      <td>std</td>\n",
       "      <td>7954.815995</td>\n",
       "      <td>5.956012</td>\n",
       "      <td>0.705790</td>\n",
       "      <td>1.574140</td>\n",
       "      <td>59147.190605</td>\n",
       "      <td>28.195189</td>\n",
       "      <td>1.996597</td>\n",
       "      <td>3.474539</td>\n",
       "      <td>0.461503</td>\n",
       "      <td>5.970140</td>\n",
       "      <td>16234.870462</td>\n",
       "    </tr>\n",
       "    <tr>\n",
       "      <td>min</td>\n",
       "      <td>1.000000</td>\n",
       "      <td>1908.000000</td>\n",
       "      <td>0.000000</td>\n",
       "      <td>3.000000</td>\n",
       "      <td>0.000000</td>\n",
       "      <td>0.000000</td>\n",
       "      <td>0.000000</td>\n",
       "      <td>1.000000</td>\n",
       "      <td>2018.000000</td>\n",
       "      <td>0.000000</td>\n",
       "      <td>0.000000</td>\n",
       "    </tr>\n",
       "    <tr>\n",
       "      <td>25%</td>\n",
       "      <td>4995.000000</td>\n",
       "      <td>2007.000000</td>\n",
       "      <td>2.000000</td>\n",
       "      <td>4.000000</td>\n",
       "      <td>82250.000000</td>\n",
       "      <td>19.000000</td>\n",
       "      <td>1.000000</td>\n",
       "      <td>3.000000</td>\n",
       "      <td>2018.000000</td>\n",
       "      <td>5.000000</td>\n",
       "      <td>10358.071429</td>\n",
       "    </tr>\n",
       "    <tr>\n",
       "      <td>50%</td>\n",
       "      <td>8995.000000</td>\n",
       "      <td>2011.000000</td>\n",
       "      <td>3.000000</td>\n",
       "      <td>6.000000</td>\n",
       "      <td>113000.000000</td>\n",
       "      <td>33.000000</td>\n",
       "      <td>3.000000</td>\n",
       "      <td>7.000000</td>\n",
       "      <td>2018.000000</td>\n",
       "      <td>7.000000</td>\n",
       "      <td>15072.200000</td>\n",
       "    </tr>\n",
       "    <tr>\n",
       "      <td>75%</td>\n",
       "      <td>15980.000000</td>\n",
       "      <td>2014.000000</td>\n",
       "      <td>3.000000</td>\n",
       "      <td>8.000000</td>\n",
       "      <td>148000.000000</td>\n",
       "      <td>53.000000</td>\n",
       "      <td>5.000000</td>\n",
       "      <td>10.000000</td>\n",
       "      <td>2019.000000</td>\n",
       "      <td>12.000000</td>\n",
       "      <td>21903.142857</td>\n",
       "    </tr>\n",
       "    <tr>\n",
       "      <td>max</td>\n",
       "      <td>35000.000000</td>\n",
       "      <td>2019.000000</td>\n",
       "      <td>5.000000</td>\n",
       "      <td>12.000000</td>\n",
       "      <td>990000.000000</td>\n",
       "      <td>271.000000</td>\n",
       "      <td>6.000000</td>\n",
       "      <td>12.000000</td>\n",
       "      <td>2019.000000</td>\n",
       "      <td>110.000000</td>\n",
       "      <td>373200.000000</td>\n",
       "    </tr>\n",
       "  </tbody>\n",
       "</table>\n",
       "</div>"
      ],
      "text/plain": [
       "              price    model_year     condition     cylinders       odometer  \\\n",
       "count  50111.000000  50111.000000  50111.000000  50111.000000   50111.000000   \n",
       "mean   11205.937179   2009.682325      2.622498      6.080102  116879.221029   \n",
       "std     7954.815995      5.956012      0.705790      1.574140   59147.190605   \n",
       "min        1.000000   1908.000000      0.000000      3.000000       0.000000   \n",
       "25%     4995.000000   2007.000000      2.000000      4.000000   82250.000000   \n",
       "50%     8995.000000   2011.000000      3.000000      6.000000  113000.000000   \n",
       "75%    15980.000000   2014.000000      3.000000      8.000000  148000.000000   \n",
       "max    35000.000000   2019.000000      5.000000     12.000000  990000.000000   \n",
       "\n",
       "        days_listed          week         month          year  vehicles_age  \\\n",
       "count  50111.000000  50111.000000  50111.000000  50111.000000  50111.000000   \n",
       "mean      39.548123      3.005348      6.626888   2018.307597      8.625272   \n",
       "std       28.195189      1.996597      3.474539      0.461503      5.970140   \n",
       "min        0.000000      0.000000      1.000000   2018.000000      0.000000   \n",
       "25%       19.000000      1.000000      3.000000   2018.000000      5.000000   \n",
       "50%       33.000000      3.000000      7.000000   2018.000000      7.000000   \n",
       "75%       53.000000      5.000000     10.000000   2019.000000     12.000000   \n",
       "max      271.000000      6.000000     12.000000   2019.000000    110.000000   \n",
       "\n",
       "         avg_mileage  \n",
       "count   50111.000000  \n",
       "mean    18816.049922  \n",
       "std     16234.870462  \n",
       "min         0.000000  \n",
       "25%     10358.071429  \n",
       "50%     15072.200000  \n",
       "75%     21903.142857  \n",
       "max    373200.000000  "
      ]
     },
     "execution_count": 49,
     "metadata": {},
     "output_type": "execute_result"
    }
   ],
   "source": [
    "filtered_vehicles.describe()"
   ]
  },
  {
   "cell_type": "code",
   "execution_count": 50,
   "metadata": {},
   "outputs": [
    {
     "data": {
      "image/png": "[encoded data removed]",
      "text/plain": [
       "<Figure size 432x288 with 1 Axes>"
      ]
     },
     "metadata": {
      "needs_background": "light"
     },
     "output_type": "display_data"
    }
   ],
   "source": [
    "filtered_vehicles['price'].hist()\n",
    "plt.show()"
   ]
  },
  {
   "cell_type": "code",
   "execution_count": 51,
   "metadata": {},
   "outputs": [
    {
     "data": {
      "text/plain": [
       "count    51525.000000\n",
       "mean         8.469229\n",
       "std          6.079773\n",
       "min          0.000000\n",
       "25%          4.000000\n",
       "50%          7.000000\n",
       "75%         12.000000\n",
       "max        110.000000\n",
       "Name: vehicles_age, dtype: float64"
      ]
     },
     "execution_count": 51,
     "metadata": {},
     "output_type": "execute_result"
    }
   ],
   "source": [
    "vehicles_data['vehicles_age'].describe()"
   ]
  },
  {
   "cell_type": "markdown",
   "metadata": {},
   "source": [
    "I will do the dame operation with vehicles age. We see the mean is about 8.5 years. More than 23 are also outliers. "
   ]
  },
  {
   "cell_type": "code",
   "execution_count": 52,
   "metadata": {},
   "outputs": [
    {
     "data": {
      "text/plain": [
       "(0, 30)"
      ]
     },
     "execution_count": 52,
     "metadata": {},
     "output_type": "execute_result"
    },
    {
     "data": {
      "image/png": "[encoded data removed]",
      "text/plain": [
       "<Figure size 432x288 with 1 Axes>"
      ]
     },
     "metadata": {
      "needs_background": "light"
     },
     "output_type": "display_data"
    }
   ],
   "source": [
    "boxplot = vehicles_data.boxplot(column=['vehicles_age'])\n",
    "boxplot.plot()\n",
    "plt.ylim(0,30)"
   ]
  },
  {
   "cell_type": "code",
   "execution_count": 53,
   "metadata": {},
   "outputs": [],
   "source": [
    "filtered_vehicles = vehicles_data.query('vehicles_age <= 23')"
   ]
  },
  {
   "cell_type": "code",
   "execution_count": 54,
   "metadata": {},
   "outputs": [
    {
     "data": {
      "image/png": "[encoded data removed]",
      "text/plain": [
       "<Figure size 432x288 with 1 Axes>"
      ]
     },
     "metadata": {
      "needs_background": "light"
     },
     "output_type": "display_data"
    }
   ],
   "source": [
    "filtered_vehicles['vehicles_age'].hist()\n",
    "plt.show()"
   ]
  },
  {
   "cell_type": "markdown",
   "metadata": {},
   "source": [
    "And the last one with some useless values - 'odometer' parameter. We also clean the outliers at the point 250 000 as we will see further in the boxplot."
   ]
  },
  {
   "cell_type": "code",
   "execution_count": 55,
   "metadata": {},
   "outputs": [
    {
     "data": {
      "text/plain": [
       "count     51525.000000\n",
       "mean     115162.352179\n",
       "std       59909.264385\n",
       "min           0.000000\n",
       "25%       79181.000000\n",
       "50%      113000.000000\n",
       "75%      146541.000000\n",
       "max      990000.000000\n",
       "Name: odometer, dtype: float64"
      ]
     },
     "execution_count": 55,
     "metadata": {},
     "output_type": "execute_result"
    }
   ],
   "source": [
    "vehicles_data['odometer'].describe()"
   ]
  },
  {
   "cell_type": "code",
   "execution_count": 56,
   "metadata": {},
   "outputs": [
    {
     "data": {
      "text/plain": [
       "(0, 300000)"
      ]
     },
     "execution_count": 56,
     "metadata": {},
     "output_type": "execute_result"
    },
    {
     "data": {
      "image/png": "[encoded data removed]",
      "text/plain": [
       "<Figure size 432x288 with 1 Axes>"
      ]
     },
     "metadata": {
      "needs_background": "light"
     },
     "output_type": "display_data"
    }
   ],
   "source": [
    "boxplot = vehicles_data.boxplot(column=['odometer'])\n",
    "boxplot.plot()\n",
    "plt.ylim(0,300000)"
   ]
  },
  {
   "cell_type": "code",
   "execution_count": 57,
   "metadata": {},
   "outputs": [],
   "source": [
    "filtered_vehicles = vehicles_data.query('odometer <= 250000')"
   ]
  },
  {
   "cell_type": "code",
   "execution_count": 58,
   "metadata": {},
   "outputs": [
    {
     "data": {
      "text/html": [
       "<div>\n",
       "<style scoped>\n",
       "    .dataframe tbody tr th:only-of-type {\n",
       "        vertical-align: middle;\n",
       "    }\n",
       "\n",
       "    .dataframe tbody tr th {\n",
       "        vertical-align: top;\n",
       "    }\n",
       "\n",
       "    .dataframe thead th {\n",
       "        text-align: right;\n",
       "    }\n",
       "</style>\n",
       "<table border=\"1\" class=\"dataframe\">\n",
       "  <thead>\n",
       "    <tr style=\"text-align: right;\">\n",
       "      <th></th>\n",
       "      <th>price</th>\n",
       "      <th>model_year</th>\n",
       "      <th>condition</th>\n",
       "      <th>cylinders</th>\n",
       "      <th>odometer</th>\n",
       "      <th>days_listed</th>\n",
       "      <th>week</th>\n",
       "      <th>month</th>\n",
       "      <th>year</th>\n",
       "      <th>vehicles_age</th>\n",
       "      <th>avg_mileage</th>\n",
       "    </tr>\n",
       "  </thead>\n",
       "  <tbody>\n",
       "    <tr>\n",
       "      <td>count</td>\n",
       "      <td>50478.000000</td>\n",
       "      <td>50478.000000</td>\n",
       "      <td>50478.000000</td>\n",
       "      <td>50478.000000</td>\n",
       "      <td>50478.000000</td>\n",
       "      <td>50478.000000</td>\n",
       "      <td>50478.000000</td>\n",
       "      <td>50478.000000</td>\n",
       "      <td>50478.000000</td>\n",
       "      <td>50478.000000</td>\n",
       "      <td>50478.000000</td>\n",
       "    </tr>\n",
       "    <tr>\n",
       "      <td>mean</td>\n",
       "      <td>12259.227267</td>\n",
       "      <td>2009.968145</td>\n",
       "      <td>2.649233</td>\n",
       "      <td>6.101351</td>\n",
       "      <td>111315.657910</td>\n",
       "      <td>39.556975</td>\n",
       "      <td>3.003784</td>\n",
       "      <td>6.627858</td>\n",
       "      <td>2018.307421</td>\n",
       "      <td>8.339277</td>\n",
       "      <td>18997.454279</td>\n",
       "    </tr>\n",
       "    <tr>\n",
       "      <td>std</td>\n",
       "      <td>10080.625701</td>\n",
       "      <td>6.010798</td>\n",
       "      <td>0.707538</td>\n",
       "      <td>1.573597</td>\n",
       "      <td>52917.668956</td>\n",
       "      <td>28.213699</td>\n",
       "      <td>1.998188</td>\n",
       "      <td>3.473423</td>\n",
       "      <td>0.461430</td>\n",
       "      <td>6.024709</td>\n",
       "      <td>16594.343601</td>\n",
       "    </tr>\n",
       "    <tr>\n",
       "      <td>min</td>\n",
       "      <td>1.000000</td>\n",
       "      <td>1908.000000</td>\n",
       "      <td>0.000000</td>\n",
       "      <td>3.000000</td>\n",
       "      <td>0.000000</td>\n",
       "      <td>0.000000</td>\n",
       "      <td>0.000000</td>\n",
       "      <td>1.000000</td>\n",
       "      <td>2018.000000</td>\n",
       "      <td>0.000000</td>\n",
       "      <td>0.000000</td>\n",
       "    </tr>\n",
       "    <tr>\n",
       "      <td>25%</td>\n",
       "      <td>5000.000000</td>\n",
       "      <td>2007.000000</td>\n",
       "      <td>2.000000</td>\n",
       "      <td>4.000000</td>\n",
       "      <td>78000.000000</td>\n",
       "      <td>19.000000</td>\n",
       "      <td>1.000000</td>\n",
       "      <td>3.000000</td>\n",
       "      <td>2018.000000</td>\n",
       "      <td>4.000000</td>\n",
       "      <td>10272.727273</td>\n",
       "    </tr>\n",
       "    <tr>\n",
       "      <td>50%</td>\n",
       "      <td>9450.000000</td>\n",
       "      <td>2011.000000</td>\n",
       "      <td>3.000000</td>\n",
       "      <td>6.000000</td>\n",
       "      <td>113000.000000</td>\n",
       "      <td>33.000000</td>\n",
       "      <td>3.000000</td>\n",
       "      <td>7.000000</td>\n",
       "      <td>2018.000000</td>\n",
       "      <td>7.000000</td>\n",
       "      <td>15011.111111</td>\n",
       "    </tr>\n",
       "    <tr>\n",
       "      <td>75%</td>\n",
       "      <td>16950.000000</td>\n",
       "      <td>2014.000000</td>\n",
       "      <td>3.000000</td>\n",
       "      <td>8.000000</td>\n",
       "      <td>143000.000000</td>\n",
       "      <td>53.000000</td>\n",
       "      <td>5.000000</td>\n",
       "      <td>10.000000</td>\n",
       "      <td>2019.000000</td>\n",
       "      <td>11.000000</td>\n",
       "      <td>22109.300000</td>\n",
       "    </tr>\n",
       "    <tr>\n",
       "      <td>max</td>\n",
       "      <td>375000.000000</td>\n",
       "      <td>2019.000000</td>\n",
       "      <td>5.000000</td>\n",
       "      <td>12.000000</td>\n",
       "      <td>250000.000000</td>\n",
       "      <td>271.000000</td>\n",
       "      <td>6.000000</td>\n",
       "      <td>12.000000</td>\n",
       "      <td>2019.000000</td>\n",
       "      <td>110.000000</td>\n",
       "      <td>195700.000000</td>\n",
       "    </tr>\n",
       "  </tbody>\n",
       "</table>\n",
       "</div>"
      ],
      "text/plain": [
       "               price    model_year     condition     cylinders       odometer  \\\n",
       "count   50478.000000  50478.000000  50478.000000  50478.000000   50478.000000   \n",
       "mean    12259.227267   2009.968145      2.649233      6.101351  111315.657910   \n",
       "std     10080.625701      6.010798      0.707538      1.573597   52917.668956   \n",
       "min         1.000000   1908.000000      0.000000      3.000000       0.000000   \n",
       "25%      5000.000000   2007.000000      2.000000      4.000000   78000.000000   \n",
       "50%      9450.000000   2011.000000      3.000000      6.000000  113000.000000   \n",
       "75%     16950.000000   2014.000000      3.000000      8.000000  143000.000000   \n",
       "max    375000.000000   2019.000000      5.000000     12.000000  250000.000000   \n",
       "\n",
       "        days_listed          week         month          year  vehicles_age  \\\n",
       "count  50478.000000  50478.000000  50478.000000  50478.000000  50478.000000   \n",
       "mean      39.556975      3.003784      6.627858   2018.307421      8.339277   \n",
       "std       28.213699      1.998188      3.473423      0.461430      6.024709   \n",
       "min        0.000000      0.000000      1.000000   2018.000000      0.000000   \n",
       "25%       19.000000      1.000000      3.000000   2018.000000      4.000000   \n",
       "50%       33.000000      3.000000      7.000000   2018.000000      7.000000   \n",
       "75%       53.000000      5.000000     10.000000   2019.000000     11.000000   \n",
       "max      271.000000      6.000000     12.000000   2019.000000    110.000000   \n",
       "\n",
       "         avg_mileage  \n",
       "count   50478.000000  \n",
       "mean    18997.454279  \n",
       "std     16594.343601  \n",
       "min         0.000000  \n",
       "25%     10272.727273  \n",
       "50%     15011.111111  \n",
       "75%     22109.300000  \n",
       "max    195700.000000  "
      ]
     },
     "execution_count": 58,
     "metadata": {},
     "output_type": "execute_result"
    }
   ],
   "source": [
    "filtered_vehicles.describe()"
   ]
  },
  {
   "cell_type": "code",
   "execution_count": 59,
   "metadata": {},
   "outputs": [
    {
     "data": {
      "image/png": "[encoded data removed]",
      "text/plain": [
       "<Figure size 432x288 with 1 Axes>"
      ]
     },
     "metadata": {
      "needs_background": "light"
     },
     "output_type": "display_data"
    }
   ],
   "source": [
    "filtered_vehicles['odometer'].hist()\n",
    "plt.show()"
   ]
  },
  {
   "cell_type": "markdown",
   "metadata": {},
   "source": [
    "Now I am going to look through the days, when the ads were displayed. We need to undestanf the mean and the median. "
   ]
  },
  {
   "cell_type": "code",
   "execution_count": 60,
   "metadata": {},
   "outputs": [
    {
     "data": {
      "image/png": "[encoded data removed]",
      "text/plain": [
       "<Figure size 432x288 with 1 Axes>"
      ]
     },
     "metadata": {
      "needs_background": "light"
     },
     "output_type": "display_data"
    }
   ],
   "source": [
    "filtered_vehicles['days_listed'].hist()\n",
    "plt.show()"
   ]
  },
  {
   "cell_type": "markdown",
   "metadata": {},
   "source": [
    "The hist shows us that most of ads are removed within 35 days. "
   ]
  },
  {
   "cell_type": "code",
   "execution_count": 61,
   "metadata": {},
   "outputs": [
    {
     "data": {
      "text/plain": [
       "39.55697531597924"
      ]
     },
     "execution_count": 61,
     "metadata": {},
     "output_type": "execute_result"
    }
   ],
   "source": [
    "filtered_vehicles['days_listed'].mean()"
   ]
  },
  {
   "cell_type": "code",
   "execution_count": 62,
   "metadata": {},
   "outputs": [
    {
     "data": {
      "text/plain": [
       "33.0"
      ]
     },
     "execution_count": 62,
     "metadata": {},
     "output_type": "execute_result"
    }
   ],
   "source": [
    "filtered_vehicles['days_listed'].median()"
   ]
  },
  {
   "cell_type": "code",
   "execution_count": 63,
   "metadata": {},
   "outputs": [
    {
     "data": {
      "text/plain": [
       "count    50478.000000\n",
       "mean        39.556975\n",
       "std         28.213699\n",
       "min          0.000000\n",
       "25%         19.000000\n",
       "50%         33.000000\n",
       "75%         53.000000\n",
       "max        271.000000\n",
       "Name: days_listed, dtype: float64"
      ]
     },
     "execution_count": 63,
     "metadata": {},
     "output_type": "execute_result"
    }
   ],
   "source": [
    "filtered_vehicles['days_listed'].describe()"
   ]
  },
  {
   "cell_type": "markdown",
   "metadata": {},
   "source": [
    "I ve categorized the ads by the time when they were listed. We have 25% of data that are sold withtin 19 days, it is really fast ones. Also we see some ads that were listed extremely long for 271 days maximem"
   ]
  },
  {
   "cell_type": "code",
   "execution_count": 64,
   "metadata": {},
   "outputs": [],
   "source": [
    "def lifetime_func(row):\n",
    "    if row['days_listed'] <= 19:\n",
    "        return 'fast'\n",
    "    if row['days_listed'] <= 33 and row['days_listed'] >19:\n",
    "        return 'normal'\n",
    "    if row['days_listed'] <=53 and row['days_listed'] >33:\n",
    "        return 'slow'\n",
    "    else:\n",
    "        return 'extra_slow' "
   ]
  },
  {
   "cell_type": "code",
   "execution_count": 65,
   "metadata": {},
   "outputs": [
    {
     "name": "stderr",
     "output_type": "stream",
     "text": [
      "/opt/conda/lib/python3.7/site-packages/ipykernel_launcher.py:1: SettingWithCopyWarning: \n",
      "A value is trying to be set on a copy of a slice from a DataFrame.\n",
      "Try using .loc[row_indexer,col_indexer] = value instead\n",
      "\n",
      "See the caveats in the documentation: http://pandas.pydata.org/pandas-docs/stable/user_guide/indexing.html#returning-a-view-versus-a-copy\n",
      "  \"\"\"Entry point for launching an IPython kernel.\n"
     ]
    }
   ],
   "source": [
    "filtered_vehicles['sell_rate'] = filtered_vehicles.apply(lifetime_func, axis=1)"
   ]
  },
  {
   "cell_type": "code",
   "execution_count": 66,
   "metadata": {},
   "outputs": [
    {
     "data": {
      "text/plain": [
       "0          fast\n",
       "1          slow\n",
       "2    extra_slow\n",
       "3          fast\n",
       "4        normal\n",
       "Name: sell_rate, dtype: object"
      ]
     },
     "execution_count": 66,
     "metadata": {},
     "output_type": "execute_result"
    }
   ],
   "source": [
    "filtered_vehicles['sell_rate'].head()"
   ]
  },
  {
   "cell_type": "code",
   "execution_count": 67,
   "metadata": {},
   "outputs": [
    {
     "data": {
      "text/html": [
       "<div>\n",
       "<style scoped>\n",
       "    .dataframe tbody tr th:only-of-type {\n",
       "        vertical-align: middle;\n",
       "    }\n",
       "\n",
       "    .dataframe tbody tr th {\n",
       "        vertical-align: top;\n",
       "    }\n",
       "\n",
       "    .dataframe thead th {\n",
       "        text-align: right;\n",
       "    }\n",
       "</style>\n",
       "<table border=\"1\" class=\"dataframe\">\n",
       "  <thead>\n",
       "    <tr style=\"text-align: right;\">\n",
       "      <th></th>\n",
       "      <th>price</th>\n",
       "      <th>model_year</th>\n",
       "      <th>model</th>\n",
       "      <th>condition</th>\n",
       "      <th>cylinders</th>\n",
       "      <th>fuel</th>\n",
       "      <th>odometer</th>\n",
       "      <th>transmission</th>\n",
       "      <th>type</th>\n",
       "      <th>paint_color</th>\n",
       "      <th>is_4wd</th>\n",
       "      <th>date_posted</th>\n",
       "      <th>days_listed</th>\n",
       "      <th>week</th>\n",
       "      <th>month</th>\n",
       "      <th>year</th>\n",
       "      <th>vehicles_age</th>\n",
       "      <th>avg_mileage</th>\n",
       "      <th>sell_rate</th>\n",
       "    </tr>\n",
       "  </thead>\n",
       "  <tbody>\n",
       "    <tr>\n",
       "      <td>0</td>\n",
       "      <td>9400</td>\n",
       "      <td>2011</td>\n",
       "      <td>bmw x5</td>\n",
       "      <td>2</td>\n",
       "      <td>6</td>\n",
       "      <td>gas</td>\n",
       "      <td>145000</td>\n",
       "      <td>automatic</td>\n",
       "      <td>SUV</td>\n",
       "      <td>unknown</td>\n",
       "      <td>True</td>\n",
       "      <td>2018-06-23</td>\n",
       "      <td>19</td>\n",
       "      <td>5</td>\n",
       "      <td>6</td>\n",
       "      <td>2018</td>\n",
       "      <td>7</td>\n",
       "      <td>20714.285714</td>\n",
       "      <td>fast</td>\n",
       "    </tr>\n",
       "    <tr>\n",
       "      <td>1</td>\n",
       "      <td>25500</td>\n",
       "      <td>2011</td>\n",
       "      <td>ford f-150</td>\n",
       "      <td>2</td>\n",
       "      <td>6</td>\n",
       "      <td>gas</td>\n",
       "      <td>88705</td>\n",
       "      <td>automatic</td>\n",
       "      <td>pickup</td>\n",
       "      <td>white</td>\n",
       "      <td>True</td>\n",
       "      <td>2018-10-19</td>\n",
       "      <td>50</td>\n",
       "      <td>4</td>\n",
       "      <td>10</td>\n",
       "      <td>2018</td>\n",
       "      <td>7</td>\n",
       "      <td>12672.142857</td>\n",
       "      <td>slow</td>\n",
       "    </tr>\n",
       "    <tr>\n",
       "      <td>2</td>\n",
       "      <td>5500</td>\n",
       "      <td>2013</td>\n",
       "      <td>hyundai sonata</td>\n",
       "      <td>4</td>\n",
       "      <td>4</td>\n",
       "      <td>gas</td>\n",
       "      <td>110000</td>\n",
       "      <td>automatic</td>\n",
       "      <td>sedan</td>\n",
       "      <td>red</td>\n",
       "      <td>False</td>\n",
       "      <td>2019-02-07</td>\n",
       "      <td>79</td>\n",
       "      <td>3</td>\n",
       "      <td>2</td>\n",
       "      <td>2019</td>\n",
       "      <td>6</td>\n",
       "      <td>18333.333333</td>\n",
       "      <td>extra_slow</td>\n",
       "    </tr>\n",
       "    <tr>\n",
       "      <td>3</td>\n",
       "      <td>1500</td>\n",
       "      <td>2003</td>\n",
       "      <td>ford f-150</td>\n",
       "      <td>1</td>\n",
       "      <td>8</td>\n",
       "      <td>gas</td>\n",
       "      <td>113000</td>\n",
       "      <td>automatic</td>\n",
       "      <td>pickup</td>\n",
       "      <td>unknown</td>\n",
       "      <td>False</td>\n",
       "      <td>2019-03-22</td>\n",
       "      <td>9</td>\n",
       "      <td>4</td>\n",
       "      <td>3</td>\n",
       "      <td>2019</td>\n",
       "      <td>16</td>\n",
       "      <td>7062.500000</td>\n",
       "      <td>fast</td>\n",
       "    </tr>\n",
       "    <tr>\n",
       "      <td>4</td>\n",
       "      <td>14900</td>\n",
       "      <td>2017</td>\n",
       "      <td>chrysler 200</td>\n",
       "      <td>3</td>\n",
       "      <td>4</td>\n",
       "      <td>gas</td>\n",
       "      <td>80903</td>\n",
       "      <td>automatic</td>\n",
       "      <td>sedan</td>\n",
       "      <td>black</td>\n",
       "      <td>False</td>\n",
       "      <td>2019-04-02</td>\n",
       "      <td>28</td>\n",
       "      <td>1</td>\n",
       "      <td>4</td>\n",
       "      <td>2019</td>\n",
       "      <td>2</td>\n",
       "      <td>40451.500000</td>\n",
       "      <td>normal</td>\n",
       "    </tr>\n",
       "  </tbody>\n",
       "</table>\n",
       "</div>"
      ],
      "text/plain": [
       "   price  model_year           model  condition  cylinders fuel  odometer  \\\n",
       "0   9400        2011          bmw x5          2          6  gas    145000   \n",
       "1  25500        2011      ford f-150          2          6  gas     88705   \n",
       "2   5500        2013  hyundai sonata          4          4  gas    110000   \n",
       "3   1500        2003      ford f-150          1          8  gas    113000   \n",
       "4  14900        2017    chrysler 200          3          4  gas     80903   \n",
       "\n",
       "  transmission    type paint_color  is_4wd date_posted  days_listed  week  \\\n",
       "0    automatic     SUV     unknown    True  2018-06-23           19     5   \n",
       "1    automatic  pickup       white    True  2018-10-19           50     4   \n",
       "2    automatic   sedan         red   False  2019-02-07           79     3   \n",
       "3    automatic  pickup     unknown   False  2019-03-22            9     4   \n",
       "4    automatic   sedan       black   False  2019-04-02           28     1   \n",
       "\n",
       "   month  year  vehicles_age   avg_mileage   sell_rate  \n",
       "0      6  2018             7  20714.285714        fast  \n",
       "1     10  2018             7  12672.142857        slow  \n",
       "2      2  2019             6  18333.333333  extra_slow  \n",
       "3      3  2019            16   7062.500000        fast  \n",
       "4      4  2019             2  40451.500000      normal  "
      ]
     },
     "execution_count": 67,
     "metadata": {},
     "output_type": "execute_result"
    }
   ],
   "source": [
    "filtered_vehicles.head()"
   ]
  },
  {
   "cell_type": "code",
   "execution_count": 68,
   "metadata": {},
   "outputs": [],
   "source": [
    "sell_rate_stat = filtered_vehicles.pivot_table(index='sell_rate', values=['price','type','vehicles_age','odometer','condition'])"
   ]
  },
  {
   "cell_type": "code",
   "execution_count": 69,
   "metadata": {},
   "outputs": [
    {
     "data": {
      "text/html": [
       "<div>\n",
       "<style scoped>\n",
       "    .dataframe tbody tr th:only-of-type {\n",
       "        vertical-align: middle;\n",
       "    }\n",
       "\n",
       "    .dataframe tbody tr th {\n",
       "        vertical-align: top;\n",
       "    }\n",
       "\n",
       "    .dataframe thead th {\n",
       "        text-align: right;\n",
       "    }\n",
       "</style>\n",
       "<table border=\"1\" class=\"dataframe\">\n",
       "  <thead>\n",
       "    <tr style=\"text-align: right;\">\n",
       "      <th></th>\n",
       "      <th>condition</th>\n",
       "      <th>odometer</th>\n",
       "      <th>price</th>\n",
       "      <th>vehicles_age</th>\n",
       "    </tr>\n",
       "    <tr>\n",
       "      <th>sell_rate</th>\n",
       "      <th></th>\n",
       "      <th></th>\n",
       "      <th></th>\n",
       "      <th></th>\n",
       "    </tr>\n",
       "  </thead>\n",
       "  <tbody>\n",
       "    <tr>\n",
       "      <td>extra_slow</td>\n",
       "      <td>2.650916</td>\n",
       "      <td>111425.273625</td>\n",
       "      <td>12267.952430</td>\n",
       "      <td>8.388367</td>\n",
       "    </tr>\n",
       "    <tr>\n",
       "      <td>fast</td>\n",
       "      <td>2.654570</td>\n",
       "      <td>110910.528994</td>\n",
       "      <td>12190.378771</td>\n",
       "      <td>8.310274</td>\n",
       "    </tr>\n",
       "    <tr>\n",
       "      <td>normal</td>\n",
       "      <td>2.642711</td>\n",
       "      <td>111362.517354</td>\n",
       "      <td>12270.136627</td>\n",
       "      <td>8.342099</td>\n",
       "    </tr>\n",
       "    <tr>\n",
       "      <td>slow</td>\n",
       "      <td>2.648282</td>\n",
       "      <td>111589.354849</td>\n",
       "      <td>12312.821773</td>\n",
       "      <td>8.317839</td>\n",
       "    </tr>\n",
       "  </tbody>\n",
       "</table>\n",
       "</div>"
      ],
      "text/plain": [
       "            condition       odometer         price  vehicles_age\n",
       "sell_rate                                                       \n",
       "extra_slow   2.650916  111425.273625  12267.952430      8.388367\n",
       "fast         2.654570  110910.528994  12190.378771      8.310274\n",
       "normal       2.642711  111362.517354  12270.136627      8.342099\n",
       "slow         2.648282  111589.354849  12312.821773      8.317839"
      ]
     },
     "execution_count": 69,
     "metadata": {},
     "output_type": "execute_result"
    }
   ],
   "source": [
    "sell_rate_stat"
   ]
  },
  {
   "cell_type": "markdown",
   "metadata": {},
   "source": [
    "Now we start to analyze the number of ads and the average price for each type of vehicle. \n",
    "We will plot a graph showing the dependence of the number of ads on the vehicle type. "
   ]
  },
  {
   "cell_type": "code",
   "execution_count": 70,
   "metadata": {},
   "outputs": [],
   "source": [
    "type_grouped = filtered_vehicles.groupby('type')['price'].mean()"
   ]
  },
  {
   "cell_type": "code",
   "execution_count": 71,
   "metadata": {},
   "outputs": [
    {
     "data": {
      "text/plain": [
       "type\n",
       "SUV            11248.844412\n",
       "bus            17135.666667\n",
       "convertible    14474.029213\n",
       "coupe          14454.141543\n",
       "hatchback       6914.175388\n",
       "mini-van        8263.073362\n",
       "offroad        14490.242857\n",
       "other          11040.996047\n",
       "pickup         16400.067804\n",
       "sedan           7010.185379\n",
       "truck          17018.726893\n",
       "van            10695.048232\n",
       "wagon           9203.327793\n",
       "Name: price, dtype: float64"
      ]
     },
     "execution_count": 71,
     "metadata": {},
     "output_type": "execute_result"
    }
   ],
   "source": [
    "type_grouped"
   ]
  },
  {
   "cell_type": "code",
   "execution_count": 72,
   "metadata": {},
   "outputs": [
    {
     "data": {
      "text/plain": [
       "SUV            12231\n",
       "sedan          12024\n",
       "truck          11966\n",
       "pickup          6740\n",
       "coupe           2282\n",
       "wagon           1504\n",
       "mini-van        1145\n",
       "hatchback       1032\n",
       "van              622\n",
       "convertible      445\n",
       "other            253\n",
       "offroad          210\n",
       "bus               24\n",
       "Name: type, dtype: int64"
      ]
     },
     "execution_count": 72,
     "metadata": {},
     "output_type": "execute_result"
    }
   ],
   "source": [
    "filtered_vehicles['type'].value_counts()"
   ]
  },
  {
   "cell_type": "code",
   "execution_count": 73,
   "metadata": {
    "scrolled": true
   },
   "outputs": [
    {
     "data": {
      "text/plain": [
       "<function matplotlib.pyplot.show(*args, **kw)>"
      ]
     },
     "execution_count": 73,
     "metadata": {},
     "output_type": "execute_result"
    },
    {
     "data": {
      "image/png": "[encoded data removed]",
      "text/plain": [
       "<Figure size 720x432 with 1 Axes>"
      ]
     },
     "metadata": {
      "needs_background": "light"
     },
     "output_type": "display_data"
    }
   ],
   "source": [
    "(filtered_vehicles\n",
    "    .pivot_table(index='type', values='price', aggfunc=['count','mean','median'])\n",
    "    .plot(grid=True, figsize=(10,6)))\n",
    "plt.xlabel('Type')\n",
    "plt.ylabel('Price')\n",
    "plt.legend(title='Dependence number of ads')\n",
    "plt.show"
   ]
  },
  {
   "cell_type": "code",
   "execution_count": 74,
   "metadata": {},
   "outputs": [
    {
     "data": {
      "image/png": "[encoded data removed]",
      "text/plain": [
       "<Figure size 432x288 with 1 Axes>"
      ]
     },
     "metadata": {
      "needs_background": "light"
     },
     "output_type": "display_data"
    }
   ],
   "source": [
    "filtered_vehicles['type'].value_counts().plot(kind='bar', color='green', title=('Dependence number of ads on type'))\n",
    "plt.show()"
   ]
  },
  {
   "cell_type": "markdown",
   "metadata": {},
   "source": [
    "We can see that the most popular vehicles type is SUV and Sedan. So we'll take these two for further investigation. Now lets see the dependence of transmisiion and the price. "
   ]
  },
  {
   "cell_type": "code",
   "execution_count": 75,
   "metadata": {
    "scrolled": true
   },
   "outputs": [
    {
     "data": {
      "image/png": "[encoded data removed]",
      "text/plain": [
       "<Figure size 504x288 with 1 Axes>"
      ]
     },
     "metadata": {
      "needs_background": "light"
     },
     "output_type": "display_data"
    }
   ],
   "source": [
    "(filtered_vehicles\n",
    "    .query('type == [\"SUV\"]')\n",
    "    .pivot_table(index=['type','transmission'], values='price')\n",
    "    .plot(kind='bar',grid=True, figsize=(7,4)))\n",
    "plt.show()"
   ]
  },
  {
   "cell_type": "code",
   "execution_count": 76,
   "metadata": {},
   "outputs": [
    {
     "data": {
      "image/png": "[encoded data removed]",
      "text/plain": [
       "<Figure size 504x288 with 1 Axes>"
      ]
     },
     "metadata": {
      "needs_background": "light"
     },
     "output_type": "display_data"
    }
   ],
   "source": [
    "(filtered_vehicles\n",
    "    .query('type == [\"sedan\"]')\n",
    "    .pivot_table(index=['type','transmission'], values='price')\n",
    "    .plot(kind='bar', color = 'green', grid=True, figsize=(7,4)))\n",
    "plt.show()"
   ]
  },
  {
   "cell_type": "code",
   "execution_count": 77,
   "metadata": {},
   "outputs": [],
   "source": [
    "filtered_by_color = filtered_vehicles.groupby('type')['paint_color'].value_counts()\n",
    "filtered_by_color = filtered_vehicles.groupby('type')['paint_color'].value_counts().loc[lambda x : x>50].to_frame('num_of_ads').reset_index(drop=False)"
   ]
  },
  {
   "cell_type": "code",
   "execution_count": 78,
   "metadata": {},
   "outputs": [],
   "source": [
    "price_by_color = filtered_vehicles.pivot_table(index=['type','paint_color'], values = ['price']).reset_index(drop=False)"
   ]
  },
  {
   "cell_type": "code",
   "execution_count": 79,
   "metadata": {},
   "outputs": [
    {
     "data": {
      "text/html": [
       "<div>\n",
       "<style scoped>\n",
       "    .dataframe tbody tr th:only-of-type {\n",
       "        vertical-align: middle;\n",
       "    }\n",
       "\n",
       "    .dataframe tbody tr th {\n",
       "        vertical-align: top;\n",
       "    }\n",
       "\n",
       "    .dataframe thead th {\n",
       "        text-align: right;\n",
       "    }\n",
       "</style>\n",
       "<table border=\"1\" class=\"dataframe\">\n",
       "  <thead>\n",
       "    <tr style=\"text-align: right;\">\n",
       "      <th></th>\n",
       "      <th>type</th>\n",
       "      <th>paint_color</th>\n",
       "      <th>num_of_ads</th>\n",
       "      <th>price</th>\n",
       "    </tr>\n",
       "  </thead>\n",
       "  <tbody>\n",
       "    <tr>\n",
       "      <td>0</td>\n",
       "      <td>SUV</td>\n",
       "      <td>unknown</td>\n",
       "      <td>2211</td>\n",
       "      <td>11321.788331</td>\n",
       "    </tr>\n",
       "    <tr>\n",
       "      <td>1</td>\n",
       "      <td>SUV</td>\n",
       "      <td>black</td>\n",
       "      <td>2188</td>\n",
       "      <td>13412.207495</td>\n",
       "    </tr>\n",
       "    <tr>\n",
       "      <td>2</td>\n",
       "      <td>SUV</td>\n",
       "      <td>white</td>\n",
       "      <td>1937</td>\n",
       "      <td>12435.612803</td>\n",
       "    </tr>\n",
       "    <tr>\n",
       "      <td>3</td>\n",
       "      <td>SUV</td>\n",
       "      <td>silver</td>\n",
       "      <td>1539</td>\n",
       "      <td>10242.510071</td>\n",
       "    </tr>\n",
       "    <tr>\n",
       "      <td>4</td>\n",
       "      <td>SUV</td>\n",
       "      <td>grey</td>\n",
       "      <td>1176</td>\n",
       "      <td>11067.455782</td>\n",
       "    </tr>\n",
       "    <tr>\n",
       "      <td>5</td>\n",
       "      <td>SUV</td>\n",
       "      <td>blue</td>\n",
       "      <td>1041</td>\n",
       "      <td>9043.520653</td>\n",
       "    </tr>\n",
       "    <tr>\n",
       "      <td>6</td>\n",
       "      <td>SUV</td>\n",
       "      <td>red</td>\n",
       "      <td>895</td>\n",
       "      <td>10252.099441</td>\n",
       "    </tr>\n",
       "    <tr>\n",
       "      <td>7</td>\n",
       "      <td>SUV</td>\n",
       "      <td>green</td>\n",
       "      <td>418</td>\n",
       "      <td>8265.801435</td>\n",
       "    </tr>\n",
       "    <tr>\n",
       "      <td>8</td>\n",
       "      <td>SUV</td>\n",
       "      <td>brown</td>\n",
       "      <td>355</td>\n",
       "      <td>8808.588732</td>\n",
       "    </tr>\n",
       "    <tr>\n",
       "      <td>9</td>\n",
       "      <td>SUV</td>\n",
       "      <td>custom</td>\n",
       "      <td>301</td>\n",
       "      <td>9422.880399</td>\n",
       "    </tr>\n",
       "    <tr>\n",
       "      <td>10</td>\n",
       "      <td>SUV</td>\n",
       "      <td>orange</td>\n",
       "      <td>84</td>\n",
       "      <td>15939.630952</td>\n",
       "    </tr>\n",
       "  </tbody>\n",
       "</table>\n",
       "</div>"
      ],
      "text/plain": [
       "   type paint_color  num_of_ads         price\n",
       "0   SUV     unknown        2211  11321.788331\n",
       "1   SUV       black        2188  13412.207495\n",
       "2   SUV       white        1937  12435.612803\n",
       "3   SUV      silver        1539  10242.510071\n",
       "4   SUV        grey        1176  11067.455782\n",
       "5   SUV        blue        1041   9043.520653\n",
       "6   SUV         red         895  10252.099441\n",
       "7   SUV       green         418   8265.801435\n",
       "8   SUV       brown         355   8808.588732\n",
       "9   SUV      custom         301   9422.880399\n",
       "10  SUV      orange          84  15939.630952"
      ]
     },
     "execution_count": 79,
     "metadata": {},
     "output_type": "execute_result"
    }
   ],
   "source": [
    "color_price_full = pd.merge(filtered_by_color, price_by_color, on=[\"type\", \"paint_color\"])\n",
    "color_price_full_sample_SUV = color_price_full[color_price_full['type'].isin(['SUV'])].reset_index(drop=True)\n",
    "color_price_full_sample_SUV.head(20)"
   ]
  },
  {
   "cell_type": "code",
   "execution_count": 80,
   "metadata": {},
   "outputs": [
    {
     "data": {
      "image/png": "[encoded data removed]",
      "text/plain": [
       "<Figure size 432x432 with 1 Axes>"
      ]
     },
     "metadata": {
      "needs_background": "light"
     },
     "output_type": "display_data"
    }
   ],
   "source": [
    "color_price_full_sample_SUV.boxplot(by = 'paint_color', column = ['price'], grid=True, figsize=(6,6))\n",
    "plt.show()"
   ]
  },
  {
   "cell_type": "code",
   "execution_count": 81,
   "metadata": {},
   "outputs": [
    {
     "data": {
      "text/html": [
       "<div>\n",
       "<style scoped>\n",
       "    .dataframe tbody tr th:only-of-type {\n",
       "        vertical-align: middle;\n",
       "    }\n",
       "\n",
       "    .dataframe tbody tr th {\n",
       "        vertical-align: top;\n",
       "    }\n",
       "\n",
       "    .dataframe thead th {\n",
       "        text-align: right;\n",
       "    }\n",
       "</style>\n",
       "<table border=\"1\" class=\"dataframe\">\n",
       "  <thead>\n",
       "    <tr style=\"text-align: right;\">\n",
       "      <th></th>\n",
       "      <th>type</th>\n",
       "      <th>paint_color</th>\n",
       "      <th>num_of_ads</th>\n",
       "      <th>price</th>\n",
       "    </tr>\n",
       "  </thead>\n",
       "  <tbody>\n",
       "    <tr>\n",
       "      <td>0</td>\n",
       "      <td>sedan</td>\n",
       "      <td>unknown</td>\n",
       "      <td>2165</td>\n",
       "      <td>6969.764434</td>\n",
       "    </tr>\n",
       "    <tr>\n",
       "      <td>1</td>\n",
       "      <td>sedan</td>\n",
       "      <td>silver</td>\n",
       "      <td>2030</td>\n",
       "      <td>6859.107389</td>\n",
       "    </tr>\n",
       "    <tr>\n",
       "      <td>2</td>\n",
       "      <td>sedan</td>\n",
       "      <td>black</td>\n",
       "      <td>1761</td>\n",
       "      <td>7575.081204</td>\n",
       "    </tr>\n",
       "    <tr>\n",
       "      <td>3</td>\n",
       "      <td>sedan</td>\n",
       "      <td>grey</td>\n",
       "      <td>1609</td>\n",
       "      <td>7123.095712</td>\n",
       "    </tr>\n",
       "    <tr>\n",
       "      <td>4</td>\n",
       "      <td>sedan</td>\n",
       "      <td>white</td>\n",
       "      <td>1490</td>\n",
       "      <td>7506.136242</td>\n",
       "    </tr>\n",
       "    <tr>\n",
       "      <td>5</td>\n",
       "      <td>sedan</td>\n",
       "      <td>blue</td>\n",
       "      <td>1223</td>\n",
       "      <td>6570.760425</td>\n",
       "    </tr>\n",
       "    <tr>\n",
       "      <td>6</td>\n",
       "      <td>sedan</td>\n",
       "      <td>red</td>\n",
       "      <td>939</td>\n",
       "      <td>6981.947817</td>\n",
       "    </tr>\n",
       "    <tr>\n",
       "      <td>7</td>\n",
       "      <td>sedan</td>\n",
       "      <td>custom</td>\n",
       "      <td>301</td>\n",
       "      <td>6665.299003</td>\n",
       "    </tr>\n",
       "    <tr>\n",
       "      <td>8</td>\n",
       "      <td>sedan</td>\n",
       "      <td>brown</td>\n",
       "      <td>252</td>\n",
       "      <td>5281.051587</td>\n",
       "    </tr>\n",
       "    <tr>\n",
       "      <td>9</td>\n",
       "      <td>sedan</td>\n",
       "      <td>green</td>\n",
       "      <td>199</td>\n",
       "      <td>4813.587940</td>\n",
       "    </tr>\n",
       "  </tbody>\n",
       "</table>\n",
       "</div>"
      ],
      "text/plain": [
       "    type paint_color  num_of_ads        price\n",
       "0  sedan     unknown        2165  6969.764434\n",
       "1  sedan      silver        2030  6859.107389\n",
       "2  sedan       black        1761  7575.081204\n",
       "3  sedan        grey        1609  7123.095712\n",
       "4  sedan       white        1490  7506.136242\n",
       "5  sedan        blue        1223  6570.760425\n",
       "6  sedan         red         939  6981.947817\n",
       "7  sedan      custom         301  6665.299003\n",
       "8  sedan       brown         252  5281.051587\n",
       "9  sedan       green         199  4813.587940"
      ]
     },
     "execution_count": 81,
     "metadata": {},
     "output_type": "execute_result"
    }
   ],
   "source": [
    "color_price_full = pd.merge(filtered_by_color, price_by_color, on=[\"type\", \"paint_color\"])\n",
    "color_price_full_sample_sedan = color_price_full[color_price_full['type'].isin(['sedan'])].reset_index(drop=True)\n",
    "color_price_full_sample_sedan.head(20)"
   ]
  },
  {
   "cell_type": "code",
   "execution_count": 82,
   "metadata": {},
   "outputs": [
    {
     "data": {
      "image/png": "[encoded data removed]",
      "text/plain": [
       "<Figure size 432x432 with 1 Axes>"
      ]
     },
     "metadata": {
      "needs_background": "light"
     },
     "output_type": "display_data"
    }
   ],
   "source": [
    "color_price_full_sample_sedan.boxplot(by = 'paint_color', column = ['price'], grid=True, figsize=(6,6))\n",
    "plt.show()"
   ]
  },
  {
   "cell_type": "markdown",
   "metadata": {},
   "source": [
    "I've made the boxplot showing us that the most expensive cars for SUV type are black and white, and among sedans the most expensive are black and grey cars, the most cheap are green and brown for both types. To do so I've grouped the price, the most popular types ('SUV and sedan) and the colors, also I ve took only colors that had more than 50 ads to make a proper analysis. Now I only have to make a scatter matrix and correlation to see the dependence of price connected to other parameters (age, mileage, condition)"
   ]
  },
  {
   "cell_type": "code",
   "execution_count": 83,
   "metadata": {},
   "outputs": [
    {
     "data": {
      "image/png": "[encoded data removed]",
      "text/plain": [
       "<Figure size 432x288 with 1 Axes>"
      ]
     },
     "metadata": {
      "needs_background": "light"
     },
     "output_type": "display_data"
    },
    {
     "data": {
      "image/png": "[encoded data removed]",
      "text/plain": [
       "<Figure size 432x288 with 1 Axes>"
      ]
     },
     "metadata": {
      "needs_background": "light"
     },
     "output_type": "display_data"
    },
    {
     "data": {
      "image/png": "[encoded data removed]",
      "text/plain": [
       "<Figure size 432x288 with 1 Axes>"
      ]
     },
     "metadata": {
      "needs_background": "light"
     },
     "output_type": "display_data"
    }
   ],
   "source": [
    "sedan_scatter = filtered_vehicles.query('type == [\"sedan\"]')\n",
    "for column in ['condition', 'odometer', 'vehicles_age']:\n",
    "    sedan_scatter.plot(x=column, y='price', kind='scatter', grid=True) "
   ]
  },
  {
   "cell_type": "code",
   "execution_count": 84,
   "metadata": {},
   "outputs": [
    {
     "data": {
      "image/png": "[encoded data removed]",
      "text/plain": [
       "<Figure size 432x288 with 1 Axes>"
      ]
     },
     "metadata": {
      "needs_background": "light"
     },
     "output_type": "display_data"
    },
    {
     "data": {
      "image/png": "[encoded data removed]",
      "text/plain": [
       "<Figure size 432x288 with 1 Axes>"
      ]
     },
     "metadata": {
      "needs_background": "light"
     },
     "output_type": "display_data"
    },
    {
     "data": {
      "image/png": "[encoded data removed]",
      "text/plain": [
       "<Figure size 432x288 with 1 Axes>"
      ]
     },
     "metadata": {
      "needs_background": "light"
     },
     "output_type": "display_data"
    }
   ],
   "source": [
    "suv_scatter = filtered_vehicles.query('type == [\"SUV\"]')\n",
    "for column in ['condition', 'odometer', 'vehicles_age']:\n",
    "    suv_scatter.plot(x=column, y='price', kind='scatter', grid=True, color='orange') "
   ]
  },
  {
   "cell_type": "code",
   "execution_count": 85,
   "metadata": {},
   "outputs": [
    {
     "data": {
      "text/plain": [
       "-0.539681053446206"
      ]
     },
     "execution_count": 85,
     "metadata": {},
     "output_type": "execute_result"
    }
   ],
   "source": [
    "sedan_scatter['price'].corr(sedan_scatter['vehicles_age'])"
   ]
  },
  {
   "cell_type": "code",
   "execution_count": 86,
   "metadata": {},
   "outputs": [
    {
     "data": {
      "text/plain": [
       "-0.4984946331547878"
      ]
     },
     "execution_count": 86,
     "metadata": {},
     "output_type": "execute_result"
    }
   ],
   "source": [
    "sedan_scatter['price'].corr(sedan_scatter['odometer'])"
   ]
  },
  {
   "cell_type": "code",
   "execution_count": 87,
   "metadata": {},
   "outputs": [
    {
     "data": {
      "text/plain": [
       "0.28863751778431757"
      ]
     },
     "execution_count": 87,
     "metadata": {},
     "output_type": "execute_result"
    }
   ],
   "source": [
    "sedan_scatter['price'].corr(sedan_scatter['condition'])"
   ]
  },
  {
   "cell_type": "code",
   "execution_count": 88,
   "metadata": {},
   "outputs": [
    {
     "data": {
      "text/plain": [
       "-0.535019355331815"
      ]
     },
     "execution_count": 88,
     "metadata": {},
     "output_type": "execute_result"
    }
   ],
   "source": [
    "suv_scatter['price'].corr(suv_scatter['vehicles_age'])"
   ]
  },
  {
   "cell_type": "code",
   "execution_count": 89,
   "metadata": {},
   "outputs": [
    {
     "data": {
      "text/plain": [
       "-0.49662852065917756"
      ]
     },
     "execution_count": 89,
     "metadata": {},
     "output_type": "execute_result"
    }
   ],
   "source": [
    "suv_scatter['price'].corr(suv_scatter['odometer'])"
   ]
  },
  {
   "cell_type": "code",
   "execution_count": 90,
   "metadata": {},
   "outputs": [
    {
     "data": {
      "text/plain": [
       "0.25954733760282783"
      ]
     },
     "execution_count": 90,
     "metadata": {},
     "output_type": "execute_result"
    }
   ],
   "source": [
    "suv_scatter['price'].corr(suv_scatter['condition'])"
   ]
  },
  {
   "cell_type": "code",
   "execution_count": 91,
   "metadata": {},
   "outputs": [
    {
     "data": {
      "text/html": [
       "<div>\n",
       "<style scoped>\n",
       "    .dataframe tbody tr th:only-of-type {\n",
       "        vertical-align: middle;\n",
       "    }\n",
       "\n",
       "    .dataframe tbody tr th {\n",
       "        vertical-align: top;\n",
       "    }\n",
       "\n",
       "    .dataframe thead th {\n",
       "        text-align: right;\n",
       "    }\n",
       "</style>\n",
       "<table border=\"1\" class=\"dataframe\">\n",
       "  <thead>\n",
       "    <tr style=\"text-align: right;\">\n",
       "      <th></th>\n",
       "      <th>price</th>\n",
       "      <th>condition</th>\n",
       "      <th>odometer</th>\n",
       "      <th>vehicles_age</th>\n",
       "    </tr>\n",
       "  </thead>\n",
       "  <tbody>\n",
       "    <tr>\n",
       "      <td>price</td>\n",
       "      <td>1.000000</td>\n",
       "      <td>0.288638</td>\n",
       "      <td>-0.498495</td>\n",
       "      <td>-0.539681</td>\n",
       "    </tr>\n",
       "    <tr>\n",
       "      <td>condition</td>\n",
       "      <td>0.288638</td>\n",
       "      <td>1.000000</td>\n",
       "      <td>-0.295288</td>\n",
       "      <td>-0.279557</td>\n",
       "    </tr>\n",
       "    <tr>\n",
       "      <td>odometer</td>\n",
       "      <td>-0.498495</td>\n",
       "      <td>-0.295288</td>\n",
       "      <td>1.000000</td>\n",
       "      <td>0.483413</td>\n",
       "    </tr>\n",
       "    <tr>\n",
       "      <td>vehicles_age</td>\n",
       "      <td>-0.539681</td>\n",
       "      <td>-0.279557</td>\n",
       "      <td>0.483413</td>\n",
       "      <td>1.000000</td>\n",
       "    </tr>\n",
       "  </tbody>\n",
       "</table>\n",
       "</div>"
      ],
      "text/plain": [
       "                 price  condition  odometer  vehicles_age\n",
       "price         1.000000   0.288638 -0.498495     -0.539681\n",
       "condition     0.288638   1.000000 -0.295288     -0.279557\n",
       "odometer     -0.498495  -0.295288  1.000000      0.483413\n",
       "vehicles_age -0.539681  -0.279557  0.483413      1.000000"
      ]
     },
     "execution_count": 91,
     "metadata": {},
     "output_type": "execute_result"
    },
    {
     "data": {
      "image/png": "[encoded data removed]",
      "text/plain": [
       "<Figure size 648x648 with 16 Axes>"
      ]
     },
     "metadata": {
      "needs_background": "light"
     },
     "output_type": "display_data"
    }
   ],
   "source": [
    "sedan_matrice = pd.plotting.scatter_matrix(sedan_scatter[['price','condition','odometer','vehicles_age']], figsize=(9, 9)) \n",
    "sedan_scatter[['price','condition','odometer','vehicles_age']].corr()"
   ]
  },
  {
   "cell_type": "code",
   "execution_count": 92,
   "metadata": {},
   "outputs": [
    {
     "data": {
      "text/html": [
       "<div>\n",
       "<style scoped>\n",
       "    .dataframe tbody tr th:only-of-type {\n",
       "        vertical-align: middle;\n",
       "    }\n",
       "\n",
       "    .dataframe tbody tr th {\n",
       "        vertical-align: top;\n",
       "    }\n",
       "\n",
       "    .dataframe thead th {\n",
       "        text-align: right;\n",
       "    }\n",
       "</style>\n",
       "<table border=\"1\" class=\"dataframe\">\n",
       "  <thead>\n",
       "    <tr style=\"text-align: right;\">\n",
       "      <th></th>\n",
       "      <th>price</th>\n",
       "      <th>condition</th>\n",
       "      <th>odometer</th>\n",
       "      <th>vehicles_age</th>\n",
       "    </tr>\n",
       "  </thead>\n",
       "  <tbody>\n",
       "    <tr>\n",
       "      <td>price</td>\n",
       "      <td>1.000000</td>\n",
       "      <td>0.259547</td>\n",
       "      <td>-0.496629</td>\n",
       "      <td>-0.535019</td>\n",
       "    </tr>\n",
       "    <tr>\n",
       "      <td>condition</td>\n",
       "      <td>0.259547</td>\n",
       "      <td>1.000000</td>\n",
       "      <td>-0.303560</td>\n",
       "      <td>-0.309094</td>\n",
       "    </tr>\n",
       "    <tr>\n",
       "      <td>odometer</td>\n",
       "      <td>-0.496629</td>\n",
       "      <td>-0.303560</td>\n",
       "      <td>1.000000</td>\n",
       "      <td>0.516853</td>\n",
       "    </tr>\n",
       "    <tr>\n",
       "      <td>vehicles_age</td>\n",
       "      <td>-0.535019</td>\n",
       "      <td>-0.309094</td>\n",
       "      <td>0.516853</td>\n",
       "      <td>1.000000</td>\n",
       "    </tr>\n",
       "  </tbody>\n",
       "</table>\n",
       "</div>"
      ],
      "text/plain": [
       "                 price  condition  odometer  vehicles_age\n",
       "price         1.000000   0.259547 -0.496629     -0.535019\n",
       "condition     0.259547   1.000000 -0.303560     -0.309094\n",
       "odometer     -0.496629  -0.303560  1.000000      0.516853\n",
       "vehicles_age -0.535019  -0.309094  0.516853      1.000000"
      ]
     },
     "execution_count": 92,
     "metadata": {},
     "output_type": "execute_result"
    },
    {
     "data": {
      "image/png": "[encoded data removed]",
      "text/plain": [
       "<Figure size 648x648 with 16 Axes>"
      ]
     },
     "metadata": {
      "needs_background": "light"
     },
     "output_type": "display_data"
    }
   ],
   "source": [
    "suv_matrice = pd.plotting.scatter_matrix(suv_scatter[['price','condition','odometer','vehicles_age']], color='orange', figsize=(9, 9)) \n",
    "suv_scatter[['price','condition','odometer','vehicles_age']].corr()"
   ]
  },
  {
   "cell_type": "markdown",
   "metadata": {},
   "source": [
    "I used a correlation method and scatterplot to see the dependence of price and age of the vehicles, mileage and condition. We notice that the more is vehicles_age and the more the mileage the less is the price, the better condition the more is the price. The most popular vehicles sold are SUV, sedan and truck. The mean lifetime of the ad is 39,5 days and the median is 33. The most expensive SUV is with manual transmission and the most expensive sedan is with avtomatic transmission."
   ]
  },
  {
   "cell_type": "markdown",
   "metadata": {},
   "source": [
    "I ve changed the analysis to SUV and Sedan ceperately. We see that for the type Sedan the dependence of price from the condition is more that for the SUV type, but the dependence of price from age and mileage are the same for both types."
   ]
  },
  {
   "cell_type": "markdown",
   "metadata": {},
   "source": [
    "## Overall conclusion"
   ]
  },
  {
   "cell_type": "markdown",
   "metadata": {},
   "source": [
    "We had a data with free ads and we made a researche that showed us the most popular vehicles types that are sold. (SUV, Sedan, Truck) We also figured out that the avarege time of the ad on the platform is about 39 days. The best sellers are with black white and grey colors ( nothing surprising there). And also we see the correlation between the age, mileage and condition and the price of the vehicles. We can say that the main conclusion here is that the price depends mostly on the condition and the age of the vehicle. "
   ]
  },
  {
   "cell_type": "markdown",
   "metadata": {},
   "source": [
    "# Project completion checklist\n",
    "\n",
    "Mark the completed tasks with 'x'. Then press Shift+Enter."
   ]
  },
  {
   "cell_type": "markdown",
   "metadata": {},
   "source": [
    "- [x]  file opened\n",
    "- [ ]  files explored (first rows printed, info() method)\n",
    "- [ ]  missing values determined\n",
    "- [ ]  missing values filled in\n",
    "- [ ]  clarification of the discovered missing values provided\n",
    "- [ ]  data types converted\n",
    "- [ ]  explanation of which columns had the data types changed and why\n",
    "- [ ]  calculated and added to the table: day of the week, month, and year the ad was placed\n",
    "- [ ]  calculated and added to the table: the vehicle's age (in years) when the ad was placed\n",
    "- [ ]  calculated and added to the table: the vehicle's average mileage per year\n",
    "- [ ]  the following parameters investigated: price, vehicle's age when the ad was placed, mileage, number of cylinders, and condition\n",
    "- [ ]  histograms for each parameter created\n",
    "- [ ]  task completed: \"Determine the upper limits of outliers, remove the outliers and store them in a separate DataFrame, and continue your work with the filtered data.\"\n",
    "- [ ]  task completed: \"Use the filtered data to plot new histograms. Compare them with the earlier histograms (the ones that included outliers). Draw conclusions for each histogram.\"\n",
    "- [ ]  task completed: \"Study how many days advertisements were displayed (days_listed). Plot a histogram. Calculate the mean and median. Describe the typical lifetime of an ad. Determine when ads were removed quickly, and when they were listed for an abnormally long time.  \"\n",
    "- [ ]  task completed: \"Analyze the number of ads and the average price for each type of vehicle. Plot a graph showing the dependence of the number of ads on the vehicle type. Select the two types with the greatest number of ads. \"\n",
    "- [ ]  task completed: \"What factors impact the price most? Take each of the popular types you detected at the previous stage and study whether the price depends on age, mileage, condition, transmission type, and color. For categorical variables (transmission type and color), plot box-and-whisker charts, and create scatterplots for the rest. When analyzing categorical variables, note that the categories must have at least 50 ads; otherwise, their parameters won't be valid for analysis.  \"\n",
    "- [ ]  each stage has a conclusion\n",
    "- [ ]  overall conclusion drawn"
   ]
  }
 ],
 "metadata": {
  "ExecuteTimeLog": [
   {
    "duration": 363,
    "start_time": "2021-10-24T09:06:18.115Z"
   },
   {
    "duration": 721,
    "start_time": "2021-10-24T09:06:28.477Z"
   },
   {
    "duration": 100,
    "start_time": "2021-10-24T09:06:30.092Z"
   },
   {
    "duration": 20,
    "start_time": "2021-10-24T09:06:47.648Z"
   },
   {
    "duration": 111,
    "start_time": "2021-10-24T09:06:59.361Z"
   },
   {
    "duration": 13,
    "start_time": "2021-10-24T09:07:00.455Z"
   },
   {
    "duration": 110,
    "start_time": "2021-10-24T09:07:15.251Z"
   },
   {
    "duration": 22,
    "start_time": "2021-10-24T09:07:16.107Z"
   },
   {
    "duration": 55,
    "start_time": "2021-10-24T09:07:30.443Z"
   },
   {
    "duration": 41,
    "start_time": "2021-10-24T09:07:56.277Z"
   },
   {
    "duration": 695,
    "start_time": "2021-10-24T09:15:48.354Z"
   },
   {
    "duration": 114,
    "start_time": "2021-10-24T09:15:49.052Z"
   },
   {
    "duration": 27,
    "start_time": "2021-10-24T09:15:49.169Z"
   },
   {
    "duration": 75,
    "start_time": "2021-10-24T09:15:49.199Z"
   },
   {
    "duration": 19,
    "start_time": "2021-10-24T09:15:49.277Z"
   },
   {
    "duration": 26,
    "start_time": "2021-10-24T09:15:49.298Z"
   },
   {
    "duration": 832,
    "start_time": "2021-10-24T17:23:30.359Z"
   },
   {
    "duration": 119,
    "start_time": "2021-10-24T17:23:31.195Z"
   },
   {
    "duration": 27,
    "start_time": "2021-10-24T17:23:31.650Z"
   },
   {
    "duration": 98,
    "start_time": "2021-10-24T17:23:33.462Z"
   },
   {
    "duration": 97,
    "start_time": "2021-10-24T17:23:52.168Z"
   },
   {
    "duration": 97,
    "start_time": "2021-10-24T17:24:04.444Z"
   },
   {
    "duration": 23,
    "start_time": "2021-10-24T17:24:18.613Z"
   },
   {
    "duration": 25,
    "start_time": "2021-10-24T17:37:07.036Z"
   },
   {
    "duration": 20,
    "start_time": "2021-10-24T17:37:53.507Z"
   },
   {
    "duration": 369,
    "start_time": "2021-10-24T17:38:05.788Z"
   },
   {
    "duration": 8,
    "start_time": "2021-10-24T17:38:16.615Z"
   },
   {
    "duration": 290,
    "start_time": "2021-10-24T17:41:12.108Z"
   },
   {
    "duration": 7,
    "start_time": "2021-10-24T17:44:44.128Z"
   },
   {
    "duration": 13,
    "start_time": "2021-10-24T17:49:31.558Z"
   },
   {
    "duration": 8,
    "start_time": "2021-10-24T17:49:36.709Z"
   },
   {
    "duration": 10,
    "start_time": "2021-10-24T17:50:06.573Z"
   },
   {
    "duration": 7,
    "start_time": "2021-10-24T17:50:28.863Z"
   },
   {
    "duration": 328,
    "start_time": "2021-10-25T05:44:27.380Z"
   },
   {
    "duration": 589,
    "start_time": "2021-10-25T05:44:31.271Z"
   },
   {
    "duration": 85,
    "start_time": "2021-10-25T05:44:32.673Z"
   },
   {
    "duration": 494,
    "start_time": "2021-10-25T05:44:33.924Z"
   },
   {
    "duration": 10,
    "start_time": "2021-10-25T05:45:27.246Z"
   },
   {
    "duration": 5,
    "start_time": "2021-10-25T05:56:49.456Z"
   },
   {
    "duration": 19,
    "start_time": "2021-10-25T05:58:14.311Z"
   },
   {
    "duration": 23,
    "start_time": "2021-10-25T05:58:49.652Z"
   },
   {
    "duration": 19,
    "start_time": "2021-10-25T05:59:10.176Z"
   },
   {
    "duration": 7,
    "start_time": "2021-10-25T06:00:45.467Z"
   },
   {
    "duration": 10,
    "start_time": "2021-10-25T06:10:50.659Z"
   },
   {
    "duration": 606,
    "start_time": "2021-10-25T06:14:17.881Z"
   },
   {
    "duration": 248,
    "start_time": "2021-10-25T06:15:40.805Z"
   },
   {
    "duration": 231,
    "start_time": "2021-10-25T06:15:56.050Z"
   },
   {
    "duration": 7,
    "start_time": "2021-10-25T06:16:14.237Z"
   },
   {
    "duration": 15,
    "start_time": "2021-10-25T06:16:59.477Z"
   },
   {
    "duration": 16,
    "start_time": "2021-10-25T06:17:06.175Z"
   },
   {
    "duration": 543,
    "start_time": "2021-10-25T08:40:11.406Z"
   },
   {
    "duration": 83,
    "start_time": "2021-10-25T08:40:11.951Z"
   },
   {
    "duration": 19,
    "start_time": "2021-10-25T08:40:12.036Z"
   },
   {
    "duration": 22,
    "start_time": "2021-10-25T08:40:12.063Z"
   },
   {
    "duration": 6,
    "start_time": "2021-10-25T08:40:12.087Z"
   },
   {
    "duration": 6,
    "start_time": "2021-10-25T08:40:12.094Z"
   },
   {
    "duration": 8,
    "start_time": "2021-10-25T08:40:12.102Z"
   },
   {
    "duration": 5,
    "start_time": "2021-10-25T08:40:12.113Z"
   },
   {
    "duration": 7,
    "start_time": "2021-10-25T08:40:12.120Z"
   },
   {
    "duration": 76,
    "start_time": "2021-10-25T08:40:12.129Z"
   },
   {
    "duration": 12,
    "start_time": "2021-10-25T08:40:12.207Z"
   },
   {
    "duration": 7,
    "start_time": "2021-10-25T08:40:12.221Z"
   },
   {
    "duration": 34,
    "start_time": "2021-10-25T08:40:12.230Z"
   },
   {
    "duration": 9,
    "start_time": "2021-10-25T08:40:12.266Z"
   },
   {
    "duration": 9,
    "start_time": "2021-10-25T08:40:12.277Z"
   },
   {
    "duration": 12,
    "start_time": "2021-10-25T08:40:12.288Z"
   },
   {
    "duration": 14,
    "start_time": "2021-10-25T08:40:12.302Z"
   },
   {
    "duration": 90,
    "start_time": "2021-10-25T08:40:12.317Z"
   },
   {
    "duration": -109,
    "start_time": "2021-10-25T08:40:12.518Z"
   },
   {
    "duration": 3,
    "start_time": "2021-10-25T08:40:22.798Z"
   },
   {
    "duration": 83,
    "start_time": "2021-10-25T08:40:23.310Z"
   },
   {
    "duration": 20,
    "start_time": "2021-10-25T08:40:24.108Z"
   },
   {
    "duration": 20,
    "start_time": "2021-10-25T08:40:26.249Z"
   },
   {
    "duration": 7,
    "start_time": "2021-10-25T08:40:29.417Z"
   },
   {
    "duration": 6,
    "start_time": "2021-10-25T08:40:36.659Z"
   },
   {
    "duration": 7,
    "start_time": "2021-10-25T08:40:37.336Z"
   },
   {
    "duration": 8,
    "start_time": "2021-10-25T08:40:38.914Z"
   },
   {
    "duration": 6,
    "start_time": "2021-10-25T08:40:39.851Z"
   },
   {
    "duration": 5,
    "start_time": "2021-10-25T08:40:40.570Z"
   },
   {
    "duration": 38,
    "start_time": "2021-10-25T08:40:41.260Z"
   },
   {
    "duration": 13,
    "start_time": "2021-10-25T08:40:41.873Z"
   },
   {
    "duration": 6,
    "start_time": "2021-10-25T08:40:43.307Z"
   },
   {
    "duration": 10,
    "start_time": "2021-10-25T08:40:44.032Z"
   },
   {
    "duration": 11,
    "start_time": "2021-10-25T08:40:44.634Z"
   },
   {
    "duration": 11,
    "start_time": "2021-10-25T08:40:45.487Z"
   },
   {
    "duration": 15,
    "start_time": "2021-10-25T08:40:50.048Z"
   },
   {
    "duration": 17,
    "start_time": "2021-10-25T08:40:51.227Z"
   },
   {
    "duration": 303,
    "start_time": "2021-10-25T08:41:17.880Z"
   },
   {
    "duration": 249,
    "start_time": "2021-10-25T08:41:30.402Z"
   },
   {
    "duration": 9,
    "start_time": "2021-10-25T08:41:48.139Z"
   },
   {
    "duration": 8,
    "start_time": "2021-10-25T08:42:02.577Z"
   },
   {
    "duration": 12,
    "start_time": "2021-10-25T08:42:14.560Z"
   },
   {
    "duration": 6,
    "start_time": "2021-10-25T08:42:24.728Z"
   },
   {
    "duration": 5,
    "start_time": "2021-10-25T08:43:22.497Z"
   },
   {
    "duration": 8,
    "start_time": "2021-10-25T08:43:43.485Z"
   },
   {
    "duration": 7,
    "start_time": "2021-10-25T08:43:50.438Z"
   },
   {
    "duration": 410,
    "start_time": "2021-10-25T12:17:58.186Z"
   },
   {
    "duration": 889,
    "start_time": "2021-10-25T12:18:05.854Z"
   },
   {
    "duration": 246,
    "start_time": "2021-10-25T12:18:06.747Z"
   },
   {
    "duration": 51,
    "start_time": "2021-10-25T12:18:07.009Z"
   },
   {
    "duration": 36,
    "start_time": "2021-10-25T12:18:07.063Z"
   },
   {
    "duration": 27,
    "start_time": "2021-10-25T12:18:07.102Z"
   },
   {
    "duration": 88,
    "start_time": "2021-10-25T12:18:07.133Z"
   },
   {
    "duration": -16162,
    "start_time": "2021-10-25T12:18:23.388Z"
   },
   {
    "duration": -16163,
    "start_time": "2021-10-25T12:18:23.391Z"
   },
   {
    "duration": -16165,
    "start_time": "2021-10-25T12:18:23.394Z"
   },
   {
    "duration": -16166,
    "start_time": "2021-10-25T12:18:23.399Z"
   },
   {
    "duration": -16165,
    "start_time": "2021-10-25T12:18:23.402Z"
   },
   {
    "duration": -16165,
    "start_time": "2021-10-25T12:18:23.405Z"
   },
   {
    "duration": -16166,
    "start_time": "2021-10-25T12:18:23.408Z"
   },
   {
    "duration": -16174,
    "start_time": "2021-10-25T12:18:23.418Z"
   },
   {
    "duration": -16177,
    "start_time": "2021-10-25T12:18:23.422Z"
   },
   {
    "duration": -16178,
    "start_time": "2021-10-25T12:18:23.425Z"
   },
   {
    "duration": -16179,
    "start_time": "2021-10-25T12:18:23.427Z"
   },
   {
    "duration": -16181,
    "start_time": "2021-10-25T12:18:23.431Z"
   },
   {
    "duration": -16183,
    "start_time": "2021-10-25T12:18:23.434Z"
   },
   {
    "duration": 3,
    "start_time": "2021-10-25T12:18:13.944Z"
   },
   {
    "duration": 120,
    "start_time": "2021-10-25T12:18:14.415Z"
   },
   {
    "duration": 37,
    "start_time": "2021-10-25T12:18:15.718Z"
   },
   {
    "duration": 24,
    "start_time": "2021-10-25T12:18:21.174Z"
   },
   {
    "duration": 9,
    "start_time": "2021-10-25T12:18:22.497Z"
   },
   {
    "duration": 123,
    "start_time": "2021-10-25T12:18:31.988Z"
   },
   {
    "duration": 114,
    "start_time": "2021-10-25T12:20:09.253Z"
   },
   {
    "duration": 108,
    "start_time": "2021-10-25T12:20:30.416Z"
   },
   {
    "duration": 107,
    "start_time": "2021-10-25T12:20:41.974Z"
   },
   {
    "duration": 93,
    "start_time": "2021-10-25T12:21:44.080Z"
   },
   {
    "duration": 101,
    "start_time": "2021-10-25T12:21:55.892Z"
   },
   {
    "duration": 14,
    "start_time": "2021-10-25T12:22:51.790Z"
   },
   {
    "duration": 9,
    "start_time": "2021-10-25T12:22:58.641Z"
   },
   {
    "duration": 62,
    "start_time": "2021-10-25T12:23:07.168Z"
   },
   {
    "duration": 25,
    "start_time": "2021-10-25T12:23:16.997Z"
   },
   {
    "duration": 9,
    "start_time": "2021-10-25T12:23:19.615Z"
   },
   {
    "duration": 15,
    "start_time": "2021-10-25T12:23:20.715Z"
   },
   {
    "duration": 16,
    "start_time": "2021-10-25T12:23:21.787Z"
   },
   {
    "duration": 18,
    "start_time": "2021-10-25T12:23:23.711Z"
   },
   {
    "duration": 22,
    "start_time": "2021-10-25T12:23:31.650Z"
   },
   {
    "duration": 25,
    "start_time": "2021-10-25T12:23:32.965Z"
   },
   {
    "duration": 8,
    "start_time": "2021-10-25T12:23:42.031Z"
   },
   {
    "duration": 7,
    "start_time": "2021-10-25T12:23:45.854Z"
   },
   {
    "duration": 8,
    "start_time": "2021-10-25T12:23:47.223Z"
   },
   {
    "duration": 8,
    "start_time": "2021-10-25T12:23:55.382Z"
   },
   {
    "duration": 434,
    "start_time": "2021-10-25T12:26:27.700Z"
   },
   {
    "duration": 275,
    "start_time": "2021-10-25T12:26:35.901Z"
   },
   {
    "duration": 10,
    "start_time": "2021-10-25T12:26:42.912Z"
   },
   {
    "duration": 9,
    "start_time": "2021-10-25T12:27:09.383Z"
   },
   {
    "duration": 8,
    "start_time": "2021-10-25T12:27:39.898Z"
   },
   {
    "duration": 7,
    "start_time": "2021-10-25T12:27:40.893Z"
   },
   {
    "duration": 9,
    "start_time": "2021-10-25T12:27:43.235Z"
   },
   {
    "duration": 29,
    "start_time": "2021-10-25T12:31:04.960Z"
   },
   {
    "duration": 23,
    "start_time": "2021-10-25T12:32:11.781Z"
   },
   {
    "duration": 8,
    "start_time": "2021-10-25T12:32:26.597Z"
   },
   {
    "duration": 22,
    "start_time": "2021-10-25T12:32:29.365Z"
   },
   {
    "duration": 10,
    "start_time": "2021-10-25T12:33:39.373Z"
   },
   {
    "duration": 5,
    "start_time": "2021-10-25T12:33:40.494Z"
   },
   {
    "duration": 5,
    "start_time": "2021-10-25T12:33:41.006Z"
   },
   {
    "duration": 5,
    "start_time": "2021-10-25T12:33:41.546Z"
   },
   {
    "duration": 20,
    "start_time": "2021-10-25T12:33:42.050Z"
   },
   {
    "duration": 18,
    "start_time": "2021-10-25T12:39:47.893Z"
   },
   {
    "duration": 9,
    "start_time": "2021-10-25T12:39:50.909Z"
   },
   {
    "duration": 18,
    "start_time": "2021-10-25T12:40:07.975Z"
   },
   {
    "duration": 7,
    "start_time": "2021-10-25T12:40:13.873Z"
   },
   {
    "duration": 12,
    "start_time": "2021-10-25T12:40:14.667Z"
   },
   {
    "duration": 14,
    "start_time": "2021-10-25T12:40:15.431Z"
   },
   {
    "duration": 16,
    "start_time": "2021-10-25T12:40:15.990Z"
   },
   {
    "duration": 26,
    "start_time": "2021-10-25T12:40:16.625Z"
   },
   {
    "duration": 32,
    "start_time": "2021-10-25T12:40:17.348Z"
   },
   {
    "duration": 9,
    "start_time": "2021-10-25T12:43:03.795Z"
   },
   {
    "duration": 7,
    "start_time": "2021-10-25T12:43:04.584Z"
   },
   {
    "duration": 8,
    "start_time": "2021-10-25T12:43:05.250Z"
   },
   {
    "duration": 11,
    "start_time": "2021-10-25T12:43:06.229Z"
   },
   {
    "duration": 7,
    "start_time": "2021-10-25T12:43:07.731Z"
   },
   {
    "duration": 5,
    "start_time": "2021-10-25T12:43:08.772Z"
   },
   {
    "duration": 6,
    "start_time": "2021-10-25T12:43:09.456Z"
   },
   {
    "duration": 23,
    "start_time": "2021-10-25T12:43:10.409Z"
   },
   {
    "duration": 6731,
    "start_time": "2021-10-25T12:44:15.934Z"
   },
   {
    "duration": -204,
    "start_time": "2021-10-25T12:44:22.872Z"
   },
   {
    "duration": 12,
    "start_time": "2021-10-25T12:45:47.197Z"
   },
   {
    "duration": 25,
    "start_time": "2021-10-25T12:45:48.028Z"
   },
   {
    "duration": 29,
    "start_time": "2021-10-25T12:45:48.710Z"
   },
   {
    "duration": 10,
    "start_time": "2021-10-25T12:45:49.617Z"
   },
   {
    "duration": 8,
    "start_time": "2021-10-25T12:45:50.766Z"
   },
   {
    "duration": 8,
    "start_time": "2021-10-25T12:45:51.487Z"
   },
   {
    "duration": 8,
    "start_time": "2021-10-25T12:45:53.307Z"
   },
   {
    "duration": 6,
    "start_time": "2021-10-25T12:45:54.859Z"
   },
   {
    "duration": 7,
    "start_time": "2021-10-25T12:45:55.324Z"
   },
   {
    "duration": 4,
    "start_time": "2021-10-25T12:45:55.685Z"
   },
   {
    "duration": 6997,
    "start_time": "2021-10-25T12:45:56.079Z"
   },
   {
    "duration": -198,
    "start_time": "2021-10-25T12:46:03.277Z"
   },
   {
    "duration": 761,
    "start_time": "2021-10-25T13:05:52.690Z"
   },
   {
    "duration": 122,
    "start_time": "2021-10-25T13:05:53.454Z"
   },
   {
    "duration": 29,
    "start_time": "2021-10-25T13:05:53.579Z"
   },
   {
    "duration": 52,
    "start_time": "2021-10-25T13:05:53.611Z"
   },
   {
    "duration": 9,
    "start_time": "2021-10-25T13:05:53.665Z"
   },
   {
    "duration": 12,
    "start_time": "2021-10-25T13:05:53.676Z"
   },
   {
    "duration": 33,
    "start_time": "2021-10-25T13:05:53.724Z"
   },
   {
    "duration": 7,
    "start_time": "2021-10-25T13:05:53.761Z"
   },
   {
    "duration": 77,
    "start_time": "2021-10-25T13:05:53.771Z"
   },
   {
    "duration": 18,
    "start_time": "2021-10-25T13:05:53.850Z"
   },
   {
    "duration": 10,
    "start_time": "2021-10-25T13:05:53.870Z"
   },
   {
    "duration": 12,
    "start_time": "2021-10-25T13:05:53.882Z"
   },
   {
    "duration": 16,
    "start_time": "2021-10-25T13:05:53.922Z"
   },
   {
    "duration": 17,
    "start_time": "2021-10-25T13:05:53.940Z"
   },
   {
    "duration": 17,
    "start_time": "2021-10-25T13:05:53.959Z"
   },
   {
    "duration": 64,
    "start_time": "2021-10-25T13:05:53.978Z"
   },
   {
    "duration": 8,
    "start_time": "2021-10-25T13:05:54.045Z"
   },
   {
    "duration": 8,
    "start_time": "2021-10-25T13:05:54.056Z"
   },
   {
    "duration": 17,
    "start_time": "2021-10-25T13:05:54.066Z"
   },
   {
    "duration": 41,
    "start_time": "2021-10-25T13:05:54.086Z"
   },
   {
    "duration": 6,
    "start_time": "2021-10-25T13:05:54.130Z"
   },
   {
    "duration": 8,
    "start_time": "2021-10-25T13:05:54.138Z"
   },
   {
    "duration": 6,
    "start_time": "2021-10-25T13:05:54.150Z"
   },
   {
    "duration": 7597,
    "start_time": "2021-10-25T13:05:54.159Z"
   },
   {
    "duration": -15957,
    "start_time": "2021-10-25T13:06:17.715Z"
   },
   {
    "duration": 6881,
    "start_time": "2021-10-25T13:06:16.424Z"
   },
   {
    "duration": 4,
    "start_time": "2021-10-25T13:06:29.329Z"
   },
   {
    "duration": 121,
    "start_time": "2021-10-25T13:06:29.570Z"
   },
   {
    "duration": 26,
    "start_time": "2021-10-25T13:06:29.741Z"
   },
   {
    "duration": 26,
    "start_time": "2021-10-25T13:06:30.073Z"
   },
   {
    "duration": 10,
    "start_time": "2021-10-25T13:06:30.224Z"
   },
   {
    "duration": 13,
    "start_time": "2021-10-25T13:06:30.559Z"
   },
   {
    "duration": 26,
    "start_time": "2021-10-25T13:06:30.731Z"
   },
   {
    "duration": 9,
    "start_time": "2021-10-25T13:06:30.904Z"
   },
   {
    "duration": 49,
    "start_time": "2021-10-25T13:06:31.086Z"
   },
   {
    "duration": 22,
    "start_time": "2021-10-25T13:06:31.230Z"
   },
   {
    "duration": 7,
    "start_time": "2021-10-25T13:06:31.582Z"
   },
   {
    "duration": 14,
    "start_time": "2021-10-25T13:06:31.746Z"
   },
   {
    "duration": 15,
    "start_time": "2021-10-25T13:06:31.930Z"
   },
   {
    "duration": 13,
    "start_time": "2021-10-25T13:06:33.669Z"
   },
   {
    "duration": 16,
    "start_time": "2021-10-25T13:06:33.685Z"
   },
   {
    "duration": 27,
    "start_time": "2021-10-25T13:06:33.821Z"
   },
   {
    "duration": 8,
    "start_time": "2021-10-25T13:06:33.852Z"
   },
   {
    "duration": 7,
    "start_time": "2021-10-25T13:06:33.863Z"
   },
   {
    "duration": 9,
    "start_time": "2021-10-25T13:06:33.873Z"
   },
   {
    "duration": 8,
    "start_time": "2021-10-25T13:06:33.963Z"
   },
   {
    "duration": 6,
    "start_time": "2021-10-25T13:06:35.699Z"
   },
   {
    "duration": 13,
    "start_time": "2021-10-25T13:06:35.707Z"
   },
   {
    "duration": 5,
    "start_time": "2021-10-25T13:06:35.767Z"
   },
   {
    "duration": 7460,
    "start_time": "2021-10-25T13:06:35.776Z"
   },
   {
    "duration": -15876,
    "start_time": "2021-10-25T13:06:59.115Z"
   },
   {
    "duration": 5,
    "start_time": "2021-10-25T13:08:19.235Z"
   },
   {
    "duration": 7711,
    "start_time": "2021-10-25T13:08:20.348Z"
   },
   {
    "duration": 18,
    "start_time": "2021-10-25T13:12:33.486Z"
   },
   {
    "duration": 18,
    "start_time": "2021-10-25T13:13:01.766Z"
   },
   {
    "duration": 332,
    "start_time": "2021-10-25T13:14:13.742Z"
   },
   {
    "duration": 47,
    "start_time": "2021-10-25T13:14:59.967Z"
   },
   {
    "duration": 44,
    "start_time": "2021-10-25T13:15:11.150Z"
   },
   {
    "duration": 885,
    "start_time": "2021-10-25T13:21:20.087Z"
   },
   {
    "duration": 818,
    "start_time": "2021-10-25T13:22:10.832Z"
   },
   {
    "duration": 982,
    "start_time": "2021-10-25T13:22:12.482Z"
   },
   {
    "duration": -86,
    "start_time": "2021-10-25T13:22:13.557Z"
   },
   {
    "duration": -359,
    "start_time": "2021-10-25T13:23:16.648Z"
   },
   {
    "duration": 7205,
    "start_time": "2021-10-25T13:23:34.477Z"
   },
   {
    "duration": -298,
    "start_time": "2021-10-25T13:23:41.983Z"
   },
   {
    "duration": 11454,
    "start_time": "2021-10-25T13:23:55.822Z"
   },
   {
    "duration": 7458,
    "start_time": "2021-10-25T13:24:23.387Z"
   },
   {
    "duration": -427,
    "start_time": "2021-10-25T13:24:31.274Z"
   },
   {
    "duration": 12,
    "start_time": "2021-10-25T13:25:03.238Z"
   },
   {
    "duration": 13,
    "start_time": "2021-10-25T13:25:12.085Z"
   },
   {
    "duration": 11,
    "start_time": "2021-10-25T13:25:13.391Z"
   },
   {
    "duration": 12,
    "start_time": "2021-10-25T13:25:14.505Z"
   },
   {
    "duration": 21,
    "start_time": "2021-10-25T13:25:53.642Z"
   },
   {
    "duration": 549,
    "start_time": "2021-10-25T15:29:12.385Z"
   },
   {
    "duration": 84,
    "start_time": "2021-10-25T15:29:12.969Z"
   },
   {
    "duration": 23,
    "start_time": "2021-10-25T15:29:14.755Z"
   },
   {
    "duration": 30,
    "start_time": "2021-10-25T15:29:16.902Z"
   },
   {
    "duration": 6,
    "start_time": "2021-10-25T15:29:17.874Z"
   },
   {
    "duration": 9,
    "start_time": "2021-10-25T15:29:23.032Z"
   },
   {
    "duration": 20,
    "start_time": "2021-10-25T15:29:29.626Z"
   },
   {
    "duration": 6,
    "start_time": "2021-10-25T15:29:30.249Z"
   },
   {
    "duration": 31,
    "start_time": "2021-10-25T15:29:31.733Z"
   },
   {
    "duration": 12,
    "start_time": "2021-10-25T15:29:34.675Z"
   },
   {
    "duration": 5,
    "start_time": "2021-10-25T15:29:39.137Z"
   },
   {
    "duration": 9,
    "start_time": "2021-10-25T15:29:40.249Z"
   },
   {
    "duration": 9,
    "start_time": "2021-10-25T15:29:41.035Z"
   },
   {
    "duration": 10,
    "start_time": "2021-10-25T15:29:41.821Z"
   },
   {
    "duration": 13,
    "start_time": "2021-10-25T15:29:42.573Z"
   },
   {
    "duration": 15,
    "start_time": "2021-10-25T15:29:43.657Z"
   },
   {
    "duration": 6,
    "start_time": "2021-10-25T15:29:44.740Z"
   },
   {
    "duration": 8,
    "start_time": "2021-10-25T15:29:45.573Z"
   },
   {
    "duration": 6,
    "start_time": "2021-10-25T15:29:46.510Z"
   },
   {
    "duration": 5,
    "start_time": "2021-10-25T15:29:51.033Z"
   },
   {
    "duration": 4,
    "start_time": "2021-10-25T15:29:53.129Z"
   },
   {
    "duration": 3,
    "start_time": "2021-10-25T15:29:53.597Z"
   },
   {
    "duration": 3,
    "start_time": "2021-10-25T15:29:54.076Z"
   },
   {
    "duration": 7972,
    "start_time": "2021-10-25T15:29:54.996Z"
   },
   {
    "duration": 3,
    "start_time": "2021-10-25T15:30:12.370Z"
   },
   {
    "duration": 14,
    "start_time": "2021-10-25T15:30:14.444Z"
   },
   {
    "duration": 19,
    "start_time": "2021-10-25T15:30:17.167Z"
   },
   {
    "duration": 31,
    "start_time": "2021-10-25T15:30:18.530Z"
   },
   {
    "duration": 9,
    "start_time": "2021-10-25T15:30:22.414Z"
   },
   {
    "duration": 8,
    "start_time": "2021-10-25T15:30:22.943Z"
   },
   {
    "duration": 8,
    "start_time": "2021-10-25T15:30:23.602Z"
   },
   {
    "duration": 13,
    "start_time": "2021-10-25T15:30:25.346Z"
   },
   {
    "duration": 4,
    "start_time": "2021-10-25T15:31:50.940Z"
   },
   {
    "duration": 4,
    "start_time": "2021-10-25T15:32:08.782Z"
   },
   {
    "duration": 4,
    "start_time": "2021-10-25T15:32:20.941Z"
   },
   {
    "duration": 93,
    "start_time": "2021-10-25T15:40:22.636Z"
   },
   {
    "duration": 99,
    "start_time": "2021-10-25T15:40:34.742Z"
   },
   {
    "duration": 5,
    "start_time": "2021-10-25T15:40:39.450Z"
   },
   {
    "duration": 7022,
    "start_time": "2021-10-25T15:41:00.759Z"
   },
   {
    "duration": 312,
    "start_time": "2021-10-25T15:44:07.286Z"
   },
   {
    "duration": 282,
    "start_time": "2021-10-25T15:44:18.863Z"
   },
   {
    "duration": 3,
    "start_time": "2021-10-25T15:44:27.032Z"
   },
   {
    "duration": 7959,
    "start_time": "2021-10-25T15:44:28.364Z"
   },
   {
    "duration": 8606,
    "start_time": "2021-10-25T15:45:35.284Z"
   },
   {
    "duration": 4,
    "start_time": "2021-10-25T15:46:26.898Z"
   },
   {
    "duration": 1290,
    "start_time": "2021-10-25T15:46:27.849Z"
   },
   {
    "duration": 5,
    "start_time": "2021-10-25T15:47:12.301Z"
   },
   {
    "duration": 98,
    "start_time": "2021-10-25T15:56:24.491Z"
   },
   {
    "duration": 268,
    "start_time": "2021-10-25T15:56:25.106Z"
   },
   {
    "duration": 6,
    "start_time": "2021-10-25T15:56:26.365Z"
   },
   {
    "duration": 3,
    "start_time": "2021-10-25T15:56:49.010Z"
   },
   {
    "duration": 751,
    "start_time": "2021-10-25T15:56:51.546Z"
   },
   {
    "duration": 779,
    "start_time": "2021-10-25T15:57:51.081Z"
   },
   {
    "duration": 92,
    "start_time": "2021-10-25T15:57:53.815Z"
   },
   {
    "duration": 815,
    "start_time": "2021-10-25T15:57:55.252Z"
   },
   {
    "duration": 4,
    "start_time": "2021-10-25T15:57:56.518Z"
   },
   {
    "duration": 6,
    "start_time": "2021-10-25T15:58:29.841Z"
   },
   {
    "duration": 5,
    "start_time": "2021-10-25T15:59:09.669Z"
   },
   {
    "duration": 2125,
    "start_time": "2021-10-25T15:59:11.715Z"
   },
   {
    "duration": 5,
    "start_time": "2021-10-25T15:59:13.845Z"
   },
   {
    "duration": 5,
    "start_time": "2021-10-25T15:59:27.558Z"
   },
   {
    "duration": 640,
    "start_time": "2021-10-25T17:23:47.138Z"
   },
   {
    "duration": 89,
    "start_time": "2021-10-25T17:23:47.779Z"
   },
   {
    "duration": 21,
    "start_time": "2021-10-25T17:23:47.870Z"
   },
   {
    "duration": 37,
    "start_time": "2021-10-25T17:23:47.893Z"
   },
   {
    "duration": 15,
    "start_time": "2021-10-25T17:23:47.932Z"
   },
   {
    "duration": 17,
    "start_time": "2021-10-25T17:23:47.949Z"
   },
   {
    "duration": 39,
    "start_time": "2021-10-25T17:23:47.968Z"
   },
   {
    "duration": 16,
    "start_time": "2021-10-25T17:23:48.010Z"
   },
   {
    "duration": 63,
    "start_time": "2021-10-25T17:23:48.028Z"
   },
   {
    "duration": 27,
    "start_time": "2021-10-25T17:23:48.093Z"
   },
   {
    "duration": 27,
    "start_time": "2021-10-25T17:23:48.122Z"
   },
   {
    "duration": 28,
    "start_time": "2021-10-25T17:23:48.151Z"
   },
   {
    "duration": 30,
    "start_time": "2021-10-25T17:23:48.181Z"
   },
   {
    "duration": 26,
    "start_time": "2021-10-25T17:23:48.212Z"
   },
   {
    "duration": 25,
    "start_time": "2021-10-25T17:23:48.239Z"
   },
   {
    "duration": 26,
    "start_time": "2021-10-25T17:23:48.266Z"
   },
   {
    "duration": 16,
    "start_time": "2021-10-25T17:23:48.294Z"
   },
   {
    "duration": 14,
    "start_time": "2021-10-25T17:23:48.312Z"
   },
   {
    "duration": 9,
    "start_time": "2021-10-25T17:23:48.329Z"
   },
   {
    "duration": 8,
    "start_time": "2021-10-25T17:23:48.340Z"
   },
   {
    "duration": 14,
    "start_time": "2021-10-25T17:23:48.350Z"
   },
   {
    "duration": 25,
    "start_time": "2021-10-25T17:23:48.366Z"
   },
   {
    "duration": 32,
    "start_time": "2021-10-25T17:23:48.394Z"
   },
   {
    "duration": 6870,
    "start_time": "2021-10-25T17:23:48.428Z"
   },
   {
    "duration": -16672,
    "start_time": "2021-10-25T17:24:11.972Z"
   },
   {
    "duration": -16674,
    "start_time": "2021-10-25T17:24:11.976Z"
   },
   {
    "duration": -16677,
    "start_time": "2021-10-25T17:24:11.980Z"
   },
   {
    "duration": -16678,
    "start_time": "2021-10-25T17:24:11.983Z"
   },
   {
    "duration": -16681,
    "start_time": "2021-10-25T17:24:11.987Z"
   },
   {
    "duration": -16681,
    "start_time": "2021-10-25T17:24:11.989Z"
   },
   {
    "duration": -16683,
    "start_time": "2021-10-25T17:24:11.992Z"
   },
   {
    "duration": -16684,
    "start_time": "2021-10-25T17:24:11.994Z"
   },
   {
    "duration": -16685,
    "start_time": "2021-10-25T17:24:11.997Z"
   },
   {
    "duration": -16687,
    "start_time": "2021-10-25T17:24:12.000Z"
   },
   {
    "duration": -16688,
    "start_time": "2021-10-25T17:24:12.003Z"
   },
   {
    "duration": -16690,
    "start_time": "2021-10-25T17:24:12.006Z"
   },
   {
    "duration": -16692,
    "start_time": "2021-10-25T17:24:12.010Z"
   },
   {
    "duration": 3,
    "start_time": "2021-10-25T17:23:58.486Z"
   },
   {
    "duration": 101,
    "start_time": "2021-10-25T17:23:59.068Z"
   },
   {
    "duration": 20,
    "start_time": "2021-10-25T17:23:59.610Z"
   },
   {
    "duration": 20,
    "start_time": "2021-10-25T17:24:00.826Z"
   },
   {
    "duration": 6,
    "start_time": "2021-10-25T17:24:01.580Z"
   },
   {
    "duration": 10,
    "start_time": "2021-10-25T17:24:03.027Z"
   },
   {
    "duration": 15,
    "start_time": "2021-10-25T17:24:04.186Z"
   },
   {
    "duration": 6,
    "start_time": "2021-10-25T17:24:04.825Z"
   },
   {
    "duration": 34,
    "start_time": "2021-10-25T17:24:08.833Z"
   },
   {
    "duration": 13,
    "start_time": "2021-10-25T17:24:09.896Z"
   },
   {
    "duration": 6,
    "start_time": "2021-10-25T17:24:12.347Z"
   },
   {
    "duration": 11,
    "start_time": "2021-10-25T17:24:13.083Z"
   },
   {
    "duration": 10,
    "start_time": "2021-10-25T17:24:13.703Z"
   },
   {
    "duration": 11,
    "start_time": "2021-10-25T17:24:14.264Z"
   },
   {
    "duration": 14,
    "start_time": "2021-10-25T17:24:14.840Z"
   },
   {
    "duration": 16,
    "start_time": "2021-10-25T17:24:15.627Z"
   },
   {
    "duration": 6,
    "start_time": "2021-10-25T17:24:16.540Z"
   },
   {
    "duration": 7,
    "start_time": "2021-10-25T17:24:17.756Z"
   },
   {
    "duration": 6,
    "start_time": "2021-10-25T17:24:18.628Z"
   },
   {
    "duration": 6,
    "start_time": "2021-10-25T17:24:24.771Z"
   },
   {
    "duration": 5,
    "start_time": "2021-10-25T17:24:26.699Z"
   },
   {
    "duration": 4,
    "start_time": "2021-10-25T17:24:27.694Z"
   },
   {
    "duration": 4,
    "start_time": "2021-10-25T17:24:28.362Z"
   },
   {
    "duration": 7647,
    "start_time": "2021-10-25T17:25:35.278Z"
   },
   {
    "duration": 6901,
    "start_time": "2021-10-25T17:25:53.445Z"
   },
   {
    "duration": 5,
    "start_time": "2021-10-25T17:27:05.797Z"
   },
   {
    "duration": 20,
    "start_time": "2021-10-25T17:27:37.973Z"
   },
   {
    "duration": 11,
    "start_time": "2021-10-25T17:27:53.886Z"
   },
   {
    "duration": 13,
    "start_time": "2021-10-25T17:27:58.493Z"
   },
   {
    "duration": 30,
    "start_time": "2021-10-25T17:28:00.185Z"
   },
   {
    "duration": 10,
    "start_time": "2021-10-25T17:28:13.113Z"
   },
   {
    "duration": 8,
    "start_time": "2021-10-25T17:28:14.547Z"
   },
   {
    "duration": 9,
    "start_time": "2021-10-25T17:28:15.832Z"
   },
   {
    "duration": 14,
    "start_time": "2021-10-25T17:28:16.476Z"
   },
   {
    "duration": 4,
    "start_time": "2021-10-25T17:28:17.762Z"
   },
   {
    "duration": 4,
    "start_time": "2021-10-25T17:28:21.420Z"
   },
   {
    "duration": 1237,
    "start_time": "2021-10-25T17:28:22.268Z"
   },
   {
    "duration": 4,
    "start_time": "2021-10-25T17:28:23.506Z"
   },
   {
    "duration": 1414,
    "start_time": "2021-10-25T17:28:26.283Z"
   },
   {
    "duration": 5,
    "start_time": "2021-10-25T17:28:28.219Z"
   },
   {
    "duration": 310,
    "start_time": "2021-10-25T17:38:59.084Z"
   },
   {
    "duration": 2,
    "start_time": "2021-10-25T17:40:28.055Z"
   },
   {
    "duration": 89,
    "start_time": "2021-10-25T17:40:29.786Z"
   },
   {
    "duration": 20,
    "start_time": "2021-10-25T17:40:30.494Z"
   },
   {
    "duration": 19,
    "start_time": "2021-10-25T17:40:31.236Z"
   },
   {
    "duration": 8,
    "start_time": "2021-10-25T17:40:31.545Z"
   },
   {
    "duration": 11,
    "start_time": "2021-10-25T17:40:32.145Z"
   },
   {
    "duration": 13,
    "start_time": "2021-10-25T17:40:32.464Z"
   },
   {
    "duration": 6,
    "start_time": "2021-10-25T17:40:32.760Z"
   },
   {
    "duration": 31,
    "start_time": "2021-10-25T17:40:33.092Z"
   },
   {
    "duration": 13,
    "start_time": "2021-10-25T17:40:33.424Z"
   },
   {
    "duration": 5,
    "start_time": "2021-10-25T17:40:34.192Z"
   },
   {
    "duration": 13,
    "start_time": "2021-10-25T17:40:36.042Z"
   },
   {
    "duration": 56,
    "start_time": "2021-10-25T17:40:36.437Z"
   },
   {
    "duration": 10,
    "start_time": "2021-10-25T17:40:36.779Z"
   },
   {
    "duration": 12,
    "start_time": "2021-10-25T17:40:37.133Z"
   },
   {
    "duration": 15,
    "start_time": "2021-10-25T17:40:37.619Z"
   },
   {
    "duration": 6,
    "start_time": "2021-10-25T17:40:38.206Z"
   },
   {
    "duration": 6,
    "start_time": "2021-10-25T17:40:38.809Z"
   },
   {
    "duration": 7,
    "start_time": "2021-10-25T17:40:39.854Z"
   },
   {
    "duration": 6,
    "start_time": "2021-10-25T17:40:40.119Z"
   },
   {
    "duration": 4,
    "start_time": "2021-10-25T17:40:40.596Z"
   },
   {
    "duration": 4,
    "start_time": "2021-10-25T17:40:40.835Z"
   },
   {
    "duration": 4,
    "start_time": "2021-10-25T17:40:41.037Z"
   },
   {
    "duration": 5,
    "start_time": "2021-10-25T17:40:41.285Z"
   },
   {
    "duration": 11,
    "start_time": "2021-10-25T17:40:41.481Z"
   },
   {
    "duration": 13,
    "start_time": "2021-10-25T17:40:41.693Z"
   },
   {
    "duration": 29,
    "start_time": "2021-10-25T17:40:41.943Z"
   },
   {
    "duration": 8,
    "start_time": "2021-10-25T17:40:43.941Z"
   },
   {
    "duration": 9,
    "start_time": "2021-10-25T17:40:44.747Z"
   },
   {
    "duration": 9,
    "start_time": "2021-10-25T17:40:44.962Z"
   },
   {
    "duration": 14,
    "start_time": "2021-10-25T17:40:45.200Z"
   },
   {
    "duration": 4,
    "start_time": "2021-10-25T17:40:45.413Z"
   },
   {
    "duration": 3,
    "start_time": "2021-10-25T17:40:45.852Z"
   },
   {
    "duration": 1295,
    "start_time": "2021-10-25T17:40:46.133Z"
   },
   {
    "duration": 3,
    "start_time": "2021-10-25T17:40:47.430Z"
   },
   {
    "duration": 1412,
    "start_time": "2021-10-25T17:40:47.435Z"
   },
   {
    "duration": 4,
    "start_time": "2021-10-25T17:40:48.849Z"
   },
   {
    "duration": 280,
    "start_time": "2021-10-25T17:40:48.855Z"
   },
   {
    "duration": 515,
    "start_time": "2021-10-25T17:41:51.177Z"
   },
   {
    "duration": 535,
    "start_time": "2021-10-25T17:42:00.582Z"
   },
   {
    "duration": 233,
    "start_time": "2021-10-25T17:42:39.481Z"
   },
   {
    "duration": 252,
    "start_time": "2021-10-25T17:43:08.461Z"
   },
   {
    "duration": 13,
    "start_time": "2021-10-25T17:47:24.741Z"
   },
   {
    "duration": 248,
    "start_time": "2021-10-25T17:48:59.469Z"
   },
   {
    "duration": 186,
    "start_time": "2021-10-25T17:49:21.916Z"
   },
   {
    "duration": 207,
    "start_time": "2021-10-25T17:50:30.484Z"
   },
   {
    "duration": 236,
    "start_time": "2021-10-25T17:52:24.933Z"
   },
   {
    "duration": 285,
    "start_time": "2021-10-25T17:52:39.290Z"
   },
   {
    "duration": 93,
    "start_time": "2021-10-25T17:53:06.558Z"
   },
   {
    "duration": 233,
    "start_time": "2021-10-25T17:53:16.967Z"
   },
   {
    "duration": 276,
    "start_time": "2021-10-25T17:53:49.870Z"
   },
   {
    "duration": 242,
    "start_time": "2021-10-25T17:54:06.523Z"
   },
   {
    "duration": 242,
    "start_time": "2021-10-25T17:54:22.740Z"
   },
   {
    "duration": 228,
    "start_time": "2021-10-25T17:54:33.920Z"
   },
   {
    "duration": 262,
    "start_time": "2021-10-25T17:54:59.972Z"
   },
   {
    "duration": 98,
    "start_time": "2021-10-25T17:55:05.962Z"
   },
   {
    "duration": 224,
    "start_time": "2021-10-25T17:55:06.864Z"
   },
   {
    "duration": 213,
    "start_time": "2021-10-25T17:55:15.857Z"
   },
   {
    "duration": 255,
    "start_time": "2021-10-25T17:55:22.874Z"
   },
   {
    "duration": 266,
    "start_time": "2021-10-25T17:55:28.334Z"
   },
   {
    "duration": 297,
    "start_time": "2021-10-25T17:55:33.762Z"
   },
   {
    "duration": 6815,
    "start_time": "2021-10-25T17:56:33.265Z"
   },
   {
    "duration": -15680,
    "start_time": "2021-10-25T17:56:55.762Z"
   },
   {
    "duration": 6778,
    "start_time": "2021-10-25T17:56:40.677Z"
   },
   {
    "duration": 226,
    "start_time": "2021-10-25T17:58:46.190Z"
   },
   {
    "duration": 255,
    "start_time": "2021-10-25T17:58:47.748Z"
   },
   {
    "duration": 242,
    "start_time": "2021-10-25T17:58:58.254Z"
   },
   {
    "duration": 245,
    "start_time": "2021-10-25T17:59:29.379Z"
   },
   {
    "duration": 280,
    "start_time": "2021-10-25T18:01:11.429Z"
   },
   {
    "duration": 3,
    "start_time": "2021-10-25T18:48:27.916Z"
   },
   {
    "duration": 99,
    "start_time": "2021-10-25T18:48:28.166Z"
   },
   {
    "duration": 19,
    "start_time": "2021-10-25T18:48:28.425Z"
   },
   {
    "duration": 18,
    "start_time": "2021-10-25T18:48:28.927Z"
   },
   {
    "duration": 6,
    "start_time": "2021-10-25T18:48:29.165Z"
   },
   {
    "duration": 10,
    "start_time": "2021-10-25T18:48:29.619Z"
   },
   {
    "duration": 19,
    "start_time": "2021-10-25T18:48:29.860Z"
   },
   {
    "duration": 7,
    "start_time": "2021-10-25T18:48:30.099Z"
   },
   {
    "duration": 32,
    "start_time": "2021-10-25T18:48:30.527Z"
   },
   {
    "duration": 12,
    "start_time": "2021-10-25T18:48:30.777Z"
   },
   {
    "duration": 6,
    "start_time": "2021-10-25T18:48:31.566Z"
   },
   {
    "duration": 11,
    "start_time": "2021-10-25T18:48:31.804Z"
   },
   {
    "duration": 9,
    "start_time": "2021-10-25T18:48:32.340Z"
   },
   {
    "duration": 10,
    "start_time": "2021-10-25T18:48:32.352Z"
   },
   {
    "duration": 14,
    "start_time": "2021-10-25T18:48:32.825Z"
   },
   {
    "duration": 18,
    "start_time": "2021-10-25T18:48:33.293Z"
   },
   {
    "duration": 9,
    "start_time": "2021-10-25T18:48:33.313Z"
   },
   {
    "duration": 6,
    "start_time": "2021-10-25T18:48:33.752Z"
   },
   {
    "duration": 7,
    "start_time": "2021-10-25T18:48:34.268Z"
   },
   {
    "duration": 6,
    "start_time": "2021-10-25T18:48:34.910Z"
   },
   {
    "duration": 4,
    "start_time": "2021-10-25T18:48:35.854Z"
   },
   {
    "duration": 4,
    "start_time": "2021-10-25T18:48:36.168Z"
   },
   {
    "duration": 4,
    "start_time": "2021-10-25T18:48:36.416Z"
   },
   {
    "duration": 5,
    "start_time": "2021-10-25T18:48:36.644Z"
   },
   {
    "duration": 11,
    "start_time": "2021-10-25T18:48:36.863Z"
   },
   {
    "duration": 13,
    "start_time": "2021-10-25T18:48:37.089Z"
   },
   {
    "duration": 32,
    "start_time": "2021-10-25T18:48:37.350Z"
   },
   {
    "duration": 9,
    "start_time": "2021-10-25T18:48:38.704Z"
   },
   {
    "duration": 8,
    "start_time": "2021-10-25T18:48:38.958Z"
   },
   {
    "duration": 9,
    "start_time": "2021-10-25T18:48:39.278Z"
   },
   {
    "duration": 14,
    "start_time": "2021-10-25T18:48:39.518Z"
   },
   {
    "duration": 4,
    "start_time": "2021-10-25T18:48:39.972Z"
   },
   {
    "duration": 3,
    "start_time": "2021-10-25T18:48:40.509Z"
   },
   {
    "duration": 1364,
    "start_time": "2021-10-25T18:48:40.880Z"
   },
   {
    "duration": 4,
    "start_time": "2021-10-25T18:48:42.246Z"
   },
   {
    "duration": 1368,
    "start_time": "2021-10-25T18:48:42.251Z"
   },
   {
    "duration": 6,
    "start_time": "2021-10-25T18:48:47.175Z"
   },
   {
    "duration": 14,
    "start_time": "2021-10-25T18:48:47.864Z"
   },
   {
    "duration": 263,
    "start_time": "2021-10-25T18:48:50.125Z"
   },
   {
    "duration": 229,
    "start_time": "2021-10-25T18:48:52.042Z"
   },
   {
    "duration": 232,
    "start_time": "2021-10-25T18:48:53.132Z"
   },
   {
    "duration": 298,
    "start_time": "2021-10-25T18:48:54.301Z"
   },
   {
    "duration": 195,
    "start_time": "2021-10-25T18:48:55.547Z"
   },
   {
    "duration": 794,
    "start_time": "2021-10-25T19:09:24.662Z"
   },
   {
    "duration": 91,
    "start_time": "2021-10-25T19:09:25.458Z"
   },
   {
    "duration": 22,
    "start_time": "2021-10-25T19:09:25.552Z"
   },
   {
    "duration": 34,
    "start_time": "2021-10-25T19:09:25.576Z"
   },
   {
    "duration": 7,
    "start_time": "2021-10-25T19:09:25.611Z"
   },
   {
    "duration": 10,
    "start_time": "2021-10-25T19:09:25.620Z"
   },
   {
    "duration": 38,
    "start_time": "2021-10-25T19:09:25.631Z"
   },
   {
    "duration": 8,
    "start_time": "2021-10-25T19:09:25.672Z"
   },
   {
    "duration": 39,
    "start_time": "2021-10-25T19:09:25.683Z"
   },
   {
    "duration": 29,
    "start_time": "2021-10-25T19:09:25.723Z"
   },
   {
    "duration": 7,
    "start_time": "2021-10-25T19:09:25.754Z"
   },
   {
    "duration": 11,
    "start_time": "2021-10-25T19:09:25.763Z"
   },
   {
    "duration": 11,
    "start_time": "2021-10-25T19:09:25.776Z"
   },
   {
    "duration": 10,
    "start_time": "2021-10-25T19:09:25.789Z"
   },
   {
    "duration": 51,
    "start_time": "2021-10-25T19:09:25.801Z"
   },
   {
    "duration": 16,
    "start_time": "2021-10-25T19:09:25.855Z"
   },
   {
    "duration": 10,
    "start_time": "2021-10-25T19:09:25.873Z"
   },
   {
    "duration": 10,
    "start_time": "2021-10-25T19:09:25.885Z"
   },
   {
    "duration": 8,
    "start_time": "2021-10-25T19:09:25.896Z"
   },
   {
    "duration": 14,
    "start_time": "2021-10-25T19:09:25.906Z"
   },
   {
    "duration": 9,
    "start_time": "2021-10-25T19:09:25.922Z"
   },
   {
    "duration": 4,
    "start_time": "2021-10-25T19:09:25.943Z"
   },
   {
    "duration": 18,
    "start_time": "2021-10-25T19:09:25.950Z"
   },
   {
    "duration": 15,
    "start_time": "2021-10-25T19:09:25.970Z"
   },
   {
    "duration": 22,
    "start_time": "2021-10-25T19:09:25.987Z"
   },
   {
    "duration": 17,
    "start_time": "2021-10-25T19:09:26.011Z"
   },
   {
    "duration": 39,
    "start_time": "2021-10-25T19:09:26.029Z"
   },
   {
    "duration": 9,
    "start_time": "2021-10-25T19:09:26.070Z"
   },
   {
    "duration": 13,
    "start_time": "2021-10-25T19:09:26.081Z"
   },
   {
    "duration": 9,
    "start_time": "2021-10-25T19:09:26.095Z"
   },
   {
    "duration": 14,
    "start_time": "2021-10-25T19:09:26.106Z"
   },
   {
    "duration": 5,
    "start_time": "2021-10-25T19:09:26.145Z"
   },
   {
    "duration": 5,
    "start_time": "2021-10-25T19:09:26.151Z"
   },
   {
    "duration": 1305,
    "start_time": "2021-10-25T19:09:26.158Z"
   },
   {
    "duration": 3,
    "start_time": "2021-10-25T19:09:27.465Z"
   },
   {
    "duration": 1630,
    "start_time": "2021-10-25T19:09:27.470Z"
   },
   {
    "duration": 5,
    "start_time": "2021-10-25T19:09:29.102Z"
   },
   {
    "duration": 33,
    "start_time": "2021-10-25T19:09:29.109Z"
   },
   {
    "duration": 272,
    "start_time": "2021-10-25T19:09:29.144Z"
   },
   {
    "duration": 241,
    "start_time": "2021-10-25T19:09:29.418Z"
   },
   {
    "duration": 291,
    "start_time": "2021-10-25T19:09:29.660Z"
   },
   {
    "duration": 226,
    "start_time": "2021-10-25T19:09:29.953Z"
   },
   {
    "duration": 198,
    "start_time": "2021-10-25T19:09:30.180Z"
   },
   {
    "duration": 473,
    "start_time": "2021-10-25T19:09:30.380Z"
   },
   {
    "duration": 4,
    "start_time": "2021-10-25T19:09:34.774Z"
   },
   {
    "duration": 96,
    "start_time": "2021-10-25T19:09:35.193Z"
   },
   {
    "duration": 21,
    "start_time": "2021-10-25T19:09:35.732Z"
   },
   {
    "duration": 19,
    "start_time": "2021-10-25T19:09:36.506Z"
   },
   {
    "duration": 6,
    "start_time": "2021-10-25T19:09:36.819Z"
   },
   {
    "duration": 10,
    "start_time": "2021-10-25T19:09:37.460Z"
   },
   {
    "duration": 14,
    "start_time": "2021-10-25T19:09:37.837Z"
   },
   {
    "duration": 6,
    "start_time": "2021-10-25T19:09:38.149Z"
   },
   {
    "duration": 31,
    "start_time": "2021-10-25T19:09:38.495Z"
   },
   {
    "duration": 13,
    "start_time": "2021-10-25T19:09:38.825Z"
   },
   {
    "duration": 5,
    "start_time": "2021-10-25T19:09:40.742Z"
   },
   {
    "duration": 9,
    "start_time": "2021-10-25T19:09:41.508Z"
   },
   {
    "duration": 9,
    "start_time": "2021-10-25T19:09:42.081Z"
   },
   {
    "duration": 12,
    "start_time": "2021-10-25T19:09:42.597Z"
   },
   {
    "duration": 15,
    "start_time": "2021-10-25T19:09:43.146Z"
   },
   {
    "duration": 15,
    "start_time": "2021-10-25T19:09:43.779Z"
   },
   {
    "duration": 6,
    "start_time": "2021-10-25T19:09:44.404Z"
   },
   {
    "duration": 6,
    "start_time": "2021-10-25T19:09:45.221Z"
   },
   {
    "duration": 6,
    "start_time": "2021-10-25T19:09:46.385Z"
   },
   {
    "duration": 7,
    "start_time": "2021-10-25T19:09:47.278Z"
   },
   {
    "duration": 4,
    "start_time": "2021-10-25T19:09:48.811Z"
   },
   {
    "duration": 4,
    "start_time": "2021-10-25T19:09:49.232Z"
   },
   {
    "duration": 4,
    "start_time": "2021-10-25T19:09:49.563Z"
   },
   {
    "duration": 5,
    "start_time": "2021-10-25T19:09:49.901Z"
   },
   {
    "duration": 13,
    "start_time": "2021-10-25T19:09:50.173Z"
   },
   {
    "duration": 12,
    "start_time": "2021-10-25T19:09:50.396Z"
   },
   {
    "duration": 29,
    "start_time": "2021-10-25T19:09:50.620Z"
   },
   {
    "duration": 9,
    "start_time": "2021-10-25T19:09:53.857Z"
   },
   {
    "duration": 8,
    "start_time": "2021-10-25T19:09:54.486Z"
   },
   {
    "duration": 9,
    "start_time": "2021-10-25T19:09:55.475Z"
   },
   {
    "duration": 13,
    "start_time": "2021-10-25T19:09:56.422Z"
   },
   {
    "duration": 5,
    "start_time": "2021-10-25T19:09:57.264Z"
   },
   {
    "duration": 3,
    "start_time": "2021-10-25T19:09:58.155Z"
   },
   {
    "duration": 1305,
    "start_time": "2021-10-25T19:09:59.042Z"
   },
   {
    "duration": 4,
    "start_time": "2021-10-25T19:10:00.349Z"
   },
   {
    "duration": 1379,
    "start_time": "2021-10-25T19:10:00.654Z"
   },
   {
    "duration": 9,
    "start_time": "2021-10-25T19:10:02.035Z"
   },
   {
    "duration": 14,
    "start_time": "2021-10-25T19:10:02.075Z"
   },
   {
    "duration": 270,
    "start_time": "2021-10-25T19:10:04.284Z"
   },
   {
    "duration": 229,
    "start_time": "2021-10-25T19:10:05.040Z"
   },
   {
    "duration": 243,
    "start_time": "2021-10-25T19:10:05.351Z"
   },
   {
    "duration": 209,
    "start_time": "2021-10-25T19:10:05.611Z"
   },
   {
    "duration": 199,
    "start_time": "2021-10-25T19:10:05.860Z"
   },
   {
    "duration": 479,
    "start_time": "2021-10-25T19:10:06.373Z"
   },
   {
    "duration": 413,
    "start_time": "2021-10-25T19:10:24.707Z"
   },
   {
    "duration": 137,
    "start_time": "2021-10-25T19:11:36.357Z"
   },
   {
    "duration": 124,
    "start_time": "2021-10-25T19:19:20.271Z"
   },
   {
    "duration": 136,
    "start_time": "2021-10-25T19:21:25.275Z"
   },
   {
    "duration": 139,
    "start_time": "2021-10-25T19:21:42.321Z"
   },
   {
    "duration": 125,
    "start_time": "2021-10-25T19:22:10.406Z"
   },
   {
    "duration": 647,
    "start_time": "2021-10-25T19:47:00.709Z"
   },
   {
    "duration": 85,
    "start_time": "2021-10-25T19:47:01.358Z"
   },
   {
    "duration": 19,
    "start_time": "2021-10-25T19:47:01.446Z"
   },
   {
    "duration": 29,
    "start_time": "2021-10-25T19:47:01.466Z"
   },
   {
    "duration": 5,
    "start_time": "2021-10-25T19:47:01.496Z"
   },
   {
    "duration": 25,
    "start_time": "2021-10-25T19:47:01.503Z"
   },
   {
    "duration": 23,
    "start_time": "2021-10-25T19:47:01.530Z"
   },
   {
    "duration": 10,
    "start_time": "2021-10-25T19:47:01.554Z"
   },
   {
    "duration": 40,
    "start_time": "2021-10-25T19:47:01.566Z"
   },
   {
    "duration": 12,
    "start_time": "2021-10-25T19:47:01.608Z"
   },
   {
    "duration": 16,
    "start_time": "2021-10-25T19:47:01.622Z"
   },
   {
    "duration": 20,
    "start_time": "2021-10-25T19:47:01.639Z"
   },
   {
    "duration": 17,
    "start_time": "2021-10-25T19:47:01.660Z"
   },
   {
    "duration": 22,
    "start_time": "2021-10-25T19:47:01.679Z"
   },
   {
    "duration": 23,
    "start_time": "2021-10-25T19:47:01.703Z"
   },
   {
    "duration": 28,
    "start_time": "2021-10-25T19:47:01.727Z"
   },
   {
    "duration": 15,
    "start_time": "2021-10-25T19:47:01.757Z"
   },
   {
    "duration": 22,
    "start_time": "2021-10-25T19:47:01.774Z"
   },
   {
    "duration": 25,
    "start_time": "2021-10-25T19:47:01.798Z"
   },
   {
    "duration": 21,
    "start_time": "2021-10-25T19:47:01.825Z"
   },
   {
    "duration": 15,
    "start_time": "2021-10-25T19:47:01.848Z"
   },
   {
    "duration": 27,
    "start_time": "2021-10-25T19:47:01.865Z"
   },
   {
    "duration": 17,
    "start_time": "2021-10-25T19:47:01.894Z"
   },
   {
    "duration": 18,
    "start_time": "2021-10-25T19:47:01.913Z"
   },
   {
    "duration": 27,
    "start_time": "2021-10-25T19:47:01.933Z"
   },
   {
    "duration": 20,
    "start_time": "2021-10-25T19:47:01.961Z"
   },
   {
    "duration": 44,
    "start_time": "2021-10-25T19:47:01.984Z"
   },
   {
    "duration": 8,
    "start_time": "2021-10-25T19:47:02.029Z"
   },
   {
    "duration": 14,
    "start_time": "2021-10-25T19:47:02.039Z"
   },
   {
    "duration": 16,
    "start_time": "2021-10-25T19:47:02.055Z"
   },
   {
    "duration": 20,
    "start_time": "2021-10-25T19:47:02.072Z"
   },
   {
    "duration": 9,
    "start_time": "2021-10-25T19:47:02.094Z"
   },
   {
    "duration": 25,
    "start_time": "2021-10-25T19:47:02.105Z"
   },
   {
    "duration": 1275,
    "start_time": "2021-10-25T19:47:02.131Z"
   },
   {
    "duration": 4,
    "start_time": "2021-10-25T19:47:03.407Z"
   },
   {
    "duration": 1339,
    "start_time": "2021-10-25T19:47:03.412Z"
   },
   {
    "duration": 3,
    "start_time": "2021-10-25T19:47:04.753Z"
   },
   {
    "duration": 15,
    "start_time": "2021-10-25T19:47:04.758Z"
   },
   {
    "duration": 267,
    "start_time": "2021-10-25T19:47:04.775Z"
   },
   {
    "duration": 214,
    "start_time": "2021-10-25T19:47:05.044Z"
   },
   {
    "duration": 326,
    "start_time": "2021-10-25T19:47:05.260Z"
   },
   {
    "duration": 227,
    "start_time": "2021-10-25T19:47:05.588Z"
   },
   {
    "duration": 193,
    "start_time": "2021-10-25T19:47:05.817Z"
   },
   {
    "duration": 8,
    "start_time": "2021-10-25T19:47:06.012Z"
   },
   {
    "duration": 154,
    "start_time": "2021-10-25T19:47:06.022Z"
   },
   {
    "duration": 3,
    "start_time": "2021-10-25T19:47:13.974Z"
   },
   {
    "duration": 93,
    "start_time": "2021-10-25T19:47:14.561Z"
   },
   {
    "duration": 19,
    "start_time": "2021-10-25T19:47:15.177Z"
   },
   {
    "duration": 18,
    "start_time": "2021-10-25T19:47:16.342Z"
   },
   {
    "duration": 6,
    "start_time": "2021-10-25T19:47:16.880Z"
   },
   {
    "duration": 9,
    "start_time": "2021-10-25T19:47:17.983Z"
   },
   {
    "duration": 14,
    "start_time": "2021-10-25T19:47:18.489Z"
   },
   {
    "duration": 6,
    "start_time": "2021-10-25T19:47:19.003Z"
   },
   {
    "duration": 31,
    "start_time": "2021-10-25T19:47:19.540Z"
   },
   {
    "duration": 13,
    "start_time": "2021-10-25T19:47:20.180Z"
   },
   {
    "duration": 6,
    "start_time": "2021-10-25T19:47:21.167Z"
   },
   {
    "duration": 10,
    "start_time": "2021-10-25T19:47:22.075Z"
   },
   {
    "duration": 10,
    "start_time": "2021-10-25T19:47:22.930Z"
   },
   {
    "duration": 11,
    "start_time": "2021-10-25T19:47:23.861Z"
   },
   {
    "duration": 16,
    "start_time": "2021-10-25T19:47:24.604Z"
   },
   {
    "duration": 16,
    "start_time": "2021-10-25T19:47:25.256Z"
   },
   {
    "duration": 6,
    "start_time": "2021-10-25T19:47:26.001Z"
   },
   {
    "duration": 6,
    "start_time": "2021-10-25T19:47:26.638Z"
   },
   {
    "duration": 6,
    "start_time": "2021-10-25T19:47:27.285Z"
   },
   {
    "duration": 5,
    "start_time": "2021-10-25T19:47:28.173Z"
   },
   {
    "duration": 4,
    "start_time": "2021-10-25T19:47:29.695Z"
   },
   {
    "duration": 4,
    "start_time": "2021-10-25T19:47:30.640Z"
   },
   {
    "duration": 5,
    "start_time": "2021-10-25T19:47:32.877Z"
   },
   {
    "duration": 5,
    "start_time": "2021-10-25T19:47:33.290Z"
   },
   {
    "duration": 13,
    "start_time": "2021-10-25T19:47:33.594Z"
   },
   {
    "duration": 13,
    "start_time": "2021-10-25T19:47:33.921Z"
   },
   {
    "duration": 29,
    "start_time": "2021-10-25T19:47:34.236Z"
   },
   {
    "duration": 8,
    "start_time": "2021-10-25T19:47:37.984Z"
   },
   {
    "duration": 8,
    "start_time": "2021-10-25T19:47:38.502Z"
   },
   {
    "duration": 8,
    "start_time": "2021-10-25T19:47:39.386Z"
   },
   {
    "duration": 14,
    "start_time": "2021-10-25T19:47:39.999Z"
   },
   {
    "duration": 4,
    "start_time": "2021-10-25T19:47:41.131Z"
   },
   {
    "duration": 3,
    "start_time": "2021-10-25T19:47:42.095Z"
   },
   {
    "duration": 1184,
    "start_time": "2021-10-25T19:47:42.999Z"
   },
   {
    "duration": 3,
    "start_time": "2021-10-25T19:47:44.185Z"
   },
   {
    "duration": 1349,
    "start_time": "2021-10-25T19:47:44.299Z"
   },
   {
    "duration": 5,
    "start_time": "2021-10-25T19:47:45.650Z"
   },
   {
    "duration": 17,
    "start_time": "2021-10-25T19:47:45.656Z"
   },
   {
    "duration": 254,
    "start_time": "2021-10-25T19:47:47.304Z"
   },
   {
    "duration": 213,
    "start_time": "2021-10-25T19:47:48.435Z"
   },
   {
    "duration": 218,
    "start_time": "2021-10-25T19:47:48.997Z"
   },
   {
    "duration": 187,
    "start_time": "2021-10-25T19:47:49.472Z"
   },
   {
    "duration": 182,
    "start_time": "2021-10-25T19:47:49.834Z"
   },
   {
    "duration": 8,
    "start_time": "2021-10-25T19:47:50.500Z"
   },
   {
    "duration": 195,
    "start_time": "2021-10-25T19:47:50.803Z"
   },
   {
    "duration": 139,
    "start_time": "2021-10-25T19:48:21.723Z"
   },
   {
    "duration": 119,
    "start_time": "2021-10-25T19:48:55.060Z"
   },
   {
    "duration": 323,
    "start_time": "2021-10-25T19:50:08.912Z"
   },
   {
    "duration": 10,
    "start_time": "2021-10-25T19:50:20.222Z"
   },
   {
    "duration": 13,
    "start_time": "2021-10-25T19:50:23.524Z"
   },
   {
    "duration": 9,
    "start_time": "2021-10-25T19:51:48.221Z"
   },
   {
    "duration": 120,
    "start_time": "2021-10-25T19:52:34.850Z"
   },
   {
    "duration": 139,
    "start_time": "2021-10-25T19:52:56.857Z"
   },
   {
    "duration": 132,
    "start_time": "2021-10-25T19:53:37.779Z"
   },
   {
    "duration": 10,
    "start_time": "2021-10-25T19:53:41.671Z"
   },
   {
    "duration": 9,
    "start_time": "2021-10-25T19:54:06.659Z"
   },
   {
    "duration": 128,
    "start_time": "2021-10-25T19:54:39.078Z"
   },
   {
    "duration": 127,
    "start_time": "2021-10-25T19:54:58.269Z"
   },
   {
    "duration": 11,
    "start_time": "2021-10-25T19:55:36.071Z"
   },
   {
    "duration": 233,
    "start_time": "2021-10-25T19:56:37.847Z"
   },
   {
    "duration": 170,
    "start_time": "2021-10-25T19:56:55.175Z"
   },
   {
    "duration": 182,
    "start_time": "2021-10-25T19:57:22.616Z"
   },
   {
    "duration": 9,
    "start_time": "2021-10-25T20:00:27.555Z"
   },
   {
    "duration": 9,
    "start_time": "2021-10-25T20:01:02.184Z"
   },
   {
    "duration": 121,
    "start_time": "2021-10-25T20:01:03.432Z"
   },
   {
    "duration": 12,
    "start_time": "2021-10-25T20:01:05.981Z"
   },
   {
    "duration": 9,
    "start_time": "2021-10-25T20:01:08.105Z"
   },
   {
    "duration": 120,
    "start_time": "2021-10-25T20:01:09.073Z"
   },
   {
    "duration": 12,
    "start_time": "2021-10-25T20:01:10.408Z"
   },
   {
    "duration": 9,
    "start_time": "2021-10-25T20:01:10.785Z"
   },
   {
    "duration": 203,
    "start_time": "2021-10-25T20:01:11.123Z"
   },
   {
    "duration": 9,
    "start_time": "2021-10-25T20:01:11.405Z"
   },
   {
    "duration": 171,
    "start_time": "2021-10-25T20:01:11.763Z"
   },
   {
    "duration": 10,
    "start_time": "2021-10-25T20:04:41.801Z"
   },
   {
    "duration": 19,
    "start_time": "2021-10-25T20:05:16.928Z"
   },
   {
    "duration": 15,
    "start_time": "2021-10-25T20:05:50.566Z"
   },
   {
    "duration": 334,
    "start_time": "2021-10-25T20:06:07.268Z"
   },
   {
    "duration": 49,
    "start_time": "2021-10-25T20:06:18.603Z"
   },
   {
    "duration": 3,
    "start_time": "2021-10-25T20:20:40.472Z"
   },
   {
    "duration": 91,
    "start_time": "2021-10-25T20:20:41.044Z"
   },
   {
    "duration": 20,
    "start_time": "2021-10-25T20:20:41.606Z"
   },
   {
    "duration": 20,
    "start_time": "2021-10-25T20:20:42.553Z"
   },
   {
    "duration": 7,
    "start_time": "2021-10-25T20:20:42.838Z"
   },
   {
    "duration": 8,
    "start_time": "2021-10-25T20:20:43.249Z"
   },
   {
    "duration": 14,
    "start_time": "2021-10-25T20:20:43.453Z"
   },
   {
    "duration": 6,
    "start_time": "2021-10-25T20:20:43.796Z"
   },
   {
    "duration": 30,
    "start_time": "2021-10-25T20:20:43.995Z"
   },
   {
    "duration": 12,
    "start_time": "2021-10-25T20:20:44.201Z"
   },
   {
    "duration": 5,
    "start_time": "2021-10-25T20:20:44.609Z"
   },
   {
    "duration": 9,
    "start_time": "2021-10-25T20:20:44.791Z"
   },
   {
    "duration": 10,
    "start_time": "2021-10-25T20:20:44.981Z"
   },
   {
    "duration": 9,
    "start_time": "2021-10-25T20:20:45.175Z"
   },
   {
    "duration": 13,
    "start_time": "2021-10-25T20:20:45.365Z"
   },
   {
    "duration": 16,
    "start_time": "2021-10-25T20:20:45.559Z"
   },
   {
    "duration": 6,
    "start_time": "2021-10-25T20:20:45.757Z"
   },
   {
    "duration": 6,
    "start_time": "2021-10-25T20:20:45.945Z"
   },
   {
    "duration": 6,
    "start_time": "2021-10-25T20:20:46.145Z"
   },
   {
    "duration": 6,
    "start_time": "2021-10-25T20:20:46.343Z"
   },
   {
    "duration": 4,
    "start_time": "2021-10-25T20:20:47.017Z"
   },
   {
    "duration": 4,
    "start_time": "2021-10-25T20:20:47.251Z"
   },
   {
    "duration": 4,
    "start_time": "2021-10-25T20:20:47.452Z"
   },
   {
    "duration": 5,
    "start_time": "2021-10-25T20:20:47.909Z"
   },
   {
    "duration": 14,
    "start_time": "2021-10-25T20:20:48.310Z"
   },
   {
    "duration": 14,
    "start_time": "2021-10-25T20:20:48.659Z"
   },
   {
    "duration": 29,
    "start_time": "2021-10-25T20:20:48.885Z"
   },
   {
    "duration": 9,
    "start_time": "2021-10-25T20:20:50.722Z"
   },
   {
    "duration": 9,
    "start_time": "2021-10-25T20:20:51.099Z"
   },
   {
    "duration": 10,
    "start_time": "2021-10-25T20:20:51.470Z"
   },
   {
    "duration": 14,
    "start_time": "2021-10-25T20:20:51.748Z"
   },
   {
    "duration": 5,
    "start_time": "2021-10-25T20:20:52.062Z"
   },
   {
    "duration": 3,
    "start_time": "2021-10-25T20:20:52.366Z"
   },
   {
    "duration": 1238,
    "start_time": "2021-10-25T20:20:52.700Z"
   },
   {
    "duration": 5,
    "start_time": "2021-10-25T20:20:53.939Z"
   },
   {
    "duration": 1413,
    "start_time": "2021-10-25T20:20:53.946Z"
   },
   {
    "duration": 4,
    "start_time": "2021-10-25T20:20:55.361Z"
   },
   {
    "duration": 40,
    "start_time": "2021-10-25T20:20:55.367Z"
   },
   {
    "duration": 292,
    "start_time": "2021-10-25T20:20:55.409Z"
   },
   {
    "duration": 220,
    "start_time": "2021-10-25T20:20:55.738Z"
   },
   {
    "duration": 232,
    "start_time": "2021-10-25T20:20:56.198Z"
   },
   {
    "duration": 204,
    "start_time": "2021-10-25T20:20:56.730Z"
   },
   {
    "duration": 189,
    "start_time": "2021-10-25T20:20:57.233Z"
   },
   {
    "duration": 9,
    "start_time": "2021-10-25T20:20:58.235Z"
   },
   {
    "duration": 131,
    "start_time": "2021-10-25T20:20:59.015Z"
   },
   {
    "duration": 10,
    "start_time": "2021-10-25T20:20:59.915Z"
   },
   {
    "duration": 56,
    "start_time": "2021-10-25T20:21:00.719Z"
   },
   {
    "duration": 9,
    "start_time": "2021-10-25T20:21:01.780Z"
   },
   {
    "duration": 125,
    "start_time": "2021-10-25T20:21:06.474Z"
   },
   {
    "duration": 10,
    "start_time": "2021-10-25T20:21:07.172Z"
   },
   {
    "duration": 9,
    "start_time": "2021-10-25T20:21:07.820Z"
   },
   {
    "duration": 208,
    "start_time": "2021-10-25T20:21:08.383Z"
   },
   {
    "duration": 12,
    "start_time": "2021-10-25T20:21:08.922Z"
   },
   {
    "duration": 182,
    "start_time": "2021-10-25T20:21:09.364Z"
   },
   {
    "duration": 18,
    "start_time": "2021-10-25T20:24:09.835Z"
   },
   {
    "duration": 284,
    "start_time": "2021-10-25T20:27:51.581Z"
   },
   {
    "duration": 176,
    "start_time": "2021-10-25T20:27:59.174Z"
   },
   {
    "duration": 1123,
    "start_time": "2021-10-25T20:29:31.027Z"
   },
   {
    "duration": 710,
    "start_time": "2021-10-25T20:30:46.156Z"
   },
   {
    "duration": 705,
    "start_time": "2021-10-25T20:30:55.114Z"
   },
   {
    "duration": 183,
    "start_time": "2021-10-25T20:31:47.582Z"
   },
   {
    "duration": 171,
    "start_time": "2021-10-25T20:34:24.875Z"
   },
   {
    "duration": 173,
    "start_time": "2021-10-25T20:34:58.250Z"
   },
   {
    "duration": 2,
    "start_time": "2021-10-25T20:35:36.158Z"
   },
   {
    "duration": 93,
    "start_time": "2021-10-25T20:35:36.715Z"
   },
   {
    "duration": 19,
    "start_time": "2021-10-25T20:35:37.269Z"
   },
   {
    "duration": 19,
    "start_time": "2021-10-25T20:35:38.669Z"
   },
   {
    "duration": 6,
    "start_time": "2021-10-25T20:35:39.088Z"
   },
   {
    "duration": 9,
    "start_time": "2021-10-25T20:35:39.626Z"
   },
   {
    "duration": 14,
    "start_time": "2021-10-25T20:35:39.876Z"
   },
   {
    "duration": 6,
    "start_time": "2021-10-25T20:35:40.312Z"
   },
   {
    "duration": 32,
    "start_time": "2021-10-25T20:35:40.534Z"
   },
   {
    "duration": 13,
    "start_time": "2021-10-25T20:35:40.770Z"
   },
   {
    "duration": 5,
    "start_time": "2021-10-25T20:35:41.319Z"
   },
   {
    "duration": 11,
    "start_time": "2021-10-25T20:35:41.539Z"
   },
   {
    "duration": 9,
    "start_time": "2021-10-25T20:35:41.734Z"
   },
   {
    "duration": 10,
    "start_time": "2021-10-25T20:35:41.926Z"
   },
   {
    "duration": 13,
    "start_time": "2021-10-25T20:35:42.124Z"
   },
   {
    "duration": 17,
    "start_time": "2021-10-25T20:35:58.214Z"
   },
   {
    "duration": 9,
    "start_time": "2021-10-25T20:36:02.300Z"
   },
   {
    "duration": 5,
    "start_time": "2021-10-25T20:36:02.849Z"
   },
   {
    "duration": 7,
    "start_time": "2021-10-25T20:36:03.387Z"
   },
   {
    "duration": 6,
    "start_time": "2021-10-25T20:36:03.991Z"
   },
   {
    "duration": 4,
    "start_time": "2021-10-25T20:36:05.070Z"
   },
   {
    "duration": 5,
    "start_time": "2021-10-25T20:36:05.477Z"
   },
   {
    "duration": 4,
    "start_time": "2021-10-25T20:36:06.020Z"
   },
   {
    "duration": 5,
    "start_time": "2021-10-25T20:36:06.948Z"
   },
   {
    "duration": 11,
    "start_time": "2021-10-25T20:36:07.656Z"
   },
   {
    "duration": 13,
    "start_time": "2021-10-25T20:36:08.280Z"
   },
   {
    "duration": 27,
    "start_time": "2021-10-25T20:36:08.852Z"
   },
   {
    "duration": 9,
    "start_time": "2021-10-25T20:36:12.183Z"
   },
   {
    "duration": 11,
    "start_time": "2021-10-25T20:36:12.970Z"
   },
   {
    "duration": 8,
    "start_time": "2021-10-25T20:36:13.553Z"
   },
   {
    "duration": 14,
    "start_time": "2021-10-25T20:36:14.073Z"
   },
   {
    "duration": 5,
    "start_time": "2021-10-25T20:36:14.676Z"
   },
   {
    "duration": 3,
    "start_time": "2021-10-25T20:36:15.213Z"
   },
   {
    "duration": 1790,
    "start_time": "2021-10-25T20:36:15.811Z"
   },
   {
    "duration": 4,
    "start_time": "2021-10-25T20:36:17.604Z"
   },
   {
    "duration": 1548,
    "start_time": "2021-10-25T20:36:17.611Z"
   },
   {
    "duration": 5,
    "start_time": "2021-10-25T20:36:22.496Z"
   },
   {
    "duration": 14,
    "start_time": "2021-10-25T20:36:23.559Z"
   },
   {
    "duration": 263,
    "start_time": "2021-10-25T20:36:25.488Z"
   },
   {
    "duration": 216,
    "start_time": "2021-10-25T20:36:26.871Z"
   },
   {
    "duration": 230,
    "start_time": "2021-10-25T20:36:29.535Z"
   },
   {
    "duration": 280,
    "start_time": "2021-10-25T20:36:31.166Z"
   },
   {
    "duration": 185,
    "start_time": "2021-10-25T20:36:32.719Z"
   },
   {
    "duration": 9,
    "start_time": "2021-10-25T20:36:35.253Z"
   },
   {
    "duration": 140,
    "start_time": "2021-10-25T20:36:43.137Z"
   },
   {
    "duration": 10,
    "start_time": "2021-10-25T20:36:44.413Z"
   },
   {
    "duration": 52,
    "start_time": "2021-10-25T20:36:46.332Z"
   },
   {
    "duration": 217,
    "start_time": "2021-10-25T20:37:02.190Z"
   },
   {
    "duration": 12,
    "start_time": "2021-10-25T20:37:30.895Z"
   },
   {
    "duration": 22,
    "start_time": "2021-10-25T20:37:47.846Z"
   },
   {
    "duration": 53,
    "start_time": "2021-10-25T20:37:56.120Z"
   },
   {
    "duration": 179,
    "start_time": "2021-10-25T20:38:47.301Z"
   },
   {
    "duration": 51,
    "start_time": "2021-10-25T20:39:24.111Z"
   },
   {
    "duration": 12,
    "start_time": "2021-10-25T20:39:32.914Z"
   },
   {
    "duration": 52,
    "start_time": "2021-10-25T20:39:33.837Z"
   },
   {
    "duration": 217,
    "start_time": "2021-10-25T20:40:19.175Z"
   },
   {
    "duration": 270,
    "start_time": "2021-10-26T18:23:21.606Z"
   },
   {
    "duration": 646,
    "start_time": "2021-10-26T18:23:55.287Z"
   },
   {
    "duration": 82,
    "start_time": "2021-10-26T18:23:55.934Z"
   },
   {
    "duration": 19,
    "start_time": "2021-10-26T18:23:56.018Z"
   },
   {
    "duration": 32,
    "start_time": "2021-10-26T18:23:56.039Z"
   },
   {
    "duration": 5,
    "start_time": "2021-10-26T18:23:56.072Z"
   },
   {
    "duration": 9,
    "start_time": "2021-10-26T18:23:56.079Z"
   },
   {
    "duration": 22,
    "start_time": "2021-10-26T18:23:56.089Z"
   },
   {
    "duration": 6,
    "start_time": "2021-10-26T18:23:56.113Z"
   },
   {
    "duration": 64,
    "start_time": "2021-10-26T18:23:56.121Z"
   },
   {
    "duration": 11,
    "start_time": "2021-10-26T18:23:56.187Z"
   },
   {
    "duration": 12,
    "start_time": "2021-10-26T18:23:56.200Z"
   },
   {
    "duration": 9,
    "start_time": "2021-10-26T18:23:56.213Z"
   },
   {
    "duration": 9,
    "start_time": "2021-10-26T18:23:56.224Z"
   },
   {
    "duration": 34,
    "start_time": "2021-10-26T18:23:56.234Z"
   },
   {
    "duration": 11,
    "start_time": "2021-10-26T18:23:56.270Z"
   },
   {
    "duration": 17,
    "start_time": "2021-10-26T18:23:56.283Z"
   },
   {
    "duration": 16,
    "start_time": "2021-10-26T18:23:56.302Z"
   },
   {
    "duration": 7,
    "start_time": "2021-10-26T18:23:56.320Z"
   },
   {
    "duration": 28,
    "start_time": "2021-10-26T18:23:56.328Z"
   },
   {
    "duration": 26,
    "start_time": "2021-10-26T18:23:56.357Z"
   },
   {
    "duration": 13,
    "start_time": "2021-10-26T18:23:56.385Z"
   },
   {
    "duration": 13,
    "start_time": "2021-10-26T18:23:56.400Z"
   },
   {
    "duration": 13,
    "start_time": "2021-10-26T18:23:56.416Z"
   },
   {
    "duration": 22,
    "start_time": "2021-10-26T18:23:56.431Z"
   },
   {
    "duration": 24,
    "start_time": "2021-10-26T18:23:56.455Z"
   },
   {
    "duration": 23,
    "start_time": "2021-10-26T18:23:56.481Z"
   },
   {
    "duration": 29,
    "start_time": "2021-10-26T18:23:56.506Z"
   },
   {
    "duration": 8,
    "start_time": "2021-10-26T18:23:56.537Z"
   },
   {
    "duration": 8,
    "start_time": "2021-10-26T18:23:56.547Z"
   },
   {
    "duration": 13,
    "start_time": "2021-10-26T18:23:56.556Z"
   },
   {
    "duration": 24,
    "start_time": "2021-10-26T18:23:56.571Z"
   },
   {
    "duration": 15,
    "start_time": "2021-10-26T18:23:56.597Z"
   },
   {
    "duration": 21,
    "start_time": "2021-10-26T18:23:56.614Z"
   },
   {
    "duration": 1314,
    "start_time": "2021-10-26T18:23:56.637Z"
   },
   {
    "duration": 3,
    "start_time": "2021-10-26T18:23:57.953Z"
   },
   {
    "duration": 1470,
    "start_time": "2021-10-26T18:23:57.958Z"
   },
   {
    "duration": 6,
    "start_time": "2021-10-26T18:23:59.430Z"
   },
   {
    "duration": 35,
    "start_time": "2021-10-26T18:23:59.438Z"
   },
   {
    "duration": 275,
    "start_time": "2021-10-26T18:23:59.476Z"
   },
   {
    "duration": 238,
    "start_time": "2021-10-26T18:23:59.753Z"
   },
   {
    "duration": 321,
    "start_time": "2021-10-26T18:23:59.993Z"
   },
   {
    "duration": 221,
    "start_time": "2021-10-26T18:24:00.316Z"
   },
   {
    "duration": 198,
    "start_time": "2021-10-26T18:24:00.539Z"
   },
   {
    "duration": 8,
    "start_time": "2021-10-26T18:24:00.739Z"
   },
   {
    "duration": 155,
    "start_time": "2021-10-26T18:24:00.749Z"
   },
   {
    "duration": 12,
    "start_time": "2021-10-26T18:24:00.906Z"
   },
   {
    "duration": 67,
    "start_time": "2021-10-26T18:24:00.920Z"
   },
   {
    "duration": 198,
    "start_time": "2021-10-26T18:24:00.989Z"
   },
   {
    "duration": 10,
    "start_time": "2021-10-26T18:24:01.189Z"
   },
   {
    "duration": 148,
    "start_time": "2021-10-26T18:24:01.201Z"
   },
   {
    "duration": 22,
    "start_time": "2021-10-26T18:24:01.351Z"
   },
   {
    "duration": 209,
    "start_time": "2021-10-26T18:24:01.375Z"
   },
   {
    "duration": 10,
    "start_time": "2021-10-26T18:24:01.585Z"
   },
   {
    "duration": 167,
    "start_time": "2021-10-26T18:24:01.596Z"
   },
   {
    "duration": 12,
    "start_time": "2021-10-26T18:24:01.765Z"
   },
   {
    "duration": 75,
    "start_time": "2021-10-26T18:24:01.779Z"
   },
   {
    "duration": 196,
    "start_time": "2021-10-26T18:24:01.856Z"
   },
   {
    "duration": 11,
    "start_time": "2021-10-26T18:24:02.054Z"
   },
   {
    "duration": 3,
    "start_time": "2021-10-26T18:24:08.649Z"
   },
   {
    "duration": 97,
    "start_time": "2021-10-26T18:24:09.099Z"
   },
   {
    "duration": 20,
    "start_time": "2021-10-26T18:24:09.563Z"
   },
   {
    "duration": 20,
    "start_time": "2021-10-26T18:24:10.237Z"
   },
   {
    "duration": 7,
    "start_time": "2021-10-26T18:24:10.475Z"
   },
   {
    "duration": 9,
    "start_time": "2021-10-26T18:24:10.902Z"
   },
   {
    "duration": 16,
    "start_time": "2021-10-26T18:24:11.088Z"
   },
   {
    "duration": 6,
    "start_time": "2021-10-26T18:24:11.277Z"
   },
   {
    "duration": 37,
    "start_time": "2021-10-26T18:24:11.427Z"
   },
   {
    "duration": 14,
    "start_time": "2021-10-26T18:24:11.661Z"
   },
   {
    "duration": 7,
    "start_time": "2021-10-26T18:24:11.984Z"
   },
   {
    "duration": 11,
    "start_time": "2021-10-26T18:24:12.346Z"
   },
   {
    "duration": 11,
    "start_time": "2021-10-26T18:24:12.554Z"
   },
   {
    "duration": 13,
    "start_time": "2021-10-26T18:24:12.765Z"
   },
   {
    "duration": 15,
    "start_time": "2021-10-26T18:24:12.913Z"
   },
   {
    "duration": 20,
    "start_time": "2021-10-26T18:24:13.111Z"
   },
   {
    "duration": 8,
    "start_time": "2021-10-26T18:24:13.323Z"
   },
   {
    "duration": 8,
    "start_time": "2021-10-26T18:24:13.505Z"
   },
   {
    "duration": 7,
    "start_time": "2021-10-26T18:24:13.828Z"
   },
   {
    "duration": 7,
    "start_time": "2021-10-26T18:24:14.286Z"
   },
   {
    "duration": 5,
    "start_time": "2021-10-26T18:24:15.013Z"
   },
   {
    "duration": 5,
    "start_time": "2021-10-26T18:24:16.662Z"
   },
   {
    "duration": 4,
    "start_time": "2021-10-26T18:24:17.104Z"
   },
   {
    "duration": 6,
    "start_time": "2021-10-26T18:24:18.230Z"
   },
   {
    "duration": 12,
    "start_time": "2021-10-26T18:24:18.610Z"
   },
   {
    "duration": 14,
    "start_time": "2021-10-26T18:24:19.264Z"
   },
   {
    "duration": 32,
    "start_time": "2021-10-26T18:24:20.197Z"
   },
   {
    "duration": 9,
    "start_time": "2021-10-26T18:24:34.140Z"
   },
   {
    "duration": 9,
    "start_time": "2021-10-26T18:24:34.560Z"
   },
   {
    "duration": 9,
    "start_time": "2021-10-26T18:24:34.906Z"
   },
   {
    "duration": 13,
    "start_time": "2021-10-26T18:24:35.149Z"
   },
   {
    "duration": 4,
    "start_time": "2021-10-26T18:24:35.367Z"
   },
   {
    "duration": 3,
    "start_time": "2021-10-26T18:24:35.565Z"
   },
   {
    "duration": 1304,
    "start_time": "2021-10-26T18:24:35.787Z"
   },
   {
    "duration": 4,
    "start_time": "2021-10-26T18:24:37.093Z"
   },
   {
    "duration": 1374,
    "start_time": "2021-10-26T18:24:37.099Z"
   },
   {
    "duration": 5,
    "start_time": "2021-10-26T18:24:38.475Z"
   },
   {
    "duration": 19,
    "start_time": "2021-10-26T18:24:38.482Z"
   },
   {
    "duration": 362,
    "start_time": "2021-10-26T18:24:38.503Z"
   },
   {
    "duration": 237,
    "start_time": "2021-10-26T18:24:38.867Z"
   },
   {
    "duration": 252,
    "start_time": "2021-10-26T18:24:39.106Z"
   },
   {
    "duration": 217,
    "start_time": "2021-10-26T18:24:39.363Z"
   },
   {
    "duration": 208,
    "start_time": "2021-10-26T18:24:39.581Z"
   },
   {
    "duration": 9,
    "start_time": "2021-10-26T18:24:39.791Z"
   },
   {
    "duration": 155,
    "start_time": "2021-10-26T18:24:39.802Z"
   },
   {
    "duration": 13,
    "start_time": "2021-10-26T18:24:39.963Z"
   },
   {
    "duration": 54,
    "start_time": "2021-10-26T18:24:39.978Z"
   },
   {
    "duration": 212,
    "start_time": "2021-10-26T18:24:40.034Z"
   },
   {
    "duration": 18,
    "start_time": "2021-10-26T18:24:40.249Z"
   },
   {
    "duration": 136,
    "start_time": "2021-10-26T18:24:40.280Z"
   },
   {
    "duration": 12,
    "start_time": "2021-10-26T18:24:40.898Z"
   },
   {
    "duration": 171,
    "start_time": "2021-10-26T18:24:41.450Z"
   },
   {
    "duration": 10,
    "start_time": "2021-10-26T18:24:42.052Z"
   },
   {
    "duration": 133,
    "start_time": "2021-10-26T18:24:42.588Z"
   },
   {
    "duration": 14,
    "start_time": "2021-10-26T18:24:43.166Z"
   },
   {
    "duration": 51,
    "start_time": "2021-10-26T18:24:43.633Z"
   },
   {
    "duration": 195,
    "start_time": "2021-10-26T18:24:44.111Z"
   },
   {
    "duration": 7,
    "start_time": "2021-10-26T18:24:45.034Z"
   },
   {
    "duration": 256,
    "start_time": "2021-10-26T18:25:25.532Z"
   },
   {
    "duration": 5,
    "start_time": "2021-10-26T18:26:22.900Z"
   },
   {
    "duration": 6,
    "start_time": "2021-10-26T18:26:40.993Z"
   },
   {
    "duration": 10,
    "start_time": "2021-10-26T18:27:06.180Z"
   },
   {
    "duration": 11,
    "start_time": "2021-10-26T18:44:54.683Z"
   },
   {
    "duration": 83,
    "start_time": "2021-10-26T18:44:56.060Z"
   },
   {
    "duration": 4,
    "start_time": "2021-10-26T18:45:04.235Z"
   },
   {
    "duration": 4,
    "start_time": "2021-10-26T18:45:08.802Z"
   },
   {
    "duration": 1205,
    "start_time": "2021-10-26T18:45:09.250Z"
   },
   {
    "duration": 356,
    "start_time": "2021-10-26T18:52:24.997Z"
   },
   {
    "duration": 1063,
    "start_time": "2021-10-26T18:52:48.228Z"
   },
   {
    "duration": 334,
    "start_time": "2021-10-26T18:53:28.628Z"
   },
   {
    "duration": 348,
    "start_time": "2021-10-26T18:55:39.837Z"
   },
   {
    "duration": 360,
    "start_time": "2021-10-26T18:56:41.559Z"
   },
   {
    "duration": 472,
    "start_time": "2021-10-26T18:57:07.241Z"
   },
   {
    "duration": 1222,
    "start_time": "2021-10-26T18:57:49.712Z"
   },
   {
    "duration": 234,
    "start_time": "2021-10-26T18:59:18.442Z"
   },
   {
    "duration": 249,
    "start_time": "2021-10-26T18:59:26.444Z"
   },
   {
    "duration": 25,
    "start_time": "2021-10-26T18:59:35.376Z"
   },
   {
    "duration": 81,
    "start_time": "2021-10-26T19:05:01.831Z"
   },
   {
    "duration": 4,
    "start_time": "2021-10-26T19:05:18.776Z"
   },
   {
    "duration": 1121,
    "start_time": "2021-10-26T19:06:15.781Z"
   },
   {
    "duration": 1228,
    "start_time": "2021-10-26T19:07:06.198Z"
   },
   {
    "duration": 1130,
    "start_time": "2021-10-26T19:07:35.296Z"
   },
   {
    "duration": 21,
    "start_time": "2021-10-26T19:08:19.124Z"
   },
   {
    "duration": 78,
    "start_time": "2021-10-26T19:13:43.436Z"
   },
   {
    "duration": 20,
    "start_time": "2021-10-26T19:13:56.059Z"
   },
   {
    "duration": 11,
    "start_time": "2021-10-26T19:14:25.913Z"
   },
   {
    "duration": 248,
    "start_time": "2021-10-26T19:15:32.741Z"
   },
   {
    "duration": 9,
    "start_time": "2021-10-26T19:15:42.216Z"
   },
   {
    "duration": 692,
    "start_time": "2021-10-26T19:16:25.636Z"
   },
   {
    "duration": 8,
    "start_time": "2021-10-26T19:16:49.467Z"
   },
   {
    "duration": 16,
    "start_time": "2021-10-26T19:23:28.738Z"
   },
   {
    "duration": 9,
    "start_time": "2021-10-26T19:23:31.338Z"
   },
   {
    "duration": 5,
    "start_time": "2021-10-26T19:29:50.550Z"
   },
   {
    "duration": 294,
    "start_time": "2021-10-26T19:32:12.078Z"
   },
   {
    "duration": 267,
    "start_time": "2021-10-26T19:32:30.221Z"
   },
   {
    "duration": 21,
    "start_time": "2021-10-26T19:33:05.689Z"
   },
   {
    "duration": 9,
    "start_time": "2021-10-26T19:35:55.201Z"
   },
   {
    "duration": 860,
    "start_time": "2021-10-27T13:39:45.822Z"
   },
   {
    "duration": 475,
    "start_time": "2021-10-27T13:40:07.065Z"
   },
   {
    "duration": 27,
    "start_time": "2021-10-27T13:40:07.544Z"
   },
   {
    "duration": 33,
    "start_time": "2021-10-27T13:40:08.458Z"
   },
   {
    "duration": 9,
    "start_time": "2021-10-27T13:40:08.998Z"
   },
   {
    "duration": 23,
    "start_time": "2021-10-27T13:40:09.908Z"
   },
   {
    "duration": 38,
    "start_time": "2021-10-27T13:40:10.313Z"
   },
   {
    "duration": 9,
    "start_time": "2021-10-27T13:40:11.308Z"
   },
   {
    "duration": 47,
    "start_time": "2021-10-27T13:40:12.137Z"
   },
   {
    "duration": 20,
    "start_time": "2021-10-27T13:40:12.832Z"
   },
   {
    "duration": 7,
    "start_time": "2021-10-27T13:40:14.036Z"
   },
   {
    "duration": 13,
    "start_time": "2021-10-27T13:40:14.451Z"
   },
   {
    "duration": 14,
    "start_time": "2021-10-27T13:40:14.812Z"
   },
   {
    "duration": 14,
    "start_time": "2021-10-27T13:41:22.016Z"
   },
   {
    "duration": 13,
    "start_time": "2021-10-27T13:41:22.927Z"
   },
   {
    "duration": 13,
    "start_time": "2021-10-27T13:41:23.527Z"
   },
   {
    "duration": 18,
    "start_time": "2021-10-27T13:41:24.219Z"
   },
   {
    "duration": 25,
    "start_time": "2021-10-27T13:41:24.853Z"
   },
   {
    "duration": 9,
    "start_time": "2021-10-27T13:41:25.725Z"
   },
   {
    "duration": 7,
    "start_time": "2021-10-27T13:42:52.931Z"
   },
   {
    "duration": 8,
    "start_time": "2021-10-27T13:42:53.937Z"
   },
   {
    "duration": 9,
    "start_time": "2021-10-27T13:42:54.795Z"
   },
   {
    "duration": 6,
    "start_time": "2021-10-27T13:42:56.452Z"
   },
   {
    "duration": 5,
    "start_time": "2021-10-27T13:42:57.080Z"
   },
   {
    "duration": 5,
    "start_time": "2021-10-27T13:42:57.824Z"
   },
   {
    "duration": 888,
    "start_time": "2021-10-27T15:11:05.498Z"
   },
   {
    "duration": 114,
    "start_time": "2021-10-27T15:11:06.389Z"
   },
   {
    "duration": 26,
    "start_time": "2021-10-27T15:11:06.506Z"
   },
   {
    "duration": 48,
    "start_time": "2021-10-27T15:11:06.534Z"
   },
   {
    "duration": 9,
    "start_time": "2021-10-27T15:11:06.585Z"
   },
   {
    "duration": 13,
    "start_time": "2021-10-27T15:11:06.597Z"
   },
   {
    "duration": 30,
    "start_time": "2021-10-27T15:11:06.613Z"
   },
   {
    "duration": 42,
    "start_time": "2021-10-27T15:11:06.648Z"
   },
   {
    "duration": 50,
    "start_time": "2021-10-27T15:11:06.695Z"
   },
   {
    "duration": 50,
    "start_time": "2021-10-27T15:11:06.748Z"
   },
   {
    "duration": 7,
    "start_time": "2021-10-27T15:11:06.801Z"
   },
   {
    "duration": 25,
    "start_time": "2021-10-27T15:11:06.811Z"
   },
   {
    "duration": 44,
    "start_time": "2021-10-27T15:11:06.839Z"
   },
   {
    "duration": 13,
    "start_time": "2021-10-27T15:11:06.886Z"
   },
   {
    "duration": 16,
    "start_time": "2021-10-27T15:11:06.901Z"
   },
   {
    "duration": 64,
    "start_time": "2021-10-27T15:11:06.919Z"
   },
   {
    "duration": 8,
    "start_time": "2021-10-27T15:11:06.986Z"
   },
   {
    "duration": 9,
    "start_time": "2021-10-27T15:11:06.997Z"
   },
   {
    "duration": 10,
    "start_time": "2021-10-27T15:11:07.009Z"
   },
   {
    "duration": 10,
    "start_time": "2021-10-27T15:11:07.021Z"
   },
   {
    "duration": 51,
    "start_time": "2021-10-27T15:11:07.033Z"
   },
   {
    "duration": 5,
    "start_time": "2021-10-27T15:11:07.086Z"
   },
   {
    "duration": 4,
    "start_time": "2021-10-27T15:11:07.097Z"
   },
   {
    "duration": 16,
    "start_time": "2021-10-27T15:11:07.105Z"
   },
   {
    "duration": 64,
    "start_time": "2021-10-27T15:11:07.124Z"
   },
   {
    "duration": 21,
    "start_time": "2021-10-27T15:11:07.191Z"
   },
   {
    "duration": 75,
    "start_time": "2021-10-27T15:11:07.215Z"
   },
   {
    "duration": 17,
    "start_time": "2021-10-27T15:11:07.293Z"
   },
   {
    "duration": 15,
    "start_time": "2021-10-27T15:11:07.313Z"
   },
   {
    "duration": 16,
    "start_time": "2021-10-27T15:11:07.331Z"
   },
   {
    "duration": 62,
    "start_time": "2021-10-27T15:11:07.350Z"
   },
   {
    "duration": 9,
    "start_time": "2021-10-27T15:11:07.415Z"
   },
   {
    "duration": 5,
    "start_time": "2021-10-27T15:11:07.427Z"
   },
   {
    "duration": 2331,
    "start_time": "2021-10-27T15:11:07.435Z"
   },
   {
    "duration": 14,
    "start_time": "2021-10-27T15:11:09.768Z"
   },
   {
    "duration": 2426,
    "start_time": "2021-10-27T15:11:09.785Z"
   },
   {
    "duration": 6,
    "start_time": "2021-10-27T15:11:12.213Z"
   },
   {
    "duration": 22,
    "start_time": "2021-10-27T15:11:12.222Z"
   },
   {
    "duration": 477,
    "start_time": "2021-10-27T15:11:12.247Z"
   },
   {
    "duration": 487,
    "start_time": "2021-10-27T15:11:12.726Z"
   },
   {
    "duration": 461,
    "start_time": "2021-10-27T15:11:13.216Z"
   },
   {
    "duration": 348,
    "start_time": "2021-10-27T15:11:13.682Z"
   },
   {
    "duration": 334,
    "start_time": "2021-10-27T15:11:14.033Z"
   },
   {
    "duration": 15,
    "start_time": "2021-10-27T15:11:14.370Z"
   },
   {
    "duration": 252,
    "start_time": "2021-10-27T15:11:14.388Z"
   },
   {
    "duration": 21,
    "start_time": "2021-10-27T15:11:14.643Z"
   },
   {
    "duration": 91,
    "start_time": "2021-10-27T15:11:14.667Z"
   },
   {
    "duration": 346,
    "start_time": "2021-10-27T15:11:14.761Z"
   },
   {
    "duration": 16,
    "start_time": "2021-10-27T15:11:15.110Z"
   },
   {
    "duration": 260,
    "start_time": "2021-10-27T15:11:15.129Z"
   },
   {
    "duration": 18,
    "start_time": "2021-10-27T15:11:15.392Z"
   },
   {
    "duration": 309,
    "start_time": "2021-10-27T15:11:15.412Z"
   },
   {
    "duration": 13,
    "start_time": "2021-10-27T15:11:15.725Z"
   },
   {
    "duration": 254,
    "start_time": "2021-10-27T15:11:15.741Z"
   },
   {
    "duration": 17,
    "start_time": "2021-10-27T15:11:15.998Z"
   },
   {
    "duration": 97,
    "start_time": "2021-10-27T15:11:16.017Z"
   },
   {
    "duration": 314,
    "start_time": "2021-10-27T15:11:16.117Z"
   },
   {
    "duration": 317,
    "start_time": "2021-10-27T15:11:16.433Z"
   },
   {
    "duration": 7,
    "start_time": "2021-10-27T15:11:16.752Z"
   },
   {
    "duration": 23,
    "start_time": "2021-10-27T15:11:16.761Z"
   },
   {
    "duration": 19,
    "start_time": "2021-10-27T15:11:16.787Z"
   },
   {
    "duration": 5,
    "start_time": "2021-10-27T15:11:16.809Z"
   },
   {
    "duration": 2237,
    "start_time": "2021-10-27T15:11:16.816Z"
   },
   {
    "duration": 28,
    "start_time": "2021-10-27T15:11:19.056Z"
   },
   {
    "duration": 429,
    "start_time": "2021-10-27T15:11:19.086Z"
   },
   {
    "duration": -17784,
    "start_time": "2021-10-27T15:11:37.302Z"
   },
   {
    "duration": -17786,
    "start_time": "2021-10-27T15:11:37.305Z"
   },
   {
    "duration": 4,
    "start_time": "2021-10-27T15:11:33.269Z"
   },
   {
    "duration": 134,
    "start_time": "2021-10-27T15:11:33.995Z"
   },
   {
    "duration": 26,
    "start_time": "2021-10-27T15:11:34.792Z"
   },
   {
    "duration": 25,
    "start_time": "2021-10-27T15:11:36.107Z"
   },
   {
    "duration": 8,
    "start_time": "2021-10-27T15:11:36.919Z"
   },
   {
    "duration": 13,
    "start_time": "2021-10-27T15:11:38.649Z"
   },
   {
    "duration": 26,
    "start_time": "2021-10-27T15:11:39.320Z"
   },
   {
    "duration": 9,
    "start_time": "2021-10-27T15:11:40.046Z"
   },
   {
    "duration": 70,
    "start_time": "2021-10-27T15:11:49.175Z"
   },
   {
    "duration": 30,
    "start_time": "2021-10-27T15:11:55.690Z"
   },
   {
    "duration": 8,
    "start_time": "2021-10-27T15:11:58.262Z"
   },
   {
    "duration": 14,
    "start_time": "2021-10-27T15:12:01.630Z"
   },
   {
    "duration": 18,
    "start_time": "2021-10-27T15:12:04.714Z"
   },
   {
    "duration": 17,
    "start_time": "2021-10-27T15:12:06.379Z"
   },
   {
    "duration": 19,
    "start_time": "2021-10-27T15:12:07.608Z"
   },
   {
    "duration": 26,
    "start_time": "2021-10-27T15:12:08.531Z"
   },
   {
    "duration": 9,
    "start_time": "2021-10-27T15:12:10.666Z"
   },
   {
    "duration": 10,
    "start_time": "2021-10-27T15:12:12.150Z"
   },
   {
    "duration": 14,
    "start_time": "2021-10-27T15:12:13.301Z"
   },
   {
    "duration": 13,
    "start_time": "2021-10-27T15:12:52.148Z"
   },
   {
    "duration": 6,
    "start_time": "2021-10-27T15:12:53.793Z"
   },
   {
    "duration": 5,
    "start_time": "2021-10-27T15:13:09.869Z"
   },
   {
    "duration": 6,
    "start_time": "2021-10-27T15:13:10.593Z"
   },
   {
    "duration": 6,
    "start_time": "2021-10-27T15:13:11.455Z"
   },
   {
    "duration": 20,
    "start_time": "2021-10-27T15:13:15.765Z"
   },
   {
    "duration": 19,
    "start_time": "2021-10-27T15:13:16.796Z"
   },
   {
    "duration": 43,
    "start_time": "2021-10-27T15:13:48.048Z"
   },
   {
    "duration": 25,
    "start_time": "2021-10-27T15:13:59.974Z"
   },
   {
    "duration": 5,
    "start_time": "2021-10-27T15:14:13.637Z"
   },
   {
    "duration": 7,
    "start_time": "2021-10-27T15:14:14.168Z"
   },
   {
    "duration": 18,
    "start_time": "2021-10-27T15:14:14.842Z"
   },
   {
    "duration": 48,
    "start_time": "2021-10-27T15:14:17.082Z"
   },
   {
    "duration": 12,
    "start_time": "2021-10-27T15:15:13.013Z"
   },
   {
    "duration": 12,
    "start_time": "2021-10-27T15:15:14.095Z"
   },
   {
    "duration": 12,
    "start_time": "2021-10-27T15:15:15.306Z"
   },
   {
    "duration": 22,
    "start_time": "2021-10-27T15:15:16.003Z"
   },
   {
    "duration": 8,
    "start_time": "2021-10-27T15:15:17.548Z"
   },
   {
    "duration": 5,
    "start_time": "2021-10-27T15:15:20.729Z"
   },
   {
    "duration": 2239,
    "start_time": "2021-10-27T15:15:21.624Z"
   },
   {
    "duration": 16,
    "start_time": "2021-10-27T15:15:23.866Z"
   },
   {
    "duration": 2325,
    "start_time": "2021-10-27T15:15:23.885Z"
   },
   {
    "duration": 7,
    "start_time": "2021-10-27T15:15:30.565Z"
   },
   {
    "duration": 22,
    "start_time": "2021-10-27T15:15:31.438Z"
   },
   {
    "duration": 544,
    "start_time": "2021-10-27T15:15:34.098Z"
   },
   {
    "duration": 380,
    "start_time": "2021-10-27T15:15:35.978Z"
   },
   {
    "duration": 398,
    "start_time": "2021-10-27T15:15:39.255Z"
   },
   {
    "duration": 331,
    "start_time": "2021-10-27T15:15:40.419Z"
   },
   {
    "duration": 406,
    "start_time": "2021-10-27T15:15:45.020Z"
   },
   {
    "duration": 13,
    "start_time": "2021-10-27T15:15:50.368Z"
   },
   {
    "duration": 231,
    "start_time": "2021-10-27T15:15:51.852Z"
   },
   {
    "duration": 17,
    "start_time": "2021-10-27T15:15:55.838Z"
   },
   {
    "duration": 78,
    "start_time": "2021-10-27T15:15:57.085Z"
   },
   {
    "duration": 294,
    "start_time": "2021-10-27T15:15:59.239Z"
   },
   {
    "duration": 17,
    "start_time": "2021-10-27T15:16:00.592Z"
   },
   {
    "duration": 355,
    "start_time": "2021-10-27T15:16:02.397Z"
   },
   {
    "duration": 21,
    "start_time": "2021-10-27T15:16:04.438Z"
   },
   {
    "duration": 279,
    "start_time": "2021-10-27T15:16:06.150Z"
   },
   {
    "duration": 13,
    "start_time": "2021-10-27T15:16:07.155Z"
   },
   {
    "duration": 228,
    "start_time": "2021-10-27T15:16:08.151Z"
   },
   {
    "duration": 18,
    "start_time": "2021-10-27T15:16:11.573Z"
   },
   {
    "duration": 73,
    "start_time": "2021-10-27T15:16:12.885Z"
   },
   {
    "duration": 295,
    "start_time": "2021-10-27T15:16:14.081Z"
   },
   {
    "duration": 293,
    "start_time": "2021-10-27T15:16:17.206Z"
   },
   {
    "duration": 8,
    "start_time": "2021-10-27T15:16:20.668Z"
   },
   {
    "duration": 10,
    "start_time": "2021-10-27T15:16:21.580Z"
   },
   {
    "duration": 12,
    "start_time": "2021-10-27T15:16:23.488Z"
   },
   {
    "duration": 5,
    "start_time": "2021-10-27T15:16:28.610Z"
   },
   {
    "duration": 2170,
    "start_time": "2021-10-27T15:16:30.284Z"
   },
   {
    "duration": 21,
    "start_time": "2021-10-27T15:16:34.594Z"
   },
   {
    "duration": 329,
    "start_time": "2021-10-27T15:16:39.817Z"
   },
   {
    "duration": 5,
    "start_time": "2021-10-27T15:17:22.937Z"
   },
   {
    "duration": 2018,
    "start_time": "2021-10-27T15:17:23.590Z"
   },
   {
    "duration": 21,
    "start_time": "2021-10-27T15:17:25.611Z"
   },
   {
    "duration": 363,
    "start_time": "2021-10-27T15:17:26.677Z"
   },
   {
    "duration": 12,
    "start_time": "2021-10-27T15:17:36.346Z"
   },
   {
    "duration": 5,
    "start_time": "2021-10-27T15:17:37.147Z"
   },
   {
    "duration": 2048,
    "start_time": "2021-10-27T15:17:38.372Z"
   },
   {
    "duration": 23,
    "start_time": "2021-10-27T15:17:42.172Z"
   },
   {
    "duration": 335,
    "start_time": "2021-10-27T15:17:43.321Z"
   },
   {
    "duration": 8,
    "start_time": "2021-10-27T15:18:51.361Z"
   },
   {
    "duration": 107,
    "start_time": "2021-10-27T15:22:45.186Z"
   },
   {
    "duration": 106,
    "start_time": "2021-10-27T15:22:54.005Z"
   },
   {
    "duration": 353,
    "start_time": "2021-10-27T15:23:06.990Z"
   },
   {
    "duration": 7,
    "start_time": "2021-10-27T15:23:51.978Z"
   },
   {
    "duration": 24,
    "start_time": "2021-10-27T15:23:57.856Z"
   },
   {
    "duration": 23,
    "start_time": "2021-10-27T15:24:11.271Z"
   },
   {
    "duration": 29,
    "start_time": "2021-10-27T15:24:12.415Z"
   },
   {
    "duration": 11,
    "start_time": "2021-10-27T15:24:13.933Z"
   },
   {
    "duration": 12,
    "start_time": "2021-10-27T15:26:45.667Z"
   },
   {
    "duration": 325,
    "start_time": "2021-10-27T15:27:50.845Z"
   },
   {
    "duration": 294,
    "start_time": "2021-10-27T15:42:32.694Z"
   },
   {
    "duration": 285,
    "start_time": "2021-10-27T15:42:35.468Z"
   },
   {
    "duration": 6,
    "start_time": "2021-10-27T15:42:36.383Z"
   },
   {
    "duration": 8,
    "start_time": "2021-10-27T15:42:37.284Z"
   },
   {
    "duration": 13,
    "start_time": "2021-10-27T15:42:38.172Z"
   },
   {
    "duration": 5,
    "start_time": "2021-10-27T15:42:39.150Z"
   },
   {
    "duration": 2118,
    "start_time": "2021-10-27T15:42:40.002Z"
   },
   {
    "duration": 7,
    "start_time": "2021-10-27T15:42:42.122Z"
   },
   {
    "duration": 33,
    "start_time": "2021-10-27T15:42:42.132Z"
   },
   {
    "duration": 36,
    "start_time": "2021-10-27T15:42:42.168Z"
   },
   {
    "duration": 12,
    "start_time": "2021-10-27T15:42:42.553Z"
   },
   {
    "duration": 13,
    "start_time": "2021-10-27T15:42:49.760Z"
   },
   {
    "duration": 7588,
    "start_time": "2021-10-27T15:42:50.754Z"
   },
   {
    "duration": 313,
    "start_time": "2021-10-27T15:43:25.319Z"
   },
   {
    "duration": 510,
    "start_time": "2021-10-27T15:43:34.572Z"
   },
   {
    "duration": 18,
    "start_time": "2021-10-27T15:43:57.666Z"
   },
   {
    "duration": 7,
    "start_time": "2021-10-27T15:44:11.034Z"
   },
   {
    "duration": 8,
    "start_time": "2021-10-27T15:44:24.637Z"
   },
   {
    "duration": 297,
    "start_time": "2021-10-27T15:44:35.441Z"
   },
   {
    "duration": 8,
    "start_time": "2021-10-27T15:44:44.123Z"
   },
   {
    "duration": 370,
    "start_time": "2021-10-27T15:53:03.773Z"
   },
   {
    "duration": 346,
    "start_time": "2021-10-27T15:54:53.949Z"
   },
   {
    "duration": 888,
    "start_time": "2021-10-28T07:33:39.516Z"
   },
   {
    "duration": 114,
    "start_time": "2021-10-28T07:33:40.407Z"
   },
   {
    "duration": 26,
    "start_time": "2021-10-28T07:33:41.505Z"
   },
   {
    "duration": 34,
    "start_time": "2021-10-28T07:33:43.168Z"
   },
   {
    "duration": 8,
    "start_time": "2021-10-28T07:33:43.958Z"
   },
   {
    "duration": 13,
    "start_time": "2021-10-28T07:33:45.125Z"
   },
   {
    "duration": 31,
    "start_time": "2021-10-28T07:33:45.595Z"
   },
   {
    "duration": 9,
    "start_time": "2021-10-28T07:33:46.041Z"
   },
   {
    "duration": 50,
    "start_time": "2021-10-28T07:33:46.480Z"
   },
   {
    "duration": 19,
    "start_time": "2021-10-28T07:33:46.829Z"
   },
   {
    "duration": 9,
    "start_time": "2021-10-28T07:33:47.475Z"
   },
   {
    "duration": 15,
    "start_time": "2021-10-28T07:33:47.796Z"
   },
   {
    "duration": 13,
    "start_time": "2021-10-28T07:33:48.060Z"
   },
   {
    "duration": 14,
    "start_time": "2021-10-28T07:33:48.319Z"
   },
   {
    "duration": 18,
    "start_time": "2021-10-28T07:33:48.562Z"
   },
   {
    "duration": 24,
    "start_time": "2021-10-28T07:33:48.808Z"
   },
   {
    "duration": 9,
    "start_time": "2021-10-28T07:33:49.108Z"
   },
   {
    "duration": 7,
    "start_time": "2021-10-28T07:33:49.477Z"
   },
   {
    "duration": 9,
    "start_time": "2021-10-28T07:33:50.044Z"
   },
   {
    "duration": 9,
    "start_time": "2021-10-28T07:33:50.645Z"
   },
   {
    "duration": 5,
    "start_time": "2021-10-28T07:33:51.775Z"
   },
   {
    "duration": 5,
    "start_time": "2021-10-28T07:33:52.401Z"
   },
   {
    "duration": 5,
    "start_time": "2021-10-28T07:33:53.005Z"
   },
   {
    "duration": 11,
    "start_time": "2021-10-28T07:33:53.570Z"
   },
   {
    "duration": 21,
    "start_time": "2021-10-28T07:33:53.908Z"
   },
   {
    "duration": 20,
    "start_time": "2021-10-28T07:33:54.149Z"
   },
   {
    "duration": 45,
    "start_time": "2021-10-28T07:33:54.370Z"
   },
   {
    "duration": 13,
    "start_time": "2021-10-28T07:33:57.245Z"
   },
   {
    "duration": 12,
    "start_time": "2021-10-28T07:33:57.562Z"
   },
   {
    "duration": 12,
    "start_time": "2021-10-28T07:33:57.895Z"
   },
   {
    "duration": 21,
    "start_time": "2021-10-28T07:33:58.198Z"
   },
   {
    "duration": 5,
    "start_time": "2021-10-28T07:33:58.522Z"
   },
   {
    "duration": 4,
    "start_time": "2021-10-28T07:33:58.803Z"
   },
   {
    "duration": 2466,
    "start_time": "2021-10-28T07:33:59.093Z"
   },
   {
    "duration": 5,
    "start_time": "2021-10-28T07:34:01.562Z"
   },
   {
    "duration": 2433,
    "start_time": "2021-10-28T07:34:01.570Z"
   },
   {
    "duration": 6,
    "start_time": "2021-10-28T07:34:04.006Z"
   },
   {
    "duration": 22,
    "start_time": "2021-10-28T07:34:04.015Z"
   },
   {
    "duration": 493,
    "start_time": "2021-10-28T07:34:04.040Z"
   },
   {
    "duration": 406,
    "start_time": "2021-10-28T07:34:04.536Z"
   },
   {
    "duration": 481,
    "start_time": "2021-10-28T07:34:04.945Z"
   },
   {
    "duration": 446,
    "start_time": "2021-10-28T07:34:05.429Z"
   },
   {
    "duration": 327,
    "start_time": "2021-10-28T07:34:05.877Z"
   },
   {
    "duration": 12,
    "start_time": "2021-10-28T07:34:06.207Z"
   },
   {
    "duration": 220,
    "start_time": "2021-10-28T07:34:06.466Z"
   },
   {
    "duration": 18,
    "start_time": "2021-10-28T07:34:07.107Z"
   },
   {
    "duration": 77,
    "start_time": "2021-10-28T07:34:07.663Z"
   },
   {
    "duration": 305,
    "start_time": "2021-10-28T07:34:08.695Z"
   },
   {
    "duration": 11,
    "start_time": "2021-10-28T07:34:09.721Z"
   },
   {
    "duration": 213,
    "start_time": "2021-10-28T07:34:10.641Z"
   },
   {
    "duration": 17,
    "start_time": "2021-10-28T07:34:11.401Z"
   },
   {
    "duration": 279,
    "start_time": "2021-10-28T07:34:12.308Z"
   },
   {
    "duration": 11,
    "start_time": "2021-10-28T07:34:13.150Z"
   },
   {
    "duration": 228,
    "start_time": "2021-10-28T07:34:13.938Z"
   },
   {
    "duration": 16,
    "start_time": "2021-10-28T07:34:14.692Z"
   },
   {
    "duration": 74,
    "start_time": "2021-10-28T07:34:16.215Z"
   },
   {
    "duration": 312,
    "start_time": "2021-10-28T07:34:16.293Z"
   },
   {
    "duration": 305,
    "start_time": "2021-10-28T07:34:16.822Z"
   },
   {
    "duration": 6,
    "start_time": "2021-10-28T07:34:17.130Z"
   },
   {
    "duration": 8,
    "start_time": "2021-10-28T07:34:17.245Z"
   },
   {
    "duration": 14,
    "start_time": "2021-10-28T07:34:17.612Z"
   },
   {
    "duration": 5,
    "start_time": "2021-10-28T07:34:17.979Z"
   },
   {
    "duration": 2184,
    "start_time": "2021-10-28T07:34:18.194Z"
   },
   {
    "duration": 6,
    "start_time": "2021-10-28T07:34:20.380Z"
   },
   {
    "duration": 32,
    "start_time": "2021-10-28T07:34:20.389Z"
   },
   {
    "duration": 480,
    "start_time": "2021-10-28T07:34:20.424Z"
   },
   {
    "duration": 355,
    "start_time": "2021-10-28T07:34:21.040Z"
   },
   {
    "duration": 2283,
    "start_time": "2021-10-28T07:35:02.207Z"
   },
   {
    "duration": 2050,
    "start_time": "2021-10-28T07:35:22.989Z"
   },
   {
    "duration": 7,
    "start_time": "2021-10-28T07:35:34.017Z"
   },
   {
    "duration": 22,
    "start_time": "2021-10-28T07:35:44.927Z"
   },
   {
    "duration": 23,
    "start_time": "2021-10-28T07:35:46.168Z"
   },
   {
    "duration": 11,
    "start_time": "2021-10-28T07:35:48.418Z"
   },
   {
    "duration": 13,
    "start_time": "2021-10-28T07:35:54.725Z"
   },
   {
    "duration": 8,
    "start_time": "2021-10-28T07:35:56.255Z"
   },
   {
    "duration": 13,
    "start_time": "2021-10-28T07:36:10.517Z"
   },
   {
    "duration": 9204,
    "start_time": "2021-10-28T07:39:14.966Z"
   },
   {
    "duration": 9592,
    "start_time": "2021-10-28T07:39:30.886Z"
   },
   {
    "duration": 10,
    "start_time": "2021-10-28T07:39:52.939Z"
   },
   {
    "duration": 9,
    "start_time": "2021-10-28T07:40:05.571Z"
   },
   {
    "duration": 8,
    "start_time": "2021-10-28T07:40:06.934Z"
   },
   {
    "duration": 13,
    "start_time": "2021-10-28T07:40:08.008Z"
   },
   {
    "duration": 9691,
    "start_time": "2021-10-28T07:40:08.764Z"
   },
   {
    "duration": 9,
    "start_time": "2021-10-28T07:40:30.421Z"
   },
   {
    "duration": 7,
    "start_time": "2021-10-28T07:40:42.528Z"
   },
   {
    "duration": 9855,
    "start_time": "2021-10-28T07:40:55.186Z"
   },
   {
    "duration": 13,
    "start_time": "2021-10-28T07:41:08.602Z"
   },
   {
    "duration": 9100,
    "start_time": "2021-10-28T07:41:10.582Z"
   },
   {
    "duration": 261,
    "start_time": "2021-10-28T07:52:54.928Z"
   },
   {
    "duration": 385,
    "start_time": "2021-10-28T07:53:04.161Z"
   },
   {
    "duration": 967,
    "start_time": "2021-10-28T11:21:08.131Z"
   },
   {
    "duration": 120,
    "start_time": "2021-10-28T11:21:10.108Z"
   },
   {
    "duration": 26,
    "start_time": "2021-10-28T11:21:11.101Z"
   },
   {
    "duration": 32,
    "start_time": "2021-10-28T11:21:12.300Z"
   },
   {
    "duration": 10,
    "start_time": "2021-10-28T11:21:13.049Z"
   },
   {
    "duration": 16,
    "start_time": "2021-10-28T11:21:14.263Z"
   },
   {
    "duration": 29,
    "start_time": "2021-10-28T11:21:14.688Z"
   },
   {
    "duration": 8,
    "start_time": "2021-10-28T11:21:14.913Z"
   },
   {
    "duration": 54,
    "start_time": "2021-10-28T11:21:15.149Z"
   },
   {
    "duration": 20,
    "start_time": "2021-10-28T11:21:15.287Z"
   },
   {
    "duration": 8,
    "start_time": "2021-10-28T11:21:15.651Z"
   },
   {
    "duration": 13,
    "start_time": "2021-10-28T11:21:15.816Z"
   },
   {
    "duration": 13,
    "start_time": "2021-10-28T11:21:15.987Z"
   },
   {
    "duration": 17,
    "start_time": "2021-10-28T11:21:16.133Z"
   },
   {
    "duration": 21,
    "start_time": "2021-10-28T11:21:16.326Z"
   },
   {
    "duration": 25,
    "start_time": "2021-10-28T11:21:16.484Z"
   },
   {
    "duration": 11,
    "start_time": "2021-10-28T11:21:16.647Z"
   },
   {
    "duration": 7,
    "start_time": "2021-10-28T11:21:16.843Z"
   },
   {
    "duration": 8,
    "start_time": "2021-10-28T11:21:17.015Z"
   },
   {
    "duration": 8,
    "start_time": "2021-10-28T11:21:17.217Z"
   },
   {
    "duration": 6,
    "start_time": "2021-10-28T11:21:17.568Z"
   },
   {
    "duration": 6,
    "start_time": "2021-10-28T11:21:17.919Z"
   },
   {
    "duration": 5,
    "start_time": "2021-10-28T11:21:18.121Z"
   },
   {
    "duration": 11,
    "start_time": "2021-10-28T11:21:18.303Z"
   },
   {
    "duration": 23,
    "start_time": "2021-10-28T11:21:18.485Z"
   },
   {
    "duration": 18,
    "start_time": "2021-10-28T11:21:18.675Z"
   },
   {
    "duration": 46,
    "start_time": "2021-10-28T11:21:18.871Z"
   },
   {
    "duration": 14,
    "start_time": "2021-10-28T11:21:20.234Z"
   },
   {
    "duration": 14,
    "start_time": "2021-10-28T11:21:20.445Z"
   },
   {
    "duration": 13,
    "start_time": "2021-10-28T11:21:20.636Z"
   },
   {
    "duration": 23,
    "start_time": "2021-10-28T11:21:20.809Z"
   },
   {
    "duration": 6,
    "start_time": "2021-10-28T11:21:21.045Z"
   },
   {
    "duration": 6,
    "start_time": "2021-10-28T11:21:21.241Z"
   },
   {
    "duration": 2464,
    "start_time": "2021-10-28T11:21:21.396Z"
   },
   {
    "duration": 6,
    "start_time": "2021-10-28T11:21:23.864Z"
   },
   {
    "duration": 2581,
    "start_time": "2021-10-28T11:21:23.873Z"
   },
   {
    "duration": 8,
    "start_time": "2021-10-28T11:21:26.458Z"
   },
   {
    "duration": 24,
    "start_time": "2021-10-28T11:21:26.469Z"
   },
   {
    "duration": 522,
    "start_time": "2021-10-28T11:21:26.495Z"
   },
   {
    "duration": 442,
    "start_time": "2021-10-28T11:21:27.019Z"
   },
   {
    "duration": 514,
    "start_time": "2021-10-28T11:21:27.466Z"
   },
   {
    "duration": 367,
    "start_time": "2021-10-28T11:21:27.984Z"
   },
   {
    "duration": 382,
    "start_time": "2021-10-28T11:21:28.354Z"
   },
   {
    "duration": 14,
    "start_time": "2021-10-28T11:21:28.739Z"
   },
   {
    "duration": 281,
    "start_time": "2021-10-28T11:21:28.755Z"
   },
   {
    "duration": 20,
    "start_time": "2021-10-28T11:21:29.040Z"
   },
   {
    "duration": 118,
    "start_time": "2021-10-28T11:21:29.063Z"
   },
   {
    "duration": 337,
    "start_time": "2021-10-28T11:21:29.183Z"
   },
   {
    "duration": 14,
    "start_time": "2021-10-28T11:21:29.528Z"
   },
   {
    "duration": 254,
    "start_time": "2021-10-28T11:21:29.545Z"
   },
   {
    "duration": 29,
    "start_time": "2021-10-28T11:21:29.801Z"
   },
   {
    "duration": 311,
    "start_time": "2021-10-28T11:21:29.834Z"
   },
   {
    "duration": 14,
    "start_time": "2021-10-28T11:21:30.148Z"
   },
   {
    "duration": 264,
    "start_time": "2021-10-28T11:21:30.165Z"
   },
   {
    "duration": 18,
    "start_time": "2021-10-28T11:21:30.432Z"
   },
   {
    "duration": 94,
    "start_time": "2021-10-28T11:21:30.456Z"
   },
   {
    "duration": 349,
    "start_time": "2021-10-28T11:21:30.554Z"
   },
   {
    "duration": 366,
    "start_time": "2021-10-28T11:21:30.906Z"
   },
   {
    "duration": 6,
    "start_time": "2021-10-28T11:21:31.274Z"
   },
   {
    "duration": 19,
    "start_time": "2021-10-28T11:21:31.283Z"
   },
   {
    "duration": 28,
    "start_time": "2021-10-28T11:21:31.304Z"
   },
   {
    "duration": 5,
    "start_time": "2021-10-28T11:21:31.335Z"
   },
   {
    "duration": 2340,
    "start_time": "2021-10-28T11:21:31.343Z"
   },
   {
    "duration": 7,
    "start_time": "2021-10-28T11:21:33.686Z"
   },
   {
    "duration": 59,
    "start_time": "2021-10-28T11:21:33.695Z"
   },
   {
    "duration": 47,
    "start_time": "2021-10-28T11:21:33.757Z"
   },
   {
    "duration": 12,
    "start_time": "2021-10-28T11:21:33.806Z"
   },
   {
    "duration": 20,
    "start_time": "2021-10-28T11:21:33.829Z"
   },
   {
    "duration": 20,
    "start_time": "2021-10-28T11:21:33.852Z"
   },
   {
    "duration": 29,
    "start_time": "2021-10-28T11:21:33.875Z"
   },
   {
    "duration": 7,
    "start_time": "2021-10-28T13:46:28.167Z"
   },
   {
    "duration": 11,
    "start_time": "2021-10-28T13:46:29.001Z"
   },
   {
    "duration": 12,
    "start_time": "2021-10-28T13:46:31.724Z"
   },
   {
    "duration": 11,
    "start_time": "2021-10-28T13:46:33.682Z"
   },
   {
    "duration": 21,
    "start_time": "2021-10-28T13:46:35.092Z"
   },
   {
    "duration": 29,
    "start_time": "2021-10-28T13:46:37.713Z"
   },
   {
    "duration": 8,
    "start_time": "2021-10-28T13:46:41.706Z"
   },
   {
    "duration": 7,
    "start_time": "2021-10-28T13:46:44.663Z"
   },
   {
    "duration": 9,
    "start_time": "2021-10-28T13:46:45.430Z"
   },
   {
    "duration": 8,
    "start_time": "2021-10-28T13:46:46.371Z"
   },
   {
    "duration": 6,
    "start_time": "2021-10-28T13:46:50.826Z"
   },
   {
    "duration": 5,
    "start_time": "2021-10-28T13:46:51.538Z"
   },
   {
    "duration": 5,
    "start_time": "2021-10-28T13:46:52.182Z"
   },
   {
    "duration": 4,
    "start_time": "2021-10-28T13:46:52.925Z"
   },
   {
    "duration": 7,
    "start_time": "2021-10-28T13:46:53.879Z"
   },
   {
    "duration": 22,
    "start_time": "2021-10-28T13:48:41.500Z"
   },
   {
    "duration": 48,
    "start_time": "2021-10-28T13:48:42.444Z"
   },
   {
    "duration": 12,
    "start_time": "2021-10-28T14:02:06.284Z"
   },
   {
    "duration": 26,
    "start_time": "2021-10-28T14:04:03.302Z"
   },
   {
    "duration": 23,
    "start_time": "2021-10-28T14:04:11.047Z"
   },
   {
    "duration": 882,
    "start_time": "2021-10-28T14:04:38.892Z"
   },
   {
    "duration": 112,
    "start_time": "2021-10-28T14:04:39.777Z"
   },
   {
    "duration": 26,
    "start_time": "2021-10-28T14:04:39.891Z"
   },
   {
    "duration": 24,
    "start_time": "2021-10-28T14:04:39.930Z"
   },
   {
    "duration": 32,
    "start_time": "2021-10-28T14:04:39.957Z"
   },
   {
    "duration": 8,
    "start_time": "2021-10-28T14:04:39.992Z"
   },
   {
    "duration": 37,
    "start_time": "2021-10-28T14:04:40.002Z"
   },
   {
    "duration": 28,
    "start_time": "2021-10-28T14:04:40.043Z"
   },
   {
    "duration": 8,
    "start_time": "2021-10-28T14:04:40.074Z"
   },
   {
    "duration": 81,
    "start_time": "2021-10-28T14:04:40.084Z"
   },
   {
    "duration": 21,
    "start_time": "2021-10-28T14:04:40.167Z"
   },
   {
    "duration": 8,
    "start_time": "2021-10-28T14:04:40.190Z"
   },
   {
    "duration": 39,
    "start_time": "2021-10-28T14:04:40.200Z"
   },
   {
    "duration": 12,
    "start_time": "2021-10-28T14:04:40.242Z"
   },
   {
    "duration": 12,
    "start_time": "2021-10-28T14:04:40.256Z"
   },
   {
    "duration": 16,
    "start_time": "2021-10-28T14:04:40.271Z"
   },
   {
    "duration": 62,
    "start_time": "2021-10-28T14:04:40.289Z"
   },
   {
    "duration": 8,
    "start_time": "2021-10-28T14:04:40.353Z"
   },
   {
    "duration": 7,
    "start_time": "2021-10-28T14:04:40.364Z"
   },
   {
    "duration": 10,
    "start_time": "2021-10-28T14:04:40.374Z"
   },
   {
    "duration": 47,
    "start_time": "2021-10-28T14:04:40.386Z"
   },
   {
    "duration": 5,
    "start_time": "2021-10-28T14:04:40.435Z"
   },
   {
    "duration": 5,
    "start_time": "2021-10-28T14:04:40.447Z"
   },
   {
    "duration": 9,
    "start_time": "2021-10-28T14:04:40.455Z"
   },
   {
    "duration": 11,
    "start_time": "2021-10-28T14:04:40.466Z"
   },
   {
    "duration": 63,
    "start_time": "2021-10-28T14:04:40.479Z"
   },
   {
    "duration": 20,
    "start_time": "2021-10-28T14:04:40.544Z"
   },
   {
    "duration": 64,
    "start_time": "2021-10-28T14:04:40.566Z"
   },
   {
    "duration": 13,
    "start_time": "2021-10-28T14:04:40.632Z"
   },
   {
    "duration": 11,
    "start_time": "2021-10-28T14:04:40.647Z"
   },
   {
    "duration": 11,
    "start_time": "2021-10-28T14:04:40.661Z"
   },
   {
    "duration": 57,
    "start_time": "2021-10-28T14:04:40.674Z"
   },
   {
    "duration": 11,
    "start_time": "2021-10-28T14:04:40.733Z"
   },
   {
    "duration": 10,
    "start_time": "2021-10-28T14:04:40.747Z"
   },
   {
    "duration": 2250,
    "start_time": "2021-10-28T14:04:40.759Z"
   },
   {
    "duration": 6,
    "start_time": "2021-10-28T14:04:43.012Z"
   },
   {
    "duration": 2355,
    "start_time": "2021-10-28T14:04:43.020Z"
   },
   {
    "duration": 7,
    "start_time": "2021-10-28T14:04:45.377Z"
   },
   {
    "duration": 36,
    "start_time": "2021-10-28T14:04:45.387Z"
   },
   {
    "duration": 468,
    "start_time": "2021-10-28T14:04:45.430Z"
   },
   {
    "duration": 378,
    "start_time": "2021-10-28T14:04:45.901Z"
   },
   {
    "duration": 466,
    "start_time": "2021-10-28T14:04:46.282Z"
   },
   {
    "duration": 349,
    "start_time": "2021-10-28T14:04:46.750Z"
   },
   {
    "duration": 330,
    "start_time": "2021-10-28T14:04:47.101Z"
   },
   {
    "duration": 12,
    "start_time": "2021-10-28T14:04:47.433Z"
   },
   {
    "duration": 247,
    "start_time": "2021-10-28T14:04:47.447Z"
   },
   {
    "duration": 16,
    "start_time": "2021-10-28T14:04:47.696Z"
   },
   {
    "duration": 88,
    "start_time": "2021-10-28T14:04:47.714Z"
   },
   {
    "duration": 328,
    "start_time": "2021-10-28T14:04:47.805Z"
   },
   {
    "duration": 11,
    "start_time": "2021-10-28T14:04:48.135Z"
   },
   {
    "duration": 229,
    "start_time": "2021-10-28T14:04:48.148Z"
   },
   {
    "duration": 16,
    "start_time": "2021-10-28T14:04:48.379Z"
   },
   {
    "duration": 316,
    "start_time": "2021-10-28T14:04:48.398Z"
   },
   {
    "duration": 21,
    "start_time": "2021-10-28T14:04:48.716Z"
   },
   {
    "duration": 238,
    "start_time": "2021-10-28T14:04:48.739Z"
   },
   {
    "duration": 16,
    "start_time": "2021-10-28T14:04:48.979Z"
   },
   {
    "duration": 94,
    "start_time": "2021-10-28T14:04:48.997Z"
   },
   {
    "duration": 298,
    "start_time": "2021-10-28T14:04:49.093Z"
   },
   {
    "duration": 320,
    "start_time": "2021-10-28T14:04:49.393Z"
   },
   {
    "duration": 14,
    "start_time": "2021-10-28T14:04:49.716Z"
   },
   {
    "duration": 9,
    "start_time": "2021-10-28T14:04:49.733Z"
   },
   {
    "duration": 18,
    "start_time": "2021-10-28T14:04:49.744Z"
   },
   {
    "duration": 6,
    "start_time": "2021-10-28T14:04:49.765Z"
   },
   {
    "duration": 2165,
    "start_time": "2021-10-28T14:04:49.773Z"
   },
   {
    "duration": 6,
    "start_time": "2021-10-28T14:04:51.941Z"
   },
   {
    "duration": 36,
    "start_time": "2021-10-28T14:04:51.949Z"
   },
   {
    "duration": 48,
    "start_time": "2021-10-28T14:04:51.987Z"
   },
   {
    "duration": 11,
    "start_time": "2021-10-28T14:04:52.042Z"
   },
   {
    "duration": 27,
    "start_time": "2021-10-28T14:04:52.055Z"
   },
   {
    "duration": 23,
    "start_time": "2021-10-28T14:04:52.084Z"
   },
   {
    "duration": 21,
    "start_time": "2021-10-28T14:04:52.109Z"
   },
   {
    "duration": 329,
    "start_time": "2021-10-28T14:08:09.992Z"
   },
   {
    "duration": 250,
    "start_time": "2021-10-28T14:08:22.152Z"
   },
   {
    "duration": 5533,
    "start_time": "2021-10-28T14:08:40.477Z"
   },
   {
    "duration": 593,
    "start_time": "2021-10-28T18:04:21.357Z"
   },
   {
    "duration": 4,
    "start_time": "2021-10-28T18:12:25.376Z"
   },
   {
    "duration": 98,
    "start_time": "2021-10-28T18:12:26.902Z"
   },
   {
    "duration": 20,
    "start_time": "2021-10-28T18:12:28.014Z"
   },
   {
    "duration": 18,
    "start_time": "2021-10-28T18:12:29.089Z"
   },
   {
    "duration": 251,
    "start_time": "2021-10-28T18:25:15.887Z"
   },
   {
    "duration": 646,
    "start_time": "2021-10-28T18:25:42.981Z"
   },
   {
    "duration": 85,
    "start_time": "2021-10-28T18:25:43.629Z"
   },
   {
    "duration": 19,
    "start_time": "2021-10-28T18:25:43.716Z"
   },
   {
    "duration": 16,
    "start_time": "2021-10-28T18:25:43.737Z"
   },
   {
    "duration": 39,
    "start_time": "2021-10-28T18:25:43.754Z"
   },
   {
    "duration": 5,
    "start_time": "2021-10-28T18:25:43.795Z"
   },
   {
    "duration": 9,
    "start_time": "2021-10-28T18:25:43.802Z"
   },
   {
    "duration": 21,
    "start_time": "2021-10-28T18:25:43.813Z"
   },
   {
    "duration": 6,
    "start_time": "2021-10-28T18:25:43.836Z"
   },
   {
    "duration": 62,
    "start_time": "2021-10-28T18:25:43.844Z"
   },
   {
    "duration": 13,
    "start_time": "2021-10-28T18:25:43.907Z"
   },
   {
    "duration": 7,
    "start_time": "2021-10-28T18:25:43.921Z"
   },
   {
    "duration": 11,
    "start_time": "2021-10-28T18:25:43.930Z"
   },
   {
    "duration": 10,
    "start_time": "2021-10-28T18:25:43.943Z"
   },
   {
    "duration": 43,
    "start_time": "2021-10-28T18:25:43.954Z"
   },
   {
    "duration": 12,
    "start_time": "2021-10-28T18:25:43.998Z"
   },
   {
    "duration": 15,
    "start_time": "2021-10-28T18:25:44.012Z"
   },
   {
    "duration": 7,
    "start_time": "2021-10-28T18:25:44.029Z"
   },
   {
    "duration": 6,
    "start_time": "2021-10-28T18:25:44.038Z"
   },
   {
    "duration": 9,
    "start_time": "2021-10-28T18:25:44.046Z"
   },
   {
    "duration": 37,
    "start_time": "2021-10-28T18:25:44.057Z"
   },
   {
    "duration": 4,
    "start_time": "2021-10-28T18:25:44.096Z"
   },
   {
    "duration": 4,
    "start_time": "2021-10-28T18:25:44.105Z"
   },
   {
    "duration": 3,
    "start_time": "2021-10-28T18:25:44.113Z"
   },
   {
    "duration": 13,
    "start_time": "2021-10-28T18:25:44.118Z"
   },
   {
    "duration": 15,
    "start_time": "2021-10-28T18:25:44.133Z"
   },
   {
    "duration": 43,
    "start_time": "2021-10-28T18:25:44.150Z"
   },
   {
    "duration": 34,
    "start_time": "2021-10-28T18:25:44.194Z"
   },
   {
    "duration": 9,
    "start_time": "2021-10-28T18:25:44.229Z"
   },
   {
    "duration": 9,
    "start_time": "2021-10-28T18:25:44.239Z"
   },
   {
    "duration": 9,
    "start_time": "2021-10-28T18:25:44.250Z"
   },
   {
    "duration": 38,
    "start_time": "2021-10-28T18:25:44.261Z"
   },
   {
    "duration": 5,
    "start_time": "2021-10-28T18:25:44.301Z"
   },
   {
    "duration": 4,
    "start_time": "2021-10-28T18:25:44.308Z"
   },
   {
    "duration": 1279,
    "start_time": "2021-10-28T18:25:44.314Z"
   },
   {
    "duration": 4,
    "start_time": "2021-10-28T18:25:45.595Z"
   },
   {
    "duration": 1360,
    "start_time": "2021-10-28T18:25:45.601Z"
   },
   {
    "duration": 4,
    "start_time": "2021-10-28T18:25:46.963Z"
   },
   {
    "duration": 24,
    "start_time": "2021-10-28T18:25:46.969Z"
   },
   {
    "duration": 304,
    "start_time": "2021-10-28T18:25:46.995Z"
   },
   {
    "duration": 254,
    "start_time": "2021-10-28T18:25:47.301Z"
   },
   {
    "duration": 323,
    "start_time": "2021-10-28T18:25:47.557Z"
   },
   {
    "duration": 240,
    "start_time": "2021-10-28T18:25:47.882Z"
   },
   {
    "duration": 221,
    "start_time": "2021-10-28T18:25:48.124Z"
   },
   {
    "duration": 10,
    "start_time": "2021-10-28T18:25:48.346Z"
   },
   {
    "duration": 160,
    "start_time": "2021-10-28T18:25:48.357Z"
   },
   {
    "duration": 11,
    "start_time": "2021-10-28T18:25:48.519Z"
   },
   {
    "duration": 69,
    "start_time": "2021-10-28T18:25:48.532Z"
   },
   {
    "duration": 219,
    "start_time": "2021-10-28T18:25:48.603Z"
   },
   {
    "duration": 9,
    "start_time": "2021-10-28T18:25:48.824Z"
   },
   {
    "duration": 152,
    "start_time": "2021-10-28T18:25:48.835Z"
   },
   {
    "duration": 11,
    "start_time": "2021-10-28T18:25:48.991Z"
   },
   {
    "duration": 189,
    "start_time": "2021-10-28T18:25:49.004Z"
   },
   {
    "duration": 8,
    "start_time": "2021-10-28T18:25:49.195Z"
   },
   {
    "duration": 159,
    "start_time": "2021-10-28T18:25:49.205Z"
   },
   {
    "duration": 11,
    "start_time": "2021-10-28T18:25:49.365Z"
   },
   {
    "duration": 59,
    "start_time": "2021-10-28T18:25:49.377Z"
   },
   {
    "duration": 196,
    "start_time": "2021-10-28T18:25:49.438Z"
   },
   {
    "duration": 210,
    "start_time": "2021-10-28T18:25:49.636Z"
   },
   {
    "duration": 4,
    "start_time": "2021-10-28T18:25:49.847Z"
   },
   {
    "duration": 7,
    "start_time": "2021-10-28T18:25:49.853Z"
   },
   {
    "duration": 31,
    "start_time": "2021-10-28T18:25:49.861Z"
   },
   {
    "duration": 4,
    "start_time": "2021-10-28T18:25:49.894Z"
   },
   {
    "duration": 1229,
    "start_time": "2021-10-28T18:25:49.900Z"
   },
   {
    "duration": 5,
    "start_time": "2021-10-28T18:25:51.131Z"
   },
   {
    "duration": 18,
    "start_time": "2021-10-28T18:25:51.137Z"
   },
   {
    "duration": 38,
    "start_time": "2021-10-28T18:25:51.157Z"
   },
   {
    "duration": 8,
    "start_time": "2021-10-28T18:25:51.200Z"
   },
   {
    "duration": 9,
    "start_time": "2021-10-28T18:25:51.209Z"
   },
   {
    "duration": 5,
    "start_time": "2021-10-28T18:25:51.220Z"
   },
   {
    "duration": 11,
    "start_time": "2021-10-28T18:25:51.226Z"
   },
   {
    "duration": 5,
    "start_time": "2021-10-28T18:25:51.238Z"
   },
   {
    "duration": 3,
    "start_time": "2021-10-28T18:25:56.638Z"
   },
   {
    "duration": 88,
    "start_time": "2021-10-28T18:25:56.952Z"
   },
   {
    "duration": 21,
    "start_time": "2021-10-28T18:25:57.324Z"
   },
   {
    "duration": 14,
    "start_time": "2021-10-28T18:25:57.652Z"
   },
   {
    "duration": 19,
    "start_time": "2021-10-28T18:25:58.678Z"
   },
   {
    "duration": 7,
    "start_time": "2021-10-28T18:25:59.020Z"
   },
   {
    "duration": 9,
    "start_time": "2021-10-28T18:25:59.748Z"
   },
   {
    "duration": 14,
    "start_time": "2021-10-28T18:26:00.135Z"
   },
   {
    "duration": 7,
    "start_time": "2021-10-28T18:26:00.408Z"
   },
   {
    "duration": 36,
    "start_time": "2021-10-28T18:26:01.100Z"
   },
   {
    "duration": 14,
    "start_time": "2021-10-28T18:26:01.520Z"
   },
   {
    "duration": 6,
    "start_time": "2021-10-28T18:26:02.318Z"
   },
   {
    "duration": 13,
    "start_time": "2021-10-28T18:26:02.660Z"
   },
   {
    "duration": 13,
    "start_time": "2021-10-28T18:26:02.989Z"
   },
   {
    "duration": 11,
    "start_time": "2021-10-28T18:26:03.343Z"
   },
   {
    "duration": 13,
    "start_time": "2021-10-28T18:26:03.690Z"
   },
   {
    "duration": 17,
    "start_time": "2021-10-28T18:26:04.023Z"
   },
   {
    "duration": 7,
    "start_time": "2021-10-28T18:26:04.384Z"
   },
   {
    "duration": 6,
    "start_time": "2021-10-28T18:26:04.702Z"
   },
   {
    "duration": 8,
    "start_time": "2021-10-28T18:26:05.057Z"
   },
   {
    "duration": 6,
    "start_time": "2021-10-28T18:26:05.393Z"
   },
   {
    "duration": 5,
    "start_time": "2021-10-28T18:26:06.155Z"
   },
   {
    "duration": 4,
    "start_time": "2021-10-28T18:26:06.533Z"
   },
   {
    "duration": 4,
    "start_time": "2021-10-28T18:26:06.915Z"
   },
   {
    "duration": 5,
    "start_time": "2021-10-28T18:26:07.285Z"
   },
   {
    "duration": 13,
    "start_time": "2021-10-28T18:26:07.629Z"
   },
   {
    "duration": 12,
    "start_time": "2021-10-28T18:26:08.337Z"
   },
   {
    "duration": 40,
    "start_time": "2021-10-28T18:26:08.705Z"
   },
   {
    "duration": 9,
    "start_time": "2021-10-28T18:26:10.443Z"
   },
   {
    "duration": 9,
    "start_time": "2021-10-28T18:26:10.789Z"
   },
   {
    "duration": 8,
    "start_time": "2021-10-28T18:26:11.150Z"
   },
   {
    "duration": 15,
    "start_time": "2021-10-28T18:26:11.471Z"
   },
   {
    "duration": 5,
    "start_time": "2021-10-28T18:26:11.832Z"
   },
   {
    "duration": 4,
    "start_time": "2021-10-28T18:26:12.201Z"
   },
   {
    "duration": 1351,
    "start_time": "2021-10-28T18:26:12.984Z"
   },
   {
    "duration": 3,
    "start_time": "2021-10-28T18:26:14.337Z"
   },
   {
    "duration": 1305,
    "start_time": "2021-10-28T18:26:14.731Z"
   },
   {
    "duration": 5,
    "start_time": "2021-10-28T18:26:18.677Z"
   },
   {
    "duration": 14,
    "start_time": "2021-10-28T18:26:19.535Z"
   },
   {
    "duration": 280,
    "start_time": "2021-10-28T18:26:21.249Z"
   },
   {
    "duration": 238,
    "start_time": "2021-10-28T18:26:21.867Z"
   },
   {
    "duration": 260,
    "start_time": "2021-10-28T18:26:22.231Z"
   },
   {
    "duration": 215,
    "start_time": "2021-10-28T18:26:22.533Z"
   },
   {
    "duration": 267,
    "start_time": "2021-10-28T18:26:22.913Z"
   },
   {
    "duration": 10,
    "start_time": "2021-10-28T18:26:23.611Z"
   },
   {
    "duration": 154,
    "start_time": "2021-10-28T18:26:23.881Z"
   },
   {
    "duration": 12,
    "start_time": "2021-10-28T18:26:24.234Z"
   },
   {
    "duration": 54,
    "start_time": "2021-10-28T18:26:24.554Z"
   },
   {
    "duration": 212,
    "start_time": "2021-10-28T18:26:24.887Z"
   },
   {
    "duration": 10,
    "start_time": "2021-10-28T18:26:25.220Z"
   },
   {
    "duration": 144,
    "start_time": "2021-10-28T18:26:25.555Z"
   },
   {
    "duration": 10,
    "start_time": "2021-10-28T18:26:25.830Z"
   },
   {
    "duration": 184,
    "start_time": "2021-10-28T18:26:26.227Z"
   },
   {
    "duration": 10,
    "start_time": "2021-10-28T18:26:26.517Z"
   },
   {
    "duration": 149,
    "start_time": "2021-10-28T18:26:26.870Z"
   },
   {
    "duration": 11,
    "start_time": "2021-10-28T18:26:27.222Z"
   },
   {
    "duration": 55,
    "start_time": "2021-10-28T18:26:27.556Z"
   },
   {
    "duration": 189,
    "start_time": "2021-10-28T18:26:27.884Z"
   },
   {
    "duration": 188,
    "start_time": "2021-10-28T18:26:28.550Z"
   },
   {
    "duration": 5,
    "start_time": "2021-10-28T18:26:28.906Z"
   },
   {
    "duration": 5,
    "start_time": "2021-10-28T18:26:29.241Z"
   },
   {
    "duration": 8,
    "start_time": "2021-10-28T18:26:29.593Z"
   },
   {
    "duration": 3,
    "start_time": "2021-10-28T18:26:29.925Z"
   },
   {
    "duration": 1202,
    "start_time": "2021-10-28T18:26:30.289Z"
   },
   {
    "duration": 5,
    "start_time": "2021-10-28T18:26:31.493Z"
   },
   {
    "duration": 17,
    "start_time": "2021-10-28T18:26:31.502Z"
   },
   {
    "duration": 18,
    "start_time": "2021-10-28T18:26:32.599Z"
   },
   {
    "duration": 9,
    "start_time": "2021-10-28T18:26:33.423Z"
   },
   {
    "duration": 6,
    "start_time": "2021-10-28T18:26:34.737Z"
   },
   {
    "duration": 6,
    "start_time": "2021-10-28T18:26:35.352Z"
   },
   {
    "duration": 9,
    "start_time": "2021-10-28T18:26:35.960Z"
   },
   {
    "duration": 4,
    "start_time": "2021-10-28T18:26:36.534Z"
   },
   {
    "duration": 633,
    "start_time": "2021-10-28T18:28:43.819Z"
   },
   {
    "duration": 82,
    "start_time": "2021-10-28T18:28:44.454Z"
   },
   {
    "duration": 20,
    "start_time": "2021-10-28T18:28:44.538Z"
   },
   {
    "duration": 16,
    "start_time": "2021-10-28T18:28:44.560Z"
   },
   {
    "duration": 34,
    "start_time": "2021-10-28T18:28:44.577Z"
   },
   {
    "duration": 7,
    "start_time": "2021-10-28T18:28:44.613Z"
   },
   {
    "duration": 10,
    "start_time": "2021-10-28T18:28:44.622Z"
   },
   {
    "duration": 61,
    "start_time": "2021-10-28T18:28:44.634Z"
   },
   {
    "duration": 9,
    "start_time": "2021-10-28T18:28:44.699Z"
   },
   {
    "duration": 35,
    "start_time": "2021-10-28T18:28:44.711Z"
   },
   {
    "duration": 14,
    "start_time": "2021-10-28T18:28:44.749Z"
   },
   {
    "duration": 6,
    "start_time": "2021-10-28T18:28:44.792Z"
   },
   {
    "duration": 11,
    "start_time": "2021-10-28T18:28:44.800Z"
   },
   {
    "duration": 10,
    "start_time": "2021-10-28T18:28:44.812Z"
   },
   {
    "duration": 12,
    "start_time": "2021-10-28T18:28:44.824Z"
   },
   {
    "duration": 54,
    "start_time": "2021-10-28T18:28:44.838Z"
   },
   {
    "duration": 17,
    "start_time": "2021-10-28T18:28:44.894Z"
   },
   {
    "duration": 8,
    "start_time": "2021-10-28T18:28:44.914Z"
   },
   {
    "duration": 9,
    "start_time": "2021-10-28T18:28:44.924Z"
   },
   {
    "duration": 10,
    "start_time": "2021-10-28T18:28:44.935Z"
   },
   {
    "duration": 10,
    "start_time": "2021-10-28T18:28:44.947Z"
   },
   {
    "duration": 33,
    "start_time": "2021-10-28T18:28:44.959Z"
   },
   {
    "duration": 5,
    "start_time": "2021-10-28T18:28:44.995Z"
   },
   {
    "duration": 9,
    "start_time": "2021-10-28T18:28:45.002Z"
   },
   {
    "duration": 18,
    "start_time": "2021-10-28T18:28:45.013Z"
   },
   {
    "duration": 21,
    "start_time": "2021-10-28T18:28:45.034Z"
   },
   {
    "duration": 37,
    "start_time": "2021-10-28T18:28:45.061Z"
   },
   {
    "duration": 39,
    "start_time": "2021-10-28T18:28:45.102Z"
   },
   {
    "duration": 10,
    "start_time": "2021-10-28T18:28:45.144Z"
   },
   {
    "duration": 9,
    "start_time": "2021-10-28T18:28:45.156Z"
   },
   {
    "duration": 28,
    "start_time": "2021-10-28T18:28:45.167Z"
   },
   {
    "duration": 14,
    "start_time": "2021-10-28T18:28:45.197Z"
   },
   {
    "duration": 6,
    "start_time": "2021-10-28T18:28:45.213Z"
   },
   {
    "duration": 4,
    "start_time": "2021-10-28T18:28:45.221Z"
   },
   {
    "duration": 1337,
    "start_time": "2021-10-28T18:28:45.227Z"
   },
   {
    "duration": 3,
    "start_time": "2021-10-28T18:28:46.566Z"
   },
   {
    "duration": 1405,
    "start_time": "2021-10-28T18:28:46.571Z"
   },
   {
    "duration": 5,
    "start_time": "2021-10-28T18:28:47.978Z"
   },
   {
    "duration": 15,
    "start_time": "2021-10-28T18:28:47.991Z"
   },
   {
    "duration": 330,
    "start_time": "2021-10-28T18:28:48.008Z"
   },
   {
    "duration": 262,
    "start_time": "2021-10-28T18:28:48.340Z"
   },
   {
    "duration": 312,
    "start_time": "2021-10-28T18:28:48.605Z"
   },
   {
    "duration": 224,
    "start_time": "2021-10-28T18:28:48.918Z"
   },
   {
    "duration": 222,
    "start_time": "2021-10-28T18:28:49.144Z"
   },
   {
    "duration": 10,
    "start_time": "2021-10-28T18:28:49.369Z"
   },
   {
    "duration": 159,
    "start_time": "2021-10-28T18:28:49.392Z"
   },
   {
    "duration": 13,
    "start_time": "2021-10-28T18:28:49.552Z"
   },
   {
    "duration": 66,
    "start_time": "2021-10-28T18:28:49.566Z"
   },
   {
    "duration": 236,
    "start_time": "2021-10-28T18:28:49.634Z"
   },
   {
    "duration": 19,
    "start_time": "2021-10-28T18:28:49.872Z"
   },
   {
    "duration": 151,
    "start_time": "2021-10-28T18:28:49.893Z"
   },
   {
    "duration": 13,
    "start_time": "2021-10-28T18:28:50.045Z"
   },
   {
    "duration": 290,
    "start_time": "2021-10-28T18:28:50.061Z"
   },
   {
    "duration": 10,
    "start_time": "2021-10-28T18:28:50.353Z"
   },
   {
    "duration": 204,
    "start_time": "2021-10-28T18:28:50.365Z"
   },
   {
    "duration": 25,
    "start_time": "2021-10-28T18:28:50.571Z"
   },
   {
    "duration": 56,
    "start_time": "2021-10-28T18:28:50.598Z"
   },
   {
    "duration": 213,
    "start_time": "2021-10-28T18:28:50.656Z"
   },
   {
    "duration": 211,
    "start_time": "2021-10-28T18:28:50.870Z"
   },
   {
    "duration": 9,
    "start_time": "2021-10-28T18:28:51.082Z"
   },
   {
    "duration": 10,
    "start_time": "2021-10-28T18:28:51.094Z"
   },
   {
    "duration": 12,
    "start_time": "2021-10-28T18:28:51.106Z"
   },
   {
    "duration": 4,
    "start_time": "2021-10-28T18:28:51.120Z"
   },
   {
    "duration": 1238,
    "start_time": "2021-10-28T18:28:51.126Z"
   },
   {
    "duration": 6,
    "start_time": "2021-10-28T18:28:52.366Z"
   },
   {
    "duration": 30,
    "start_time": "2021-10-28T18:28:52.374Z"
   },
   {
    "duration": 25,
    "start_time": "2021-10-28T18:28:52.406Z"
   },
   {
    "duration": 8,
    "start_time": "2021-10-28T18:28:52.432Z"
   },
   {
    "duration": 10,
    "start_time": "2021-10-28T18:28:52.442Z"
   },
   {
    "duration": 5,
    "start_time": "2021-10-28T18:28:52.454Z"
   },
   {
    "duration": 36,
    "start_time": "2021-10-28T18:28:52.460Z"
   },
   {
    "duration": 594,
    "start_time": "2021-10-28T18:30:38.452Z"
   },
   {
    "duration": 78,
    "start_time": "2021-10-28T18:30:39.048Z"
   },
   {
    "duration": 19,
    "start_time": "2021-10-28T18:30:39.128Z"
   },
   {
    "duration": 16,
    "start_time": "2021-10-28T18:30:39.149Z"
   },
   {
    "duration": 36,
    "start_time": "2021-10-28T18:30:39.167Z"
   },
   {
    "duration": 7,
    "start_time": "2021-10-28T18:30:39.204Z"
   },
   {
    "duration": 9,
    "start_time": "2021-10-28T18:30:39.213Z"
   },
   {
    "duration": 24,
    "start_time": "2021-10-28T18:30:39.224Z"
   },
   {
    "duration": 7,
    "start_time": "2021-10-28T18:30:39.250Z"
   },
   {
    "duration": 34,
    "start_time": "2021-10-28T18:30:39.291Z"
   },
   {
    "duration": 13,
    "start_time": "2021-10-28T18:30:39.327Z"
   },
   {
    "duration": 7,
    "start_time": "2021-10-28T18:30:39.341Z"
   },
   {
    "duration": 10,
    "start_time": "2021-10-28T18:30:39.350Z"
   },
   {
    "duration": 37,
    "start_time": "2021-10-28T18:30:39.361Z"
   },
   {
    "duration": 9,
    "start_time": "2021-10-28T18:30:39.400Z"
   },
   {
    "duration": 12,
    "start_time": "2021-10-28T18:30:39.411Z"
   },
   {
    "duration": 16,
    "start_time": "2021-10-28T18:30:39.424Z"
   },
   {
    "duration": 7,
    "start_time": "2021-10-28T18:30:39.441Z"
   },
   {
    "duration": 7,
    "start_time": "2021-10-28T18:30:39.450Z"
   },
   {
    "duration": 39,
    "start_time": "2021-10-28T18:30:39.458Z"
   },
   {
    "duration": 9,
    "start_time": "2021-10-28T18:30:39.499Z"
   },
   {
    "duration": 4,
    "start_time": "2021-10-28T18:30:39.510Z"
   },
   {
    "duration": 4,
    "start_time": "2021-10-28T18:30:39.520Z"
   },
   {
    "duration": 5,
    "start_time": "2021-10-28T18:30:39.527Z"
   },
   {
    "duration": 16,
    "start_time": "2021-10-28T18:30:39.534Z"
   },
   {
    "duration": 43,
    "start_time": "2021-10-28T18:30:39.552Z"
   },
   {
    "duration": 15,
    "start_time": "2021-10-28T18:30:39.597Z"
   },
   {
    "duration": 42,
    "start_time": "2021-10-28T18:30:39.614Z"
   },
   {
    "duration": 38,
    "start_time": "2021-10-28T18:30:39.658Z"
   },
   {
    "duration": 9,
    "start_time": "2021-10-28T18:30:39.698Z"
   },
   {
    "duration": 8,
    "start_time": "2021-10-28T18:30:39.709Z"
   },
   {
    "duration": 14,
    "start_time": "2021-10-28T18:30:39.719Z"
   },
   {
    "duration": 7,
    "start_time": "2021-10-28T18:30:39.735Z"
   },
   {
    "duration": 6,
    "start_time": "2021-10-28T18:30:39.744Z"
   },
   {
    "duration": 1495,
    "start_time": "2021-10-28T18:30:39.752Z"
   },
   {
    "duration": 5,
    "start_time": "2021-10-28T18:30:41.249Z"
   },
   {
    "duration": 1363,
    "start_time": "2021-10-28T18:30:41.256Z"
   },
   {
    "duration": 7,
    "start_time": "2021-10-28T18:30:42.621Z"
   },
   {
    "duration": 21,
    "start_time": "2021-10-28T18:30:42.630Z"
   },
   {
    "duration": 311,
    "start_time": "2021-10-28T18:30:42.654Z"
   },
   {
    "duration": 251,
    "start_time": "2021-10-28T18:30:42.966Z"
   },
   {
    "duration": 315,
    "start_time": "2021-10-28T18:30:43.218Z"
   },
   {
    "duration": 244,
    "start_time": "2021-10-28T18:30:43.535Z"
   },
   {
    "duration": 213,
    "start_time": "2021-10-28T18:30:43.781Z"
   },
   {
    "duration": 10,
    "start_time": "2021-10-28T18:30:43.995Z"
   },
   {
    "duration": 172,
    "start_time": "2021-10-28T18:30:44.007Z"
   },
   {
    "duration": 16,
    "start_time": "2021-10-28T18:30:44.181Z"
   },
   {
    "duration": 54,
    "start_time": "2021-10-28T18:30:44.199Z"
   },
   {
    "duration": 216,
    "start_time": "2021-10-28T18:30:44.255Z"
   },
   {
    "duration": 19,
    "start_time": "2021-10-28T18:30:44.473Z"
   },
   {
    "duration": 161,
    "start_time": "2021-10-28T18:30:44.494Z"
   },
   {
    "duration": 13,
    "start_time": "2021-10-28T18:30:44.657Z"
   },
   {
    "duration": 198,
    "start_time": "2021-10-28T18:30:44.672Z"
   },
   {
    "duration": 20,
    "start_time": "2021-10-28T18:30:44.872Z"
   },
   {
    "duration": 165,
    "start_time": "2021-10-28T18:30:44.894Z"
   },
   {
    "duration": 12,
    "start_time": "2021-10-28T18:30:45.060Z"
   },
   {
    "duration": 61,
    "start_time": "2021-10-28T18:30:45.074Z"
   },
   {
    "duration": 200,
    "start_time": "2021-10-28T18:30:45.137Z"
   },
   {
    "duration": 214,
    "start_time": "2021-10-28T18:30:45.339Z"
   },
   {
    "duration": 5,
    "start_time": "2021-10-28T18:30:45.555Z"
   },
   {
    "duration": 8,
    "start_time": "2021-10-28T18:30:45.561Z"
   },
   {
    "duration": 28,
    "start_time": "2021-10-28T18:30:45.571Z"
   },
   {
    "duration": 4,
    "start_time": "2021-10-28T18:30:45.601Z"
   },
   {
    "duration": 1281,
    "start_time": "2021-10-28T18:30:45.607Z"
   },
   {
    "duration": 6,
    "start_time": "2021-10-28T18:30:46.891Z"
   },
   {
    "duration": 23,
    "start_time": "2021-10-28T18:30:46.899Z"
   },
   {
    "duration": 115,
    "start_time": "2021-10-28T18:30:46.924Z"
   },
   {
    "duration": 8,
    "start_time": "2021-10-28T18:30:47.045Z"
   },
   {
    "duration": 8,
    "start_time": "2021-10-28T18:30:47.055Z"
   },
   {
    "duration": 6,
    "start_time": "2021-10-28T18:30:47.065Z"
   },
   {
    "duration": 10,
    "start_time": "2021-10-28T18:30:47.073Z"
   },
   {
    "duration": 4250,
    "start_time": "2021-10-28T18:30:47.084Z"
   },
   {
    "duration": 3,
    "start_time": "2021-10-28T18:30:56.140Z"
   },
   {
    "duration": 94,
    "start_time": "2021-10-28T18:30:57.160Z"
   },
   {
    "duration": 21,
    "start_time": "2021-10-28T18:30:57.625Z"
   },
   {
    "duration": 20,
    "start_time": "2021-10-28T18:30:58.156Z"
   },
   {
    "duration": 19,
    "start_time": "2021-10-28T18:30:59.060Z"
   },
   {
    "duration": 7,
    "start_time": "2021-10-28T18:30:59.283Z"
   },
   {
    "duration": 11,
    "start_time": "2021-10-28T18:30:59.705Z"
   },
   {
    "duration": 19,
    "start_time": "2021-10-28T18:30:59.879Z"
   },
   {
    "duration": 7,
    "start_time": "2021-10-28T18:31:00.143Z"
   },
   {
    "duration": 34,
    "start_time": "2021-10-28T18:31:00.561Z"
   },
   {
    "duration": 13,
    "start_time": "2021-10-28T18:31:00.776Z"
   },
   {
    "duration": 6,
    "start_time": "2021-10-28T18:31:01.267Z"
   },
   {
    "duration": 11,
    "start_time": "2021-10-28T18:31:01.436Z"
   },
   {
    "duration": 10,
    "start_time": "2021-10-28T18:31:01.559Z"
   },
   {
    "duration": 11,
    "start_time": "2021-10-28T18:31:01.820Z"
   },
   {
    "duration": 13,
    "start_time": "2021-10-28T18:31:02.053Z"
   },
   {
    "duration": 18,
    "start_time": "2021-10-28T18:31:02.275Z"
   },
   {
    "duration": 7,
    "start_time": "2021-10-28T18:31:02.451Z"
   },
   {
    "duration": 5,
    "start_time": "2021-10-28T18:31:02.635Z"
   },
   {
    "duration": 7,
    "start_time": "2021-10-28T18:31:02.835Z"
   },
   {
    "duration": 6,
    "start_time": "2021-10-28T18:31:03.001Z"
   },
   {
    "duration": 5,
    "start_time": "2021-10-28T18:31:03.403Z"
   },
   {
    "duration": 4,
    "start_time": "2021-10-28T18:31:03.586Z"
   },
   {
    "duration": 4,
    "start_time": "2021-10-28T18:31:03.760Z"
   },
   {
    "duration": 6,
    "start_time": "2021-10-28T18:31:03.961Z"
   },
   {
    "duration": 12,
    "start_time": "2021-10-28T18:31:04.146Z"
   },
   {
    "duration": 14,
    "start_time": "2021-10-28T18:31:04.546Z"
   },
   {
    "duration": 30,
    "start_time": "2021-10-28T18:31:04.759Z"
   },
   {
    "duration": 9,
    "start_time": "2021-10-28T18:31:05.740Z"
   },
   {
    "duration": 8,
    "start_time": "2021-10-28T18:31:05.960Z"
   },
   {
    "duration": 9,
    "start_time": "2021-10-28T18:31:06.158Z"
   },
   {
    "duration": 14,
    "start_time": "2021-10-28T18:31:06.376Z"
   },
   {
    "duration": 5,
    "start_time": "2021-10-28T18:31:06.632Z"
   },
   {
    "duration": 3,
    "start_time": "2021-10-28T18:31:06.776Z"
   },
   {
    "duration": 1269,
    "start_time": "2021-10-28T18:31:06.997Z"
   },
   {
    "duration": 4,
    "start_time": "2021-10-28T18:31:08.268Z"
   },
   {
    "duration": 1336,
    "start_time": "2021-10-28T18:31:08.273Z"
   },
   {
    "duration": 5,
    "start_time": "2021-10-28T18:31:09.611Z"
   },
   {
    "duration": 38,
    "start_time": "2021-10-28T18:31:09.618Z"
   },
   {
    "duration": 325,
    "start_time": "2021-10-28T18:31:09.658Z"
   },
   {
    "duration": 248,
    "start_time": "2021-10-28T18:31:09.985Z"
   },
   {
    "duration": 270,
    "start_time": "2021-10-28T18:31:10.235Z"
   },
   {
    "duration": 224,
    "start_time": "2021-10-28T18:31:10.507Z"
   },
   {
    "duration": 281,
    "start_time": "2021-10-28T18:31:10.733Z"
   },
   {
    "duration": 9,
    "start_time": "2021-10-28T18:31:11.015Z"
   },
   {
    "duration": 166,
    "start_time": "2021-10-28T18:31:11.027Z"
   },
   {
    "duration": 10,
    "start_time": "2021-10-28T18:31:11.195Z"
   },
   {
    "duration": 71,
    "start_time": "2021-10-28T18:31:11.206Z"
   },
   {
    "duration": 195,
    "start_time": "2021-10-28T18:31:11.279Z"
   },
   {
    "duration": 17,
    "start_time": "2021-10-28T18:31:11.476Z"
   },
   {
    "duration": 137,
    "start_time": "2021-10-28T18:31:11.618Z"
   },
   {
    "duration": 10,
    "start_time": "2021-10-28T18:31:11.957Z"
   },
   {
    "duration": 180,
    "start_time": "2021-10-28T18:31:12.270Z"
   },
   {
    "duration": 9,
    "start_time": "2021-10-28T18:31:12.451Z"
   },
   {
    "duration": 139,
    "start_time": "2021-10-28T18:31:12.612Z"
   },
   {
    "duration": 12,
    "start_time": "2021-10-28T18:31:12.785Z"
   },
   {
    "duration": 53,
    "start_time": "2021-10-28T18:31:13.075Z"
   },
   {
    "duration": 183,
    "start_time": "2021-10-28T18:31:13.255Z"
   },
   {
    "duration": 198,
    "start_time": "2021-10-28T18:31:13.569Z"
   },
   {
    "duration": 5,
    "start_time": "2021-10-28T18:31:13.821Z"
   },
   {
    "duration": 6,
    "start_time": "2021-10-28T18:31:14.177Z"
   },
   {
    "duration": 10,
    "start_time": "2021-10-28T18:31:14.461Z"
   },
   {
    "duration": 3,
    "start_time": "2021-10-28T18:31:14.713Z"
   },
   {
    "duration": 1199,
    "start_time": "2021-10-28T18:31:14.960Z"
   },
   {
    "duration": 4,
    "start_time": "2021-10-28T18:31:16.161Z"
   },
   {
    "duration": 27,
    "start_time": "2021-10-28T18:31:16.167Z"
   },
   {
    "duration": 17,
    "start_time": "2021-10-28T18:31:16.197Z"
   },
   {
    "duration": 8,
    "start_time": "2021-10-28T18:31:16.216Z"
   },
   {
    "duration": 7,
    "start_time": "2021-10-28T18:31:16.587Z"
   },
   {
    "duration": 4,
    "start_time": "2021-10-28T18:31:17.042Z"
   },
   {
    "duration": 10,
    "start_time": "2021-10-28T18:31:17.416Z"
   },
   {
    "duration": 5975,
    "start_time": "2021-10-28T18:31:17.830Z"
   },
   {
    "duration": -365,
    "start_time": "2021-10-28T18:32:27.191Z"
   },
   {
    "duration": -369,
    "start_time": "2021-10-28T18:32:27.197Z"
   },
   {
    "duration": 9,
    "start_time": "2021-10-28T18:32:29.481Z"
   },
   {
    "duration": 230,
    "start_time": "2021-10-28T18:39:50.073Z"
   },
   {
    "duration": 619,
    "start_time": "2021-10-28T18:41:11.703Z"
   },
   {
    "duration": 103,
    "start_time": "2021-10-28T18:41:13.314Z"
   },
   {
    "duration": 19,
    "start_time": "2021-10-28T18:41:14.699Z"
   },
   {
    "duration": 16,
    "start_time": "2021-10-28T18:41:15.885Z"
   },
   {
    "duration": 21,
    "start_time": "2021-10-28T18:41:17.708Z"
   },
   {
    "duration": 6,
    "start_time": "2021-10-28T18:41:18.256Z"
   },
   {
    "duration": 10,
    "start_time": "2021-10-28T18:41:19.443Z"
   },
   {
    "duration": 23,
    "start_time": "2021-10-28T18:41:20.004Z"
   },
   {
    "duration": 7,
    "start_time": "2021-10-28T18:41:20.596Z"
   },
   {
    "duration": 45,
    "start_time": "2021-10-28T18:41:23.643Z"
   },
   {
    "duration": 14,
    "start_time": "2021-10-28T18:41:24.466Z"
   },
   {
    "duration": 5,
    "start_time": "2021-10-28T18:41:25.804Z"
   },
   {
    "duration": 13,
    "start_time": "2021-10-28T18:41:26.694Z"
   },
   {
    "duration": 11,
    "start_time": "2021-10-28T18:41:27.317Z"
   },
   {
    "duration": 11,
    "start_time": "2021-10-28T18:41:27.877Z"
   },
   {
    "duration": 12,
    "start_time": "2021-10-28T18:41:28.330Z"
   },
   {
    "duration": 15,
    "start_time": "2021-10-28T18:41:28.746Z"
   },
   {
    "duration": 8,
    "start_time": "2021-10-28T18:41:29.272Z"
   },
   {
    "duration": 5,
    "start_time": "2021-10-28T18:41:29.835Z"
   },
   {
    "duration": 6,
    "start_time": "2021-10-28T18:41:30.357Z"
   },
   {
    "duration": 6,
    "start_time": "2021-10-28T18:41:30.892Z"
   },
   {
    "duration": 4,
    "start_time": "2021-10-28T18:41:31.663Z"
   },
   {
    "duration": 6,
    "start_time": "2021-10-28T18:41:32.086Z"
   },
   {
    "duration": 4,
    "start_time": "2021-10-28T18:41:32.450Z"
   },
   {
    "duration": 8,
    "start_time": "2021-10-28T18:41:46.759Z"
   },
   {
    "duration": 14,
    "start_time": "2021-10-28T18:41:47.422Z"
   },
   {
    "duration": 12,
    "start_time": "2021-10-28T18:41:48.658Z"
   },
   {
    "duration": 30,
    "start_time": "2021-10-28T18:41:49.116Z"
   },
   {
    "duration": 9,
    "start_time": "2021-10-28T18:41:52.668Z"
   },
   {
    "duration": 8,
    "start_time": "2021-10-28T18:41:53.665Z"
   },
   {
    "duration": 9,
    "start_time": "2021-10-28T18:41:54.308Z"
   },
   {
    "duration": 13,
    "start_time": "2021-10-28T18:41:54.811Z"
   },
   {
    "duration": 5,
    "start_time": "2021-10-28T18:41:55.244Z"
   },
   {
    "duration": 2,
    "start_time": "2021-10-28T18:41:55.838Z"
   },
   {
    "duration": 1249,
    "start_time": "2021-10-28T18:41:56.405Z"
   },
   {
    "duration": 3,
    "start_time": "2021-10-28T18:41:57.656Z"
   },
   {
    "duration": 1374,
    "start_time": "2021-10-28T18:41:57.811Z"
   },
   {
    "duration": 4,
    "start_time": "2021-10-28T18:41:59.694Z"
   },
   {
    "duration": 14,
    "start_time": "2021-10-28T18:42:00.402Z"
   },
   {
    "duration": 292,
    "start_time": "2021-10-28T18:42:02.112Z"
   },
   {
    "duration": 236,
    "start_time": "2021-10-28T18:42:03.235Z"
   },
   {
    "duration": 287,
    "start_time": "2021-10-28T18:42:03.706Z"
   },
   {
    "duration": 197,
    "start_time": "2021-10-28T18:42:04.157Z"
   },
   {
    "duration": 190,
    "start_time": "2021-10-28T18:42:04.563Z"
   },
   {
    "duration": 10,
    "start_time": "2021-10-28T18:42:05.391Z"
   },
   {
    "duration": 136,
    "start_time": "2021-10-28T18:42:05.855Z"
   },
   {
    "duration": 11,
    "start_time": "2021-10-28T18:42:06.397Z"
   },
   {
    "duration": 53,
    "start_time": "2021-10-28T18:42:06.863Z"
   },
   {
    "duration": 191,
    "start_time": "2021-10-28T18:42:10.062Z"
   },
   {
    "duration": 9,
    "start_time": "2021-10-28T18:42:10.637Z"
   },
   {
    "duration": 130,
    "start_time": "2021-10-28T18:42:11.064Z"
   },
   {
    "duration": 13,
    "start_time": "2021-10-28T18:42:11.373Z"
   },
   {
    "duration": 164,
    "start_time": "2021-10-28T18:42:11.658Z"
   },
   {
    "duration": 9,
    "start_time": "2021-10-28T18:42:11.847Z"
   },
   {
    "duration": 137,
    "start_time": "2021-10-28T18:42:12.086Z"
   },
   {
    "duration": 12,
    "start_time": "2021-10-28T18:42:12.332Z"
   },
   {
    "duration": 59,
    "start_time": "2021-10-28T18:42:12.564Z"
   },
   {
    "duration": 180,
    "start_time": "2021-10-28T18:42:12.832Z"
   },
   {
    "duration": 175,
    "start_time": "2021-10-28T18:42:13.552Z"
   },
   {
    "duration": 4,
    "start_time": "2021-10-28T18:42:13.928Z"
   },
   {
    "duration": 5,
    "start_time": "2021-10-28T18:42:14.272Z"
   },
   {
    "duration": 11,
    "start_time": "2021-10-28T18:42:14.637Z"
   },
   {
    "duration": 4,
    "start_time": "2021-10-28T18:42:14.968Z"
   },
   {
    "duration": 1137,
    "start_time": "2021-10-28T18:42:15.312Z"
   },
   {
    "duration": 5,
    "start_time": "2021-10-28T18:42:16.452Z"
   },
   {
    "duration": 17,
    "start_time": "2021-10-28T18:42:16.458Z"
   },
   {
    "duration": 18,
    "start_time": "2021-10-28T18:42:16.545Z"
   },
   {
    "duration": 9,
    "start_time": "2021-10-28T18:42:16.868Z"
   },
   {
    "duration": 7,
    "start_time": "2021-10-28T18:42:18.701Z"
   },
   {
    "duration": 5,
    "start_time": "2021-10-28T18:42:19.664Z"
   },
   {
    "duration": 9,
    "start_time": "2021-10-28T18:42:21.324Z"
   },
   {
    "duration": 197,
    "start_time": "2021-10-28T18:42:22.592Z"
   },
   {
    "duration": 216,
    "start_time": "2021-10-28T18:46:08.809Z"
   },
   {
    "duration": 57,
    "start_time": "2021-10-28T18:48:10.631Z"
   },
   {
    "duration": 66,
    "start_time": "2021-10-28T18:48:29.276Z"
   },
   {
    "duration": 60,
    "start_time": "2021-10-28T18:48:39.124Z"
   },
   {
    "duration": 229,
    "start_time": "2021-10-28T18:48:53.503Z"
   },
   {
    "duration": 278,
    "start_time": "2021-10-28T18:49:17.942Z"
   },
   {
    "duration": 280,
    "start_time": "2021-10-28T18:49:25.983Z"
   },
   {
    "duration": 185,
    "start_time": "2021-10-28T18:52:31.362Z"
   },
   {
    "duration": 223,
    "start_time": "2021-10-28T18:56:34.908Z"
   },
   {
    "duration": 391,
    "start_time": "2021-10-28T18:56:58.791Z"
   },
   {
    "duration": 326,
    "start_time": "2021-10-28T18:57:06.410Z"
   },
   {
    "duration": 215,
    "start_time": "2021-10-28T18:57:43.642Z"
   },
   {
    "duration": 203,
    "start_time": "2021-10-28T18:58:23.047Z"
   },
   {
    "duration": 195,
    "start_time": "2021-10-28T18:58:33.553Z"
   },
   {
    "duration": 193,
    "start_time": "2021-10-28T19:17:32.076Z"
   },
   {
    "duration": 1233,
    "start_time": "2021-10-28T19:18:13.384Z"
   },
   {
    "duration": 64,
    "start_time": "2021-10-28T19:18:48.961Z"
   },
   {
    "duration": 189,
    "start_time": "2021-10-28T19:19:01.871Z"
   },
   {
    "duration": 211,
    "start_time": "2021-10-28T19:21:25.880Z"
   },
   {
    "duration": 190,
    "start_time": "2021-10-28T19:24:04.197Z"
   },
   {
    "duration": 70,
    "start_time": "2021-10-28T19:39:12.815Z"
   },
   {
    "duration": 207,
    "start_time": "2021-10-28T19:41:13.534Z"
   },
   {
    "duration": 211,
    "start_time": "2021-10-28T19:41:52.590Z"
   },
   {
    "duration": 269,
    "start_time": "2021-10-28T19:42:23.308Z"
   },
   {
    "duration": 192,
    "start_time": "2021-10-28T19:42:40.224Z"
   },
   {
    "duration": 168,
    "start_time": "2021-10-28T19:42:54.355Z"
   },
   {
    "duration": 62,
    "start_time": "2021-10-28T19:43:38.940Z"
   },
   {
    "duration": 60,
    "start_time": "2021-10-28T19:43:52.094Z"
   },
   {
    "duration": 59,
    "start_time": "2021-10-28T19:44:01.336Z"
   },
   {
    "duration": 164,
    "start_time": "2021-10-28T19:44:09.563Z"
   },
   {
    "duration": 188,
    "start_time": "2021-10-28T19:47:13.486Z"
   },
   {
    "duration": 154,
    "start_time": "2021-10-28T19:47:29.438Z"
   },
   {
    "duration": 183,
    "start_time": "2021-10-28T19:48:29.752Z"
   },
   {
    "duration": 179,
    "start_time": "2021-10-28T19:48:43.035Z"
   },
   {
    "duration": 54,
    "start_time": "2021-10-28T19:48:50.130Z"
   },
   {
    "duration": 60,
    "start_time": "2021-10-28T19:49:04.723Z"
   },
   {
    "duration": 69,
    "start_time": "2021-10-28T19:49:13.964Z"
   },
   {
    "duration": 186,
    "start_time": "2021-10-28T19:49:42.990Z"
   },
   {
    "duration": 176,
    "start_time": "2021-10-28T19:49:58.348Z"
   },
   {
    "duration": 189,
    "start_time": "2021-10-28T19:53:34.526Z"
   },
   {
    "duration": 230,
    "start_time": "2021-10-28T19:53:42.417Z"
   },
   {
    "duration": 198,
    "start_time": "2021-10-28T19:54:17.974Z"
   },
   {
    "duration": 192,
    "start_time": "2021-10-28T19:55:41.384Z"
   },
   {
    "duration": 162,
    "start_time": "2021-10-28T20:02:45.321Z"
   },
   {
    "duration": 58,
    "start_time": "2021-10-28T20:03:43.316Z"
   },
   {
    "duration": 327,
    "start_time": "2021-10-28T20:03:54.471Z"
   },
   {
    "duration": 176,
    "start_time": "2021-10-28T20:11:16.845Z"
   },
   {
    "duration": 1176,
    "start_time": "2021-10-28T20:11:29.967Z"
   },
   {
    "duration": 1314,
    "start_time": "2021-10-28T20:12:44.469Z"
   },
   {
    "duration": 1167,
    "start_time": "2021-10-28T20:15:33.055Z"
   },
   {
    "duration": 195,
    "start_time": "2021-10-28T20:20:47.588Z"
   },
   {
    "duration": 336,
    "start_time": "2021-10-28T20:36:53.843Z"
   },
   {
    "duration": 1358,
    "start_time": "2021-10-28T20:37:21.891Z"
   },
   {
    "duration": 16,
    "start_time": "2021-10-28T20:55:09.409Z"
   },
   {
    "duration": 190,
    "start_time": "2021-10-28T21:01:04.591Z"
   },
   {
    "duration": 5399,
    "start_time": "2021-10-28T21:03:09.299Z"
   },
   {
    "duration": 4319,
    "start_time": "2021-10-28T21:04:13.399Z"
   },
   {
    "duration": 178,
    "start_time": "2021-10-28T21:05:04.080Z"
   },
   {
    "duration": 14,
    "start_time": "2021-10-28T21:05:11.503Z"
   },
   {
    "duration": 14,
    "start_time": "2021-10-28T21:06:08.209Z"
   },
   {
    "duration": 14,
    "start_time": "2021-10-28T21:06:30.351Z"
   },
   {
    "duration": 5171,
    "start_time": "2021-10-28T21:09:09.979Z"
   },
   {
    "duration": 653,
    "start_time": "2021-10-28T21:09:43.373Z"
   },
   {
    "duration": 104,
    "start_time": "2021-10-28T21:09:44.027Z"
   },
   {
    "duration": 19,
    "start_time": "2021-10-28T21:09:44.133Z"
   },
   {
    "duration": 17,
    "start_time": "2021-10-28T21:09:44.154Z"
   },
   {
    "duration": 33,
    "start_time": "2021-10-28T21:09:44.173Z"
   },
   {
    "duration": 7,
    "start_time": "2021-10-28T21:09:44.208Z"
   },
   {
    "duration": 10,
    "start_time": "2021-10-28T21:09:44.217Z"
   },
   {
    "duration": 22,
    "start_time": "2021-10-28T21:09:44.229Z"
   },
   {
    "duration": 6,
    "start_time": "2021-10-28T21:09:44.253Z"
   },
   {
    "duration": 62,
    "start_time": "2021-10-28T21:09:44.260Z"
   },
   {
    "duration": 12,
    "start_time": "2021-10-28T21:09:44.323Z"
   },
   {
    "duration": 6,
    "start_time": "2021-10-28T21:09:44.337Z"
   },
   {
    "duration": 10,
    "start_time": "2021-10-28T21:09:44.345Z"
   },
   {
    "duration": 35,
    "start_time": "2021-10-28T21:09:44.356Z"
   },
   {
    "duration": 10,
    "start_time": "2021-10-28T21:09:44.393Z"
   },
   {
    "duration": 11,
    "start_time": "2021-10-28T21:09:44.405Z"
   },
   {
    "duration": 15,
    "start_time": "2021-10-28T21:09:44.418Z"
   },
   {
    "duration": 8,
    "start_time": "2021-10-28T21:09:44.434Z"
   },
   {
    "duration": 8,
    "start_time": "2021-10-28T21:09:44.444Z"
   },
   {
    "duration": 11,
    "start_time": "2021-10-28T21:09:44.454Z"
   },
   {
    "duration": 6,
    "start_time": "2021-10-28T21:09:44.491Z"
   },
   {
    "duration": 5,
    "start_time": "2021-10-28T21:09:44.498Z"
   },
   {
    "duration": 3,
    "start_time": "2021-10-28T21:09:44.507Z"
   },
   {
    "duration": 6,
    "start_time": "2021-10-28T21:09:44.513Z"
   },
   {
    "duration": 10,
    "start_time": "2021-10-28T21:09:44.520Z"
   },
   {
    "duration": 23,
    "start_time": "2021-10-28T21:09:44.531Z"
   },
   {
    "duration": 37,
    "start_time": "2021-10-28T21:09:44.555Z"
   },
   {
    "duration": 30,
    "start_time": "2021-10-28T21:09:44.594Z"
   },
   {
    "duration": 9,
    "start_time": "2021-10-28T21:09:44.626Z"
   },
   {
    "duration": 7,
    "start_time": "2021-10-28T21:09:44.636Z"
   },
   {
    "duration": 9,
    "start_time": "2021-10-28T21:09:44.645Z"
   },
   {
    "duration": 37,
    "start_time": "2021-10-28T21:09:44.655Z"
   },
   {
    "duration": 4,
    "start_time": "2021-10-28T21:09:44.694Z"
   },
   {
    "duration": 6,
    "start_time": "2021-10-28T21:09:44.699Z"
   },
   {
    "duration": 1247,
    "start_time": "2021-10-28T21:09:44.706Z"
   },
   {
    "duration": 4,
    "start_time": "2021-10-28T21:09:45.954Z"
   },
   {
    "duration": 1335,
    "start_time": "2021-10-28T21:09:45.960Z"
   },
   {
    "duration": 4,
    "start_time": "2021-10-28T21:09:47.297Z"
   },
   {
    "duration": 13,
    "start_time": "2021-10-28T21:09:47.303Z"
   },
   {
    "duration": 292,
    "start_time": "2021-10-28T21:09:47.318Z"
   },
   {
    "duration": 252,
    "start_time": "2021-10-28T21:09:47.611Z"
   },
   {
    "duration": 299,
    "start_time": "2021-10-28T21:09:47.864Z"
   },
   {
    "duration": 219,
    "start_time": "2021-10-28T21:09:48.165Z"
   },
   {
    "duration": 203,
    "start_time": "2021-10-28T21:09:48.391Z"
   },
   {
    "duration": 9,
    "start_time": "2021-10-28T21:09:48.596Z"
   },
   {
    "duration": 158,
    "start_time": "2021-10-28T21:09:48.607Z"
   },
   {
    "duration": 12,
    "start_time": "2021-10-28T21:09:48.766Z"
   },
   {
    "duration": 61,
    "start_time": "2021-10-28T21:09:48.779Z"
   },
   {
    "duration": 198,
    "start_time": "2021-10-28T21:09:48.842Z"
   },
   {
    "duration": 9,
    "start_time": "2021-10-28T21:09:49.041Z"
   },
   {
    "duration": 155,
    "start_time": "2021-10-28T21:09:49.051Z"
   },
   {
    "duration": 12,
    "start_time": "2021-10-28T21:09:49.208Z"
   },
   {
    "duration": 191,
    "start_time": "2021-10-28T21:09:49.221Z"
   },
   {
    "duration": 9,
    "start_time": "2021-10-28T21:09:49.413Z"
   },
   {
    "duration": 155,
    "start_time": "2021-10-28T21:09:49.424Z"
   },
   {
    "duration": 18,
    "start_time": "2021-10-28T21:09:49.581Z"
   },
   {
    "duration": 50,
    "start_time": "2021-10-28T21:09:49.601Z"
   },
   {
    "duration": 212,
    "start_time": "2021-10-28T21:09:49.653Z"
   },
   {
    "duration": 218,
    "start_time": "2021-10-28T21:09:49.867Z"
   },
   {
    "duration": 6,
    "start_time": "2021-10-28T21:09:50.087Z"
   },
   {
    "duration": 7,
    "start_time": "2021-10-28T21:09:50.094Z"
   },
   {
    "duration": 10,
    "start_time": "2021-10-28T21:09:50.103Z"
   },
   {
    "duration": 3,
    "start_time": "2021-10-28T21:09:50.114Z"
   },
   {
    "duration": 1178,
    "start_time": "2021-10-28T21:09:50.119Z"
   },
   {
    "duration": 5,
    "start_time": "2021-10-28T21:09:51.299Z"
   },
   {
    "duration": 18,
    "start_time": "2021-10-28T21:09:51.306Z"
   },
   {
    "duration": 25,
    "start_time": "2021-10-28T21:09:51.326Z"
   },
   {
    "duration": 8,
    "start_time": "2021-10-28T21:09:51.356Z"
   },
   {
    "duration": 32,
    "start_time": "2021-10-28T21:09:51.365Z"
   },
   {
    "duration": 9,
    "start_time": "2021-10-28T21:09:51.400Z"
   },
   {
    "duration": 11,
    "start_time": "2021-10-28T21:09:51.410Z"
   },
   {
    "duration": 259,
    "start_time": "2021-10-28T21:09:51.423Z"
   },
   {
    "duration": 192,
    "start_time": "2021-10-28T21:09:51.691Z"
   },
   {
    "duration": 195,
    "start_time": "2021-10-28T21:09:51.885Z"
   },
   {
    "duration": 4551,
    "start_time": "2021-10-28T21:09:52.082Z"
   },
   {
    "duration": -196,
    "start_time": "2021-10-28T21:09:56.831Z"
   },
   {
    "duration": -200,
    "start_time": "2021-10-28T21:09:56.837Z"
   },
   {
    "duration": 67,
    "start_time": "2021-10-28T21:10:33.065Z"
   },
   {
    "duration": 14,
    "start_time": "2021-10-28T21:11:00.200Z"
   },
   {
    "duration": 14,
    "start_time": "2021-10-28T21:11:11.642Z"
   },
   {
    "duration": 187,
    "start_time": "2021-10-28T21:25:06.107Z"
   },
   {
    "duration": 194,
    "start_time": "2021-10-28T21:25:23.160Z"
   },
   {
    "duration": 305,
    "start_time": "2021-10-28T21:29:19.076Z"
   },
   {
    "duration": 17,
    "start_time": "2021-10-28T21:30:35.732Z"
   },
   {
    "duration": 22,
    "start_time": "2021-10-28T21:30:53.069Z"
   },
   {
    "duration": 193,
    "start_time": "2021-10-28T21:32:54.442Z"
   },
   {
    "duration": 685,
    "start_time": "2021-10-28T21:33:08.983Z"
   },
   {
    "duration": 14,
    "start_time": "2021-10-28T21:33:45.257Z"
   },
   {
    "duration": 16,
    "start_time": "2021-10-28T21:33:54.100Z"
   },
   {
    "duration": 20,
    "start_time": "2021-10-28T21:34:20.219Z"
   },
   {
    "duration": 21,
    "start_time": "2021-10-28T21:34:31.805Z"
   },
   {
    "duration": 17,
    "start_time": "2021-10-28T21:34:39.998Z"
   },
   {
    "duration": 18,
    "start_time": "2021-10-28T21:36:17.434Z"
   },
   {
    "duration": 4552,
    "start_time": "2021-10-28T21:38:18.316Z"
   },
   {
    "duration": 54,
    "start_time": "2021-10-28T21:38:56.034Z"
   },
   {
    "duration": 4731,
    "start_time": "2021-10-28T21:39:04.314Z"
   },
   {
    "duration": -242,
    "start_time": "2021-10-28T21:39:09.289Z"
   },
   {
    "duration": 720,
    "start_time": "2021-10-28T21:41:04.025Z"
   },
   {
    "duration": 1481,
    "start_time": "2021-10-28T21:43:40.864Z"
   },
   {
    "duration": 181,
    "start_time": "2021-10-28T21:43:48.667Z"
   },
   {
    "duration": 16,
    "start_time": "2021-10-28T21:44:57.469Z"
   },
   {
    "duration": 1157,
    "start_time": "2021-10-28T21:45:24.919Z"
   },
   {
    "duration": 17,
    "start_time": "2021-10-28T21:45:51.307Z"
   },
   {
    "duration": 705,
    "start_time": "2021-10-28T21:47:20.958Z"
   },
   {
    "duration": 706,
    "start_time": "2021-10-28T21:50:50.016Z"
   },
   {
    "duration": 5212,
    "start_time": "2021-10-28T21:51:26.848Z"
   },
   {
    "duration": 4313,
    "start_time": "2021-10-28T21:52:05.940Z"
   },
   {
    "duration": 22,
    "start_time": "2021-10-28T21:55:35.101Z"
   },
   {
    "duration": 21,
    "start_time": "2021-10-28T21:56:08.312Z"
   },
   {
    "duration": 183,
    "start_time": "2021-10-28T21:58:56.542Z"
   },
   {
    "duration": 184,
    "start_time": "2021-10-28T21:59:27.461Z"
   },
   {
    "duration": 197,
    "start_time": "2021-10-28T22:00:34.587Z"
   },
   {
    "duration": 16,
    "start_time": "2021-10-28T22:00:45.233Z"
   },
   {
    "duration": 21,
    "start_time": "2021-10-28T22:03:41.823Z"
   },
   {
    "duration": 22,
    "start_time": "2021-10-28T22:05:36.611Z"
   },
   {
    "duration": 23,
    "start_time": "2021-10-28T22:07:33.984Z"
   },
   {
    "duration": 23,
    "start_time": "2021-10-28T22:07:57.014Z"
   },
   {
    "duration": 20,
    "start_time": "2021-10-28T22:09:01.044Z"
   },
   {
    "duration": 176,
    "start_time": "2021-10-28T22:12:12.202Z"
   },
   {
    "duration": 20,
    "start_time": "2021-10-28T22:13:29.645Z"
   },
   {
    "duration": 61,
    "start_time": "2021-10-28T22:18:52.630Z"
   },
   {
    "duration": 701,
    "start_time": "2021-10-28T22:19:13.267Z"
   },
   {
    "duration": 725,
    "start_time": "2021-10-28T22:20:35.044Z"
   },
   {
    "duration": 24,
    "start_time": "2021-10-28T22:23:10.698Z"
   },
   {
    "duration": 22,
    "start_time": "2021-10-28T22:23:50.665Z"
   },
   {
    "duration": 71,
    "start_time": "2021-10-28T22:24:52.628Z"
   },
   {
    "duration": 184,
    "start_time": "2021-10-28T22:34:58.372Z"
   },
   {
    "duration": 208,
    "start_time": "2021-10-28T22:35:31.543Z"
   },
   {
    "duration": 21,
    "start_time": "2021-10-28T22:37:35.785Z"
   },
   {
    "duration": 16,
    "start_time": "2021-10-28T22:42:51.690Z"
   },
   {
    "duration": 25,
    "start_time": "2021-10-28T22:44:06.060Z"
   },
   {
    "duration": 23,
    "start_time": "2021-10-28T22:44:33.425Z"
   },
   {
    "duration": 199,
    "start_time": "2021-10-28T22:46:23.827Z"
   },
   {
    "duration": 23,
    "start_time": "2021-10-28T22:46:35.646Z"
   },
   {
    "duration": 189,
    "start_time": "2021-10-28T22:53:27.185Z"
   },
   {
    "duration": 171,
    "start_time": "2021-10-28T22:57:14.255Z"
   },
   {
    "duration": 558,
    "start_time": "2021-10-28T23:03:18.022Z"
   },
   {
    "duration": 196,
    "start_time": "2021-10-28T23:03:40.355Z"
   },
   {
    "duration": 198,
    "start_time": "2021-10-28T23:04:13.379Z"
   },
   {
    "duration": 17,
    "start_time": "2021-10-28T23:04:43.765Z"
   },
   {
    "duration": 18,
    "start_time": "2021-10-28T23:04:55.022Z"
   },
   {
    "duration": 19,
    "start_time": "2021-10-28T23:05:27.734Z"
   },
   {
    "duration": 5,
    "start_time": "2021-10-28T23:05:30.411Z"
   },
   {
    "duration": 25,
    "start_time": "2021-10-28T23:05:39.515Z"
   },
   {
    "duration": 1243,
    "start_time": "2021-10-29T04:43:10.683Z"
   },
   {
    "duration": 8,
    "start_time": "2021-10-29T04:46:07.958Z"
   },
   {
    "duration": 5,
    "start_time": "2021-10-29T04:46:47.170Z"
   },
   {
    "duration": 5,
    "start_time": "2021-10-29T04:46:49.073Z"
   },
   {
    "duration": 5,
    "start_time": "2021-10-29T04:46:49.860Z"
   },
   {
    "duration": 184,
    "start_time": "2021-10-29T04:47:10.058Z"
   },
   {
    "duration": 182,
    "start_time": "2021-10-29T04:47:27.386Z"
   },
   {
    "duration": 6,
    "start_time": "2021-10-29T04:47:39.597Z"
   },
   {
    "duration": 319,
    "start_time": "2021-10-29T04:55:53.421Z"
   },
   {
    "duration": 30,
    "start_time": "2021-10-29T04:56:42.292Z"
   },
   {
    "duration": 7,
    "start_time": "2021-10-29T05:04:33.093Z"
   },
   {
    "duration": 12,
    "start_time": "2021-10-29T05:04:52.018Z"
   },
   {
    "duration": 63,
    "start_time": "2021-10-29T05:07:52.742Z"
   },
   {
    "duration": 17,
    "start_time": "2021-10-29T05:08:11.784Z"
   },
   {
    "duration": 16,
    "start_time": "2021-10-29T05:08:29.029Z"
   },
   {
    "duration": 24,
    "start_time": "2021-10-29T05:08:53.818Z"
   },
   {
    "duration": 581,
    "start_time": "2021-10-29T05:46:55.556Z"
   },
   {
    "duration": 104,
    "start_time": "2021-10-29T05:46:56.139Z"
   },
   {
    "duration": 19,
    "start_time": "2021-10-29T05:46:56.245Z"
   },
   {
    "duration": 17,
    "start_time": "2021-10-29T05:46:56.266Z"
   },
   {
    "duration": 24,
    "start_time": "2021-10-29T05:46:56.284Z"
   },
   {
    "duration": 5,
    "start_time": "2021-10-29T05:46:56.310Z"
   },
   {
    "duration": 9,
    "start_time": "2021-10-29T05:46:56.316Z"
   },
   {
    "duration": 20,
    "start_time": "2021-10-29T05:46:56.327Z"
   },
   {
    "duration": 6,
    "start_time": "2021-10-29T05:46:56.348Z"
   },
   {
    "duration": 60,
    "start_time": "2021-10-29T05:46:56.356Z"
   },
   {
    "duration": 11,
    "start_time": "2021-10-29T05:46:56.418Z"
   },
   {
    "duration": 10,
    "start_time": "2021-10-29T05:46:56.431Z"
   },
   {
    "duration": 8,
    "start_time": "2021-10-29T05:46:56.443Z"
   },
   {
    "duration": 8,
    "start_time": "2021-10-29T05:46:56.452Z"
   },
   {
    "duration": 32,
    "start_time": "2021-10-29T05:46:56.461Z"
   },
   {
    "duration": 12,
    "start_time": "2021-10-29T05:46:56.494Z"
   },
   {
    "duration": 14,
    "start_time": "2021-10-29T05:46:56.508Z"
   },
   {
    "duration": 8,
    "start_time": "2021-10-29T05:46:56.523Z"
   },
   {
    "duration": 6,
    "start_time": "2021-10-29T05:46:56.532Z"
   },
   {
    "duration": 7,
    "start_time": "2021-10-29T05:46:56.540Z"
   },
   {
    "duration": 10,
    "start_time": "2021-10-29T05:46:56.548Z"
   },
   {
    "duration": 3,
    "start_time": "2021-10-29T05:46:56.560Z"
   },
   {
    "duration": 4,
    "start_time": "2021-10-29T05:46:56.594Z"
   },
   {
    "duration": 5,
    "start_time": "2021-10-29T05:46:56.600Z"
   },
   {
    "duration": 10,
    "start_time": "2021-10-29T05:46:56.606Z"
   },
   {
    "duration": 14,
    "start_time": "2021-10-29T05:46:56.617Z"
   },
   {
    "duration": 11,
    "start_time": "2021-10-29T05:46:56.633Z"
   },
   {
    "duration": 50,
    "start_time": "2021-10-29T05:46:56.645Z"
   },
   {
    "duration": 8,
    "start_time": "2021-10-29T05:46:56.697Z"
   },
   {
    "duration": 7,
    "start_time": "2021-10-29T05:46:56.707Z"
   },
   {
    "duration": 7,
    "start_time": "2021-10-29T05:46:56.716Z"
   },
   {
    "duration": 12,
    "start_time": "2021-10-29T05:46:56.725Z"
   },
   {
    "duration": 3,
    "start_time": "2021-10-29T05:46:56.739Z"
   },
   {
    "duration": 5,
    "start_time": "2021-10-29T05:46:56.743Z"
   },
   {
    "duration": 1214,
    "start_time": "2021-10-29T05:46:56.749Z"
   },
   {
    "duration": 3,
    "start_time": "2021-10-29T05:46:57.965Z"
   },
   {
    "duration": 1258,
    "start_time": "2021-10-29T05:46:57.969Z"
   },
   {
    "duration": 4,
    "start_time": "2021-10-29T05:46:59.229Z"
   },
   {
    "duration": 16,
    "start_time": "2021-10-29T05:46:59.234Z"
   },
   {
    "duration": 277,
    "start_time": "2021-10-29T05:46:59.252Z"
   },
   {
    "duration": 228,
    "start_time": "2021-10-29T05:46:59.530Z"
   },
   {
    "duration": 278,
    "start_time": "2021-10-29T05:46:59.759Z"
   },
   {
    "duration": 214,
    "start_time": "2021-10-29T05:47:00.038Z"
   },
   {
    "duration": 201,
    "start_time": "2021-10-29T05:47:00.253Z"
   },
   {
    "duration": 9,
    "start_time": "2021-10-29T05:47:00.455Z"
   },
   {
    "duration": 148,
    "start_time": "2021-10-29T05:47:00.466Z"
   },
   {
    "duration": 12,
    "start_time": "2021-10-29T05:47:00.615Z"
   },
   {
    "duration": 64,
    "start_time": "2021-10-29T05:47:00.628Z"
   },
   {
    "duration": 183,
    "start_time": "2021-10-29T05:47:00.694Z"
   },
   {
    "duration": 16,
    "start_time": "2021-10-29T05:47:00.879Z"
   },
   {
    "duration": 137,
    "start_time": "2021-10-29T05:47:00.896Z"
   },
   {
    "duration": 11,
    "start_time": "2021-10-29T05:47:01.034Z"
   },
   {
    "duration": 183,
    "start_time": "2021-10-29T05:47:01.046Z"
   },
   {
    "duration": 9,
    "start_time": "2021-10-29T05:47:01.230Z"
   },
   {
    "duration": 151,
    "start_time": "2021-10-29T05:47:01.240Z"
   },
   {
    "duration": 9,
    "start_time": "2021-10-29T05:47:01.393Z"
   },
   {
    "duration": 56,
    "start_time": "2021-10-29T05:47:01.403Z"
   },
   {
    "duration": 179,
    "start_time": "2021-10-29T05:47:01.460Z"
   },
   {
    "duration": 186,
    "start_time": "2021-10-29T05:47:01.641Z"
   },
   {
    "duration": 4,
    "start_time": "2021-10-29T05:47:01.828Z"
   },
   {
    "duration": 34,
    "start_time": "2021-10-29T05:47:01.833Z"
   },
   {
    "duration": 25,
    "start_time": "2021-10-29T05:47:01.868Z"
   },
   {
    "duration": 6,
    "start_time": "2021-10-29T05:47:01.895Z"
   },
   {
    "duration": 1124,
    "start_time": "2021-10-29T05:47:01.902Z"
   },
   {
    "duration": 5,
    "start_time": "2021-10-29T05:47:03.028Z"
   },
   {
    "duration": 17,
    "start_time": "2021-10-29T05:47:03.035Z"
   },
   {
    "duration": 37,
    "start_time": "2021-10-29T05:47:03.054Z"
   },
   {
    "duration": 7,
    "start_time": "2021-10-29T05:47:03.096Z"
   },
   {
    "duration": 13,
    "start_time": "2021-10-29T05:47:03.105Z"
   },
   {
    "duration": 7,
    "start_time": "2021-10-29T05:47:03.119Z"
   },
   {
    "duration": 18,
    "start_time": "2021-10-29T05:47:03.128Z"
   },
   {
    "duration": 262,
    "start_time": "2021-10-29T05:47:03.148Z"
   },
   {
    "duration": 196,
    "start_time": "2021-10-29T05:47:03.412Z"
   },
   {
    "duration": 201,
    "start_time": "2021-10-29T05:47:03.609Z"
   },
   {
    "duration": 328,
    "start_time": "2021-10-29T05:47:03.811Z"
   },
   {
    "duration": 29,
    "start_time": "2021-10-29T05:47:04.140Z"
   },
   {
    "duration": 375,
    "start_time": "2021-10-29T05:47:04.170Z"
   },
   {
    "duration": -19154,
    "start_time": "2021-10-29T05:47:23.701Z"
   },
   {
    "duration": -19157,
    "start_time": "2021-10-29T05:47:23.705Z"
   },
   {
    "duration": -19160,
    "start_time": "2021-10-29T05:47:23.709Z"
   },
   {
    "duration": -19164,
    "start_time": "2021-10-29T05:47:23.714Z"
   },
   {
    "duration": -19266,
    "start_time": "2021-10-29T05:47:23.817Z"
   },
   {
    "duration": 3,
    "start_time": "2021-10-29T05:47:17.450Z"
   },
   {
    "duration": 89,
    "start_time": "2021-10-29T05:47:17.870Z"
   },
   {
    "duration": 18,
    "start_time": "2021-10-29T05:47:18.258Z"
   },
   {
    "duration": 13,
    "start_time": "2021-10-29T05:47:18.651Z"
   },
   {
    "duration": 18,
    "start_time": "2021-10-29T05:47:19.872Z"
   },
   {
    "duration": 6,
    "start_time": "2021-10-29T05:47:20.208Z"
   },
   {
    "duration": 10,
    "start_time": "2021-10-29T05:47:20.817Z"
   },
   {
    "duration": 14,
    "start_time": "2021-10-29T05:47:21.085Z"
   },
   {
    "duration": 6,
    "start_time": "2021-10-29T05:47:21.363Z"
   },
   {
    "duration": 31,
    "start_time": "2021-10-29T05:47:21.896Z"
   },
   {
    "duration": 13,
    "start_time": "2021-10-29T05:47:22.164Z"
   },
   {
    "duration": 5,
    "start_time": "2021-10-29T05:47:22.741Z"
   },
   {
    "duration": 9,
    "start_time": "2021-10-29T05:47:22.999Z"
   },
   {
    "duration": 10,
    "start_time": "2021-10-29T05:47:23.263Z"
   },
   {
    "duration": 10,
    "start_time": "2021-10-29T05:47:23.543Z"
   },
   {
    "duration": 12,
    "start_time": "2021-10-29T05:47:23.944Z"
   },
   {
    "duration": 16,
    "start_time": "2021-10-29T05:47:24.323Z"
   },
   {
    "duration": 6,
    "start_time": "2021-10-29T05:47:24.741Z"
   },
   {
    "duration": 5,
    "start_time": "2021-10-29T05:47:25.757Z"
   },
   {
    "duration": 6,
    "start_time": "2021-10-29T05:47:26.300Z"
   },
   {
    "duration": 5,
    "start_time": "2021-10-29T05:47:29.362Z"
   },
   {
    "duration": 4,
    "start_time": "2021-10-29T05:47:29.982Z"
   },
   {
    "duration": 4,
    "start_time": "2021-10-29T05:47:30.276Z"
   },
   {
    "duration": 4,
    "start_time": "2021-10-29T05:47:30.583Z"
   },
   {
    "duration": 5,
    "start_time": "2021-10-29T05:47:30.888Z"
   },
   {
    "duration": 15,
    "start_time": "2021-10-29T05:47:31.201Z"
   },
   {
    "duration": 12,
    "start_time": "2021-10-29T05:47:32.876Z"
   },
   {
    "duration": 30,
    "start_time": "2021-10-29T05:47:35.728Z"
   },
   {
    "duration": 8,
    "start_time": "2021-10-29T05:47:49.966Z"
   },
   {
    "duration": 8,
    "start_time": "2021-10-29T05:47:50.319Z"
   },
   {
    "duration": 9,
    "start_time": "2021-10-29T05:47:50.818Z"
   },
   {
    "duration": 14,
    "start_time": "2021-10-29T05:47:51.786Z"
   },
   {
    "duration": 5,
    "start_time": "2021-10-29T05:47:52.465Z"
   },
   {
    "duration": 3,
    "start_time": "2021-10-29T05:47:53.375Z"
   },
   {
    "duration": 1211,
    "start_time": "2021-10-29T05:47:53.735Z"
   },
   {
    "duration": 4,
    "start_time": "2021-10-29T05:47:54.947Z"
   },
   {
    "duration": 1228,
    "start_time": "2021-10-29T05:47:54.953Z"
   },
   {
    "duration": 9,
    "start_time": "2021-10-29T05:47:56.183Z"
   },
   {
    "duration": 21,
    "start_time": "2021-10-29T05:47:56.194Z"
   },
   {
    "duration": 344,
    "start_time": "2021-10-29T05:47:56.217Z"
   },
   {
    "duration": 235,
    "start_time": "2021-10-29T05:47:56.562Z"
   },
   {
    "duration": 255,
    "start_time": "2021-10-29T05:47:56.799Z"
   },
   {
    "duration": 210,
    "start_time": "2021-10-29T05:47:57.056Z"
   },
   {
    "duration": 198,
    "start_time": "2021-10-29T05:47:57.268Z"
   },
   {
    "duration": 8,
    "start_time": "2021-10-29T05:47:57.470Z"
   },
   {
    "duration": 134,
    "start_time": "2021-10-29T05:47:57.742Z"
   },
   {
    "duration": 11,
    "start_time": "2021-10-29T05:47:57.958Z"
   },
   {
    "duration": 52,
    "start_time": "2021-10-29T05:47:58.179Z"
   },
   {
    "duration": 182,
    "start_time": "2021-10-29T05:47:58.446Z"
   },
   {
    "duration": 9,
    "start_time": "2021-10-29T05:47:58.706Z"
   },
   {
    "duration": 129,
    "start_time": "2021-10-29T05:47:58.966Z"
   },
   {
    "duration": 170,
    "start_time": "2021-10-29T05:48:09.511Z"
   },
   {
    "duration": 8,
    "start_time": "2021-10-29T05:48:10.056Z"
   },
   {
    "duration": 152,
    "start_time": "2021-10-29T05:48:10.872Z"
   },
   {
    "duration": 10,
    "start_time": "2021-10-29T05:48:11.514Z"
   },
   {
    "duration": 168,
    "start_time": "2021-10-29T05:48:12.094Z"
   },
   {
    "duration": 9,
    "start_time": "2021-10-29T05:48:12.432Z"
   },
   {
    "duration": 141,
    "start_time": "2021-10-29T05:48:12.709Z"
   },
   {
    "duration": 12,
    "start_time": "2021-10-29T05:48:12.934Z"
   },
   {
    "duration": 48,
    "start_time": "2021-10-29T05:48:13.178Z"
   },
   {
    "duration": 260,
    "start_time": "2021-10-29T05:48:13.446Z"
   },
   {
    "duration": 180,
    "start_time": "2021-10-29T05:48:13.917Z"
   },
   {
    "duration": 4,
    "start_time": "2021-10-29T05:48:14.144Z"
   },
   {
    "duration": 5,
    "start_time": "2021-10-29T05:48:14.382Z"
   },
   {
    "duration": 9,
    "start_time": "2021-10-29T05:48:14.596Z"
   },
   {
    "duration": 3,
    "start_time": "2021-10-29T05:48:14.848Z"
   },
   {
    "duration": 1078,
    "start_time": "2021-10-29T05:48:15.072Z"
   },
   {
    "duration": 5,
    "start_time": "2021-10-29T05:48:16.151Z"
   },
   {
    "duration": 15,
    "start_time": "2021-10-29T05:48:16.158Z"
   },
   {
    "duration": 19,
    "start_time": "2021-10-29T05:48:16.527Z"
   },
   {
    "duration": 8,
    "start_time": "2021-10-29T05:48:17.025Z"
   },
   {
    "duration": 6,
    "start_time": "2021-10-29T05:48:19.699Z"
   },
   {
    "duration": 5,
    "start_time": "2021-10-29T05:48:20.342Z"
   },
   {
    "duration": 9,
    "start_time": "2021-10-29T05:48:21.115Z"
   },
   {
    "duration": 254,
    "start_time": "2021-10-29T05:48:21.762Z"
   },
   {
    "duration": 193,
    "start_time": "2021-10-29T05:48:22.392Z"
   },
   {
    "duration": 196,
    "start_time": "2021-10-29T05:48:23.854Z"
   },
   {
    "duration": 417,
    "start_time": "2021-10-29T05:48:24.536Z"
   },
   {
    "duration": 30,
    "start_time": "2021-10-29T05:48:25.233Z"
   },
   {
    "duration": 183,
    "start_time": "2021-10-29T05:48:26.415Z"
   },
   {
    "duration": 24,
    "start_time": "2021-10-29T05:49:08.249Z"
   },
   {
    "duration": 178,
    "start_time": "2021-10-29T05:53:49.085Z"
   },
   {
    "duration": 272,
    "start_time": "2021-10-29T05:56:30.182Z"
   },
   {
    "duration": 180,
    "start_time": "2021-10-29T05:56:57.369Z"
   },
   {
    "duration": 7,
    "start_time": "2021-10-29T06:04:51.270Z"
   },
   {
    "duration": 13,
    "start_time": "2021-10-29T06:05:03.604Z"
   },
   {
    "duration": 11,
    "start_time": "2021-10-29T06:05:20.562Z"
   },
   {
    "duration": 13,
    "start_time": "2021-10-29T06:05:28.164Z"
   },
   {
    "duration": 31,
    "start_time": "2021-10-29T06:06:15.537Z"
   },
   {
    "duration": 24,
    "start_time": "2021-10-29T06:08:40.983Z"
   },
   {
    "duration": 17,
    "start_time": "2021-10-29T06:08:50.893Z"
   },
   {
    "duration": 15,
    "start_time": "2021-10-29T06:09:19.521Z"
   },
   {
    "duration": 8,
    "start_time": "2021-10-29T06:10:11.059Z"
   },
   {
    "duration": 14,
    "start_time": "2021-10-29T06:10:23.944Z"
   },
   {
    "duration": 16,
    "start_time": "2021-10-29T06:10:40.260Z"
   },
   {
    "duration": 15,
    "start_time": "2021-10-29T06:10:50.827Z"
   },
   {
    "duration": 14,
    "start_time": "2021-10-29T06:11:01.211Z"
   },
   {
    "duration": 173,
    "start_time": "2021-10-29T06:12:54.943Z"
   },
   {
    "duration": 275,
    "start_time": "2021-10-29T06:13:05.754Z"
   },
   {
    "duration": 243,
    "start_time": "2021-10-29T06:14:09.563Z"
   },
   {
    "duration": 307,
    "start_time": "2021-10-29T06:20:01.689Z"
   },
   {
    "duration": 363,
    "start_time": "2021-10-29T06:20:44.922Z"
   },
   {
    "duration": 318,
    "start_time": "2021-10-29T06:20:56.518Z"
   },
   {
    "duration": 217,
    "start_time": "2021-10-29T06:41:07.424Z"
   },
   {
    "duration": 448,
    "start_time": "2021-10-29T06:57:47.416Z"
   },
   {
    "duration": 4,
    "start_time": "2021-10-29T06:57:48.548Z"
   },
   {
    "duration": 1246,
    "start_time": "2021-10-29T06:57:49.367Z"
   },
   {
    "duration": 781,
    "start_time": "2021-10-29T09:39:22.170Z"
   },
   {
    "duration": 82,
    "start_time": "2021-10-29T09:39:22.953Z"
   },
   {
    "duration": 19,
    "start_time": "2021-10-29T09:39:23.037Z"
   },
   {
    "duration": 23,
    "start_time": "2021-10-29T09:39:23.058Z"
   },
   {
    "duration": 34,
    "start_time": "2021-10-29T09:39:23.083Z"
   },
   {
    "duration": 14,
    "start_time": "2021-10-29T09:39:23.119Z"
   },
   {
    "duration": 21,
    "start_time": "2021-10-29T09:39:23.135Z"
   },
   {
    "duration": 27,
    "start_time": "2021-10-29T09:39:23.158Z"
   },
   {
    "duration": 12,
    "start_time": "2021-10-29T09:39:23.187Z"
   },
   {
    "duration": 48,
    "start_time": "2021-10-29T09:39:23.200Z"
   },
   {
    "duration": 13,
    "start_time": "2021-10-29T09:39:23.249Z"
   },
   {
    "duration": 19,
    "start_time": "2021-10-29T09:39:23.263Z"
   },
   {
    "duration": 19,
    "start_time": "2021-10-29T09:39:23.283Z"
   },
   {
    "duration": 17,
    "start_time": "2021-10-29T09:39:23.303Z"
   },
   {
    "duration": 19,
    "start_time": "2021-10-29T09:39:23.321Z"
   },
   {
    "duration": 17,
    "start_time": "2021-10-29T09:39:23.342Z"
   },
   {
    "duration": 30,
    "start_time": "2021-10-29T09:39:23.361Z"
   },
   {
    "duration": 27,
    "start_time": "2021-10-29T09:39:23.393Z"
   },
   {
    "duration": 20,
    "start_time": "2021-10-29T09:39:23.422Z"
   },
   {
    "duration": 17,
    "start_time": "2021-10-29T09:39:23.444Z"
   },
   {
    "duration": 22,
    "start_time": "2021-10-29T09:39:23.463Z"
   },
   {
    "duration": 19,
    "start_time": "2021-10-29T09:39:23.487Z"
   },
   {
    "duration": 38,
    "start_time": "2021-10-29T09:39:23.511Z"
   },
   {
    "duration": 29,
    "start_time": "2021-10-29T09:39:23.552Z"
   },
   {
    "duration": 39,
    "start_time": "2021-10-29T09:39:23.583Z"
   },
   {
    "duration": 27,
    "start_time": "2021-10-29T09:39:23.624Z"
   },
   {
    "duration": 14,
    "start_time": "2021-10-29T09:39:23.653Z"
   },
   {
    "duration": 41,
    "start_time": "2021-10-29T09:39:23.669Z"
   },
   {
    "duration": 9,
    "start_time": "2021-10-29T09:39:23.712Z"
   },
   {
    "duration": 26,
    "start_time": "2021-10-29T09:39:23.722Z"
   },
   {
    "duration": 10,
    "start_time": "2021-10-29T09:39:23.750Z"
   },
   {
    "duration": 19,
    "start_time": "2021-10-29T09:39:23.762Z"
   },
   {
    "duration": 10,
    "start_time": "2021-10-29T09:39:23.783Z"
   },
   {
    "duration": 1359,
    "start_time": "2021-10-29T09:39:23.795Z"
   },
   {
    "duration": 3,
    "start_time": "2021-10-29T09:39:25.156Z"
   },
   {
    "duration": 1550,
    "start_time": "2021-10-29T09:39:25.161Z"
   },
   {
    "duration": 5,
    "start_time": "2021-10-29T09:39:26.713Z"
   },
   {
    "duration": 36,
    "start_time": "2021-10-29T09:39:26.719Z"
   },
   {
    "duration": 257,
    "start_time": "2021-10-29T09:39:26.757Z"
   },
   {
    "duration": 328,
    "start_time": "2021-10-29T09:39:27.016Z"
   },
   {
    "duration": 376,
    "start_time": "2021-10-29T09:39:27.347Z"
   },
   {
    "duration": 221,
    "start_time": "2021-10-29T09:39:27.725Z"
   },
   {
    "duration": 213,
    "start_time": "2021-10-29T09:39:27.948Z"
   },
   {
    "duration": 10,
    "start_time": "2021-10-29T09:39:28.164Z"
   },
   {
    "duration": 150,
    "start_time": "2021-10-29T09:39:28.176Z"
   },
   {
    "duration": 21,
    "start_time": "2021-10-29T09:39:28.329Z"
   },
   {
    "duration": 58,
    "start_time": "2021-10-29T09:39:28.352Z"
   },
   {
    "duration": 192,
    "start_time": "2021-10-29T09:39:28.411Z"
   },
   {
    "duration": 8,
    "start_time": "2021-10-29T09:39:28.605Z"
   },
   {
    "duration": 155,
    "start_time": "2021-10-29T09:39:28.615Z"
   },
   {
    "duration": 11,
    "start_time": "2021-10-29T09:39:28.772Z"
   },
   {
    "duration": 232,
    "start_time": "2021-10-29T09:39:28.784Z"
   },
   {
    "duration": 9,
    "start_time": "2021-10-29T09:39:29.018Z"
   },
   {
    "duration": 156,
    "start_time": "2021-10-29T09:39:29.029Z"
   },
   {
    "duration": 13,
    "start_time": "2021-10-29T09:39:29.187Z"
   },
   {
    "duration": 73,
    "start_time": "2021-10-29T09:39:29.202Z"
   },
   {
    "duration": 232,
    "start_time": "2021-10-29T09:39:29.277Z"
   },
   {
    "duration": 217,
    "start_time": "2021-10-29T09:39:29.511Z"
   },
   {
    "duration": 5,
    "start_time": "2021-10-29T09:39:29.729Z"
   },
   {
    "duration": 14,
    "start_time": "2021-10-29T09:39:29.736Z"
   },
   {
    "duration": 18,
    "start_time": "2021-10-29T09:39:29.752Z"
   },
   {
    "duration": 8,
    "start_time": "2021-10-29T09:39:29.772Z"
   },
   {
    "duration": 1182,
    "start_time": "2021-10-29T09:39:29.782Z"
   },
   {
    "duration": 4,
    "start_time": "2021-10-29T09:39:30.966Z"
   },
   {
    "duration": 32,
    "start_time": "2021-10-29T09:39:30.972Z"
   },
   {
    "duration": 34,
    "start_time": "2021-10-29T09:39:31.006Z"
   },
   {
    "duration": 14,
    "start_time": "2021-10-29T09:39:31.041Z"
   },
   {
    "duration": 16,
    "start_time": "2021-10-29T09:39:31.060Z"
   },
   {
    "duration": 12,
    "start_time": "2021-10-29T09:39:31.078Z"
   },
   {
    "duration": 16,
    "start_time": "2021-10-29T09:39:31.091Z"
   },
   {
    "duration": 303,
    "start_time": "2021-10-29T09:39:31.109Z"
   },
   {
    "duration": 221,
    "start_time": "2021-10-29T09:39:31.414Z"
   },
   {
    "duration": 207,
    "start_time": "2021-10-29T09:39:31.637Z"
   },
   {
    "duration": 27,
    "start_time": "2021-10-29T09:39:31.847Z"
   },
   {
    "duration": 17,
    "start_time": "2021-10-29T09:39:31.876Z"
   },
   {
    "duration": 19,
    "start_time": "2021-10-29T09:39:31.895Z"
   },
   {
    "duration": 380,
    "start_time": "2021-10-29T09:39:31.916Z"
   },
   {
    "duration": 1283,
    "start_time": "2021-10-29T09:39:32.298Z"
   },
   {
    "duration": 5,
    "start_time": "2021-10-29T09:39:33.583Z"
   },
   {
    "duration": 22,
    "start_time": "2021-10-29T09:39:33.589Z"
   },
   {
    "duration": 12,
    "start_time": "2021-10-29T09:39:33.613Z"
   },
   {
    "duration": 17,
    "start_time": "2021-10-29T10:17:38.317Z"
   },
   {
    "duration": 18,
    "start_time": "2021-10-29T10:25:52.708Z"
   },
   {
    "duration": 7,
    "start_time": "2021-10-29T10:26:03.757Z"
   },
   {
    "duration": 9,
    "start_time": "2021-10-29T10:30:00.061Z"
   },
   {
    "duration": 586,
    "start_time": "2021-10-29T12:20:53.763Z"
   },
   {
    "duration": 733,
    "start_time": "2021-10-29T12:21:28.168Z"
   },
   {
    "duration": 94,
    "start_time": "2021-10-29T12:21:28.903Z"
   },
   {
    "duration": 21,
    "start_time": "2021-10-29T12:21:29.778Z"
   },
   {
    "duration": 16,
    "start_time": "2021-10-29T12:21:30.638Z"
   },
   {
    "duration": 25,
    "start_time": "2021-10-29T12:21:33.093Z"
   },
   {
    "duration": 6,
    "start_time": "2021-10-29T12:21:35.005Z"
   },
   {
    "duration": 9,
    "start_time": "2021-10-29T12:21:36.657Z"
   },
   {
    "duration": 21,
    "start_time": "2021-10-29T12:21:37.347Z"
   },
   {
    "duration": 6,
    "start_time": "2021-10-29T12:21:41.231Z"
   },
   {
    "duration": 8,
    "start_time": "2021-10-29T12:22:52.355Z"
   },
   {
    "duration": 9,
    "start_time": "2021-10-29T12:22:53.165Z"
   },
   {
    "duration": 7,
    "start_time": "2021-10-29T12:22:55.584Z"
   },
   {
    "duration": 21,
    "start_time": "2021-10-29T12:22:56.958Z"
   },
   {
    "duration": 10,
    "start_time": "2021-10-29T12:23:34.325Z"
   },
   {
    "duration": 35,
    "start_time": "2021-10-29T12:23:36.584Z"
   },
   {
    "duration": 7,
    "start_time": "2021-10-29T12:24:11.008Z"
   },
   {
    "duration": 6,
    "start_time": "2021-10-29T12:24:39.652Z"
   },
   {
    "duration": 12,
    "start_time": "2021-10-29T12:24:41.647Z"
   },
   {
    "duration": 12,
    "start_time": "2021-10-29T12:24:42.627Z"
   },
   {
    "duration": 6,
    "start_time": "2021-10-29T12:24:44.998Z"
   },
   {
    "duration": 21,
    "start_time": "2021-10-29T12:24:45.356Z"
   },
   {
    "duration": 38,
    "start_time": "2021-10-29T12:24:46.217Z"
   },
   {
    "duration": 13,
    "start_time": "2021-10-29T12:24:46.257Z"
   },
   {
    "duration": 6,
    "start_time": "2021-10-29T12:24:46.476Z"
   },
   {
    "duration": 10,
    "start_time": "2021-10-29T12:24:46.642Z"
   },
   {
    "duration": 10,
    "start_time": "2021-10-29T12:24:46.855Z"
   },
   {
    "duration": 10,
    "start_time": "2021-10-29T12:24:47.076Z"
   },
   {
    "duration": 15,
    "start_time": "2021-10-29T12:24:47.461Z"
   },
   {
    "duration": 17,
    "start_time": "2021-10-29T12:24:47.672Z"
   },
   {
    "duration": 7,
    "start_time": "2021-10-29T12:24:48.242Z"
   },
   {
    "duration": 6,
    "start_time": "2021-10-29T12:24:48.803Z"
   },
   {
    "duration": 6,
    "start_time": "2021-10-29T12:24:49.464Z"
   },
   {
    "duration": 6,
    "start_time": "2021-10-29T12:24:49.910Z"
   },
   {
    "duration": 5,
    "start_time": "2021-10-29T12:24:51.936Z"
   },
   {
    "duration": 4,
    "start_time": "2021-10-29T12:24:52.176Z"
   },
   {
    "duration": 4,
    "start_time": "2021-10-29T12:24:52.395Z"
   },
   {
    "duration": 4,
    "start_time": "2021-10-29T12:24:52.697Z"
   },
   {
    "duration": 31,
    "start_time": "2021-10-29T12:24:54.094Z"
   },
   {
    "duration": 11,
    "start_time": "2021-10-29T12:24:55.544Z"
   },
   {
    "duration": 15,
    "start_time": "2021-10-29T12:24:57.346Z"
   },
   {
    "duration": 33,
    "start_time": "2021-10-29T12:24:58.582Z"
   },
   {
    "duration": 8,
    "start_time": "2021-10-29T12:25:01.212Z"
   },
   {
    "duration": 6,
    "start_time": "2021-10-29T12:25:39.671Z"
   },
   {
    "duration": 6,
    "start_time": "2021-10-29T12:25:40.894Z"
   },
   {
    "duration": 7,
    "start_time": "2021-10-29T12:25:41.489Z"
   },
   {
    "duration": 6,
    "start_time": "2021-10-29T12:26:17.796Z"
   },
   {
    "duration": 2,
    "start_time": "2021-10-29T12:26:19.327Z"
   },
   {
    "duration": 4,
    "start_time": "2021-10-29T12:26:21.028Z"
   },
   {
    "duration": 19,
    "start_time": "2021-10-29T12:26:21.285Z"
   },
   {
    "duration": 31,
    "start_time": "2021-10-29T12:26:22.495Z"
   },
   {
    "duration": 13,
    "start_time": "2021-10-29T12:26:23.267Z"
   },
   {
    "duration": 6,
    "start_time": "2021-10-29T12:26:24.151Z"
   },
   {
    "duration": 12,
    "start_time": "2021-10-29T12:26:24.673Z"
   },
   {
    "duration": 8,
    "start_time": "2021-10-29T12:26:25.510Z"
   },
   {
    "duration": 8,
    "start_time": "2021-10-29T12:26:26.326Z"
   },
   {
    "duration": 15,
    "start_time": "2021-10-29T12:26:27.205Z"
   },
   {
    "duration": 17,
    "start_time": "2021-10-29T12:26:28.890Z"
   },
   {
    "duration": 6,
    "start_time": "2021-10-29T12:26:29.948Z"
   },
   {
    "duration": 382,
    "start_time": "2021-10-29T12:28:32.984Z"
   },
   {
    "duration": 385,
    "start_time": "2021-10-29T12:28:52.554Z"
   },
   {
    "duration": 31,
    "start_time": "2021-10-29T12:29:15.646Z"
   },
   {
    "duration": 80,
    "start_time": "2021-10-29T12:30:43.161Z"
   },
   {
    "duration": 85,
    "start_time": "2021-10-29T12:32:56.459Z"
   },
   {
    "duration": 5,
    "start_time": "2021-10-29T12:33:04.462Z"
   },
   {
    "duration": 14,
    "start_time": "2021-10-29T12:33:06.814Z"
   },
   {
    "duration": 34,
    "start_time": "2021-10-29T12:33:07.797Z"
   },
   {
    "duration": 9,
    "start_time": "2021-10-29T12:33:12.399Z"
   },
   {
    "duration": 736,
    "start_time": "2021-10-29T12:33:58.873Z"
   },
   {
    "duration": 93,
    "start_time": "2021-10-29T12:33:59.611Z"
   },
   {
    "duration": 21,
    "start_time": "2021-10-29T12:33:59.706Z"
   },
   {
    "duration": 16,
    "start_time": "2021-10-29T12:33:59.729Z"
   },
   {
    "duration": 41,
    "start_time": "2021-10-29T12:33:59.747Z"
   },
   {
    "duration": 6,
    "start_time": "2021-10-29T12:33:59.790Z"
   },
   {
    "duration": 8,
    "start_time": "2021-10-29T12:33:59.797Z"
   },
   {
    "duration": 5,
    "start_time": "2021-10-29T12:33:59.809Z"
   },
   {
    "duration": 20,
    "start_time": "2021-10-29T12:33:59.816Z"
   },
   {
    "duration": 128,
    "start_time": "2021-10-29T12:33:59.837Z"
   },
   {
    "duration": 20,
    "start_time": "2021-10-29T12:33:59.967Z"
   },
   {
    "duration": 6,
    "start_time": "2021-10-29T12:33:59.989Z"
   },
   {
    "duration": 11,
    "start_time": "2021-10-29T12:33:59.997Z"
   },
   {
    "duration": 10,
    "start_time": "2021-10-29T12:34:00.010Z"
   },
   {
    "duration": 10,
    "start_time": "2021-10-29T12:34:00.021Z"
   },
   {
    "duration": 50,
    "start_time": "2021-10-29T12:34:00.033Z"
   },
   {
    "duration": 17,
    "start_time": "2021-10-29T12:34:00.085Z"
   },
   {
    "duration": 27,
    "start_time": "2021-10-29T12:34:00.103Z"
   },
   {
    "duration": 32,
    "start_time": "2021-10-29T12:34:00.133Z"
   },
   {
    "duration": 26,
    "start_time": "2021-10-29T12:34:00.167Z"
   },
   {
    "duration": 12,
    "start_time": "2021-10-29T12:34:00.195Z"
   },
   {
    "duration": 14,
    "start_time": "2021-10-29T12:34:00.209Z"
   },
   {
    "duration": 8,
    "start_time": "2021-10-29T12:34:00.228Z"
   },
   {
    "duration": 13,
    "start_time": "2021-10-29T12:34:00.238Z"
   },
   {
    "duration": 11,
    "start_time": "2021-10-29T12:34:00.253Z"
   },
   {
    "duration": 98,
    "start_time": "2021-10-29T12:34:00.266Z"
   },
   {
    "duration": 18,
    "start_time": "2021-10-29T12:34:00.366Z"
   },
   {
    "duration": 12,
    "start_time": "2021-10-29T12:34:00.386Z"
   },
   {
    "duration": 38,
    "start_time": "2021-10-29T12:34:00.400Z"
   },
   {
    "duration": 7,
    "start_time": "2021-10-29T12:34:00.440Z"
   },
   {
    "duration": 30,
    "start_time": "2021-10-29T12:34:00.449Z"
   },
   {
    "duration": 10,
    "start_time": "2021-10-29T12:34:00.481Z"
   },
   {
    "duration": 17,
    "start_time": "2021-10-29T12:34:00.493Z"
   },
   {
    "duration": 4,
    "start_time": "2021-10-29T12:34:00.512Z"
   },
   {
    "duration": 17,
    "start_time": "2021-10-29T12:34:00.518Z"
   },
   {
    "duration": 1352,
    "start_time": "2021-10-29T12:34:00.537Z"
   },
   {
    "duration": 3,
    "start_time": "2021-10-29T12:34:01.891Z"
   },
   {
    "duration": 1427,
    "start_time": "2021-10-29T12:34:01.896Z"
   },
   {
    "duration": 4,
    "start_time": "2021-10-29T12:34:03.325Z"
   },
   {
    "duration": 19,
    "start_time": "2021-10-29T12:34:03.331Z"
   },
   {
    "duration": 255,
    "start_time": "2021-10-29T12:34:03.353Z"
   },
   {
    "duration": 251,
    "start_time": "2021-10-29T12:34:03.610Z"
   },
   {
    "duration": 306,
    "start_time": "2021-10-29T12:34:03.864Z"
   },
   {
    "duration": 318,
    "start_time": "2021-10-29T12:34:04.176Z"
   },
   {
    "duration": 215,
    "start_time": "2021-10-29T12:34:04.495Z"
   },
   {
    "duration": 9,
    "start_time": "2021-10-29T12:34:04.712Z"
   },
   {
    "duration": 156,
    "start_time": "2021-10-29T12:34:04.722Z"
   },
   {
    "duration": 12,
    "start_time": "2021-10-29T12:34:04.880Z"
   },
   {
    "duration": 54,
    "start_time": "2021-10-29T12:34:04.894Z"
   },
   {
    "duration": 207,
    "start_time": "2021-10-29T12:34:04.949Z"
   },
   {
    "duration": 19,
    "start_time": "2021-10-29T12:34:05.158Z"
   },
   {
    "duration": 154,
    "start_time": "2021-10-29T12:34:05.179Z"
   },
   {
    "duration": 12,
    "start_time": "2021-10-29T12:34:05.335Z"
   },
   {
    "duration": 191,
    "start_time": "2021-10-29T12:34:05.348Z"
   },
   {
    "duration": 10,
    "start_time": "2021-10-29T12:34:05.541Z"
   },
   {
    "duration": 167,
    "start_time": "2021-10-29T12:34:05.553Z"
   },
   {
    "duration": 13,
    "start_time": "2021-10-29T12:34:05.722Z"
   },
   {
    "duration": 69,
    "start_time": "2021-10-29T12:34:05.737Z"
   },
   {
    "duration": 192,
    "start_time": "2021-10-29T12:34:05.807Z"
   },
   {
    "duration": 205,
    "start_time": "2021-10-29T12:34:06.001Z"
   },
   {
    "duration": 4,
    "start_time": "2021-10-29T12:34:06.208Z"
   },
   {
    "duration": 7,
    "start_time": "2021-10-29T12:34:06.214Z"
   },
   {
    "duration": 8,
    "start_time": "2021-10-29T12:34:06.222Z"
   },
   {
    "duration": 4,
    "start_time": "2021-10-29T12:34:06.232Z"
   },
   {
    "duration": 1246,
    "start_time": "2021-10-29T12:34:06.237Z"
   },
   {
    "duration": 5,
    "start_time": "2021-10-29T12:34:07.485Z"
   },
   {
    "duration": 23,
    "start_time": "2021-10-29T12:34:07.492Z"
   },
   {
    "duration": 18,
    "start_time": "2021-10-29T12:34:07.520Z"
   },
   {
    "duration": 8,
    "start_time": "2021-10-29T12:34:07.540Z"
   },
   {
    "duration": 7,
    "start_time": "2021-10-29T12:34:07.577Z"
   },
   {
    "duration": 5,
    "start_time": "2021-10-29T12:34:07.586Z"
   },
   {
    "duration": 10,
    "start_time": "2021-10-29T12:34:07.593Z"
   },
   {
    "duration": 294,
    "start_time": "2021-10-29T12:34:07.605Z"
   },
   {
    "duration": 213,
    "start_time": "2021-10-29T12:34:07.901Z"
   },
   {
    "duration": 203,
    "start_time": "2021-10-29T12:34:08.116Z"
   },
   {
    "duration": 25,
    "start_time": "2021-10-29T12:34:08.321Z"
   },
   {
    "duration": 35,
    "start_time": "2021-10-29T12:34:08.348Z"
   },
   {
    "duration": 16,
    "start_time": "2021-10-29T12:34:08.384Z"
   },
   {
    "duration": 350,
    "start_time": "2021-10-29T12:34:08.401Z"
   },
   {
    "duration": 1371,
    "start_time": "2021-10-29T12:34:08.753Z"
   },
   {
    "duration": 5,
    "start_time": "2021-10-29T12:34:10.125Z"
   },
   {
    "duration": 36,
    "start_time": "2021-10-29T12:34:10.132Z"
   },
   {
    "duration": 14,
    "start_time": "2021-10-29T12:34:10.170Z"
   },
   {
    "duration": 3,
    "start_time": "2021-10-29T12:34:21.809Z"
   },
   {
    "duration": 121,
    "start_time": "2021-10-29T12:34:21.814Z"
   },
   {
    "duration": 20,
    "start_time": "2021-10-29T12:34:21.938Z"
   },
   {
    "duration": 23,
    "start_time": "2021-10-29T12:34:21.961Z"
   },
   {
    "duration": 20,
    "start_time": "2021-10-29T12:34:23.683Z"
   },
   {
    "duration": 6,
    "start_time": "2021-10-29T12:34:25.389Z"
   },
   {
    "duration": 8,
    "start_time": "2021-10-29T12:34:26.543Z"
   },
   {
    "duration": 4,
    "start_time": "2021-10-29T12:34:36.238Z"
   },
   {
    "duration": 20,
    "start_time": "2021-10-29T12:34:37.231Z"
   },
   {
    "duration": 87,
    "start_time": "2021-10-29T12:34:38.675Z"
   },
   {
    "duration": 14,
    "start_time": "2021-10-29T12:34:40.946Z"
   },
   {
    "duration": 6,
    "start_time": "2021-10-29T12:34:42.363Z"
   },
   {
    "duration": 10,
    "start_time": "2021-10-29T12:34:42.763Z"
   },
   {
    "duration": 9,
    "start_time": "2021-10-29T12:34:44.352Z"
   },
   {
    "duration": 11,
    "start_time": "2021-10-29T12:34:45.266Z"
   },
   {
    "duration": 13,
    "start_time": "2021-10-29T12:34:46.100Z"
   },
   {
    "duration": 18,
    "start_time": "2021-10-29T12:34:46.438Z"
   },
   {
    "duration": 7,
    "start_time": "2021-10-29T12:34:47.608Z"
   },
   {
    "duration": 6,
    "start_time": "2021-10-29T12:34:48.665Z"
   },
   {
    "duration": 7,
    "start_time": "2021-10-29T12:34:48.970Z"
   },
   {
    "duration": 7,
    "start_time": "2021-10-29T12:34:49.554Z"
   },
   {
    "duration": 4,
    "start_time": "2021-10-29T12:34:51.481Z"
   },
   {
    "duration": 4,
    "start_time": "2021-10-29T12:34:51.719Z"
   },
   {
    "duration": 5,
    "start_time": "2021-10-29T12:34:52.156Z"
   },
   {
    "duration": 4,
    "start_time": "2021-10-29T12:34:52.761Z"
   },
   {
    "duration": 84,
    "start_time": "2021-10-29T12:34:53.701Z"
   },
   {
    "duration": 12,
    "start_time": "2021-10-29T12:34:56.154Z"
   },
   {
    "duration": 13,
    "start_time": "2021-10-29T12:35:00.718Z"
   },
   {
    "duration": 30,
    "start_time": "2021-10-29T12:35:01.447Z"
   },
   {
    "duration": 8,
    "start_time": "2021-10-29T12:35:02.400Z"
   },
   {
    "duration": 31,
    "start_time": "2021-10-29T12:35:14.564Z"
   },
   {
    "duration": 19,
    "start_time": "2021-10-29T12:35:22.183Z"
   },
   {
    "duration": 7,
    "start_time": "2021-10-29T12:36:21.428Z"
   },
   {
    "duration": 352,
    "start_time": "2021-10-29T17:27:12.194Z"
   },
   {
    "duration": 882,
    "start_time": "2021-10-29T17:49:25.040Z"
   },
   {
    "duration": 115,
    "start_time": "2021-10-29T17:49:25.924Z"
   },
   {
    "duration": 25,
    "start_time": "2021-10-29T17:49:26.042Z"
   },
   {
    "duration": 36,
    "start_time": "2021-10-29T17:49:26.070Z"
   },
   {
    "duration": 27,
    "start_time": "2021-10-29T17:49:26.109Z"
   },
   {
    "duration": 45,
    "start_time": "2021-10-29T17:49:26.139Z"
   },
   {
    "duration": 12,
    "start_time": "2021-10-29T17:49:26.187Z"
   },
   {
    "duration": 9,
    "start_time": "2021-10-29T17:49:26.203Z"
   },
   {
    "duration": 6,
    "start_time": "2021-10-29T17:49:26.215Z"
   },
   {
    "duration": 73,
    "start_time": "2021-10-29T17:49:26.223Z"
   },
   {
    "duration": 135,
    "start_time": "2021-10-29T17:49:26.299Z"
   },
   {
    "duration": 21,
    "start_time": "2021-10-29T17:49:26.437Z"
   },
   {
    "duration": 7,
    "start_time": "2021-10-29T17:49:26.483Z"
   },
   {
    "duration": 12,
    "start_time": "2021-10-29T17:49:26.492Z"
   },
   {
    "duration": 12,
    "start_time": "2021-10-29T17:49:26.506Z"
   },
   {
    "duration": 12,
    "start_time": "2021-10-29T17:49:26.521Z"
   },
   {
    "duration": 62,
    "start_time": "2021-10-29T17:49:26.535Z"
   },
   {
    "duration": 25,
    "start_time": "2021-10-29T17:49:26.599Z"
   },
   {
    "duration": 11,
    "start_time": "2021-10-29T17:49:26.626Z"
   },
   {
    "duration": 42,
    "start_time": "2021-10-29T17:49:26.639Z"
   },
   {
    "duration": 9,
    "start_time": "2021-10-29T17:49:26.684Z"
   },
   {
    "duration": 9,
    "start_time": "2021-10-29T17:49:26.695Z"
   },
   {
    "duration": 5,
    "start_time": "2021-10-29T17:49:26.710Z"
   },
   {
    "duration": 7,
    "start_time": "2021-10-29T17:49:26.719Z"
   },
   {
    "duration": 7,
    "start_time": "2021-10-29T17:49:26.728Z"
   },
   {
    "duration": 47,
    "start_time": "2021-10-29T17:49:26.738Z"
   },
   {
    "duration": 140,
    "start_time": "2021-10-29T17:49:26.788Z"
   },
   {
    "duration": 19,
    "start_time": "2021-10-29T17:49:26.931Z"
   },
   {
    "duration": 36,
    "start_time": "2021-10-29T17:49:26.952Z"
   },
   {
    "duration": 63,
    "start_time": "2021-10-29T17:49:26.991Z"
   },
   {
    "duration": 39,
    "start_time": "2021-10-29T17:49:27.081Z"
   },
   {
    "duration": 14,
    "start_time": "2021-10-29T17:49:27.123Z"
   },
   {
    "duration": 42,
    "start_time": "2021-10-29T17:49:27.140Z"
   },
   {
    "duration": 15,
    "start_time": "2021-10-29T17:49:27.185Z"
   },
   {
    "duration": 6,
    "start_time": "2021-10-29T17:49:27.202Z"
   },
   {
    "duration": 5,
    "start_time": "2021-10-29T17:49:27.211Z"
   },
   {
    "duration": 3424,
    "start_time": "2021-10-29T17:49:27.219Z"
   },
   {
    "duration": 6,
    "start_time": "2021-10-29T17:49:30.646Z"
   },
   {
    "duration": 3628,
    "start_time": "2021-10-29T17:49:30.655Z"
   },
   {
    "duration": 7,
    "start_time": "2021-10-29T17:49:34.285Z"
   },
   {
    "duration": 24,
    "start_time": "2021-10-29T17:49:34.294Z"
   },
   {
    "duration": 413,
    "start_time": "2021-10-29T17:49:34.321Z"
   },
   {
    "duration": 383,
    "start_time": "2021-10-29T17:49:34.736Z"
   },
   {
    "duration": 453,
    "start_time": "2021-10-29T17:49:35.122Z"
   },
   {
    "duration": 339,
    "start_time": "2021-10-29T17:49:35.581Z"
   },
   {
    "duration": 329,
    "start_time": "2021-10-29T17:49:35.923Z"
   },
   {
    "duration": 11,
    "start_time": "2021-10-29T17:49:36.254Z"
   },
   {
    "duration": 240,
    "start_time": "2021-10-29T17:49:36.267Z"
   },
   {
    "duration": 17,
    "start_time": "2021-10-29T17:49:36.510Z"
   },
   {
    "duration": 101,
    "start_time": "2021-10-29T17:49:36.529Z"
   },
   {
    "duration": 361,
    "start_time": "2021-10-29T17:49:36.632Z"
   },
   {
    "duration": 12,
    "start_time": "2021-10-29T17:49:36.996Z"
   },
   {
    "duration": 245,
    "start_time": "2021-10-29T17:49:37.010Z"
   },
   {
    "duration": 26,
    "start_time": "2021-10-29T17:49:37.258Z"
   },
   {
    "duration": 300,
    "start_time": "2021-10-29T17:49:37.287Z"
   },
   {
    "duration": 14,
    "start_time": "2021-10-29T17:49:37.590Z"
   },
   {
    "duration": 248,
    "start_time": "2021-10-29T17:49:37.607Z"
   },
   {
    "duration": 31,
    "start_time": "2021-10-29T17:49:37.858Z"
   },
   {
    "duration": 95,
    "start_time": "2021-10-29T17:49:37.892Z"
   },
   {
    "duration": 302,
    "start_time": "2021-10-29T17:49:37.990Z"
   },
   {
    "duration": 306,
    "start_time": "2021-10-29T17:49:38.294Z"
   },
   {
    "duration": 6,
    "start_time": "2021-10-29T17:49:38.602Z"
   },
   {
    "duration": 9,
    "start_time": "2021-10-29T17:49:38.610Z"
   },
   {
    "duration": 12,
    "start_time": "2021-10-29T17:49:38.621Z"
   },
   {
    "duration": 5,
    "start_time": "2021-10-29T17:49:38.635Z"
   },
   {
    "duration": 2019,
    "start_time": "2021-10-29T17:49:38.642Z"
   },
   {
    "duration": 19,
    "start_time": "2021-10-29T17:49:40.663Z"
   },
   {
    "duration": 21,
    "start_time": "2021-10-29T17:49:40.690Z"
   },
   {
    "duration": 32,
    "start_time": "2021-10-29T17:49:40.714Z"
   },
   {
    "duration": 34,
    "start_time": "2021-10-29T17:49:40.749Z"
   },
   {
    "duration": 9,
    "start_time": "2021-10-29T17:49:40.786Z"
   },
   {
    "duration": 6,
    "start_time": "2021-10-29T17:49:40.798Z"
   },
   {
    "duration": 12,
    "start_time": "2021-10-29T17:49:40.807Z"
   },
   {
    "duration": 465,
    "start_time": "2021-10-29T17:49:40.822Z"
   },
   {
    "duration": 426,
    "start_time": "2021-10-29T17:49:41.290Z"
   },
   {
    "duration": 396,
    "start_time": "2021-10-29T17:49:41.719Z"
   },
   {
    "duration": 409,
    "start_time": "2021-10-29T17:49:42.118Z"
   },
   {
    "duration": 62,
    "start_time": "2021-10-29T17:49:42.530Z"
   },
   {
    "duration": 35,
    "start_time": "2021-10-29T17:49:42.595Z"
   },
   {
    "duration": 52,
    "start_time": "2021-10-29T17:49:42.633Z"
   },
   {
    "duration": 778,
    "start_time": "2021-10-29T17:49:42.687Z"
   },
   {
    "duration": 2936,
    "start_time": "2021-10-29T17:49:43.467Z"
   },
   {
    "duration": 8,
    "start_time": "2021-10-29T17:49:46.406Z"
   },
   {
    "duration": 9,
    "start_time": "2021-10-29T17:49:46.416Z"
   },
   {
    "duration": 8,
    "start_time": "2021-10-29T17:49:46.428Z"
   },
   {
    "duration": 5,
    "start_time": "2021-10-29T17:49:49.092Z"
   },
   {
    "duration": 163,
    "start_time": "2021-10-29T17:49:49.988Z"
   },
   {
    "duration": 38,
    "start_time": "2021-10-29T17:50:15.744Z"
   },
   {
    "duration": 27,
    "start_time": "2021-10-29T17:50:16.476Z"
   },
   {
    "duration": 38,
    "start_time": "2021-10-29T17:50:20.131Z"
   },
   {
    "duration": 8,
    "start_time": "2021-10-29T17:50:57.285Z"
   },
   {
    "duration": 9,
    "start_time": "2021-10-29T17:50:59.592Z"
   },
   {
    "duration": 9,
    "start_time": "2021-10-29T17:51:02.031Z"
   },
   {
    "duration": 7,
    "start_time": "2021-10-29T17:51:23.053Z"
   },
   {
    "duration": 27,
    "start_time": "2021-10-29T17:51:24.752Z"
   },
   {
    "duration": 936,
    "start_time": "2021-10-29T18:09:08.870Z"
   },
   {
    "duration": 118,
    "start_time": "2021-10-29T18:09:09.809Z"
   },
   {
    "duration": 27,
    "start_time": "2021-10-29T18:09:09.929Z"
   },
   {
    "duration": 41,
    "start_time": "2021-10-29T18:09:09.959Z"
   },
   {
    "duration": 28,
    "start_time": "2021-10-29T18:09:10.002Z"
   },
   {
    "duration": 9,
    "start_time": "2021-10-29T18:09:10.032Z"
   },
   {
    "duration": 43,
    "start_time": "2021-10-29T18:09:10.043Z"
   },
   {
    "duration": 9,
    "start_time": "2021-10-29T18:09:10.090Z"
   },
   {
    "duration": 7,
    "start_time": "2021-10-29T18:09:10.102Z"
   },
   {
    "duration": 25,
    "start_time": "2021-10-29T18:09:10.111Z"
   },
   {
    "duration": 160,
    "start_time": "2021-10-29T18:09:10.138Z"
   },
   {
    "duration": 20,
    "start_time": "2021-10-29T18:09:10.300Z"
   },
   {
    "duration": 11,
    "start_time": "2021-10-29T18:09:10.322Z"
   },
   {
    "duration": 13,
    "start_time": "2021-10-29T18:09:10.335Z"
   },
   {
    "duration": 13,
    "start_time": "2021-10-29T18:09:10.381Z"
   },
   {
    "duration": 13,
    "start_time": "2021-10-29T18:09:10.396Z"
   },
   {
    "duration": 18,
    "start_time": "2021-10-29T18:09:10.411Z"
   },
   {
    "duration": 54,
    "start_time": "2021-10-29T18:09:10.431Z"
   },
   {
    "duration": 9,
    "start_time": "2021-10-29T18:09:10.487Z"
   },
   {
    "duration": 8,
    "start_time": "2021-10-29T18:09:10.499Z"
   },
   {
    "duration": 11,
    "start_time": "2021-10-29T18:09:10.509Z"
   },
   {
    "duration": 11,
    "start_time": "2021-10-29T18:09:10.523Z"
   },
   {
    "duration": 6,
    "start_time": "2021-10-29T18:09:10.583Z"
   },
   {
    "duration": 5,
    "start_time": "2021-10-29T18:09:10.594Z"
   },
   {
    "duration": 5,
    "start_time": "2021-10-29T18:09:10.602Z"
   },
   {
    "duration": 5,
    "start_time": "2021-10-29T18:09:10.610Z"
   },
   {
    "duration": 149,
    "start_time": "2021-10-29T18:09:10.617Z"
   },
   {
    "duration": 30,
    "start_time": "2021-10-29T18:09:10.769Z"
   },
   {
    "duration": 21,
    "start_time": "2021-10-29T18:09:10.801Z"
   },
   {
    "duration": 82,
    "start_time": "2021-10-29T18:09:10.825Z"
   },
   {
    "duration": 28,
    "start_time": "2021-10-29T18:09:10.909Z"
   },
   {
    "duration": 42,
    "start_time": "2021-10-29T18:09:10.940Z"
   },
   {
    "duration": 13,
    "start_time": "2021-10-29T18:09:10.985Z"
   },
   {
    "duration": 13,
    "start_time": "2021-10-29T18:09:11.000Z"
   },
   {
    "duration": 7,
    "start_time": "2021-10-29T18:09:11.016Z"
   },
   {
    "duration": 8,
    "start_time": "2021-10-29T18:09:11.026Z"
   },
   {
    "duration": 2234,
    "start_time": "2021-10-29T18:09:11.037Z"
   },
   {
    "duration": 10,
    "start_time": "2021-10-29T18:09:13.273Z"
   },
   {
    "duration": 2403,
    "start_time": "2021-10-29T18:09:13.286Z"
   },
   {
    "duration": 8,
    "start_time": "2021-10-29T18:09:15.691Z"
   },
   {
    "duration": 32,
    "start_time": "2021-10-29T18:09:15.701Z"
   },
   {
    "duration": 407,
    "start_time": "2021-10-29T18:09:15.736Z"
   },
   {
    "duration": 388,
    "start_time": "2021-10-29T18:09:16.145Z"
   },
   {
    "duration": 493,
    "start_time": "2021-10-29T18:09:16.535Z"
   },
   {
    "duration": 343,
    "start_time": "2021-10-29T18:09:17.030Z"
   },
   {
    "duration": 344,
    "start_time": "2021-10-29T18:09:17.375Z"
   },
   {
    "duration": 12,
    "start_time": "2021-10-29T18:09:17.721Z"
   },
   {
    "duration": 259,
    "start_time": "2021-10-29T18:09:17.736Z"
   },
   {
    "duration": 16,
    "start_time": "2021-10-29T18:09:17.997Z"
   },
   {
    "duration": 99,
    "start_time": "2021-10-29T18:09:18.016Z"
   },
   {
    "duration": 328,
    "start_time": "2021-10-29T18:09:18.117Z"
   },
   {
    "duration": 12,
    "start_time": "2021-10-29T18:09:18.447Z"
   },
   {
    "duration": 242,
    "start_time": "2021-10-29T18:09:18.462Z"
   },
   {
    "duration": 16,
    "start_time": "2021-10-29T18:09:18.707Z"
   },
   {
    "duration": 304,
    "start_time": "2021-10-29T18:09:18.726Z"
   },
   {
    "duration": 12,
    "start_time": "2021-10-29T18:09:19.032Z"
   },
   {
    "duration": 254,
    "start_time": "2021-10-29T18:09:19.046Z"
   },
   {
    "duration": 17,
    "start_time": "2021-10-29T18:09:19.302Z"
   },
   {
    "duration": 90,
    "start_time": "2021-10-29T18:09:19.321Z"
   },
   {
    "duration": 317,
    "start_time": "2021-10-29T18:09:19.413Z"
   },
   {
    "duration": 313,
    "start_time": "2021-10-29T18:09:19.733Z"
   },
   {
    "duration": 6,
    "start_time": "2021-10-29T18:09:20.048Z"
   },
   {
    "duration": 27,
    "start_time": "2021-10-29T18:09:20.056Z"
   },
   {
    "duration": 19,
    "start_time": "2021-10-29T18:09:20.086Z"
   },
   {
    "duration": 8,
    "start_time": "2021-10-29T18:09:20.107Z"
   },
   {
    "duration": 2026,
    "start_time": "2021-10-29T18:09:20.117Z"
   },
   {
    "duration": 6,
    "start_time": "2021-10-29T18:09:22.145Z"
   },
   {
    "duration": 38,
    "start_time": "2021-10-29T18:09:22.158Z"
   },
   {
    "duration": 41,
    "start_time": "2021-10-29T18:09:22.198Z"
   },
   {
    "duration": 11,
    "start_time": "2021-10-29T18:09:22.241Z"
   },
   {
    "duration": 15,
    "start_time": "2021-10-29T18:09:22.254Z"
   },
   {
    "duration": 6,
    "start_time": "2021-10-29T18:09:22.283Z"
   },
   {
    "duration": 19,
    "start_time": "2021-10-29T18:09:22.291Z"
   },
   {
    "duration": 455,
    "start_time": "2021-10-29T18:09:22.313Z"
   },
   {
    "duration": 338,
    "start_time": "2021-10-29T18:09:22.782Z"
   },
   {
    "duration": 286,
    "start_time": "2021-10-29T18:09:23.122Z"
   },
   {
    "duration": 299,
    "start_time": "2021-10-29T18:09:23.410Z"
   },
   {
    "duration": 36,
    "start_time": "2021-10-29T18:09:23.711Z"
   },
   {
    "duration": 46,
    "start_time": "2021-10-29T18:09:23.749Z"
   },
   {
    "duration": 22,
    "start_time": "2021-10-29T18:09:23.798Z"
   },
   {
    "duration": 566,
    "start_time": "2021-10-29T18:09:23.823Z"
   },
   {
    "duration": 2022,
    "start_time": "2021-10-29T18:09:24.391Z"
   },
   {
    "duration": 7,
    "start_time": "2021-10-29T18:09:26.416Z"
   },
   {
    "duration": 7,
    "start_time": "2021-10-29T18:09:26.425Z"
   },
   {
    "duration": 7,
    "start_time": "2021-10-29T18:09:26.434Z"
   },
   {
    "duration": 4,
    "start_time": "2021-10-29T18:09:30.505Z"
   },
   {
    "duration": 123,
    "start_time": "2021-10-29T18:09:30.970Z"
   },
   {
    "duration": 27,
    "start_time": "2021-10-29T18:09:31.829Z"
   },
   {
    "duration": 21,
    "start_time": "2021-10-29T18:09:32.984Z"
   },
   {
    "duration": 25,
    "start_time": "2021-10-29T18:09:37.322Z"
   },
   {
    "duration": 8,
    "start_time": "2021-10-29T18:09:38.858Z"
   },
   {
    "duration": 10,
    "start_time": "2021-10-29T18:09:40.229Z"
   },
   {
    "duration": 9,
    "start_time": "2021-10-29T18:09:40.836Z"
   },
   {
    "duration": 8,
    "start_time": "2021-10-29T18:09:42.422Z"
   },
   {
    "duration": 26,
    "start_time": "2021-10-29T18:09:43.302Z"
   },
   {
    "duration": 123,
    "start_time": "2021-10-29T18:09:44.357Z"
   },
   {
    "duration": 21,
    "start_time": "2021-10-29T18:09:45.150Z"
   },
   {
    "duration": 7,
    "start_time": "2021-10-29T18:09:46.459Z"
   },
   {
    "duration": 13,
    "start_time": "2021-10-29T18:09:46.924Z"
   },
   {
    "duration": 14,
    "start_time": "2021-10-29T18:09:49.466Z"
   },
   {
    "duration": 14,
    "start_time": "2021-10-29T18:09:49.482Z"
   },
   {
    "duration": 17,
    "start_time": "2021-10-29T18:09:49.499Z"
   },
   {
    "duration": 27,
    "start_time": "2021-10-29T18:09:49.519Z"
   },
   {
    "duration": 8,
    "start_time": "2021-10-29T18:09:49.854Z"
   },
   {
    "duration": 7,
    "start_time": "2021-10-29T18:09:50.107Z"
   },
   {
    "duration": 8,
    "start_time": "2021-10-29T18:09:50.350Z"
   },
   {
    "duration": 8,
    "start_time": "2021-10-29T18:09:50.590Z"
   },
   {
    "duration": 5,
    "start_time": "2021-10-29T18:09:51.329Z"
   },
   {
    "duration": 6,
    "start_time": "2021-10-29T18:09:51.572Z"
   },
   {
    "duration": 5,
    "start_time": "2021-10-29T18:09:51.793Z"
   },
   {
    "duration": 5,
    "start_time": "2021-10-29T18:09:52.010Z"
   },
   {
    "duration": 115,
    "start_time": "2021-10-29T18:09:52.244Z"
   },
   {
    "duration": 15,
    "start_time": "2021-10-29T18:09:52.706Z"
   },
   {
    "duration": 19,
    "start_time": "2021-10-29T18:09:53.206Z"
   },
   {
    "duration": 45,
    "start_time": "2021-10-29T18:09:53.511Z"
   },
   {
    "duration": 25,
    "start_time": "2021-10-29T18:09:53.678Z"
   },
   {
    "duration": 13,
    "start_time": "2021-10-29T18:09:55.110Z"
   },
   {
    "duration": 12,
    "start_time": "2021-10-29T18:09:55.337Z"
   },
   {
    "duration": 12,
    "start_time": "2021-10-29T18:09:55.586Z"
   },
   {
    "duration": 5,
    "start_time": "2021-10-29T18:12:08.064Z"
   },
   {
    "duration": 5,
    "start_time": "2021-10-29T18:12:08.822Z"
   },
   {
    "duration": 11,
    "start_time": "2021-10-29T18:12:09.878Z"
   },
   {
    "duration": 7,
    "start_time": "2021-10-29T18:12:11.810Z"
   },
   {
    "duration": 4,
    "start_time": "2021-10-29T18:12:12.925Z"
   },
   {
    "duration": 2241,
    "start_time": "2021-10-29T18:12:15.258Z"
   },
   {
    "duration": 6,
    "start_time": "2021-10-29T18:12:32.398Z"
   },
   {
    "duration": 2299,
    "start_time": "2021-10-29T18:12:34.114Z"
   },
   {
    "duration": 6,
    "start_time": "2021-10-29T18:12:36.415Z"
   },
   {
    "duration": 40,
    "start_time": "2021-10-29T18:13:01.614Z"
   },
   {
    "duration": 5,
    "start_time": "2021-10-29T18:13:31.797Z"
   },
   {
    "duration": 14,
    "start_time": "2021-10-29T18:14:33.651Z"
   },
   {
    "duration": 13,
    "start_time": "2021-10-29T18:14:34.713Z"
   },
   {
    "duration": 15,
    "start_time": "2021-10-29T18:14:38.648Z"
   },
   {
    "duration": 24,
    "start_time": "2021-10-29T18:14:46.683Z"
   },
   {
    "duration": 11,
    "start_time": "2021-10-29T18:15:22.473Z"
   },
   {
    "duration": 23,
    "start_time": "2021-10-29T18:15:34.298Z"
   },
   {
    "duration": 397,
    "start_time": "2021-10-29T18:15:43.720Z"
   },
   {
    "duration": 329,
    "start_time": "2021-10-29T18:15:44.210Z"
   },
   {
    "duration": 314,
    "start_time": "2021-10-29T18:15:44.668Z"
   },
   {
    "duration": 13,
    "start_time": "2021-10-29T18:15:45.573Z"
   },
   {
    "duration": 298,
    "start_time": "2021-10-29T18:15:45.785Z"
   },
   {
    "duration": 16,
    "start_time": "2021-10-29T18:15:46.239Z"
   },
   {
    "duration": 77,
    "start_time": "2021-10-29T18:15:46.513Z"
   },
   {
    "duration": 301,
    "start_time": "2021-10-29T18:15:47.003Z"
   },
   {
    "duration": 12,
    "start_time": "2021-10-29T18:15:47.625Z"
   },
   {
    "duration": 232,
    "start_time": "2021-10-29T18:15:48.469Z"
   },
   {
    "duration": 15,
    "start_time": "2021-10-29T18:15:48.704Z"
   },
   {
    "duration": 274,
    "start_time": "2021-10-29T18:15:48.757Z"
   },
   {
    "duration": 11,
    "start_time": "2021-10-29T18:15:49.192Z"
   },
   {
    "duration": 278,
    "start_time": "2021-10-29T18:15:49.394Z"
   },
   {
    "duration": 18,
    "start_time": "2021-10-29T18:15:51.660Z"
   },
   {
    "duration": 75,
    "start_time": "2021-10-29T18:15:51.681Z"
   },
   {
    "duration": 328,
    "start_time": "2021-10-29T18:15:51.760Z"
   },
   {
    "duration": 292,
    "start_time": "2021-10-29T18:15:53.860Z"
   },
   {
    "duration": 6,
    "start_time": "2021-10-29T18:15:56.501Z"
   },
   {
    "duration": 6,
    "start_time": "2021-10-29T18:15:57.291Z"
   },
   {
    "duration": 11,
    "start_time": "2021-10-29T18:15:58.089Z"
   },
   {
    "duration": 5,
    "start_time": "2021-10-29T18:15:59.379Z"
   },
   {
    "duration": 2133,
    "start_time": "2021-10-29T18:16:00.183Z"
   },
   {
    "duration": 8,
    "start_time": "2021-10-29T18:16:02.320Z"
   },
   {
    "duration": 24,
    "start_time": "2021-10-29T18:16:03.784Z"
   },
   {
    "duration": 31,
    "start_time": "2021-10-29T18:16:04.496Z"
   },
   {
    "duration": 14,
    "start_time": "2021-10-29T18:16:05.456Z"
   },
   {
    "duration": 10,
    "start_time": "2021-10-29T18:16:06.603Z"
   },
   {
    "duration": 7,
    "start_time": "2021-10-29T18:16:07.132Z"
   },
   {
    "duration": 13,
    "start_time": "2021-10-29T18:16:07.804Z"
   },
   {
    "duration": 422,
    "start_time": "2021-10-29T18:16:08.705Z"
   },
   {
    "duration": 330,
    "start_time": "2021-10-29T18:16:09.130Z"
   },
   {
    "duration": 273,
    "start_time": "2021-10-29T18:16:09.665Z"
   },
   {
    "duration": 303,
    "start_time": "2021-10-29T18:16:09.941Z"
   },
   {
    "duration": 52,
    "start_time": "2021-10-29T18:16:10.247Z"
   },
   {
    "duration": 25,
    "start_time": "2021-10-29T18:16:10.302Z"
   },
   {
    "duration": 23,
    "start_time": "2021-10-29T18:16:10.457Z"
   },
   {
    "duration": 538,
    "start_time": "2021-10-29T18:16:10.603Z"
   },
   {
    "duration": 522,
    "start_time": "2021-10-29T18:17:47.833Z"
   },
   {
    "duration": 289,
    "start_time": "2021-10-29T18:17:56.523Z"
   },
   {
    "duration": 289,
    "start_time": "2021-10-29T18:18:04.288Z"
   },
   {
    "duration": 36,
    "start_time": "2021-10-29T18:18:19.844Z"
   },
   {
    "duration": 30,
    "start_time": "2021-10-29T18:18:20.422Z"
   },
   {
    "duration": 23,
    "start_time": "2021-10-29T18:18:21.684Z"
   },
   {
    "duration": 554,
    "start_time": "2021-10-29T18:18:23.417Z"
   },
   {
    "duration": 260,
    "start_time": "2021-10-29T18:21:32.020Z"
   },
   {
    "duration": 569,
    "start_time": "2021-10-29T18:21:46.829Z"
   },
   {
    "duration": 727,
    "start_time": "2021-10-29T18:22:00.132Z"
   },
   {
    "duration": 576,
    "start_time": "2021-10-29T18:22:30.821Z"
   },
   {
    "duration": 639,
    "start_time": "2021-10-29T18:22:46.747Z"
   },
   {
    "duration": 617,
    "start_time": "2021-10-29T18:23:16.058Z"
   },
   {
    "duration": 36,
    "start_time": "2021-10-29T18:24:44.148Z"
   },
   {
    "duration": 27,
    "start_time": "2021-10-29T18:24:45.887Z"
   },
   {
    "duration": 21,
    "start_time": "2021-10-29T18:24:46.964Z"
   },
   {
    "duration": 581,
    "start_time": "2021-10-29T18:25:00.584Z"
   },
   {
    "duration": 22,
    "start_time": "2021-10-29T18:25:53.029Z"
   },
   {
    "duration": 23,
    "start_time": "2021-10-29T18:26:07.495Z"
   },
   {
    "duration": 509,
    "start_time": "2021-10-29T18:26:29.733Z"
   },
   {
    "duration": 593,
    "start_time": "2021-10-29T18:29:32.438Z"
   },
   {
    "duration": 701,
    "start_time": "2021-10-29T18:29:46.094Z"
   },
   {
    "duration": 598,
    "start_time": "2021-10-29T18:30:01.569Z"
   },
   {
    "duration": 502,
    "start_time": "2021-10-29T18:30:17.859Z"
   },
   {
    "duration": 298,
    "start_time": "2021-10-29T18:36:36.463Z"
   },
   {
    "duration": 320,
    "start_time": "2021-10-29T18:36:50.720Z"
   },
   {
    "duration": 291,
    "start_time": "2021-10-29T18:36:57.985Z"
   },
   {
    "duration": 318,
    "start_time": "2021-10-29T18:40:06.976Z"
   },
   {
    "duration": 110,
    "start_time": "2021-10-29T18:41:04.963Z"
   },
   {
    "duration": 1946,
    "start_time": "2021-10-29T18:41:32.850Z"
   },
   {
    "duration": 2085,
    "start_time": "2021-10-29T18:43:02.266Z"
   },
   {
    "duration": 1920,
    "start_time": "2021-10-29T18:43:24.176Z"
   },
   {
    "duration": 270,
    "start_time": "2021-10-29T18:44:07.988Z"
   },
   {
    "duration": 287,
    "start_time": "2021-10-29T18:44:18.538Z"
   },
   {
    "duration": 278,
    "start_time": "2021-10-29T18:44:33.869Z"
   },
   {
    "duration": 2440,
    "start_time": "2021-10-29T18:46:21.209Z"
   },
   {
    "duration": 47,
    "start_time": "2021-10-29T18:47:15.473Z"
   },
   {
    "duration": 369,
    "start_time": "2021-10-29T18:47:39.676Z"
   },
   {
    "duration": 94,
    "start_time": "2021-10-29T18:54:53.636Z"
   },
   {
    "duration": 97,
    "start_time": "2021-10-29T18:54:58.700Z"
   },
   {
    "duration": 91,
    "start_time": "2021-10-29T18:55:35.323Z"
   },
   {
    "duration": 32,
    "start_time": "2021-10-29T18:55:55.654Z"
   },
   {
    "duration": 35,
    "start_time": "2021-10-29T18:57:12.214Z"
   },
   {
    "duration": 563,
    "start_time": "2021-10-29T18:59:58.486Z"
   },
   {
    "duration": 1761,
    "start_time": "2021-10-29T19:04:26.956Z"
   },
   {
    "duration": 1686,
    "start_time": "2021-10-29T19:05:44.839Z"
   },
   {
    "duration": 7,
    "start_time": "2021-10-29T19:11:41.932Z"
   },
   {
    "duration": 8123,
    "start_time": "2021-10-29T19:12:16.273Z"
   },
   {
    "duration": 8,
    "start_time": "2021-10-29T19:13:13.206Z"
   },
   {
    "duration": 6,
    "start_time": "2021-10-29T19:13:41.806Z"
   },
   {
    "duration": 7,
    "start_time": "2021-10-29T19:13:42.505Z"
   },
   {
    "duration": 7,
    "start_time": "2021-10-29T19:14:32.149Z"
   },
   {
    "duration": 9,
    "start_time": "2021-10-29T19:14:33.185Z"
   },
   {
    "duration": 7,
    "start_time": "2021-10-29T19:14:35.147Z"
   },
   {
    "duration": 19811,
    "start_time": "2021-10-29T19:16:26.737Z"
   },
   {
    "duration": 7988,
    "start_time": "2021-10-29T19:19:32.329Z"
   },
   {
    "duration": 5929,
    "start_time": "2021-10-29T19:20:43.177Z"
   },
   {
    "duration": 5790,
    "start_time": "2021-10-29T19:21:52.399Z"
   },
   {
    "duration": 5283,
    "start_time": "2021-10-29T19:22:55.535Z"
   },
   {
    "duration": 5802,
    "start_time": "2021-10-29T19:23:20.634Z"
   },
   {
    "duration": 5559,
    "start_time": "2021-10-29T19:23:30.662Z"
   },
   {
    "duration": 5446,
    "start_time": "2021-10-29T19:24:42.259Z"
   },
   {
    "duration": 5964,
    "start_time": "2021-10-29T19:25:47.693Z"
   },
   {
    "duration": 993,
    "start_time": "2021-10-29T19:33:44.956Z"
   },
   {
    "duration": 913,
    "start_time": "2021-10-29T19:34:24.182Z"
   },
   {
    "duration": 112,
    "start_time": "2021-10-29T19:34:25.098Z"
   },
   {
    "duration": 27,
    "start_time": "2021-10-29T19:34:25.213Z"
   },
   {
    "duration": 40,
    "start_time": "2021-10-29T19:34:25.243Z"
   },
   {
    "duration": 28,
    "start_time": "2021-10-29T19:34:25.286Z"
   },
   {
    "duration": 7,
    "start_time": "2021-10-29T19:34:25.317Z"
   },
   {
    "duration": 9,
    "start_time": "2021-10-29T19:34:25.327Z"
   },
   {
    "duration": 45,
    "start_time": "2021-10-29T19:34:25.339Z"
   },
   {
    "duration": 6,
    "start_time": "2021-10-29T19:34:25.387Z"
   },
   {
    "duration": 31,
    "start_time": "2021-10-29T19:34:25.395Z"
   },
   {
    "duration": 143,
    "start_time": "2021-10-29T19:34:25.428Z"
   },
   {
    "duration": 23,
    "start_time": "2021-10-29T19:34:25.573Z"
   },
   {
    "duration": 9,
    "start_time": "2021-10-29T19:34:25.598Z"
   },
   {
    "duration": 12,
    "start_time": "2021-10-29T19:34:25.609Z"
   },
   {
    "duration": 11,
    "start_time": "2021-10-29T19:34:25.624Z"
   },
   {
    "duration": 57,
    "start_time": "2021-10-29T19:34:25.637Z"
   },
   {
    "duration": 16,
    "start_time": "2021-10-29T19:34:25.697Z"
   },
   {
    "duration": 24,
    "start_time": "2021-10-29T19:34:25.715Z"
   },
   {
    "duration": 42,
    "start_time": "2021-10-29T19:34:25.742Z"
   },
   {
    "duration": 9,
    "start_time": "2021-10-29T19:34:25.786Z"
   },
   {
    "duration": 12,
    "start_time": "2021-10-29T19:34:25.797Z"
   },
   {
    "duration": 14,
    "start_time": "2021-10-29T19:34:25.812Z"
   },
   {
    "duration": 5,
    "start_time": "2021-10-29T19:34:25.833Z"
   },
   {
    "duration": 6,
    "start_time": "2021-10-29T19:34:25.841Z"
   },
   {
    "duration": 36,
    "start_time": "2021-10-29T19:34:25.849Z"
   },
   {
    "duration": 5,
    "start_time": "2021-10-29T19:34:25.887Z"
   },
   {
    "duration": 135,
    "start_time": "2021-10-29T19:34:25.894Z"
   },
   {
    "duration": 14,
    "start_time": "2021-10-29T19:34:26.031Z"
   },
   {
    "duration": 35,
    "start_time": "2021-10-29T19:34:26.048Z"
   },
   {
    "duration": 49,
    "start_time": "2021-10-29T19:34:26.086Z"
   },
   {
    "duration": 46,
    "start_time": "2021-10-29T19:34:26.137Z"
   },
   {
    "duration": 12,
    "start_time": "2021-10-29T19:34:26.186Z"
   },
   {
    "duration": 12,
    "start_time": "2021-10-29T19:34:26.200Z"
   },
   {
    "duration": 12,
    "start_time": "2021-10-29T19:34:26.214Z"
   },
   {
    "duration": 5,
    "start_time": "2021-10-29T19:34:26.228Z"
   },
   {
    "duration": 10,
    "start_time": "2021-10-29T19:34:26.235Z"
   },
   {
    "duration": 2208,
    "start_time": "2021-10-29T19:34:26.247Z"
   },
   {
    "duration": 4,
    "start_time": "2021-10-29T19:34:28.457Z"
   },
   {
    "duration": 2472,
    "start_time": "2021-10-29T19:34:28.464Z"
   },
   {
    "duration": 7,
    "start_time": "2021-10-29T19:34:30.939Z"
   },
   {
    "duration": 41,
    "start_time": "2021-10-29T19:34:30.948Z"
   },
   {
    "duration": 405,
    "start_time": "2021-10-29T19:34:30.992Z"
   },
   {
    "duration": 392,
    "start_time": "2021-10-29T19:34:31.400Z"
   },
   {
    "duration": 490,
    "start_time": "2021-10-29T19:34:31.794Z"
   },
   {
    "duration": 348,
    "start_time": "2021-10-29T19:34:32.287Z"
   },
   {
    "duration": 337,
    "start_time": "2021-10-29T19:34:32.637Z"
   },
   {
    "duration": 14,
    "start_time": "2021-10-29T19:34:32.977Z"
   },
   {
    "duration": 253,
    "start_time": "2021-10-29T19:34:32.993Z"
   },
   {
    "duration": 35,
    "start_time": "2021-10-29T19:34:33.249Z"
   },
   {
    "duration": 77,
    "start_time": "2021-10-29T19:34:33.287Z"
   },
   {
    "duration": 323,
    "start_time": "2021-10-29T19:34:33.382Z"
   },
   {
    "duration": 13,
    "start_time": "2021-10-29T19:34:33.708Z"
   },
   {
    "duration": 254,
    "start_time": "2021-10-29T19:34:33.724Z"
   },
   {
    "duration": 17,
    "start_time": "2021-10-29T19:34:33.981Z"
   },
   {
    "duration": 303,
    "start_time": "2021-10-29T19:34:34.000Z"
   },
   {
    "duration": 11,
    "start_time": "2021-10-29T19:34:34.306Z"
   },
   {
    "duration": 251,
    "start_time": "2021-10-29T19:34:34.319Z"
   },
   {
    "duration": 26,
    "start_time": "2021-10-29T19:34:34.572Z"
   },
   {
    "duration": 91,
    "start_time": "2021-10-29T19:34:34.600Z"
   },
   {
    "duration": 320,
    "start_time": "2021-10-29T19:34:34.694Z"
   },
   {
    "duration": 326,
    "start_time": "2021-10-29T19:34:35.017Z"
   },
   {
    "duration": 5,
    "start_time": "2021-10-29T19:34:35.346Z"
   },
   {
    "duration": 29,
    "start_time": "2021-10-29T19:34:35.353Z"
   },
   {
    "duration": 12,
    "start_time": "2021-10-29T19:34:35.384Z"
   },
   {
    "duration": 4,
    "start_time": "2021-10-29T19:34:35.398Z"
   },
   {
    "duration": 2012,
    "start_time": "2021-10-29T19:34:35.405Z"
   },
   {
    "duration": 6,
    "start_time": "2021-10-29T19:34:37.419Z"
   },
   {
    "duration": 23,
    "start_time": "2021-10-29T19:34:37.433Z"
   },
   {
    "duration": 55,
    "start_time": "2021-10-29T19:34:37.459Z"
   },
   {
    "duration": 11,
    "start_time": "2021-10-29T19:34:37.516Z"
   },
   {
    "duration": 11,
    "start_time": "2021-10-29T19:34:37.529Z"
   },
   {
    "duration": 39,
    "start_time": "2021-10-29T19:34:37.542Z"
   },
   {
    "duration": 13,
    "start_time": "2021-10-29T19:34:37.583Z"
   },
   {
    "duration": 456,
    "start_time": "2021-10-29T19:34:37.598Z"
   },
   {
    "duration": 343,
    "start_time": "2021-10-29T19:34:38.056Z"
   },
   {
    "duration": 298,
    "start_time": "2021-10-29T19:34:38.401Z"
   },
   {
    "duration": 297,
    "start_time": "2021-10-29T19:34:38.701Z"
   },
   {
    "duration": 37,
    "start_time": "2021-10-29T19:34:39.000Z"
   },
   {
    "duration": 48,
    "start_time": "2021-10-29T19:34:39.039Z"
   },
   {
    "duration": 21,
    "start_time": "2021-10-29T19:34:39.090Z"
   },
   {
    "duration": 559,
    "start_time": "2021-10-29T19:34:39.114Z"
   },
   {
    "duration": 24,
    "start_time": "2021-10-29T19:34:39.675Z"
   },
   {
    "duration": 572,
    "start_time": "2021-10-29T19:34:39.701Z"
   },
   {
    "duration": 1656,
    "start_time": "2021-10-29T19:34:40.275Z"
   },
   {
    "duration": 1691,
    "start_time": "2021-10-29T19:34:41.934Z"
   },
   {
    "duration": 7,
    "start_time": "2021-10-29T19:34:43.627Z"
   },
   {
    "duration": 6,
    "start_time": "2021-10-29T19:34:43.636Z"
   },
   {
    "duration": 40,
    "start_time": "2021-10-29T19:34:43.644Z"
   },
   {
    "duration": 7,
    "start_time": "2021-10-29T19:34:43.686Z"
   },
   {
    "duration": 13,
    "start_time": "2021-10-29T19:34:43.695Z"
   },
   {
    "duration": 7,
    "start_time": "2021-10-29T19:34:43.710Z"
   },
   {
    "duration": 5981,
    "start_time": "2021-10-29T19:34:43.719Z"
   },
   {
    "duration": 5413,
    "start_time": "2021-10-29T19:34:49.703Z"
   },
   {
    "duration": 3,
    "start_time": "2021-10-29T19:34:55.121Z"
   },
   {
    "duration": 137,
    "start_time": "2021-10-29T19:34:55.127Z"
   },
   {
    "duration": 31,
    "start_time": "2021-10-29T19:34:55.266Z"
   },
   {
    "duration": 20,
    "start_time": "2021-10-29T19:34:55.299Z"
   },
   {
    "duration": 126,
    "start_time": "2021-10-29T19:35:43.619Z"
   },
   {
    "duration": 27,
    "start_time": "2021-10-29T19:35:45.140Z"
   },
   {
    "duration": 20,
    "start_time": "2021-10-29T19:35:46.138Z"
   },
   {
    "duration": 4,
    "start_time": "2021-10-29T19:37:47.830Z"
   },
   {
    "duration": 114,
    "start_time": "2021-10-29T19:37:48.607Z"
   },
   {
    "duration": 129,
    "start_time": "2021-10-29T19:38:08.921Z"
   },
   {
    "duration": 129,
    "start_time": "2021-10-29T19:38:15.186Z"
   },
   {
    "duration": 26,
    "start_time": "2021-10-29T19:38:16.656Z"
   },
   {
    "duration": 21,
    "start_time": "2021-10-29T19:38:17.664Z"
   },
   {
    "duration": 24,
    "start_time": "2021-10-29T19:38:19.633Z"
   },
   {
    "duration": 8,
    "start_time": "2021-10-29T19:38:23.000Z"
   },
   {
    "duration": 10,
    "start_time": "2021-10-29T19:38:24.167Z"
   },
   {
    "duration": 10,
    "start_time": "2021-10-29T19:38:24.875Z"
   },
   {
    "duration": 7,
    "start_time": "2021-10-29T19:38:26.279Z"
   },
   {
    "duration": 31,
    "start_time": "2021-10-29T19:38:27.175Z"
   },
   {
    "duration": 122,
    "start_time": "2021-10-29T19:38:34.074Z"
   },
   {
    "duration": 9,
    "start_time": "2021-10-29T19:38:57.947Z"
   },
   {
    "duration": 9,
    "start_time": "2021-10-29T19:39:00.417Z"
   },
   {
    "duration": 7,
    "start_time": "2021-10-29T19:39:02.886Z"
   },
   {
    "duration": 27,
    "start_time": "2021-10-29T19:39:03.983Z"
   },
   {
    "duration": 4,
    "start_time": "2021-10-29T19:39:27.317Z"
   },
   {
    "duration": 128,
    "start_time": "2021-10-29T19:39:28.223Z"
   },
   {
    "duration": 27,
    "start_time": "2021-10-29T19:39:29.824Z"
   },
   {
    "duration": 19,
    "start_time": "2021-10-29T19:39:30.887Z"
   },
   {
    "duration": 25,
    "start_time": "2021-10-29T19:39:36.041Z"
   },
   {
    "duration": 8,
    "start_time": "2021-10-29T19:39:38.078Z"
   },
   {
    "duration": 9,
    "start_time": "2021-10-29T19:39:45.339Z"
   },
   {
    "duration": 10,
    "start_time": "2021-10-29T19:39:49.742Z"
   },
   {
    "duration": 7,
    "start_time": "2021-10-29T19:39:56.791Z"
   },
   {
    "duration": 26,
    "start_time": "2021-10-29T19:40:01.934Z"
   },
   {
    "duration": 20,
    "start_time": "2021-10-29T19:42:30.263Z"
   },
   {
    "duration": 9,
    "start_time": "2021-10-29T19:42:45.037Z"
   },
   {
    "duration": 34,
    "start_time": "2021-10-29T19:42:47.762Z"
   },
   {
    "duration": 11,
    "start_time": "2021-10-29T19:43:17.328Z"
   },
   {
    "duration": 15,
    "start_time": "2021-10-29T19:43:18.283Z"
   },
   {
    "duration": 3,
    "start_time": "2021-10-29T19:43:23.239Z"
   },
   {
    "duration": 9,
    "start_time": "2021-10-29T19:43:25.469Z"
   },
   {
    "duration": 27,
    "start_time": "2021-10-29T19:43:27.064Z"
   },
   {
    "duration": 899,
    "start_time": "2021-10-29T19:43:46.727Z"
   },
   {
    "duration": 115,
    "start_time": "2021-10-29T19:43:47.629Z"
   },
   {
    "duration": 35,
    "start_time": "2021-10-29T19:43:47.747Z"
   },
   {
    "duration": 24,
    "start_time": "2021-10-29T19:43:47.784Z"
   },
   {
    "duration": 26,
    "start_time": "2021-10-29T19:43:47.810Z"
   },
   {
    "duration": 7,
    "start_time": "2021-10-29T19:43:47.838Z"
   },
   {
    "duration": 10,
    "start_time": "2021-10-29T19:43:47.883Z"
   },
   {
    "duration": 9,
    "start_time": "2021-10-29T19:43:47.896Z"
   },
   {
    "duration": 3,
    "start_time": "2021-10-29T19:43:47.908Z"
   },
   {
    "duration": 9,
    "start_time": "2021-10-29T19:43:47.913Z"
   },
   {
    "duration": 65,
    "start_time": "2021-10-29T19:43:47.924Z"
   },
   {
    "duration": 130,
    "start_time": "2021-10-29T19:43:47.991Z"
   },
   {
    "duration": 20,
    "start_time": "2021-10-29T19:43:48.123Z"
   },
   {
    "duration": 9,
    "start_time": "2021-10-29T19:43:48.145Z"
   },
   {
    "duration": 12,
    "start_time": "2021-10-29T19:43:48.183Z"
   },
   {
    "duration": 12,
    "start_time": "2021-10-29T19:43:48.198Z"
   },
   {
    "duration": 13,
    "start_time": "2021-10-29T19:43:48.213Z"
   },
   {
    "duration": 54,
    "start_time": "2021-10-29T19:43:48.229Z"
   },
   {
    "duration": 24,
    "start_time": "2021-10-29T19:43:48.286Z"
   },
   {
    "duration": 10,
    "start_time": "2021-10-29T19:43:48.312Z"
   },
   {
    "duration": 8,
    "start_time": "2021-10-29T19:43:48.325Z"
   },
   {
    "duration": 16,
    "start_time": "2021-10-29T19:43:48.335Z"
   },
   {
    "duration": 9,
    "start_time": "2021-10-29T19:43:48.384Z"
   },
   {
    "duration": 9,
    "start_time": "2021-10-29T19:43:48.396Z"
   },
   {
    "duration": 19,
    "start_time": "2021-10-29T19:43:48.407Z"
   },
   {
    "duration": 20,
    "start_time": "2021-10-29T19:43:48.428Z"
   },
   {
    "duration": 10,
    "start_time": "2021-10-29T19:43:48.450Z"
   },
   {
    "duration": 131,
    "start_time": "2021-10-29T19:43:48.463Z"
   },
   {
    "duration": 19,
    "start_time": "2021-10-29T19:43:48.596Z"
   },
   {
    "duration": 18,
    "start_time": "2021-10-29T19:43:48.618Z"
   },
   {
    "duration": 77,
    "start_time": "2021-10-29T19:43:48.639Z"
   },
   {
    "duration": 25,
    "start_time": "2021-10-29T19:43:48.718Z"
   },
   {
    "duration": 37,
    "start_time": "2021-10-29T19:43:48.745Z"
   },
   {
    "duration": 12,
    "start_time": "2021-10-29T19:43:48.784Z"
   },
   {
    "duration": 12,
    "start_time": "2021-10-29T19:43:48.798Z"
   },
   {
    "duration": 6,
    "start_time": "2021-10-29T19:43:48.812Z"
   },
   {
    "duration": 7,
    "start_time": "2021-10-29T19:43:48.820Z"
   },
   {
    "duration": 2184,
    "start_time": "2021-10-29T19:43:48.829Z"
   },
   {
    "duration": 5,
    "start_time": "2021-10-29T19:43:51.016Z"
   },
   {
    "duration": 2301,
    "start_time": "2021-10-29T19:43:51.023Z"
   },
   {
    "duration": 6,
    "start_time": "2021-10-29T19:43:53.326Z"
   },
   {
    "duration": 23,
    "start_time": "2021-10-29T19:43:53.334Z"
   },
   {
    "duration": 413,
    "start_time": "2021-10-29T19:43:53.359Z"
   },
   {
    "duration": 388,
    "start_time": "2021-10-29T19:43:53.774Z"
   },
   {
    "duration": 467,
    "start_time": "2021-10-29T19:43:54.164Z"
   },
   {
    "duration": 359,
    "start_time": "2021-10-29T19:43:54.633Z"
   },
   {
    "duration": 338,
    "start_time": "2021-10-29T19:43:54.995Z"
   },
   {
    "duration": 14,
    "start_time": "2021-10-29T19:43:55.336Z"
   },
   {
    "duration": 272,
    "start_time": "2021-10-29T19:43:55.353Z"
   },
   {
    "duration": 19,
    "start_time": "2021-10-29T19:43:55.628Z"
   },
   {
    "duration": 97,
    "start_time": "2021-10-29T19:43:55.650Z"
   },
   {
    "duration": 334,
    "start_time": "2021-10-29T19:43:55.750Z"
   },
   {
    "duration": 11,
    "start_time": "2021-10-29T19:43:56.086Z"
   },
   {
    "duration": 250,
    "start_time": "2021-10-29T19:43:56.099Z"
   },
   {
    "duration": 16,
    "start_time": "2021-10-29T19:43:56.351Z"
   },
   {
    "duration": 294,
    "start_time": "2021-10-29T19:43:56.382Z"
   },
   {
    "duration": 12,
    "start_time": "2021-10-29T19:43:56.681Z"
   },
   {
    "duration": 254,
    "start_time": "2021-10-29T19:43:56.696Z"
   },
   {
    "duration": 17,
    "start_time": "2021-10-29T19:43:56.952Z"
   },
   {
    "duration": 80,
    "start_time": "2021-10-29T19:43:56.982Z"
   },
   {
    "duration": 321,
    "start_time": "2021-10-29T19:43:57.064Z"
   },
   {
    "duration": 323,
    "start_time": "2021-10-29T19:43:57.387Z"
   },
   {
    "duration": 6,
    "start_time": "2021-10-29T19:43:57.713Z"
   },
   {
    "duration": 9,
    "start_time": "2021-10-29T19:43:57.721Z"
   },
   {
    "duration": 12,
    "start_time": "2021-10-29T19:43:57.732Z"
   },
   {
    "duration": 37,
    "start_time": "2021-10-29T19:43:57.746Z"
   },
   {
    "duration": 2090,
    "start_time": "2021-10-29T19:43:57.786Z"
   },
   {
    "duration": 6,
    "start_time": "2021-10-29T19:43:59.887Z"
   },
   {
    "duration": 27,
    "start_time": "2021-10-29T19:43:59.896Z"
   },
   {
    "duration": 29,
    "start_time": "2021-10-29T19:43:59.925Z"
   },
   {
    "duration": 31,
    "start_time": "2021-10-29T19:43:59.957Z"
   },
   {
    "duration": 10,
    "start_time": "2021-10-29T19:43:59.991Z"
   },
   {
    "duration": 13,
    "start_time": "2021-10-29T19:44:00.004Z"
   },
   {
    "duration": 21,
    "start_time": "2021-10-29T19:44:00.019Z"
   },
   {
    "duration": 465,
    "start_time": "2021-10-29T19:44:00.043Z"
   },
   {
    "duration": 342,
    "start_time": "2021-10-29T19:44:00.510Z"
   },
   {
    "duration": 290,
    "start_time": "2021-10-29T19:44:00.854Z"
   },
   {
    "duration": 301,
    "start_time": "2021-10-29T19:44:01.146Z"
   },
   {
    "duration": 49,
    "start_time": "2021-10-29T19:44:01.450Z"
   },
   {
    "duration": 27,
    "start_time": "2021-10-29T19:44:01.501Z"
   },
   {
    "duration": 22,
    "start_time": "2021-10-29T19:44:01.530Z"
   },
   {
    "duration": 584,
    "start_time": "2021-10-29T19:44:01.556Z"
   },
   {
    "duration": 39,
    "start_time": "2021-10-29T19:44:02.143Z"
   },
   {
    "duration": 606,
    "start_time": "2021-10-29T19:44:02.186Z"
   },
   {
    "duration": 1635,
    "start_time": "2021-10-29T19:44:02.794Z"
   },
   {
    "duration": 1679,
    "start_time": "2021-10-29T19:44:04.431Z"
   },
   {
    "duration": 6,
    "start_time": "2021-10-29T19:44:06.112Z"
   },
   {
    "duration": 8,
    "start_time": "2021-10-29T19:44:06.121Z"
   },
   {
    "duration": 6,
    "start_time": "2021-10-29T19:44:06.131Z"
   },
   {
    "duration": 44,
    "start_time": "2021-10-29T19:44:06.139Z"
   },
   {
    "duration": 6,
    "start_time": "2021-10-29T19:44:06.186Z"
   },
   {
    "duration": 7,
    "start_time": "2021-10-29T19:44:06.194Z"
   },
   {
    "duration": 6231,
    "start_time": "2021-10-29T19:44:06.203Z"
   },
   {
    "duration": 6198,
    "start_time": "2021-10-29T19:44:12.437Z"
   },
   {
    "duration": 4,
    "start_time": "2021-10-29T19:44:18.638Z"
   },
   {
    "duration": 139,
    "start_time": "2021-10-29T19:44:18.645Z"
   },
   {
    "duration": 26,
    "start_time": "2021-10-29T19:44:18.787Z"
   },
   {
    "duration": 19,
    "start_time": "2021-10-29T19:44:18.816Z"
   },
   {
    "duration": 26,
    "start_time": "2021-10-29T19:44:26.767Z"
   },
   {
    "duration": 21,
    "start_time": "2021-10-29T19:44:27.702Z"
   },
   {
    "duration": 25,
    "start_time": "2021-10-29T19:44:29.915Z"
   },
   {
    "duration": 9,
    "start_time": "2021-10-29T19:44:31.301Z"
   },
   {
    "duration": 10,
    "start_time": "2021-10-29T19:44:33.694Z"
   },
   {
    "duration": 11,
    "start_time": "2021-10-29T19:44:34.694Z"
   },
   {
    "duration": 4,
    "start_time": "2021-10-29T19:44:36.313Z"
   },
   {
    "duration": 7,
    "start_time": "2021-10-29T19:44:38.475Z"
   },
   {
    "duration": 27,
    "start_time": "2021-10-29T19:44:44.143Z"
   },
   {
    "duration": 20,
    "start_time": "2021-10-29T19:45:10.577Z"
   },
   {
    "duration": 9,
    "start_time": "2021-10-29T19:45:14.870Z"
   },
   {
    "duration": 40,
    "start_time": "2021-10-29T19:45:16.018Z"
   },
   {
    "duration": 126,
    "start_time": "2021-10-29T19:45:20.247Z"
   },
   {
    "duration": 20,
    "start_time": "2021-10-29T19:45:26.153Z"
   },
   {
    "duration": 7,
    "start_time": "2021-10-29T19:45:28.598Z"
   },
   {
    "duration": 13,
    "start_time": "2021-10-29T19:45:30.722Z"
   },
   {
    "duration": 13,
    "start_time": "2021-10-29T19:45:31.668Z"
   },
   {
    "duration": 14,
    "start_time": "2021-10-29T19:45:32.536Z"
   },
   {
    "duration": 17,
    "start_time": "2021-10-29T19:45:33.217Z"
   },
   {
    "duration": 28,
    "start_time": "2021-10-29T19:45:34.269Z"
   },
   {
    "duration": 9,
    "start_time": "2021-10-29T19:45:37.993Z"
   },
   {
    "duration": 7,
    "start_time": "2021-10-29T19:45:38.979Z"
   },
   {
    "duration": 8,
    "start_time": "2021-10-29T19:45:40.005Z"
   },
   {
    "duration": 8,
    "start_time": "2021-10-29T19:45:40.510Z"
   },
   {
    "duration": 6,
    "start_time": "2021-10-29T19:45:42.700Z"
   },
   {
    "duration": 5,
    "start_time": "2021-10-29T19:45:43.061Z"
   },
   {
    "duration": 6,
    "start_time": "2021-10-29T19:45:43.442Z"
   },
   {
    "duration": 8,
    "start_time": "2021-10-29T19:45:44.146Z"
   },
   {
    "duration": 117,
    "start_time": "2021-10-29T19:45:45.057Z"
   },
   {
    "duration": 19,
    "start_time": "2021-10-29T19:45:48.145Z"
   },
   {
    "duration": 20,
    "start_time": "2021-10-29T19:46:22.392Z"
   },
   {
    "duration": 25,
    "start_time": "2021-10-29T19:46:22.778Z"
   },
   {
    "duration": 8,
    "start_time": "2021-10-29T19:46:26.202Z"
   },
   {
    "duration": 6,
    "start_time": "2021-10-29T19:46:27.294Z"
   },
   {
    "duration": 8,
    "start_time": "2021-10-29T19:46:27.967Z"
   },
   {
    "duration": 9,
    "start_time": "2021-10-29T19:46:28.891Z"
   },
   {
    "duration": 5,
    "start_time": "2021-10-29T19:46:31.357Z"
   },
   {
    "duration": 5,
    "start_time": "2021-10-29T19:46:31.661Z"
   },
   {
    "duration": 5,
    "start_time": "2021-10-29T19:46:31.989Z"
   },
   {
    "duration": 5,
    "start_time": "2021-10-29T19:46:33.335Z"
   },
   {
    "duration": 116,
    "start_time": "2021-10-29T19:46:34.668Z"
   },
   {
    "duration": 113,
    "start_time": "2021-10-29T19:47:43.874Z"
   },
   {
    "duration": 43,
    "start_time": "2021-10-29T19:48:00.206Z"
   },
   {
    "duration": 110,
    "start_time": "2021-10-29T19:48:21.351Z"
   },
   {
    "duration": 43,
    "start_time": "2021-10-29T19:48:49.236Z"
   },
   {
    "duration": 8,
    "start_time": "2021-10-29T19:48:58.835Z"
   },
   {
    "duration": 19,
    "start_time": "2021-10-29T19:49:00.130Z"
   },
   {
    "duration": 46,
    "start_time": "2021-10-29T19:49:01.182Z"
   },
   {
    "duration": 23,
    "start_time": "2021-10-29T19:49:01.974Z"
   },
   {
    "duration": 12,
    "start_time": "2021-10-29T19:49:03.372Z"
   },
   {
    "duration": 11,
    "start_time": "2021-10-29T19:49:03.545Z"
   },
   {
    "duration": 12,
    "start_time": "2021-10-29T19:49:03.749Z"
   },
   {
    "duration": 6,
    "start_time": "2021-10-29T19:49:04.108Z"
   },
   {
    "duration": 4,
    "start_time": "2021-10-29T19:49:04.281Z"
   },
   {
    "duration": 2224,
    "start_time": "2021-10-29T19:49:04.667Z"
   },
   {
    "duration": 6,
    "start_time": "2021-10-29T19:49:06.893Z"
   },
   {
    "duration": 2299,
    "start_time": "2021-10-29T19:49:06.902Z"
   },
   {
    "duration": 6,
    "start_time": "2021-10-29T19:49:09.204Z"
   },
   {
    "duration": 24,
    "start_time": "2021-10-29T19:49:09.212Z"
   },
   {
    "duration": 409,
    "start_time": "2021-10-29T19:49:09.238Z"
   },
   {
    "duration": 387,
    "start_time": "2021-10-29T19:49:09.650Z"
   },
   {
    "duration": 529,
    "start_time": "2021-10-29T19:49:10.039Z"
   },
   {
    "duration": 345,
    "start_time": "2021-10-29T19:49:10.571Z"
   },
   {
    "duration": 324,
    "start_time": "2021-10-29T19:49:11.233Z"
   },
   {
    "duration": 13,
    "start_time": "2021-10-29T19:49:15.150Z"
   },
   {
    "duration": 222,
    "start_time": "2021-10-29T19:49:15.526Z"
   },
   {
    "duration": 21,
    "start_time": "2021-10-29T19:49:15.997Z"
   },
   {
    "duration": 118,
    "start_time": "2021-10-29T19:49:16.159Z"
   },
   {
    "duration": 562,
    "start_time": "2021-10-29T19:49:16.391Z"
   },
   {
    "duration": 305,
    "start_time": "2021-10-29T19:50:07.964Z"
   },
   {
    "duration": 320,
    "start_time": "2021-10-29T19:50:22.441Z"
   },
   {
    "duration": 397,
    "start_time": "2021-10-29T19:50:31.305Z"
   },
   {
    "duration": 377,
    "start_time": "2021-10-29T19:50:41.262Z"
   },
   {
    "duration": 377,
    "start_time": "2021-10-29T19:50:50.189Z"
   },
   {
    "duration": 13,
    "start_time": "2021-10-29T19:51:52.220Z"
   },
   {
    "duration": 213,
    "start_time": "2021-10-29T19:51:53.114Z"
   },
   {
    "duration": 17,
    "start_time": "2021-10-29T19:51:54.907Z"
   },
   {
    "duration": 74,
    "start_time": "2021-10-29T19:51:55.717Z"
   },
   {
    "duration": 292,
    "start_time": "2021-10-29T19:51:57.332Z"
   },
   {
    "duration": 12,
    "start_time": "2021-10-29T19:52:03.378Z"
   },
   {
    "duration": 233,
    "start_time": "2021-10-29T19:52:08.075Z"
   },
   {
    "duration": 17,
    "start_time": "2021-10-29T19:52:08.695Z"
   },
   {
    "duration": 280,
    "start_time": "2021-10-29T19:52:09.356Z"
   },
   {
    "duration": 283,
    "start_time": "2021-10-29T19:52:17.423Z"
   },
   {
    "duration": 285,
    "start_time": "2021-10-29T19:52:35.108Z"
   },
   {
    "duration": 301,
    "start_time": "2021-10-29T19:52:54.774Z"
   },
   {
    "duration": 450,
    "start_time": "2021-10-29T19:53:01.705Z"
   },
   {
    "duration": 309,
    "start_time": "2021-10-29T19:53:32.237Z"
   },
   {
    "duration": 308,
    "start_time": "2021-10-29T19:53:42.964Z"
   },
   {
    "duration": 4,
    "start_time": "2021-10-29T19:54:03.862Z"
   },
   {
    "duration": 126,
    "start_time": "2021-10-29T19:54:04.368Z"
   },
   {
    "duration": 26,
    "start_time": "2021-10-29T19:54:05.193Z"
   },
   {
    "duration": 20,
    "start_time": "2021-10-29T19:54:05.565Z"
   },
   {
    "duration": 25,
    "start_time": "2021-10-29T19:54:06.700Z"
   },
   {
    "duration": 10,
    "start_time": "2021-10-29T19:54:07.436Z"
   },
   {
    "duration": 17,
    "start_time": "2021-10-29T19:54:08.474Z"
   },
   {
    "duration": 9,
    "start_time": "2021-10-29T19:54:09.173Z"
   },
   {
    "duration": 38,
    "start_time": "2021-10-29T19:54:10.183Z"
   },
   {
    "duration": 28,
    "start_time": "2021-10-29T19:54:19.110Z"
   },
   {
    "duration": 133,
    "start_time": "2021-10-29T19:54:19.894Z"
   },
   {
    "duration": 20,
    "start_time": "2021-10-29T19:54:20.396Z"
   },
   {
    "duration": 7,
    "start_time": "2021-10-29T19:54:20.870Z"
   },
   {
    "duration": 14,
    "start_time": "2021-10-29T19:54:21.140Z"
   },
   {
    "duration": 16,
    "start_time": "2021-10-29T19:54:21.409Z"
   },
   {
    "duration": 14,
    "start_time": "2021-10-29T19:54:21.678Z"
   },
   {
    "duration": 18,
    "start_time": "2021-10-29T19:54:21.952Z"
   },
   {
    "duration": 25,
    "start_time": "2021-10-29T19:54:22.192Z"
   },
   {
    "duration": 8,
    "start_time": "2021-10-29T19:54:22.453Z"
   },
   {
    "duration": 7,
    "start_time": "2021-10-29T19:54:22.722Z"
   },
   {
    "duration": 8,
    "start_time": "2021-10-29T19:54:22.971Z"
   },
   {
    "duration": 8,
    "start_time": "2021-10-29T19:54:23.245Z"
   },
   {
    "duration": 5,
    "start_time": "2021-10-29T19:54:24.035Z"
   },
   {
    "duration": 6,
    "start_time": "2021-10-29T19:54:24.310Z"
   },
   {
    "duration": 6,
    "start_time": "2021-10-29T19:54:24.558Z"
   },
   {
    "duration": 8,
    "start_time": "2021-10-29T19:54:24.837Z"
   },
   {
    "duration": 44,
    "start_time": "2021-10-29T19:54:25.319Z"
   },
   {
    "duration": 18,
    "start_time": "2021-10-29T19:54:27.237Z"
   },
   {
    "duration": 19,
    "start_time": "2021-10-29T19:54:28.619Z"
   },
   {
    "duration": 42,
    "start_time": "2021-10-29T19:54:29.274Z"
   },
   {
    "duration": 24,
    "start_time": "2021-10-29T19:54:30.329Z"
   },
   {
    "duration": 13,
    "start_time": "2021-10-29T19:54:37.050Z"
   },
   {
    "duration": 12,
    "start_time": "2021-10-29T19:54:37.514Z"
   },
   {
    "duration": 12,
    "start_time": "2021-10-29T19:54:38.008Z"
   },
   {
    "duration": 6,
    "start_time": "2021-10-29T19:54:39.327Z"
   },
   {
    "duration": 5,
    "start_time": "2021-10-29T19:54:39.705Z"
   },
   {
    "duration": 2116,
    "start_time": "2021-10-29T19:54:40.247Z"
   },
   {
    "duration": 4,
    "start_time": "2021-10-29T19:54:42.366Z"
   },
   {
    "duration": 2440,
    "start_time": "2021-10-29T19:54:42.373Z"
   },
   {
    "duration": 7,
    "start_time": "2021-10-29T19:54:44.815Z"
   },
   {
    "duration": 24,
    "start_time": "2021-10-29T19:54:44.824Z"
   },
   {
    "duration": 378,
    "start_time": "2021-10-29T19:54:48.738Z"
   },
   {
    "duration": 372,
    "start_time": "2021-10-29T19:54:50.702Z"
   },
   {
    "duration": 388,
    "start_time": "2021-10-29T19:54:58.117Z"
   },
   {
    "duration": 429,
    "start_time": "2021-10-29T19:55:03.835Z"
   },
   {
    "duration": 321,
    "start_time": "2021-10-29T19:55:22.541Z"
   },
   {
    "duration": 307,
    "start_time": "2021-10-29T19:55:24.928Z"
   },
   {
    "duration": 11,
    "start_time": "2021-10-29T19:55:28.764Z"
   },
   {
    "duration": 230,
    "start_time": "2021-10-29T19:55:29.680Z"
   },
   {
    "duration": 17,
    "start_time": "2021-10-29T19:55:30.220Z"
   },
   {
    "duration": 76,
    "start_time": "2021-10-29T19:55:30.472Z"
   },
   {
    "duration": 320,
    "start_time": "2021-10-29T19:55:30.754Z"
   },
   {
    "duration": 11,
    "start_time": "2021-10-29T19:55:31.082Z"
   },
   {
    "duration": 233,
    "start_time": "2021-10-29T19:55:31.474Z"
   },
   {
    "duration": 16,
    "start_time": "2021-10-29T19:55:31.742Z"
   },
   {
    "duration": 441,
    "start_time": "2021-10-29T19:55:31.964Z"
   },
   {
    "duration": 15,
    "start_time": "2021-10-29T19:55:32.450Z"
   },
   {
    "duration": 234,
    "start_time": "2021-10-29T19:55:32.662Z"
   },
   {
    "duration": 17,
    "start_time": "2021-10-29T19:55:33.156Z"
   },
   {
    "duration": 76,
    "start_time": "2021-10-29T19:55:33.805Z"
   },
   {
    "duration": 394,
    "start_time": "2021-10-29T19:55:35.219Z"
   },
   {
    "duration": 295,
    "start_time": "2021-10-29T19:55:40.879Z"
   },
   {
    "duration": 284,
    "start_time": "2021-10-29T19:56:08.368Z"
   },
   {
    "duration": 293,
    "start_time": "2021-10-29T19:56:12.653Z"
   },
   {
    "duration": 6,
    "start_time": "2021-10-29T19:56:15.764Z"
   },
   {
    "duration": 8,
    "start_time": "2021-10-29T19:56:16.786Z"
   },
   {
    "duration": 12,
    "start_time": "2021-10-29T19:56:18.489Z"
   },
   {
    "duration": 4,
    "start_time": "2021-10-29T19:56:19.158Z"
   },
   {
    "duration": 2166,
    "start_time": "2021-10-29T19:56:20.538Z"
   },
   {
    "duration": 7,
    "start_time": "2021-10-29T19:56:22.706Z"
   },
   {
    "duration": 25,
    "start_time": "2021-10-29T19:56:24.460Z"
   },
   {
    "duration": 27,
    "start_time": "2021-10-29T19:56:25.258Z"
   },
   {
    "duration": 12,
    "start_time": "2021-10-29T19:56:26.626Z"
   },
   {
    "duration": 11,
    "start_time": "2021-10-29T19:56:29.018Z"
   },
   {
    "duration": 7,
    "start_time": "2021-10-29T19:56:29.890Z"
   },
   {
    "duration": 12,
    "start_time": "2021-10-29T19:56:30.709Z"
   },
   {
    "duration": 613,
    "start_time": "2021-10-29T19:56:31.689Z"
   },
   {
    "duration": 344,
    "start_time": "2021-10-29T19:56:32.446Z"
   },
   {
    "duration": 308,
    "start_time": "2021-10-29T19:56:46.095Z"
   },
   {
    "duration": 278,
    "start_time": "2021-10-29T19:56:54.833Z"
   },
   {
    "duration": 279,
    "start_time": "2021-10-29T19:56:55.594Z"
   },
   {
    "duration": 277,
    "start_time": "2021-10-29T19:57:00.693Z"
   },
   {
    "duration": 319,
    "start_time": "2021-10-29T19:57:06.729Z"
   },
   {
    "duration": 274,
    "start_time": "2021-10-29T19:57:12.700Z"
   },
   {
    "duration": 36,
    "start_time": "2021-10-29T19:57:22.054Z"
   },
   {
    "duration": 26,
    "start_time": "2021-10-29T19:57:22.667Z"
   },
   {
    "duration": 22,
    "start_time": "2021-10-29T19:57:23.633Z"
   },
   {
    "duration": 547,
    "start_time": "2021-10-29T19:57:24.983Z"
   },
   {
    "duration": 524,
    "start_time": "2021-10-29T19:57:30.928Z"
   },
   {
    "duration": 21,
    "start_time": "2021-10-29T19:57:39.325Z"
   },
   {
    "duration": 483,
    "start_time": "2021-10-29T19:57:41.114Z"
   },
   {
    "duration": 537,
    "start_time": "2021-10-29T19:57:47.466Z"
   },
   {
    "duration": 1856,
    "start_time": "2021-10-29T19:57:53.736Z"
   },
   {
    "duration": 1743,
    "start_time": "2021-10-29T19:57:55.594Z"
   },
   {
    "duration": 6,
    "start_time": "2021-10-29T19:57:58.558Z"
   },
   {
    "duration": 7,
    "start_time": "2021-10-29T19:57:59.466Z"
   },
   {
    "duration": 8,
    "start_time": "2021-10-29T19:57:59.840Z"
   },
   {
    "duration": 7,
    "start_time": "2021-10-29T19:58:00.136Z"
   },
   {
    "duration": 6,
    "start_time": "2021-10-29T19:58:00.385Z"
   },
   {
    "duration": 7,
    "start_time": "2021-10-29T19:58:00.667Z"
   },
   {
    "duration": 5409,
    "start_time": "2021-10-29T19:58:00.955Z"
   },
   {
    "duration": 5863,
    "start_time": "2021-10-29T19:58:06.367Z"
   },
   {
    "duration": 728,
    "start_time": "2021-10-30T08:28:37.489Z"
   },
   {
    "duration": 91,
    "start_time": "2021-10-30T08:28:38.219Z"
   },
   {
    "duration": 21,
    "start_time": "2021-10-30T08:28:38.313Z"
   },
   {
    "duration": 32,
    "start_time": "2021-10-30T08:28:38.336Z"
   },
   {
    "duration": 27,
    "start_time": "2021-10-30T08:28:38.370Z"
   },
   {
    "duration": 7,
    "start_time": "2021-10-30T08:28:38.399Z"
   },
   {
    "duration": 19,
    "start_time": "2021-10-30T08:28:38.408Z"
   },
   {
    "duration": 40,
    "start_time": "2021-10-30T08:28:38.430Z"
   },
   {
    "duration": 38,
    "start_time": "2021-10-30T08:28:38.474Z"
   },
   {
    "duration": 123,
    "start_time": "2021-10-30T08:28:38.514Z"
   },
   {
    "duration": 12,
    "start_time": "2021-10-30T08:28:38.639Z"
   },
   {
    "duration": 18,
    "start_time": "2021-10-30T08:28:38.654Z"
   },
   {
    "duration": 12,
    "start_time": "2021-10-30T08:28:38.674Z"
   },
   {
    "duration": 11,
    "start_time": "2021-10-30T08:28:38.688Z"
   },
   {
    "duration": 11,
    "start_time": "2021-10-30T08:28:38.701Z"
   },
   {
    "duration": 53,
    "start_time": "2021-10-30T08:28:38.714Z"
   },
   {
    "duration": 19,
    "start_time": "2021-10-30T08:28:38.769Z"
   },
   {
    "duration": 6,
    "start_time": "2021-10-30T08:28:38.790Z"
   },
   {
    "duration": 7,
    "start_time": "2021-10-30T08:28:38.798Z"
   },
   {
    "duration": 8,
    "start_time": "2021-10-30T08:28:38.806Z"
   },
   {
    "duration": 8,
    "start_time": "2021-10-30T08:28:38.816Z"
   },
   {
    "duration": 7,
    "start_time": "2021-10-30T08:28:38.826Z"
   },
   {
    "duration": 29,
    "start_time": "2021-10-30T08:28:38.837Z"
   },
   {
    "duration": 7,
    "start_time": "2021-10-30T08:28:38.869Z"
   },
   {
    "duration": 13,
    "start_time": "2021-10-30T08:28:38.878Z"
   },
   {
    "duration": 36,
    "start_time": "2021-10-30T08:28:38.893Z"
   },
   {
    "duration": 36,
    "start_time": "2021-10-30T08:28:38.931Z"
   },
   {
    "duration": 14,
    "start_time": "2021-10-30T08:28:38.970Z"
   },
   {
    "duration": 36,
    "start_time": "2021-10-30T08:28:38.986Z"
   },
   {
    "duration": 49,
    "start_time": "2021-10-30T08:28:39.025Z"
   },
   {
    "duration": 12,
    "start_time": "2021-10-30T08:28:39.076Z"
   },
   {
    "duration": 9,
    "start_time": "2021-10-30T08:28:39.090Z"
   },
   {
    "duration": 9,
    "start_time": "2021-10-30T08:28:39.101Z"
   },
   {
    "duration": 7,
    "start_time": "2021-10-30T08:28:39.112Z"
   },
   {
    "duration": 9,
    "start_time": "2021-10-30T08:28:39.120Z"
   },
   {
    "duration": 1507,
    "start_time": "2021-10-30T08:28:39.131Z"
   },
   {
    "duration": 4,
    "start_time": "2021-10-30T08:28:40.640Z"
   },
   {
    "duration": 1499,
    "start_time": "2021-10-30T08:28:40.645Z"
   },
   {
    "duration": 5,
    "start_time": "2021-10-30T08:28:42.146Z"
   },
   {
    "duration": 25,
    "start_time": "2021-10-30T08:28:42.152Z"
   },
   {
    "duration": 257,
    "start_time": "2021-10-30T08:28:42.179Z"
   },
   {
    "duration": 262,
    "start_time": "2021-10-30T08:28:42.438Z"
   },
   {
    "duration": 312,
    "start_time": "2021-10-30T08:28:42.702Z"
   },
   {
    "duration": 264,
    "start_time": "2021-10-30T08:28:43.016Z"
   },
   {
    "duration": 209,
    "start_time": "2021-10-30T08:28:43.282Z"
   },
   {
    "duration": 10,
    "start_time": "2021-10-30T08:28:43.493Z"
   },
   {
    "duration": 178,
    "start_time": "2021-10-30T08:28:43.505Z"
   },
   {
    "duration": 13,
    "start_time": "2021-10-30T08:28:43.686Z"
   },
   {
    "duration": 78,
    "start_time": "2021-10-30T08:28:43.701Z"
   },
   {
    "duration": 201,
    "start_time": "2021-10-30T08:28:43.781Z"
   },
   {
    "duration": 9,
    "start_time": "2021-10-30T08:28:43.983Z"
   },
   {
    "duration": 162,
    "start_time": "2021-10-30T08:28:43.995Z"
   },
   {
    "duration": 14,
    "start_time": "2021-10-30T08:28:44.159Z"
   },
   {
    "duration": 182,
    "start_time": "2021-10-30T08:28:44.175Z"
   },
   {
    "duration": 21,
    "start_time": "2021-10-30T08:28:44.359Z"
   },
   {
    "duration": 164,
    "start_time": "2021-10-30T08:28:44.382Z"
   },
   {
    "duration": 23,
    "start_time": "2021-10-30T08:28:44.548Z"
   },
   {
    "duration": 75,
    "start_time": "2021-10-30T08:28:44.573Z"
   },
   {
    "duration": 205,
    "start_time": "2021-10-30T08:28:44.650Z"
   },
   {
    "duration": 212,
    "start_time": "2021-10-30T08:28:44.858Z"
   },
   {
    "duration": 6,
    "start_time": "2021-10-30T08:28:45.073Z"
   },
   {
    "duration": 9,
    "start_time": "2021-10-30T08:28:45.082Z"
   },
   {
    "duration": 15,
    "start_time": "2021-10-30T08:28:45.093Z"
   },
   {
    "duration": 3,
    "start_time": "2021-10-30T08:28:45.110Z"
   },
   {
    "duration": 1307,
    "start_time": "2021-10-30T08:28:45.115Z"
   },
   {
    "duration": 6,
    "start_time": "2021-10-30T08:28:46.424Z"
   },
   {
    "duration": 40,
    "start_time": "2021-10-30T08:28:46.432Z"
   },
   {
    "duration": 22,
    "start_time": "2021-10-30T08:28:46.477Z"
   },
   {
    "duration": 8,
    "start_time": "2021-10-30T08:28:46.501Z"
   },
   {
    "duration": 9,
    "start_time": "2021-10-30T08:28:46.511Z"
   },
   {
    "duration": 5,
    "start_time": "2021-10-30T08:28:46.522Z"
   },
   {
    "duration": 12,
    "start_time": "2021-10-30T08:28:46.528Z"
   },
   {
    "duration": 321,
    "start_time": "2021-10-30T08:28:46.563Z"
   },
   {
    "duration": 324,
    "start_time": "2021-10-30T08:28:46.886Z"
   },
   {
    "duration": 210,
    "start_time": "2021-10-30T08:28:47.212Z"
   },
   {
    "duration": 209,
    "start_time": "2021-10-30T08:28:47.424Z"
   },
   {
    "duration": 36,
    "start_time": "2021-10-30T08:28:47.635Z"
   },
   {
    "duration": 22,
    "start_time": "2021-10-30T08:28:47.673Z"
   },
   {
    "duration": 17,
    "start_time": "2021-10-30T08:28:47.697Z"
   },
   {
    "duration": 387,
    "start_time": "2021-10-30T08:28:47.716Z"
   },
   {
    "duration": 15,
    "start_time": "2021-10-30T08:28:48.105Z"
   },
   {
    "duration": 422,
    "start_time": "2021-10-30T08:28:48.122Z"
   },
   {
    "duration": 1364,
    "start_time": "2021-10-30T08:28:48.546Z"
   },
   {
    "duration": 1128,
    "start_time": "2021-10-30T08:28:49.912Z"
   },
   {
    "duration": 7,
    "start_time": "2021-10-30T08:28:51.042Z"
   },
   {
    "duration": 7,
    "start_time": "2021-10-30T08:28:51.063Z"
   },
   {
    "duration": 10,
    "start_time": "2021-10-30T08:28:51.072Z"
   },
   {
    "duration": 8,
    "start_time": "2021-10-30T08:28:51.085Z"
   },
   {
    "duration": 10,
    "start_time": "2021-10-30T08:28:51.095Z"
   },
   {
    "duration": 10,
    "start_time": "2021-10-30T08:28:51.107Z"
   },
   {
    "duration": 4030,
    "start_time": "2021-10-30T08:28:51.119Z"
   },
   {
    "duration": 3560,
    "start_time": "2021-10-30T08:28:55.151Z"
   },
   {
    "duration": 7,
    "start_time": "2021-10-30T08:33:44.989Z"
   }
  ],
  "kernelspec": {
   "display_name": "Python 3 (ipykernel)",
   "language": "python",
   "name": "python3"
  },
  "language_info": {
   "codemirror_mode": {
    "name": "ipython",
    "version": 3
   },
   "file_extension": ".py",
   "mimetype": "text/x-python",
   "name": "python",
   "nbconvert_exporter": "python",
   "pygments_lexer": "ipython3",
   "version": "3.9.5"
  },
  "toc": {
   "base_numbering": 1,
   "nav_menu": {},
   "number_sections": true,
   "sideBar": true,
   "skip_h1_title": true,
   "title_cell": "Table of Contents",
   "title_sidebar": "Contents",
   "toc_cell": false,
   "toc_position": {},
   "toc_section_display": true,
   "toc_window_display": false
  }
 },
 "nbformat": 4,
 "nbformat_minor": 2
}
