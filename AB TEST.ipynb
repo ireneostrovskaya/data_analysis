{
 "cells": [
  {
   "cell_type": "markdown",
   "metadata": {},
   "source": [
    "#  Project \"Launching an A/B test in the online store\"\n",
    "This is a project for the big online store. The goal of the progect is prioritize hypotheses, that were compiled with marketing department, launch an A/B test, and analyze the results of the test.\n",
    "\n",
    "We have 3 datasets:\n",
    "\n",
    "Hypotheses data - brief descriptions of the hypotheses and their metrics\n",
    "Orders - file with all orders made deviding into 2 groups (A and B)\n",
    "Visits - the number of visits on the date specified in the A/B test group \n"
   ]
  },
  {
   "cell_type": "code",
   "execution_count": 1,
   "metadata": {},
   "outputs": [],
   "source": [
    "import warnings \n",
    "warnings.simplefilter(action='ignore', category=FutureWarning)"
   ]
  },
  {
   "cell_type": "code",
   "execution_count": 2,
   "metadata": {},
   "outputs": [],
   "source": [
    "!pip install -Uq plotly --user"
   ]
  },
  {
   "cell_type": "code",
   "execution_count": 3,
   "metadata": {},
   "outputs": [],
   "source": [
    "!pip install -Uq matplotlib --user"
   ]
  },
  {
   "cell_type": "code",
   "execution_count": 4,
   "metadata": {},
   "outputs": [],
   "source": [
    "!pip install -Uq seaborn --user"
   ]
  },
  {
   "cell_type": "code",
   "execution_count": 5,
   "metadata": {},
   "outputs": [],
   "source": [
    "import pandas as pd\n",
    "import numpy as np\n",
    "import matplotlib.pyplot as plt\n",
    "import plotly.express as px\n",
    "import scipy.stats as stats\n",
    "import datetime as dt\n",
    "import seaborn as sns\n",
    "import math"
   ]
  },
  {
   "cell_type": "code",
   "execution_count": 6,
   "metadata": {},
   "outputs": [
    {
     "data": {
      "text/html": [
       "<div>\n",
       "<style scoped>\n",
       "    .dataframe tbody tr th:only-of-type {\n",
       "        vertical-align: middle;\n",
       "    }\n",
       "\n",
       "    .dataframe tbody tr th {\n",
       "        vertical-align: top;\n",
       "    }\n",
       "\n",
       "    .dataframe thead th {\n",
       "        text-align: right;\n",
       "    }\n",
       "</style>\n",
       "<table border=\"1\" class=\"dataframe\">\n",
       "  <thead>\n",
       "    <tr style=\"text-align: right;\">\n",
       "      <th></th>\n",
       "      <th>Hypothesis</th>\n",
       "      <th>Reach</th>\n",
       "      <th>Impact</th>\n",
       "      <th>Confidence</th>\n",
       "      <th>Effort</th>\n",
       "    </tr>\n",
       "  </thead>\n",
       "  <tbody>\n",
       "    <tr>\n",
       "      <th>0</th>\n",
       "      <td>Add two new channels for attracting traffic. T...</td>\n",
       "      <td>3</td>\n",
       "      <td>10</td>\n",
       "      <td>8</td>\n",
       "      <td>6</td>\n",
       "    </tr>\n",
       "    <tr>\n",
       "      <th>1</th>\n",
       "      <td>Launch your own delivery service. This will sh...</td>\n",
       "      <td>2</td>\n",
       "      <td>5</td>\n",
       "      <td>4</td>\n",
       "      <td>10</td>\n",
       "    </tr>\n",
       "    <tr>\n",
       "      <th>2</th>\n",
       "      <td>Add product recommendation blocks to the store...</td>\n",
       "      <td>8</td>\n",
       "      <td>3</td>\n",
       "      <td>7</td>\n",
       "      <td>3</td>\n",
       "    </tr>\n",
       "    <tr>\n",
       "      <th>3</th>\n",
       "      <td>Change the category structure. This will incre...</td>\n",
       "      <td>8</td>\n",
       "      <td>3</td>\n",
       "      <td>3</td>\n",
       "      <td>8</td>\n",
       "    </tr>\n",
       "    <tr>\n",
       "      <th>4</th>\n",
       "      <td>Change the background color on the main page. ...</td>\n",
       "      <td>3</td>\n",
       "      <td>1</td>\n",
       "      <td>1</td>\n",
       "      <td>1</td>\n",
       "    </tr>\n",
       "    <tr>\n",
       "      <th>5</th>\n",
       "      <td>Add a customer review page. This will increase...</td>\n",
       "      <td>3</td>\n",
       "      <td>2</td>\n",
       "      <td>2</td>\n",
       "      <td>3</td>\n",
       "    </tr>\n",
       "    <tr>\n",
       "      <th>6</th>\n",
       "      <td>Show banners with current offers and sales on ...</td>\n",
       "      <td>5</td>\n",
       "      <td>3</td>\n",
       "      <td>8</td>\n",
       "      <td>3</td>\n",
       "    </tr>\n",
       "    <tr>\n",
       "      <th>7</th>\n",
       "      <td>Add a subscription form to all the main pages....</td>\n",
       "      <td>10</td>\n",
       "      <td>7</td>\n",
       "      <td>8</td>\n",
       "      <td>5</td>\n",
       "    </tr>\n",
       "    <tr>\n",
       "      <th>8</th>\n",
       "      <td>Launch a promotion that gives users discounts ...</td>\n",
       "      <td>1</td>\n",
       "      <td>9</td>\n",
       "      <td>9</td>\n",
       "      <td>5</td>\n",
       "    </tr>\n",
       "  </tbody>\n",
       "</table>\n",
       "</div>"
      ],
      "text/plain": [
       "                                          Hypothesis  Reach  Impact  \\\n",
       "0  Add two new channels for attracting traffic. T...      3      10   \n",
       "1  Launch your own delivery service. This will sh...      2       5   \n",
       "2  Add product recommendation blocks to the store...      8       3   \n",
       "3  Change the category structure. This will incre...      8       3   \n",
       "4  Change the background color on the main page. ...      3       1   \n",
       "5  Add a customer review page. This will increase...      3       2   \n",
       "6  Show banners with current offers and sales on ...      5       3   \n",
       "7  Add a subscription form to all the main pages....     10       7   \n",
       "8  Launch a promotion that gives users discounts ...      1       9   \n",
       "\n",
       "   Confidence  Effort  \n",
       "0           8       6  \n",
       "1           4      10  \n",
       "2           7       3  \n",
       "3           3       8  \n",
       "4           1       1  \n",
       "5           2       3  \n",
       "6           8       3  \n",
       "7           8       5  \n",
       "8           9       5  "
      ]
     },
     "execution_count": 6,
     "metadata": {},
     "output_type": "execute_result"
    }
   ],
   "source": [
    "try:\n",
    "    hypotheses = pd.read_csv('/datasets/hypotheses_us.csv', sep=';')\n",
    "except IOError as e:\n",
    "    print(e)\n",
    "hypotheses.head(10)"
   ]
  },
  {
   "cell_type": "code",
   "execution_count": 7,
   "metadata": {},
   "outputs": [
    {
     "data": {
      "text/html": [
       "<div>\n",
       "<style scoped>\n",
       "    .dataframe tbody tr th:only-of-type {\n",
       "        vertical-align: middle;\n",
       "    }\n",
       "\n",
       "    .dataframe tbody tr th {\n",
       "        vertical-align: top;\n",
       "    }\n",
       "\n",
       "    .dataframe thead th {\n",
       "        text-align: right;\n",
       "    }\n",
       "</style>\n",
       "<table border=\"1\" class=\"dataframe\">\n",
       "  <thead>\n",
       "    <tr style=\"text-align: right;\">\n",
       "      <th></th>\n",
       "      <th>transactionId</th>\n",
       "      <th>visitorId</th>\n",
       "      <th>date</th>\n",
       "      <th>revenue</th>\n",
       "      <th>group</th>\n",
       "    </tr>\n",
       "  </thead>\n",
       "  <tbody>\n",
       "    <tr>\n",
       "      <th>0</th>\n",
       "      <td>3667963787</td>\n",
       "      <td>3312258926</td>\n",
       "      <td>2019-08-15</td>\n",
       "      <td>30.4</td>\n",
       "      <td>B</td>\n",
       "    </tr>\n",
       "    <tr>\n",
       "      <th>1</th>\n",
       "      <td>2804400009</td>\n",
       "      <td>3642806036</td>\n",
       "      <td>2019-08-15</td>\n",
       "      <td>15.2</td>\n",
       "      <td>B</td>\n",
       "    </tr>\n",
       "    <tr>\n",
       "      <th>2</th>\n",
       "      <td>2961555356</td>\n",
       "      <td>4069496402</td>\n",
       "      <td>2019-08-15</td>\n",
       "      <td>10.2</td>\n",
       "      <td>A</td>\n",
       "    </tr>\n",
       "    <tr>\n",
       "      <th>3</th>\n",
       "      <td>3797467345</td>\n",
       "      <td>1196621759</td>\n",
       "      <td>2019-08-15</td>\n",
       "      <td>155.1</td>\n",
       "      <td>B</td>\n",
       "    </tr>\n",
       "    <tr>\n",
       "      <th>4</th>\n",
       "      <td>2282983706</td>\n",
       "      <td>2322279887</td>\n",
       "      <td>2019-08-15</td>\n",
       "      <td>40.5</td>\n",
       "      <td>B</td>\n",
       "    </tr>\n",
       "  </tbody>\n",
       "</table>\n",
       "</div>"
      ],
      "text/plain": [
       "   transactionId   visitorId        date  revenue group\n",
       "0     3667963787  3312258926  2019-08-15     30.4     B\n",
       "1     2804400009  3642806036  2019-08-15     15.2     B\n",
       "2     2961555356  4069496402  2019-08-15     10.2     A\n",
       "3     3797467345  1196621759  2019-08-15    155.1     B\n",
       "4     2282983706  2322279887  2019-08-15     40.5     B"
      ]
     },
     "execution_count": 7,
     "metadata": {},
     "output_type": "execute_result"
    }
   ],
   "source": [
    "try:\n",
    "    orders= pd.read_csv('/datasets/orders_us.csv', sep=',')\n",
    "except IOError as e:\n",
    "    print(e)\n",
    "orders.head()"
   ]
  },
  {
   "cell_type": "code",
   "execution_count": 8,
   "metadata": {},
   "outputs": [
    {
     "data": {
      "text/html": [
       "<div>\n",
       "<style scoped>\n",
       "    .dataframe tbody tr th:only-of-type {\n",
       "        vertical-align: middle;\n",
       "    }\n",
       "\n",
       "    .dataframe tbody tr th {\n",
       "        vertical-align: top;\n",
       "    }\n",
       "\n",
       "    .dataframe thead th {\n",
       "        text-align: right;\n",
       "    }\n",
       "</style>\n",
       "<table border=\"1\" class=\"dataframe\">\n",
       "  <thead>\n",
       "    <tr style=\"text-align: right;\">\n",
       "      <th></th>\n",
       "      <th>transactionId</th>\n",
       "      <th>visitorId</th>\n",
       "      <th>date</th>\n",
       "      <th>revenue</th>\n",
       "      <th>group</th>\n",
       "    </tr>\n",
       "  </thead>\n",
       "  <tbody>\n",
       "    <tr>\n",
       "      <th>0</th>\n",
       "      <td>3667963787</td>\n",
       "      <td>3312258926</td>\n",
       "      <td>2019-08-15</td>\n",
       "      <td>30.4</td>\n",
       "      <td>B</td>\n",
       "    </tr>\n",
       "    <tr>\n",
       "      <th>1</th>\n",
       "      <td>2804400009</td>\n",
       "      <td>3642806036</td>\n",
       "      <td>2019-08-15</td>\n",
       "      <td>15.2</td>\n",
       "      <td>B</td>\n",
       "    </tr>\n",
       "    <tr>\n",
       "      <th>2</th>\n",
       "      <td>2961555356</td>\n",
       "      <td>4069496402</td>\n",
       "      <td>2019-08-15</td>\n",
       "      <td>10.2</td>\n",
       "      <td>A</td>\n",
       "    </tr>\n",
       "    <tr>\n",
       "      <th>3</th>\n",
       "      <td>3797467345</td>\n",
       "      <td>1196621759</td>\n",
       "      <td>2019-08-15</td>\n",
       "      <td>155.1</td>\n",
       "      <td>B</td>\n",
       "    </tr>\n",
       "    <tr>\n",
       "      <th>4</th>\n",
       "      <td>2282983706</td>\n",
       "      <td>2322279887</td>\n",
       "      <td>2019-08-15</td>\n",
       "      <td>40.5</td>\n",
       "      <td>B</td>\n",
       "    </tr>\n",
       "  </tbody>\n",
       "</table>\n",
       "</div>"
      ],
      "text/plain": [
       "   transactionId   visitorId        date  revenue group\n",
       "0     3667963787  3312258926  2019-08-15     30.4     B\n",
       "1     2804400009  3642806036  2019-08-15     15.2     B\n",
       "2     2961555356  4069496402  2019-08-15     10.2     A\n",
       "3     3797467345  1196621759  2019-08-15    155.1     B\n",
       "4     2282983706  2322279887  2019-08-15     40.5     B"
      ]
     },
     "execution_count": 8,
     "metadata": {},
     "output_type": "execute_result"
    }
   ],
   "source": [
    "try:\n",
    "    visits=pd.read_csv('/datasets/visits_us.csv')\n",
    "except IOError as e:\n",
    "    print(e)\n",
    "orders.head()"
   ]
  },
  {
   "cell_type": "code",
   "execution_count": 9,
   "metadata": {},
   "outputs": [],
   "source": [
    "hypotheses = hypotheses.rename(columns=str.lower)\n",
    "orders = orders.rename(columns=str.lower)\n",
    "visits = visits.rename(columns=str.lower)"
   ]
  },
  {
   "cell_type": "markdown",
   "metadata": {},
   "source": [
    "## STEP 1 "
   ]
  },
  {
   "cell_type": "markdown",
   "metadata": {},
   "source": [
    "The file hypotheses contains nine hypotheses on boosting an online store's revenue with Reach, Impact, Confidence, and Effort specified for each. We need to apply the ICE and the RICE framework to prioritize hypotheses. "
   ]
  },
  {
   "cell_type": "code",
   "execution_count": 10,
   "metadata": {},
   "outputs": [
    {
     "data": {
      "text/html": [
       "<div>\n",
       "<style scoped>\n",
       "    .dataframe tbody tr th:only-of-type {\n",
       "        vertical-align: middle;\n",
       "    }\n",
       "\n",
       "    .dataframe tbody tr th {\n",
       "        vertical-align: top;\n",
       "    }\n",
       "\n",
       "    .dataframe thead th {\n",
       "        text-align: right;\n",
       "    }\n",
       "</style>\n",
       "<table border=\"1\" class=\"dataframe\">\n",
       "  <thead>\n",
       "    <tr style=\"text-align: right;\">\n",
       "      <th></th>\n",
       "      <th>hypothesis</th>\n",
       "      <th>ice</th>\n",
       "    </tr>\n",
       "  </thead>\n",
       "  <tbody>\n",
       "    <tr>\n",
       "      <th>8</th>\n",
       "      <td>Launch a promotion that gives users discounts ...</td>\n",
       "      <td>16.200000</td>\n",
       "    </tr>\n",
       "    <tr>\n",
       "      <th>0</th>\n",
       "      <td>Add two new channels for attracting traffic. T...</td>\n",
       "      <td>13.333333</td>\n",
       "    </tr>\n",
       "    <tr>\n",
       "      <th>7</th>\n",
       "      <td>Add a subscription form to all the main pages....</td>\n",
       "      <td>11.200000</td>\n",
       "    </tr>\n",
       "    <tr>\n",
       "      <th>6</th>\n",
       "      <td>Show banners with current offers and sales on ...</td>\n",
       "      <td>8.000000</td>\n",
       "    </tr>\n",
       "    <tr>\n",
       "      <th>2</th>\n",
       "      <td>Add product recommendation blocks to the store...</td>\n",
       "      <td>7.000000</td>\n",
       "    </tr>\n",
       "    <tr>\n",
       "      <th>1</th>\n",
       "      <td>Launch your own delivery service. This will sh...</td>\n",
       "      <td>2.000000</td>\n",
       "    </tr>\n",
       "    <tr>\n",
       "      <th>5</th>\n",
       "      <td>Add a customer review page. This will increase...</td>\n",
       "      <td>1.333333</td>\n",
       "    </tr>\n",
       "    <tr>\n",
       "      <th>3</th>\n",
       "      <td>Change the category structure. This will incre...</td>\n",
       "      <td>1.125000</td>\n",
       "    </tr>\n",
       "    <tr>\n",
       "      <th>4</th>\n",
       "      <td>Change the background color on the main page. ...</td>\n",
       "      <td>1.000000</td>\n",
       "    </tr>\n",
       "  </tbody>\n",
       "</table>\n",
       "</div>"
      ],
      "text/plain": [
       "                                          hypothesis        ice\n",
       "8  Launch a promotion that gives users discounts ...  16.200000\n",
       "0  Add two new channels for attracting traffic. T...  13.333333\n",
       "7  Add a subscription form to all the main pages....  11.200000\n",
       "6  Show banners with current offers and sales on ...   8.000000\n",
       "2  Add product recommendation blocks to the store...   7.000000\n",
       "1  Launch your own delivery service. This will sh...   2.000000\n",
       "5  Add a customer review page. This will increase...   1.333333\n",
       "3  Change the category structure. This will incre...   1.125000\n",
       "4  Change the background color on the main page. ...   1.000000"
      ]
     },
     "execution_count": 10,
     "metadata": {},
     "output_type": "execute_result"
    }
   ],
   "source": [
    "hypotheses['ice'] = (hypotheses['impact'] * hypotheses['confidence'])/hypotheses['effort']   \n",
    "\n",
    "hypotheses[['hypothesis','ice']].sort_values(by='ice', ascending=False)\n"
   ]
  },
  {
   "cell_type": "markdown",
   "metadata": {},
   "source": [
    "#### Hypothesis 8, 0, 7, 6 are the most promissing by ICE, that means these hypotheses are having more impact and confidence and less efforts to achieve results."
   ]
  },
  {
   "cell_type": "code",
   "execution_count": 11,
   "metadata": {},
   "outputs": [
    {
     "name": "stdout",
     "output_type": "stream",
     "text": [
      "                                          hypothesis   rice\n",
      "7  Add a subscription form to all the main pages....  112.0\n",
      "2  Add product recommendation blocks to the store...   56.0\n",
      "0  Add two new channels for attracting traffic. T...   40.0\n",
      "6  Show banners with current offers and sales on ...   40.0\n",
      "8  Launch a promotion that gives users discounts ...   16.2\n",
      "3  Change the category structure. This will incre...    9.0\n",
      "1  Launch your own delivery service. This will sh...    4.0\n",
      "5  Add a customer review page. This will increase...    4.0\n",
      "4  Change the background color on the main page. ...    3.0\n"
     ]
    }
   ],
   "source": [
    "hypotheses['rice'] = (hypotheses['reach'] * hypotheses['confidence']* hypotheses['impact'])/hypotheses['effort']   \n",
    "\n",
    "print(hypotheses[['hypothesis','rice']].sort_values(by='rice', ascending=False))\n"
   ]
  },
  {
   "cell_type": "code",
   "execution_count": 12,
   "metadata": {},
   "outputs": [
    {
     "data": {
      "image/png": "[encoded data removed]",
      "text/plain": [
       "<Figure size 1080x576 with 1 Axes>"
      ]
     },
     "metadata": {
      "needs_background": "light"
     },
     "output_type": "display_data"
    }
   ],
   "source": [
    "plt.figure(figsize=(15,8))\n",
    "plt.title(\"Hypotheses metod ICE and RICE\")\n",
    "sns.scatterplot(data= hypotheses, x=\"ice\", y=\"rice\",palette=\"flare\",hue=\"hypothesis\")\n",
    "plt.legend\n",
    "plt.show();"
   ]
  },
  {
   "cell_type": "markdown",
   "metadata": {},
   "source": [
    "#### Hypothesis 7,2,0,6 are leaders here by RICE method, the absolute leader is number 7, because it's reach paramether is 10 ( the biggest one), that means it'll impact very many clients of the company."
   ]
  },
  {
   "cell_type": "markdown",
   "metadata": {},
   "source": [
    "In consideration of 2 methods RICE and ICE we can define that the number 7 is more promissing and 0,6 are the next ones in this list of winners."
   ]
  },
  {
   "cell_type": "markdown",
   "metadata": {},
   "source": [
    "  ## STEP 2"
   ]
  },
  {
   "cell_type": "markdown",
   "metadata": {},
   "source": [
    "Recentely our company carried out an A/B test and got the results described in the orders and visits files. It is time to analyse the results that we got."
   ]
  },
  {
   "cell_type": "code",
   "execution_count": 13,
   "metadata": {},
   "outputs": [
    {
     "data": {
      "text/html": [
       "<div>\n",
       "<style scoped>\n",
       "    .dataframe tbody tr th:only-of-type {\n",
       "        vertical-align: middle;\n",
       "    }\n",
       "\n",
       "    .dataframe tbody tr th {\n",
       "        vertical-align: top;\n",
       "    }\n",
       "\n",
       "    .dataframe thead th {\n",
       "        text-align: right;\n",
       "    }\n",
       "</style>\n",
       "<table border=\"1\" class=\"dataframe\">\n",
       "  <thead>\n",
       "    <tr style=\"text-align: right;\">\n",
       "      <th></th>\n",
       "      <th>transactionid</th>\n",
       "      <th>visitorid</th>\n",
       "      <th>date</th>\n",
       "      <th>revenue</th>\n",
       "      <th>group</th>\n",
       "    </tr>\n",
       "  </thead>\n",
       "  <tbody>\n",
       "    <tr>\n",
       "      <th>0</th>\n",
       "      <td>3667963787</td>\n",
       "      <td>3312258926</td>\n",
       "      <td>2019-08-15</td>\n",
       "      <td>30.4</td>\n",
       "      <td>B</td>\n",
       "    </tr>\n",
       "    <tr>\n",
       "      <th>1</th>\n",
       "      <td>2804400009</td>\n",
       "      <td>3642806036</td>\n",
       "      <td>2019-08-15</td>\n",
       "      <td>15.2</td>\n",
       "      <td>B</td>\n",
       "    </tr>\n",
       "    <tr>\n",
       "      <th>2</th>\n",
       "      <td>2961555356</td>\n",
       "      <td>4069496402</td>\n",
       "      <td>2019-08-15</td>\n",
       "      <td>10.2</td>\n",
       "      <td>A</td>\n",
       "    </tr>\n",
       "    <tr>\n",
       "      <th>3</th>\n",
       "      <td>3797467345</td>\n",
       "      <td>1196621759</td>\n",
       "      <td>2019-08-15</td>\n",
       "      <td>155.1</td>\n",
       "      <td>B</td>\n",
       "    </tr>\n",
       "    <tr>\n",
       "      <th>4</th>\n",
       "      <td>2282983706</td>\n",
       "      <td>2322279887</td>\n",
       "      <td>2019-08-15</td>\n",
       "      <td>40.5</td>\n",
       "      <td>B</td>\n",
       "    </tr>\n",
       "  </tbody>\n",
       "</table>\n",
       "</div>"
      ],
      "text/plain": [
       "   transactionid   visitorid       date  revenue group\n",
       "0     3667963787  3312258926 2019-08-15     30.4     B\n",
       "1     2804400009  3642806036 2019-08-15     15.2     B\n",
       "2     2961555356  4069496402 2019-08-15     10.2     A\n",
       "3     3797467345  1196621759 2019-08-15    155.1     B\n",
       "4     2282983706  2322279887 2019-08-15     40.5     B"
      ]
     },
     "execution_count": 13,
     "metadata": {},
     "output_type": "execute_result"
    }
   ],
   "source": [
    "orders['date']=pd.to_datetime(orders['date'])\n",
    "orders.head()"
   ]
  },
  {
   "cell_type": "code",
   "execution_count": 14,
   "metadata": {},
   "outputs": [
    {
     "name": "stdout",
     "output_type": "stream",
     "text": [
      "<class 'pandas.core.frame.DataFrame'>\n",
      "RangeIndex: 1197 entries, 0 to 1196\n",
      "Data columns (total 5 columns):\n",
      " #   Column         Non-Null Count  Dtype         \n",
      "---  ------         --------------  -----         \n",
      " 0   transactionid  1197 non-null   int64         \n",
      " 1   visitorid      1197 non-null   int64         \n",
      " 2   date           1197 non-null   datetime64[ns]\n",
      " 3   revenue        1197 non-null   float64       \n",
      " 4   group          1197 non-null   object        \n",
      "dtypes: datetime64[ns](1), float64(1), int64(2), object(1)\n",
      "memory usage: 46.9+ KB\n"
     ]
    }
   ],
   "source": [
    "orders.info()"
   ]
  },
  {
   "cell_type": "code",
   "execution_count": 15,
   "metadata": {},
   "outputs": [
    {
     "data": {
      "text/html": [
       "<div>\n",
       "<style scoped>\n",
       "    .dataframe tbody tr th:only-of-type {\n",
       "        vertical-align: middle;\n",
       "    }\n",
       "\n",
       "    .dataframe tbody tr th {\n",
       "        vertical-align: top;\n",
       "    }\n",
       "\n",
       "    .dataframe thead th {\n",
       "        text-align: right;\n",
       "    }\n",
       "</style>\n",
       "<table border=\"1\" class=\"dataframe\">\n",
       "  <thead>\n",
       "    <tr style=\"text-align: right;\">\n",
       "      <th></th>\n",
       "      <th>transactionid</th>\n",
       "      <th>visitorid</th>\n",
       "      <th>date</th>\n",
       "      <th>revenue</th>\n",
       "      <th>group</th>\n",
       "    </tr>\n",
       "  </thead>\n",
       "  <tbody>\n",
       "    <tr>\n",
       "      <th>count</th>\n",
       "      <td>1.197000e+03</td>\n",
       "      <td>1.197000e+03</td>\n",
       "      <td>1197</td>\n",
       "      <td>1197.000000</td>\n",
       "      <td>1197</td>\n",
       "    </tr>\n",
       "    <tr>\n",
       "      <th>unique</th>\n",
       "      <td>NaN</td>\n",
       "      <td>NaN</td>\n",
       "      <td>31</td>\n",
       "      <td>NaN</td>\n",
       "      <td>2</td>\n",
       "    </tr>\n",
       "    <tr>\n",
       "      <th>top</th>\n",
       "      <td>NaN</td>\n",
       "      <td>NaN</td>\n",
       "      <td>2019-08-05 00:00:00</td>\n",
       "      <td>NaN</td>\n",
       "      <td>B</td>\n",
       "    </tr>\n",
       "    <tr>\n",
       "      <th>freq</th>\n",
       "      <td>NaN</td>\n",
       "      <td>NaN</td>\n",
       "      <td>48</td>\n",
       "      <td>NaN</td>\n",
       "      <td>640</td>\n",
       "    </tr>\n",
       "    <tr>\n",
       "      <th>first</th>\n",
       "      <td>NaN</td>\n",
       "      <td>NaN</td>\n",
       "      <td>2019-08-01 00:00:00</td>\n",
       "      <td>NaN</td>\n",
       "      <td>NaN</td>\n",
       "    </tr>\n",
       "    <tr>\n",
       "      <th>last</th>\n",
       "      <td>NaN</td>\n",
       "      <td>NaN</td>\n",
       "      <td>2019-08-31 00:00:00</td>\n",
       "      <td>NaN</td>\n",
       "      <td>NaN</td>\n",
       "    </tr>\n",
       "    <tr>\n",
       "      <th>mean</th>\n",
       "      <td>2.155621e+09</td>\n",
       "      <td>2.165960e+09</td>\n",
       "      <td>NaN</td>\n",
       "      <td>131.491646</td>\n",
       "      <td>NaN</td>\n",
       "    </tr>\n",
       "    <tr>\n",
       "      <th>std</th>\n",
       "      <td>1.229085e+09</td>\n",
       "      <td>1.236014e+09</td>\n",
       "      <td>NaN</td>\n",
       "      <td>603.004729</td>\n",
       "      <td>NaN</td>\n",
       "    </tr>\n",
       "    <tr>\n",
       "      <th>min</th>\n",
       "      <td>1.062393e+06</td>\n",
       "      <td>5.114589e+06</td>\n",
       "      <td>NaN</td>\n",
       "      <td>5.000000</td>\n",
       "      <td>NaN</td>\n",
       "    </tr>\n",
       "    <tr>\n",
       "      <th>25%</th>\n",
       "      <td>1.166776e+09</td>\n",
       "      <td>1.111826e+09</td>\n",
       "      <td>NaN</td>\n",
       "      <td>20.800000</td>\n",
       "      <td>NaN</td>\n",
       "    </tr>\n",
       "    <tr>\n",
       "      <th>50%</th>\n",
       "      <td>2.145194e+09</td>\n",
       "      <td>2.217985e+09</td>\n",
       "      <td>NaN</td>\n",
       "      <td>50.200000</td>\n",
       "      <td>NaN</td>\n",
       "    </tr>\n",
       "    <tr>\n",
       "      <th>75%</th>\n",
       "      <td>3.237740e+09</td>\n",
       "      <td>3.177606e+09</td>\n",
       "      <td>NaN</td>\n",
       "      <td>130.400000</td>\n",
       "      <td>NaN</td>\n",
       "    </tr>\n",
       "    <tr>\n",
       "      <th>max</th>\n",
       "      <td>4.293856e+09</td>\n",
       "      <td>4.283872e+09</td>\n",
       "      <td>NaN</td>\n",
       "      <td>19920.400000</td>\n",
       "      <td>NaN</td>\n",
       "    </tr>\n",
       "  </tbody>\n",
       "</table>\n",
       "</div>"
      ],
      "text/plain": [
       "        transactionid     visitorid                 date       revenue group\n",
       "count    1.197000e+03  1.197000e+03                 1197   1197.000000  1197\n",
       "unique            NaN           NaN                   31           NaN     2\n",
       "top               NaN           NaN  2019-08-05 00:00:00           NaN     B\n",
       "freq              NaN           NaN                   48           NaN   640\n",
       "first             NaN           NaN  2019-08-01 00:00:00           NaN   NaN\n",
       "last              NaN           NaN  2019-08-31 00:00:00           NaN   NaN\n",
       "mean     2.155621e+09  2.165960e+09                  NaN    131.491646   NaN\n",
       "std      1.229085e+09  1.236014e+09                  NaN    603.004729   NaN\n",
       "min      1.062393e+06  5.114589e+06                  NaN      5.000000   NaN\n",
       "25%      1.166776e+09  1.111826e+09                  NaN     20.800000   NaN\n",
       "50%      2.145194e+09  2.217985e+09                  NaN     50.200000   NaN\n",
       "75%      3.237740e+09  3.177606e+09                  NaN    130.400000   NaN\n",
       "max      4.293856e+09  4.283872e+09                  NaN  19920.400000   NaN"
      ]
     },
     "execution_count": 15,
     "metadata": {},
     "output_type": "execute_result"
    }
   ],
   "source": [
    "orders.describe(include='all')"
   ]
  },
  {
   "cell_type": "markdown",
   "metadata": {},
   "source": [
    "Let's check where there are users that are in both groups A and B and remove them from our data, as we can consider that users not elligable to take in account in the A/B test"
   ]
  },
  {
   "cell_type": "code",
   "execution_count": 16,
   "metadata": {},
   "outputs": [],
   "source": [
    "group_counts=orders.groupby('visitorid').agg({'group':'nunique'})\n",
    "to_include=group_counts[group_counts['group']==1]"
   ]
  },
  {
   "cell_type": "code",
   "execution_count": 17,
   "metadata": {},
   "outputs": [
    {
     "data": {
      "text/html": [
       "<div>\n",
       "<style scoped>\n",
       "    .dataframe tbody tr th:only-of-type {\n",
       "        vertical-align: middle;\n",
       "    }\n",
       "\n",
       "    .dataframe tbody tr th {\n",
       "        vertical-align: top;\n",
       "    }\n",
       "\n",
       "    .dataframe thead th {\n",
       "        text-align: right;\n",
       "    }\n",
       "</style>\n",
       "<table border=\"1\" class=\"dataframe\">\n",
       "  <thead>\n",
       "    <tr style=\"text-align: right;\">\n",
       "      <th></th>\n",
       "      <th>transactionid</th>\n",
       "      <th>visitorid</th>\n",
       "      <th>date</th>\n",
       "      <th>revenue</th>\n",
       "      <th>group</th>\n",
       "    </tr>\n",
       "  </thead>\n",
       "  <tbody>\n",
       "    <tr>\n",
       "      <th>0</th>\n",
       "      <td>3667963787</td>\n",
       "      <td>3312258926</td>\n",
       "      <td>2019-08-15</td>\n",
       "      <td>30.4</td>\n",
       "      <td>B</td>\n",
       "    </tr>\n",
       "    <tr>\n",
       "      <th>1</th>\n",
       "      <td>2804400009</td>\n",
       "      <td>3642806036</td>\n",
       "      <td>2019-08-15</td>\n",
       "      <td>15.2</td>\n",
       "      <td>B</td>\n",
       "    </tr>\n",
       "    <tr>\n",
       "      <th>3</th>\n",
       "      <td>3797467345</td>\n",
       "      <td>1196621759</td>\n",
       "      <td>2019-08-15</td>\n",
       "      <td>155.1</td>\n",
       "      <td>B</td>\n",
       "    </tr>\n",
       "    <tr>\n",
       "      <th>4</th>\n",
       "      <td>2282983706</td>\n",
       "      <td>2322279887</td>\n",
       "      <td>2019-08-15</td>\n",
       "      <td>40.5</td>\n",
       "      <td>B</td>\n",
       "    </tr>\n",
       "    <tr>\n",
       "      <th>5</th>\n",
       "      <td>182168103</td>\n",
       "      <td>935554773</td>\n",
       "      <td>2019-08-15</td>\n",
       "      <td>35.0</td>\n",
       "      <td>B</td>\n",
       "    </tr>\n",
       "  </tbody>\n",
       "</table>\n",
       "</div>"
      ],
      "text/plain": [
       "   transactionid   visitorid       date  revenue group\n",
       "0     3667963787  3312258926 2019-08-15     30.4     B\n",
       "1     2804400009  3642806036 2019-08-15     15.2     B\n",
       "3     3797467345  1196621759 2019-08-15    155.1     B\n",
       "4     2282983706  2322279887 2019-08-15     40.5     B\n",
       "5      182168103   935554773 2019-08-15     35.0     B"
      ]
     },
     "execution_count": 17,
     "metadata": {},
     "output_type": "execute_result"
    }
   ],
   "source": [
    "orders_new=orders[orders['visitorid'].isin(to_include.index)]\n",
    "orders_new.head()"
   ]
  },
  {
   "cell_type": "code",
   "execution_count": 18,
   "metadata": {},
   "outputs": [
    {
     "name": "stdout",
     "output_type": "stream",
     "text": [
      "<class 'pandas.core.frame.DataFrame'>\n",
      "Int64Index: 1016 entries, 0 to 1196\n",
      "Data columns (total 5 columns):\n",
      " #   Column         Non-Null Count  Dtype         \n",
      "---  ------         --------------  -----         \n",
      " 0   transactionid  1016 non-null   int64         \n",
      " 1   visitorid      1016 non-null   int64         \n",
      " 2   date           1016 non-null   datetime64[ns]\n",
      " 3   revenue        1016 non-null   float64       \n",
      " 4   group          1016 non-null   object        \n",
      "dtypes: datetime64[ns](1), float64(1), int64(2), object(1)\n",
      "memory usage: 47.6+ KB\n"
     ]
    }
   ],
   "source": [
    "orders_new.info()"
   ]
  },
  {
   "cell_type": "markdown",
   "metadata": {},
   "source": [
    "Now we have a data without questionable users. It is also needed to check if the division of users to 2 groups is almost equall."
   ]
  },
  {
   "cell_type": "code",
   "execution_count": 19,
   "metadata": {},
   "outputs": [
    {
     "data": {
      "text/plain": [
       "group\n",
       "A    468\n",
       "B    548\n",
       "Name: visitorid, dtype: int64"
      ]
     },
     "execution_count": 19,
     "metadata": {},
     "output_type": "execute_result"
    }
   ],
   "source": [
    "orders_new.groupby(\"group\")[\"visitorid\"].count()"
   ]
  },
  {
   "cell_type": "markdown",
   "metadata": {},
   "source": [
    "###### We have 54% of users referred to group B and 46% of users in group A"
   ]
  },
  {
   "cell_type": "code",
   "execution_count": 20,
   "metadata": {},
   "outputs": [
    {
     "data": {
      "text/html": [
       "<div>\n",
       "<style scoped>\n",
       "    .dataframe tbody tr th:only-of-type {\n",
       "        vertical-align: middle;\n",
       "    }\n",
       "\n",
       "    .dataframe tbody tr th {\n",
       "        vertical-align: top;\n",
       "    }\n",
       "\n",
       "    .dataframe thead th {\n",
       "        text-align: right;\n",
       "    }\n",
       "</style>\n",
       "<table border=\"1\" class=\"dataframe\">\n",
       "  <thead>\n",
       "    <tr style=\"text-align: right;\">\n",
       "      <th></th>\n",
       "      <th>date</th>\n",
       "      <th>group</th>\n",
       "      <th>visits</th>\n",
       "    </tr>\n",
       "  </thead>\n",
       "  <tbody>\n",
       "    <tr>\n",
       "      <th>0</th>\n",
       "      <td>2019-08-01</td>\n",
       "      <td>A</td>\n",
       "      <td>719</td>\n",
       "    </tr>\n",
       "    <tr>\n",
       "      <th>1</th>\n",
       "      <td>2019-08-02</td>\n",
       "      <td>A</td>\n",
       "      <td>619</td>\n",
       "    </tr>\n",
       "    <tr>\n",
       "      <th>2</th>\n",
       "      <td>2019-08-03</td>\n",
       "      <td>A</td>\n",
       "      <td>507</td>\n",
       "    </tr>\n",
       "    <tr>\n",
       "      <th>3</th>\n",
       "      <td>2019-08-04</td>\n",
       "      <td>A</td>\n",
       "      <td>717</td>\n",
       "    </tr>\n",
       "    <tr>\n",
       "      <th>4</th>\n",
       "      <td>2019-08-05</td>\n",
       "      <td>A</td>\n",
       "      <td>756</td>\n",
       "    </tr>\n",
       "  </tbody>\n",
       "</table>\n",
       "</div>"
      ],
      "text/plain": [
       "        date group  visits\n",
       "0 2019-08-01     A     719\n",
       "1 2019-08-02     A     619\n",
       "2 2019-08-03     A     507\n",
       "3 2019-08-04     A     717\n",
       "4 2019-08-05     A     756"
      ]
     },
     "execution_count": 20,
     "metadata": {},
     "output_type": "execute_result"
    }
   ],
   "source": [
    "visits['date']=pd.to_datetime(visits['date'],dayfirst=True)\n",
    "visits.head()"
   ]
  },
  {
   "cell_type": "markdown",
   "metadata": {},
   "source": [
    "### Graph cumulative revenue by group. Make conclusions and conjectures."
   ]
  },
  {
   "cell_type": "code",
   "execution_count": 21,
   "metadata": {},
   "outputs": [
    {
     "name": "stdout",
     "output_type": "stream",
     "text": [
      "        date group  orders  buyers  revenue  visitors\n",
      "0 2019-08-01     A      23      19   2266.6       719\n",
      "1 2019-08-01     B      17      17    967.2       713\n",
      "2 2019-08-02     A      42      36   3734.9      1338\n",
      "3 2019-08-02     B      40      39   3535.3      1294\n",
      "4 2019-08-03     A      66      60   5550.1      1845\n",
      "5 2019-08-03     B      54      53   4606.9      1803\n",
      "6 2019-08-04     A      77      71   6225.6      2562\n",
      "7 2019-08-04     B      68      66   6138.5      2573\n",
      "8 2019-08-05     A      99      92   7623.6      3318\n",
      "9 2019-08-05     B      89      87   7587.8      3280\n"
     ]
    }
   ],
   "source": [
    "datesGroups = orders_new[['date','group']].drop_duplicates()\n",
    "\n",
    "ordersAggregated = datesGroups.apply(lambda x: orders_new[np.logical_and(orders_new['date'] <= x['date'], orders_new['group'] == x['group'])].agg({'date' : 'max', 'group' : 'max', 'transactionid' : pd.Series.nunique, 'visitorid' : pd.Series.nunique, 'revenue' : 'sum'}), axis=1).sort_values(by=['date','group'])\n",
    " \n",
    "visitorsAggregated = datesGroups.apply(lambda x: visits[np.logical_and(visits['date'] <= x['date'], visits['group'] == x['group'])].agg({'date' : 'max', 'group' : 'max', 'visits' : 'sum'}), axis=1).sort_values(by=['date','group'])\n",
    "\n",
    "cumulativeData = ordersAggregated.merge(visitorsAggregated, left_on=['date', 'group'], right_on=['date', 'group'])\n",
    "cumulativeData.columns = ['date', 'group', 'orders', 'buyers', 'revenue', 'visitors']\n",
    "\n",
    "\n",
    "print(cumulativeData.head(10))"
   ]
  },
  {
   "cell_type": "code",
   "execution_count": 22,
   "metadata": {},
   "outputs": [
    {
     "data": {
      "image/png": "[encoded data removed]",
      "text/plain": [
       "<Figure size 1080x504 with 1 Axes>"
      ]
     },
     "metadata": {
      "needs_background": "light"
     },
     "output_type": "display_data"
    }
   ],
   "source": [
    "cumulativeRevenueA = cumulativeData[cumulativeData['group']=='A'][['date','revenue', 'orders']]\n",
    "\n",
    "cumulativeRevenueB = cumulativeData[cumulativeData['group']=='B'][['date','revenue', 'orders']]\n",
    "fig, ax = plt.subplots(figsize=(15,7))\n",
    "plt.title(\"Cumulative Revenue by Group\")\n",
    "plt.plot(cumulativeRevenueA['date'], cumulativeRevenueA['revenue'], label='A')\n",
    "\n",
    "plt.plot(cumulativeRevenueB['date'], cumulativeRevenueB['revenue'], label='B')\n",
    "plt.ylabel('Revenue')\n",
    "plt.xlabel('Date')\n",
    "plt.legend()\n",
    "plt.grid()\n",
    "plt.show();"
   ]
  },
  {
   "cell_type": "markdown",
   "metadata": {},
   "source": [
    "Revenue is rising steadily throughout the whole test for both groups. Seems that for A the graph more flat. The B has peaks, maybe we have  the presence of outliers orders in the sample. "
   ]
  },
  {
   "cell_type": "markdown",
   "metadata": {},
   "source": [
    "### Graph cumulative average order size by group. Make conclusions and conjectures."
   ]
  },
  {
   "cell_type": "code",
   "execution_count": 23,
   "metadata": {},
   "outputs": [
    {
     "data": {
      "image/png": "[encoded data removed]",
      "text/plain": [
       "<Figure size 1080x504 with 1 Axes>"
      ]
     },
     "metadata": {
      "needs_background": "light"
     },
     "output_type": "display_data"
    }
   ],
   "source": [
    "fig, ax = plt.subplots(figsize=(15,7))\n",
    "plt.title(\"Average purchase size by Group\")\n",
    "plt.plot(cumulativeRevenueA['date'], cumulativeRevenueA['revenue']/cumulativeRevenueA['orders'], label='A')\n",
    "plt.plot(cumulativeRevenueB['date'], cumulativeRevenueB['revenue']/cumulativeRevenueB['orders'], label='B')\n",
    "plt.grid()\n",
    "plt.legend();"
   ]
  },
  {
   "cell_type": "markdown",
   "metadata": {},
   "source": [
    "Average purchase size doesn't become steady by the end of the test: it stabilizes for group A and has a peak for group B and then falling again. The surge in group B in the last part half of the test may have been due to the presence of large, expensive orders. For the A group the average size of purchases remain the same at the end of the test."
   ]
  },
  {
   "cell_type": "markdown",
   "metadata": {},
   "source": [
    "### Graph the relative difference in cumulative average order size for group B compared with group A. Make conclusions and conjectures."
   ]
  },
  {
   "cell_type": "code",
   "execution_count": 24,
   "metadata": {},
   "outputs": [
    {
     "data": {
      "image/png": "[encoded data removed]",
      "text/plain": [
       "<Figure size 936x360 with 1 Axes>"
      ]
     },
     "metadata": {
      "needs_background": "light"
     },
     "output_type": "display_data"
    }
   ],
   "source": [
    "fig, ax = plt.subplots(figsize=(13,5))\n",
    "plt.title(\"Relative difference in cumulative average order size\")\n",
    "\n",
    "mergedCumulativeRevenue = cumulativeRevenueA.merge(cumulativeRevenueB, left_on='date', right_on='date', how='left', suffixes=['A', 'B'])\n",
    "\n",
    "plt.plot(mergedCumulativeRevenue['date'], (mergedCumulativeRevenue['revenueB']/mergedCumulativeRevenue['ordersB'])/(mergedCumulativeRevenue['revenueA']/mergedCumulativeRevenue['ordersA'])-1)\n",
    "plt.grid()\n",
    "plt.axhline(y=0, color='black', linestyle='--');"
   ]
  },
  {
   "cell_type": "markdown",
   "metadata": {},
   "source": [
    "The graph is not steady and at several points the difference between the segments spikes. This means there must be some big orders and outliers in the data."
   ]
  },
  {
   "cell_type": "markdown",
   "metadata": {},
   "source": [
    "### Calculate each group's conversion rate as the ratio of orders to the number of visits for each day. Plot the daily conversion rates of the two groups and describe the difference. Draw conclusions and make conjectures."
   ]
  },
  {
   "cell_type": "code",
   "execution_count": 25,
   "metadata": {},
   "outputs": [
    {
     "data": {
      "image/png": "[encoded data removed]",
      "text/plain": [
       "<Figure size 1080x504 with 1 Axes>"
      ]
     },
     "metadata": {
      "needs_background": "light"
     },
     "output_type": "display_data"
    }
   ],
   "source": [
    "cumulativeData['conversion'] = cumulativeData['orders']/cumulativeData['visitors']\n",
    "\n",
    "cumulativeDataA = cumulativeData[cumulativeData['group']=='A']\n",
    "\n",
    "cumulativeDataB = cumulativeData[cumulativeData['group']=='B']\n",
    "\n",
    "fig, ax = plt.subplots(figsize=(15,7))\n",
    "plt.title(\"Group's conversion rate \")\n",
    "\n",
    "plt.plot(cumulativeDataA['date'], cumulativeDataA['conversion'], label='A')\n",
    "plt.plot(cumulativeDataB['date'], cumulativeDataB['conversion'], label='B')\n",
    "plt.legend()\n",
    "plt.show();"
   ]
  },
  {
   "cell_type": "markdown",
   "metadata": {},
   "source": [
    "The convertion for B group is higher than for A group. It has a drop on 08.05 , but than a great rise and kept on the 0.34-0.35 point. As for group A, the situation is worse analysing the situation with conversion. We see the same trend of ups and downs for 2 groups in terms of conversion, but we have less buyers for the A group than for the B group"
   ]
  },
  {
   "cell_type": "code",
   "execution_count": 26,
   "metadata": {},
   "outputs": [],
   "source": [
    "cumulativeDataA = cumulativeData[cumulativeData['group']=='A']\n",
    "\n",
    "cumulativeDataB = cumulativeData[cumulativeData['group']=='B']"
   ]
  },
  {
   "cell_type": "code",
   "execution_count": 27,
   "metadata": {},
   "outputs": [
    {
     "name": "stderr",
     "output_type": "stream",
     "text": [
      "/tmp/ipykernel_141/2760587266.py:1: SettingWithCopyWarning: \n",
      "A value is trying to be set on a copy of a slice from a DataFrame.\n",
      "Try using .loc[row_indexer,col_indexer] = value instead\n",
      "\n",
      "See the caveats in the documentation: https://pandas.pydata.org/pandas-docs/stable/user_guide/indexing.html#returning-a-view-versus-a-copy\n",
      "  cumulativeDataA['conversion']=cumulativeDataA['orders']/cumulativeDataA['visitors']\n"
     ]
    },
    {
     "data": {
      "text/plain": [
       "0.025711882734590893"
      ]
     },
     "execution_count": 27,
     "metadata": {},
     "output_type": "execute_result"
    }
   ],
   "source": [
    "cumulativeDataA['conversion']=cumulativeDataA['orders']/cumulativeDataA['visitors']\n",
    "cumulativeDataA['conversion'].median()"
   ]
  },
  {
   "cell_type": "code",
   "execution_count": 28,
   "metadata": {},
   "outputs": [
    {
     "name": "stderr",
     "output_type": "stream",
     "text": [
      "/tmp/ipykernel_141/1985249819.py:1: SettingWithCopyWarning: \n",
      "A value is trying to be set on a copy of a slice from a DataFrame.\n",
      "Try using .loc[row_indexer,col_indexer] = value instead\n",
      "\n",
      "See the caveats in the documentation: https://pandas.pydata.org/pandas-docs/stable/user_guide/indexing.html#returning-a-view-versus-a-copy\n",
      "  cumulativeDataB['conversion']=cumulativeDataB['orders']/cumulativeDataB['visitors']\n"
     ]
    },
    {
     "data": {
      "text/plain": [
       "0.02951685567811092"
      ]
     },
     "execution_count": 28,
     "metadata": {},
     "output_type": "execute_result"
    }
   ],
   "source": [
    "cumulativeDataB['conversion']=cumulativeDataB['orders']/cumulativeDataB['visitors']\n",
    "cumulativeDataB['conversion'].median()"
   ]
  },
  {
   "cell_type": "markdown",
   "metadata": {},
   "source": [
    "The median conversion for B group is higher than for group A."
   ]
  },
  {
   "cell_type": "code",
   "execution_count": 45,
   "metadata": {},
   "outputs": [
    {
     "data": {
      "image/png": "[encoded data removed]",
      "text/plain": [
       "<Figure size 432x288 with 1 Axes>"
      ]
     },
     "metadata": {
      "needs_background": "light"
     },
     "output_type": "display_data"
    }
   ],
   "source": [
    "mergedCumulativeConversions = cumulativeDataA[['date','conversion']].merge(cumulativeDataB[['date','conversion']], left_on='date', right_on='date', how='left', suffixes=['A', 'B'])\n",
    "\n",
    "plt.plot(mergedCumulativeConversions['date'], mergedCumulativeConversions['conversionB']/mergedCumulativeConversions['conversionA']-1)\n",
    "plt.title(\"Relative difference in cumulative conversion rates\")\n",
    "plt.axhline(y=0, color='black', linestyle='--')\n",
    "plt.axhline(y=-0.1, color='grey', linestyle='--')\n",
    "plt.xticks(rotation=45)\n",
    "plt.show()"
   ]
  },
  {
   "cell_type": "markdown",
   "metadata": {},
   "source": [
    "At the beginning of the test, group B was worse, but then it rised and took the lead. \n",
    "In general, the conversion ratio in the end looks more stable and the cumulative conversion rate for group B is higher."
   ]
  },
  {
   "cell_type": "markdown",
   "metadata": {},
   "source": [
    "### Scatter chart of the number of orders per user"
   ]
  },
  {
   "cell_type": "code",
   "execution_count": 30,
   "metadata": {},
   "outputs": [
    {
     "name": "stdout",
     "output_type": "stream",
     "text": [
      "         userId  orders\n",
      "908  3967698036       3\n",
      "55    249864742       3\n",
      "478  2108163459       3\n",
      "687  2988190573       3\n",
      "890  3908431265       3\n",
      "138   611059232       3\n",
      "632  2742574263       3\n",
      "157   678354126       2\n",
      "323  1404560065       2\n",
      "452  1985475298       2\n"
     ]
    },
    {
     "data": {
      "image/png": "[encoded data removed]",
      "text/plain": [
       "<Figure size 720x504 with 1 Axes>"
      ]
     },
     "metadata": {
      "needs_background": "light"
     },
     "output_type": "display_data"
    }
   ],
   "source": [
    "ordersByUsers = (\n",
    "    orders_new.drop(['group', 'revenue', 'date'], axis=1)\n",
    "    .groupby('visitorid', as_index=False)\n",
    "    .agg({'transactionid': pd.Series.nunique})\n",
    ")\n",
    "\n",
    "ordersByUsers.columns = ['userId', 'orders']\n",
    "print(ordersByUsers.sort_values(by='orders', ascending=False).head(10))\n",
    "x_values = pd.Series(range(0,len(ordersByUsers)))\n",
    "fig, ax = plt.subplots(figsize=(10,7))\n",
    "plt.title(\"Number of orders per user\")\n",
    "plt.ylabel('Number of orders')\n",
    "plt.xlabel('Number of users')\n",
    "plt.scatter(x_values, ordersByUsers['orders']);"
   ]
  },
  {
   "cell_type": "markdown",
   "metadata": {},
   "source": [
    "If you look at this graph, you will notice that the mostly users have only 1 purchase, recently 2 purchases for 1 user, the 3 looks like the outlier here."
   ]
  },
  {
   "cell_type": "markdown",
   "metadata": {},
   "source": [
    "#### Calculating the 95th and 99th percentiles for the number of orders per user. "
   ]
  },
  {
   "cell_type": "code",
   "execution_count": 31,
   "metadata": {},
   "outputs": [
    {
     "name": "stdout",
     "output_type": "stream",
     "text": [
      "[1. 2.]\n"
     ]
    }
   ],
   "source": [
    "print(np.percentile(ordersByUsers['orders'], [95, 99])) "
   ]
  },
  {
   "cell_type": "markdown",
   "metadata": {},
   "source": [
    " The scatter shows the information about the average number of orders per users. Overall we see that 1 or 2 orders are more common among buyers, as we calculating the 95th and 99th percentiles we can define that no more that 5% makes more than 2 orders and no more than 1% makes more than 4 orders. At the point of 3 orders per user the data becomes anomaly."
   ]
  },
  {
   "cell_type": "markdown",
   "metadata": {},
   "source": [
    "### A scatter chart of order prices. "
   ]
  },
  {
   "cell_type": "code",
   "execution_count": 32,
   "metadata": {},
   "outputs": [
    {
     "data": {
      "image/png": "[encoded data removed]",
      "text/plain": [
       "<Figure size 432x288 with 1 Axes>"
      ]
     },
     "metadata": {
      "needs_background": "light"
     },
     "output_type": "display_data"
    }
   ],
   "source": [
    "x_values = pd.Series(range(0, len(orders_new['revenue'])))\n",
    "plt.scatter(x_values, orders_new['revenue'])\n",
    "plt.title('Order prices');"
   ]
  },
  {
   "cell_type": "markdown",
   "metadata": {},
   "source": [
    "#### Calculating the 95th and 99th percentiles for the number of orders per user."
   ]
  },
  {
   "cell_type": "code",
   "execution_count": 33,
   "metadata": {},
   "outputs": [
    {
     "name": "stdout",
     "output_type": "stream",
     "text": [
      "[435.54  900.904]\n"
     ]
    }
   ],
   "source": [
    "print(np.percentile(orders['revenue'], [95, 99])) "
   ]
  },
  {
   "cell_type": "markdown",
   "metadata": {},
   "source": [
    "The scatter chart shows us that there are outliers in the size of perchases. No more than 5% of users buy more than for 435.54, no more than 1% buys more than 900. But we see some orders with the price of 20 000 and 2500."
   ]
  },
  {
   "cell_type": "markdown",
   "metadata": {},
   "source": [
    "### The statistical significance of the difference in conversion between the groups using the raw data. "
   ]
  },
  {
   "cell_type": "code",
   "execution_count": 34,
   "metadata": {},
   "outputs": [
    {
     "name": "stdout",
     "output_type": "stream",
     "text": [
      "0.01102\n",
      "0.160\n"
     ]
    }
   ],
   "source": [
    "ordersByUsersA = orders_new[orders_new['group']=='A'].groupby('visitorid', as_index=False).agg({'transactionid' : pd.Series.nunique})\n",
    "ordersByUsersA.columns = ['userId', 'orders']\n",
    "\n",
    "ordersByUsersB = orders_new[orders_new['group']=='B'].groupby('visitorid', as_index=False).agg({'transactionid' : pd.Series.nunique})\n",
    "ordersByUsersB.columns = ['userId', 'orders'] \n",
    "\n",
    "sampleA = pd.concat([ordersByUsersA['orders'],pd.Series(0, index=np.arange(visits[visits['group']=='A']['visits'].sum() - len(ordersByUsersA['orders'])), name='orders')],axis=0)\n",
    "\n",
    "sampleB = pd.concat([ordersByUsersB['orders'],pd.Series(0, index=np.arange(visits[visits['group']=='B']['visits'].sum() - len(ordersByUsersB['orders'])), name='orders')],axis=0)\n",
    "\n",
    "print(\"{0:.5f}\".format(stats.mannwhitneyu(sampleA, sampleB)[1]))\n",
    "\n",
    "print(\"{0:.3f}\".format(sampleB.mean()/sampleA.mean()-1))"
   ]
  },
  {
   "cell_type": "markdown",
   "metadata": {},
   "source": [
    "The p_value is lower than 0.05, the raw data analysis shows that the groups conversion rates have statistically significant differences. The relative conversion gain for group B compared with group A is 16%"
   ]
  },
  {
   "cell_type": "markdown",
   "metadata": {},
   "source": [
    "### The statistical significance of the difference in average order size between the groups using the raw data. "
   ]
  },
  {
   "cell_type": "code",
   "execution_count": 35,
   "metadata": {},
   "outputs": [
    {
     "name": "stdout",
     "output_type": "stream",
     "text": [
      "0.862\n",
      "0.252\n"
     ]
    }
   ],
   "source": [
    "print('{0:.3f}'.format(stats.mannwhitneyu(orders_new[orders_new['group']=='A']['revenue'], orders_new[orders_new['group']=='B']['revenue'])[1]))\n",
    "print('{0:.3f}'.format(orders[orders['group']=='B']['revenue'].mean()/orders[orders['group']=='A']['revenue'].mean()-1))"
   ]
  },
  {
   "cell_type": "markdown",
   "metadata": {},
   "source": [
    "The p_value is higher than 0.05, the raw data analysis shows that the groups average revenue don't have statistically significant differences. The relative difference between 2 groups is only 2,5%"
   ]
  },
  {
   "cell_type": "markdown",
   "metadata": {},
   "source": [
    "Now let's remove anomalies from our orders data.\n",
    "We'll consider anomalous users those who made three or more orders or placed one for more than 800, because only 1-5% made the orders more expensive than 600 and only 1% made 4 or more orders per user."
   ]
  },
  {
   "cell_type": "code",
   "execution_count": 36,
   "metadata": {},
   "outputs": [
    {
     "name": "stdout",
     "output_type": "stream",
     "text": [
      "1099    148427295\n",
      "33      249864742\n",
      "684     358944393\n",
      "648     382846391\n",
      "58      611059232\n",
      "dtype: int64\n"
     ]
    }
   ],
   "source": [
    "ordersByUsersA = (\n",
    "    orders_new[orders_new['group'] == 'A']\n",
    "    .groupby('visitorid', as_index=False)\n",
    "    .agg({'transactionid': pd.Series.nunique})\n",
    ")\n",
    "ordersByUsersA.columns = ['userId', 'orders']\n",
    "\n",
    "ordersByUsersB = (\n",
    "    orders_new[orders_new['group'] == 'B']\n",
    "    .groupby('visitorid', as_index=False)\n",
    "    .agg({'transactionid': pd.Series.nunique})\n",
    ")\n",
    "ordersByUsersB.columns = ['userId', 'orders']\n",
    "usersWithManyOrders = pd.concat([ordersByUsersA[ordersByUsersA['orders'] > 2]['userId'], ordersByUsersB[ordersByUsersB['orders'] > 2]['userId']], axis = 0)\n",
    "usersWithExpensiveOrders = orders[orders['revenue'] > 600]['visitorid']\n",
    "abnormalUsers = pd.concat([usersWithManyOrders, usersWithExpensiveOrders], axis = 0).drop_duplicates().sort_values()\n",
    "print(abnormalUsers.head(5))"
   ]
  },
  {
   "cell_type": "markdown",
   "metadata": {},
   "source": [
    "Now as we have the abnormal quantity and order prices , it is easy to remove the anomalies and filter the data."
   ]
  },
  {
   "cell_type": "code",
   "execution_count": 37,
   "metadata": {},
   "outputs": [],
   "source": [
    "sampleAFiltered = pd.concat([ordersByUsersA[np.logical_not(ordersByUsersA['userId'].isin(abnormalUsers))]['orders'],pd.Series(0, index=np.arange(visits[visits['group']=='A']['visits'].sum() - len(ordersByUsersA['orders'])),name='orders')],axis=0)\n",
    "\n",
    "sampleBFiltered = pd.concat([ordersByUsersB[np.logical_not(ordersByUsersB['userId'].isin(abnormalUsers))]['orders'],pd.Series(0, index=np.arange(visits[visits['group']=='B']['visits'].sum() - len(ordersByUsersB['orders'])),name='orders')],axis=0)"
   ]
  },
  {
   "cell_type": "code",
   "execution_count": 38,
   "metadata": {},
   "outputs": [
    {
     "name": "stdout",
     "output_type": "stream",
     "text": [
      "p-value:  0.0\n",
      "Null hypothesis rejected: the distribution is not normal\n"
     ]
    },
    {
     "name": "stderr",
     "output_type": "stream",
     "text": [
      "/opt/conda/lib/python3.9/site-packages/scipy/stats/_morestats.py:1761: UserWarning: p-value may not be accurate for N > 5000.\n",
      "  warnings.warn(\"p-value may not be accurate for N > 5000.\")\n"
     ]
    }
   ],
   "source": [
    "alpha = .05 \n",
    "\n",
    "results = stats.shapiro(sampleAFiltered)\n",
    "p_value = results[1] \n",
    "\n",
    "print('p-value: ', p_value)\n",
    "\n",
    "if (p_value < alpha):\n",
    "    print(\"Null hypothesis rejected: the distribution is not normal\")\n",
    "else:\n",
    "    print(\"Failed to reject the null hypothesis: the distribution seems to be normal\") \n"
   ]
  },
  {
   "cell_type": "code",
   "execution_count": 39,
   "metadata": {},
   "outputs": [
    {
     "name": "stdout",
     "output_type": "stream",
     "text": [
      "p-value:  0.0\n",
      "Null hypothesis rejected: the distribution is not normal\n"
     ]
    }
   ],
   "source": [
    "alpha = .05 \n",
    "\n",
    "results = stats.shapiro(sampleBFiltered)\n",
    "p_value = results[1] \n",
    "\n",
    "print('p-value: ', p_value)\n",
    "\n",
    "if (p_value < alpha):\n",
    "    print(\"Null hypothesis rejected: the distribution is not normal\")\n",
    "else:\n",
    "    print(\"Failed to reject the null hypothesis: the distribution seems to be normal\") "
   ]
  },
  {
   "cell_type": "markdown",
   "metadata": {},
   "source": [
    "Let's found out if there is a signicance difference in the conversion rates between 2 groups and in the revenue between 2 tested groups. \n",
    "Hypothesis\n",
    "H(0):  There is not a significant difference between the metrics\n",
    "H(1): There is no reason to consider the metrics are the same"
   ]
  },
  {
   "cell_type": "code",
   "execution_count": 40,
   "metadata": {},
   "outputs": [
    {
     "name": "stdout",
     "output_type": "stream",
     "text": [
      "Rejecting the null hypothesis: there is a significant difference between the proportions\n"
     ]
    }
   ],
   "source": [
    "alpha=0.05\n",
    "p_value = stats.mannwhitneyu(sampleAFiltered, sampleBFiltered)[1]\n",
    "if (p_value < alpha):\n",
    "    print(\"Rejecting the null hypothesis: there is a significant difference between the proportions\")\n",
    "else:\n",
    "    print(\"Failed to reject the null hypothesis: there is no reason to consider the proportions different\") \n"
   ]
  },
  {
   "cell_type": "code",
   "execution_count": 41,
   "metadata": {},
   "outputs": [
    {
     "name": "stdout",
     "output_type": "stream",
     "text": [
      "0.00486\n",
      "0.203\n"
     ]
    }
   ],
   "source": [
    "print(\"{0:.5f}\".format(stats.mannwhitneyu(sampleAFiltered, sampleBFiltered)[1]))\n",
    "print(\"{0:.3f}\".format(sampleBFiltered.mean()/sampleAFiltered.mean()-1))"
   ]
  },
  {
   "cell_type": "markdown",
   "metadata": {},
   "source": [
    "Again we've reached the significance level of the difference in conversion between the groups in the filtered data, as p_value is less that 0.05. The conversion rate in the group B has a better level than in the group A "
   ]
  },
  {
   "cell_type": "code",
   "execution_count": 42,
   "metadata": {},
   "outputs": [
    {
     "name": "stdout",
     "output_type": "stream",
     "text": [
      "0.941\n",
      "0.042\n"
     ]
    }
   ],
   "source": [
    "print('{0:.3f}'.format(stats.mannwhitneyu(\n",
    "    orders_new[np.logical_and(\n",
    "        orders_new['group']=='A',\n",
    "        np.logical_not(orders_new['visitorid'].isin(abnormalUsers)))]['revenue'],\n",
    "    orders_new[np.logical_and(\n",
    "        orders_new['group']=='B',\n",
    "        np.logical_not(orders_new['visitorid'].isin(abnormalUsers)))]['revenue'])[1]))\n",
    "\n",
    "print('{0:.3f}'.format(\n",
    "    orders_new[np.logical_and(orders_new['group']=='B',np.logical_not(orders_new['visitorid'].isin(abnormalUsers)))]['revenue'].mean()/\n",
    "    orders_new[np.logical_and(\n",
    "        orders_new['group']=='A',\n",
    "        np.logical_not(orders_new['visitorid'].isin(abnormalUsers)))]['revenue'].mean() - 1))"
   ]
  },
  {
   "cell_type": "markdown",
   "metadata": {},
   "source": [
    "The p_value is higher than 0.05, the filtered data analysis points that the groups average revenue don't have statistically significant differences. The relative difference between 2 groups is only 0,4%"
   ]
  },
  {
   "cell_type": "markdown",
   "metadata": {},
   "source": [
    "I used that test because the sample size is not big, it is also used to compare differences between two independent groups when the dependent variable is not normally distributed, I made the additional test to understand the distribution and the distribution is not normal."
   ]
  },
  {
   "cell_type": "markdown",
   "metadata": {},
   "source": [
    "# A / B test CONCLUSIONS"
   ]
  },
  {
   "cell_type": "markdown",
   "metadata": {},
   "source": [
    "> # Analyzing the results of A/b testing in **online store**\n",
    ">\n",
    "> - Went through 3 datasets (visits, orders and  hypotheses). Changed data types in the dates data to appropriate view. Deleted the users  who suddenly fell into 2 groups\n",
    "> - We observe that there are some outliers in raw data, concerning the purchase size and the number of purchases per users.  There's a statistically significant difference in conversion between the groups, according to both the raw and the filtered data.\n",
    "The raw data didn't show a statistically significant difference between the groups in terms of average purchase size. After the anomalies were removed, it turned out there wasn't a statistically significant difference too.\n",
    "> - The graph of the difference in **conversion** between the groups shows that group B's results are better than those of group A: they have a tendency to grow or have stabilized around the mean.The graph of the difference in average purchase size shows fluctuations: it was this graph that allowedus to detect anomalies. \n",
    ">  Overall **B group** shows  **the better** results in the A/B test.\n",
    "\n",
    "**My decision according to the analysis of test results: 1. Stop the test, consider B as the leader, because there conversion at that group is better, there is a bigger share of users that buy and not just visiting the site and this metrics reached the statistical significant level** "
   ]
  }
 ],
 "metadata": {
  "ExecuteTimeLog": [
   {
    "duration": 1245,
    "start_time": "2022-01-21T16:06:56.528Z"
   },
   {
    "duration": 3,
    "start_time": "2022-01-21T16:07:04.676Z"
   },
   {
    "duration": 20,
    "start_time": "2022-01-21T16:08:16.626Z"
   },
   {
    "duration": 35,
    "start_time": "2022-01-21T16:12:37.065Z"
   },
   {
    "duration": 44,
    "start_time": "2022-01-21T16:14:35.157Z"
   },
   {
    "duration": 47,
    "start_time": "2022-01-21T16:14:44.293Z"
   },
   {
    "duration": 7,
    "start_time": "2022-01-21T16:17:27.894Z"
   },
   {
    "duration": 16,
    "start_time": "2022-01-21T16:17:39.090Z"
   },
   {
    "duration": 16,
    "start_time": "2022-01-21T16:18:58.751Z"
   },
   {
    "duration": 25,
    "start_time": "2022-01-21T16:21:24.225Z"
   },
   {
    "duration": 14,
    "start_time": "2022-01-21T16:22:14.673Z"
   },
   {
    "duration": 11125,
    "start_time": "2022-01-21T16:27:14.876Z"
   },
   {
    "duration": 27,
    "start_time": "2022-01-21T16:30:00.628Z"
   },
   {
    "duration": 5,
    "start_time": "2022-01-21T16:30:35.048Z"
   },
   {
    "duration": 9289,
    "start_time": "2022-01-21T16:30:47.837Z"
   },
   {
    "duration": 370,
    "start_time": "2022-01-21T16:31:09.382Z"
   },
   {
    "duration": 11,
    "start_time": "2022-01-21T16:31:18.967Z"
   },
   {
    "duration": 8821,
    "start_time": "2022-01-21T16:33:45.611Z"
   },
   {
    "duration": 13,
    "start_time": "2022-01-21T16:34:01.975Z"
   },
   {
    "duration": 54,
    "start_time": "2022-01-21T16:36:49.145Z"
   },
   {
    "duration": 15,
    "start_time": "2022-01-21T16:38:25.211Z"
   },
   {
    "duration": 110,
    "start_time": "2022-01-21T16:39:38.948Z"
   },
   {
    "duration": 130,
    "start_time": "2022-01-21T16:41:35.948Z"
   },
   {
    "duration": 356,
    "start_time": "2022-01-21T16:41:51.212Z"
   },
   {
    "duration": 61,
    "start_time": "2022-01-21T16:42:00.046Z"
   },
   {
    "duration": 50,
    "start_time": "2022-01-21T16:42:25.342Z"
   },
   {
    "duration": 390,
    "start_time": "2022-01-21T16:48:25.523Z"
   },
   {
    "duration": 487,
    "start_time": "2022-01-21T16:49:02.246Z"
   },
   {
    "duration": 1182,
    "start_time": "2022-01-21T16:49:10.567Z"
   },
   {
    "duration": 330,
    "start_time": "2022-01-23T18:00:14.795Z"
   },
   {
    "duration": 1088,
    "start_time": "2022-01-23T18:00:18.796Z"
   },
   {
    "duration": 34,
    "start_time": "2022-01-23T18:00:19.886Z"
   },
   {
    "duration": 334,
    "start_time": "2022-01-23T18:00:19.923Z"
   },
   {
    "duration": -23531,
    "start_time": "2022-01-23T18:00:43.789Z"
   },
   {
    "duration": -23532,
    "start_time": "2022-01-23T18:00:43.792Z"
   },
   {
    "duration": 46,
    "start_time": "2022-01-23T18:00:20.286Z"
   },
   {
    "duration": 23,
    "start_time": "2022-01-23T18:00:20.511Z"
   },
   {
    "duration": 12,
    "start_time": "2022-01-23T18:00:20.722Z"
   },
   {
    "duration": 103,
    "start_time": "2022-01-23T18:00:21.145Z"
   },
   {
    "duration": 818,
    "start_time": "2022-01-23T18:00:22.065Z"
   },
   {
    "duration": 86,
    "start_time": "2022-01-23T18:01:20.975Z"
   },
   {
    "duration": 308,
    "start_time": "2022-01-23T18:02:46.269Z"
   },
   {
    "duration": 284,
    "start_time": "2022-01-23T18:02:55.910Z"
   },
   {
    "duration": 3,
    "start_time": "2022-01-23T18:03:07.141Z"
   },
   {
    "duration": 21,
    "start_time": "2022-01-23T18:03:07.414Z"
   },
   {
    "duration": 6,
    "start_time": "2022-01-23T18:03:07.589Z"
   },
   {
    "duration": 12,
    "start_time": "2022-01-23T18:03:07.765Z"
   },
   {
    "duration": 8,
    "start_time": "2022-01-23T18:03:08.158Z"
   },
   {
    "duration": 44,
    "start_time": "2022-01-23T18:03:08.535Z"
   },
   {
    "duration": 22,
    "start_time": "2022-01-23T18:03:08.719Z"
   },
   {
    "duration": 11,
    "start_time": "2022-01-23T18:03:08.918Z"
   },
   {
    "duration": 301,
    "start_time": "2022-01-23T18:03:09.115Z"
   },
   {
    "duration": -23413,
    "start_time": "2022-01-23T18:03:32.831Z"
   },
   {
    "duration": 22,
    "start_time": "2022-01-23T18:03:32.710Z"
   },
   {
    "duration": 11,
    "start_time": "2022-01-23T18:03:33.614Z"
   },
   {
    "duration": 4,
    "start_time": "2022-01-23T18:03:42.171Z"
   },
   {
    "duration": 20,
    "start_time": "2022-01-23T18:03:52.713Z"
   },
   {
    "duration": 320,
    "start_time": "2022-01-23T18:06:28.114Z"
   },
   {
    "duration": 288,
    "start_time": "2022-01-23T18:06:39.466Z"
   },
   {
    "duration": 338,
    "start_time": "2022-01-23T18:06:47.037Z"
   },
   {
    "duration": 10,
    "start_time": "2022-01-23T18:08:49.285Z"
   },
   {
    "duration": 6,
    "start_time": "2022-01-23T18:08:59.853Z"
   },
   {
    "duration": 323,
    "start_time": "2022-01-23T18:09:24.274Z"
   },
   {
    "duration": 297,
    "start_time": "2022-01-23T18:09:42.830Z"
   },
   {
    "duration": 294,
    "start_time": "2022-01-23T18:09:48.165Z"
   },
   {
    "duration": 390,
    "start_time": "2022-01-23T18:11:04.453Z"
   },
   {
    "duration": 290,
    "start_time": "2022-01-23T18:11:24.233Z"
   },
   {
    "duration": 259,
    "start_time": "2022-01-23T18:11:48.357Z"
   },
   {
    "duration": 194,
    "start_time": "2022-01-23T18:16:07.364Z"
   },
   {
    "duration": 286,
    "start_time": "2022-01-23T18:16:51.217Z"
   },
   {
    "duration": 6,
    "start_time": "2022-01-23T18:17:00.013Z"
   },
   {
    "duration": 266,
    "start_time": "2022-01-23T18:17:43.194Z"
   },
   {
    "duration": 273,
    "start_time": "2022-01-23T18:17:56.264Z"
   },
   {
    "duration": 7,
    "start_time": "2022-01-23T18:18:03.238Z"
   },
   {
    "duration": 7,
    "start_time": "2022-01-23T18:18:14.916Z"
   },
   {
    "duration": 23,
    "start_time": "2022-01-23T18:18:23.568Z"
   },
   {
    "duration": 253,
    "start_time": "2022-01-23T18:18:33.085Z"
   },
   {
    "duration": 289,
    "start_time": "2022-01-23T18:18:37.928Z"
   },
   {
    "duration": 28,
    "start_time": "2022-01-23T18:19:29.040Z"
   },
   {
    "duration": 289,
    "start_time": "2022-01-23T18:22:37.253Z"
   },
   {
    "duration": 381,
    "start_time": "2022-01-23T18:22:55.245Z"
   },
   {
    "duration": 249,
    "start_time": "2022-01-23T18:23:16.402Z"
   },
   {
    "duration": 263,
    "start_time": "2022-01-23T18:23:35.709Z"
   },
   {
    "duration": 314,
    "start_time": "2022-01-23T18:25:03.490Z"
   },
   {
    "duration": 296,
    "start_time": "2022-01-23T18:25:19.938Z"
   },
   {
    "duration": 288,
    "start_time": "2022-01-23T18:26:49.447Z"
   },
   {
    "duration": 481,
    "start_time": "2022-01-23T18:27:04.188Z"
   },
   {
    "duration": 268,
    "start_time": "2022-01-23T18:27:37.610Z"
   },
   {
    "duration": 290,
    "start_time": "2022-01-23T18:27:52.067Z"
   },
   {
    "duration": 33,
    "start_time": "2022-01-23T18:28:56.021Z"
   },
   {
    "duration": 488,
    "start_time": "2022-01-23T18:31:35.309Z"
   },
   {
    "duration": 389,
    "start_time": "2022-01-23T18:32:39.225Z"
   },
   {
    "duration": 401,
    "start_time": "2022-01-23T18:32:45.866Z"
   },
   {
    "duration": 8,
    "start_time": "2022-01-23T18:35:43.667Z"
   },
   {
    "duration": 1603,
    "start_time": "2022-01-23T18:35:58.375Z"
   },
   {
    "duration": 28,
    "start_time": "2022-01-23T18:35:59.980Z"
   },
   {
    "duration": 912,
    "start_time": "2022-01-23T18:36:00.011Z"
   },
   {
    "duration": -171,
    "start_time": "2022-01-23T18:36:01.097Z"
   },
   {
    "duration": -172,
    "start_time": "2022-01-23T18:36:01.099Z"
   },
   {
    "duration": -287,
    "start_time": "2022-01-23T18:36:01.215Z"
   },
   {
    "duration": -289,
    "start_time": "2022-01-23T18:36:01.218Z"
   },
   {
    "duration": -291,
    "start_time": "2022-01-23T18:36:01.221Z"
   },
   {
    "duration": -298,
    "start_time": "2022-01-23T18:36:01.229Z"
   },
   {
    "duration": -301,
    "start_time": "2022-01-23T18:36:01.233Z"
   },
   {
    "duration": -302,
    "start_time": "2022-01-23T18:36:01.235Z"
   },
   {
    "duration": -301,
    "start_time": "2022-01-23T18:36:01.236Z"
   },
   {
    "duration": 40,
    "start_time": "2022-01-23T18:37:00.820Z"
   },
   {
    "duration": 20,
    "start_time": "2022-01-23T18:37:51.748Z"
   },
   {
    "duration": 5,
    "start_time": "2022-01-23T18:37:54.736Z"
   },
   {
    "duration": 10,
    "start_time": "2022-01-23T18:37:55.842Z"
   },
   {
    "duration": 10,
    "start_time": "2022-01-23T18:37:56.222Z"
   },
   {
    "duration": 43,
    "start_time": "2022-01-23T18:37:56.530Z"
   },
   {
    "duration": 7,
    "start_time": "2022-01-23T18:37:56.727Z"
   },
   {
    "duration": 36,
    "start_time": "2022-01-23T18:37:56.891Z"
   },
   {
    "duration": 22,
    "start_time": "2022-01-23T18:37:57.070Z"
   },
   {
    "duration": 11,
    "start_time": "2022-01-23T18:37:57.263Z"
   },
   {
    "duration": 5,
    "start_time": "2022-01-23T18:44:39.828Z"
   },
   {
    "duration": 13,
    "start_time": "2022-01-23T18:45:12.342Z"
   },
   {
    "duration": 13,
    "start_time": "2022-01-23T18:45:23.137Z"
   },
   {
    "duration": 325,
    "start_time": "2022-01-23T18:46:28.410Z"
   },
   {
    "duration": 14,
    "start_time": "2022-01-23T18:46:52.019Z"
   },
   {
    "duration": 82,
    "start_time": "2022-01-23T18:48:13.894Z"
   },
   {
    "duration": 278,
    "start_time": "2022-01-23T18:48:19.777Z"
   },
   {
    "duration": 760,
    "start_time": "2022-01-23T18:48:32.468Z"
   },
   {
    "duration": 255,
    "start_time": "2022-01-23T18:49:04.336Z"
   },
   {
    "duration": 18,
    "start_time": "2022-01-23T18:51:28.495Z"
   },
   {
    "duration": 16,
    "start_time": "2022-01-23T18:51:59.250Z"
   },
   {
    "duration": 258,
    "start_time": "2022-01-23T18:52:25.257Z"
   },
   {
    "duration": 25,
    "start_time": "2022-01-23T18:54:30.177Z"
   },
   {
    "duration": 378,
    "start_time": "2022-01-23T18:54:30.481Z"
   },
   {
    "duration": 976,
    "start_time": "2022-01-23T18:54:43.111Z"
   },
   {
    "duration": 23,
    "start_time": "2022-01-23T18:54:44.089Z"
   },
   {
    "duration": 42,
    "start_time": "2022-01-23T18:54:44.114Z"
   },
   {
    "duration": 21,
    "start_time": "2022-01-23T18:54:44.158Z"
   },
   {
    "duration": 8,
    "start_time": "2022-01-23T18:54:44.181Z"
   },
   {
    "duration": 10,
    "start_time": "2022-01-23T18:54:44.191Z"
   },
   {
    "duration": 10,
    "start_time": "2022-01-23T18:54:44.203Z"
   },
   {
    "duration": 12,
    "start_time": "2022-01-23T18:54:44.216Z"
   },
   {
    "duration": 8,
    "start_time": "2022-01-23T18:54:44.230Z"
   },
   {
    "duration": 24,
    "start_time": "2022-01-23T18:54:44.240Z"
   },
   {
    "duration": 10,
    "start_time": "2022-01-23T18:54:44.299Z"
   },
   {
    "duration": 11,
    "start_time": "2022-01-23T18:54:44.311Z"
   },
   {
    "duration": 18,
    "start_time": "2022-01-23T18:54:44.324Z"
   },
   {
    "duration": 399,
    "start_time": "2022-01-23T18:54:44.344Z"
   },
   {
    "duration": 426,
    "start_time": "2022-01-23T19:41:58.586Z"
   },
   {
    "duration": 326,
    "start_time": "2022-01-23T19:42:43.068Z"
   },
   {
    "duration": 115,
    "start_time": "2022-01-23T19:43:53.396Z"
   },
   {
    "duration": 128,
    "start_time": "2022-01-23T19:44:16.404Z"
   },
   {
    "duration": 112,
    "start_time": "2022-01-23T19:44:48.120Z"
   },
   {
    "duration": 379,
    "start_time": "2022-01-23T20:01:05.282Z"
   },
   {
    "duration": 286,
    "start_time": "2022-01-23T20:06:36.883Z"
   },
   {
    "duration": 264,
    "start_time": "2022-01-23T20:06:46.029Z"
   },
   {
    "duration": 13,
    "start_time": "2022-01-23T20:07:13.755Z"
   },
   {
    "duration": 6,
    "start_time": "2022-01-23T20:08:37.101Z"
   },
   {
    "duration": 14,
    "start_time": "2022-01-23T20:08:46.371Z"
   },
   {
    "duration": 13,
    "start_time": "2022-01-23T20:08:55.115Z"
   },
   {
    "duration": 117,
    "start_time": "2022-01-23T20:09:32.521Z"
   },
   {
    "duration": 398,
    "start_time": "2022-01-23T20:14:22.274Z"
   },
   {
    "duration": 135,
    "start_time": "2022-01-23T20:14:45.028Z"
   },
   {
    "duration": 137,
    "start_time": "2022-01-23T20:15:03.784Z"
   },
   {
    "duration": 117,
    "start_time": "2022-01-23T20:15:15.106Z"
   },
   {
    "duration": 113,
    "start_time": "2022-01-23T20:15:51.760Z"
   },
   {
    "duration": 121,
    "start_time": "2022-01-23T20:16:08.342Z"
   },
   {
    "duration": 11,
    "start_time": "2022-01-23T21:06:35.765Z"
   },
   {
    "duration": 998,
    "start_time": "2022-01-23T21:06:47.568Z"
   },
   {
    "duration": 24,
    "start_time": "2022-01-23T21:06:48.568Z"
   },
   {
    "duration": 40,
    "start_time": "2022-01-23T21:06:48.594Z"
   },
   {
    "duration": 20,
    "start_time": "2022-01-23T21:06:48.636Z"
   },
   {
    "duration": 7,
    "start_time": "2022-01-23T21:06:48.658Z"
   },
   {
    "duration": 10,
    "start_time": "2022-01-23T21:06:48.667Z"
   },
   {
    "duration": 8,
    "start_time": "2022-01-23T21:06:48.679Z"
   },
   {
    "duration": 12,
    "start_time": "2022-01-23T21:06:48.690Z"
   },
   {
    "duration": 6,
    "start_time": "2022-01-23T21:06:48.704Z"
   },
   {
    "duration": 24,
    "start_time": "2022-01-23T21:06:48.712Z"
   },
   {
    "duration": 9,
    "start_time": "2022-01-23T21:06:48.737Z"
   },
   {
    "duration": 11,
    "start_time": "2022-01-23T21:06:48.748Z"
   },
   {
    "duration": 51,
    "start_time": "2022-01-23T21:06:48.760Z"
   },
   {
    "duration": 391,
    "start_time": "2022-01-23T21:06:48.813Z"
   },
   {
    "duration": 11,
    "start_time": "2022-01-23T21:06:49.206Z"
   },
   {
    "duration": 26,
    "start_time": "2022-01-23T21:06:49.220Z"
   },
   {
    "duration": 351,
    "start_time": "2022-01-23T21:06:49.247Z"
   },
   {
    "duration": 17,
    "start_time": "2022-01-23T21:18:37.460Z"
   },
   {
    "duration": 15,
    "start_time": "2022-01-23T21:23:36.742Z"
   },
   {
    "duration": 15,
    "start_time": "2022-01-23T21:23:46.335Z"
   },
   {
    "duration": 16,
    "start_time": "2022-01-23T21:28:13.418Z"
   },
   {
    "duration": 286,
    "start_time": "2022-01-23T21:29:14.950Z"
   },
   {
    "duration": 15,
    "start_time": "2022-01-23T21:29:34.311Z"
   },
   {
    "duration": 18,
    "start_time": "2022-01-23T21:31:50.723Z"
   },
   {
    "duration": 16,
    "start_time": "2022-01-23T21:32:19.556Z"
   },
   {
    "duration": 17,
    "start_time": "2022-01-23T21:33:00.540Z"
   },
   {
    "duration": 6825,
    "start_time": "2022-01-23T21:51:44.176Z"
   },
   {
    "duration": 13,
    "start_time": "2022-01-23T21:52:57.947Z"
   },
   {
    "duration": 361,
    "start_time": "2022-01-23T21:55:05.556Z"
   },
   {
    "duration": 268,
    "start_time": "2022-01-23T21:55:50.646Z"
   },
   {
    "duration": 200,
    "start_time": "2022-01-23T21:55:57.124Z"
   },
   {
    "duration": 292,
    "start_time": "2022-01-23T21:58:02.845Z"
   },
   {
    "duration": 208,
    "start_time": "2022-01-23T21:59:37.998Z"
   },
   {
    "duration": 190,
    "start_time": "2022-01-23T21:59:45.237Z"
   },
   {
    "duration": 290,
    "start_time": "2022-01-23T22:00:58.694Z"
   },
   {
    "duration": 294,
    "start_time": "2022-01-23T22:01:25.932Z"
   },
   {
    "duration": 284,
    "start_time": "2022-01-23T22:02:08.274Z"
   },
   {
    "duration": 1030,
    "start_time": "2022-01-23T22:07:29.083Z"
   },
   {
    "duration": 25,
    "start_time": "2022-01-23T22:07:30.115Z"
   },
   {
    "duration": 40,
    "start_time": "2022-01-23T22:07:30.142Z"
   },
   {
    "duration": 21,
    "start_time": "2022-01-23T22:07:30.184Z"
   },
   {
    "duration": 22,
    "start_time": "2022-01-23T22:07:30.207Z"
   },
   {
    "duration": 15,
    "start_time": "2022-01-23T22:07:30.231Z"
   },
   {
    "duration": 8,
    "start_time": "2022-01-23T22:07:30.248Z"
   },
   {
    "duration": 19,
    "start_time": "2022-01-23T22:07:30.259Z"
   },
   {
    "duration": 11,
    "start_time": "2022-01-23T22:07:30.280Z"
   },
   {
    "duration": 25,
    "start_time": "2022-01-23T22:07:30.292Z"
   },
   {
    "duration": 8,
    "start_time": "2022-01-23T22:07:30.318Z"
   },
   {
    "duration": 14,
    "start_time": "2022-01-23T22:07:30.327Z"
   },
   {
    "duration": 20,
    "start_time": "2022-01-23T22:07:30.343Z"
   },
   {
    "duration": 411,
    "start_time": "2022-01-23T22:07:30.364Z"
   },
   {
    "duration": 21,
    "start_time": "2022-01-23T22:07:30.777Z"
   },
   {
    "duration": 353,
    "start_time": "2022-01-23T22:07:30.800Z"
   },
   {
    "duration": 309,
    "start_time": "2022-01-23T22:07:31.155Z"
   },
   {
    "duration": 361,
    "start_time": "2022-01-23T22:07:31.467Z"
   },
   {
    "duration": 343,
    "start_time": "2022-01-23T22:11:23.895Z"
   },
   {
    "duration": 431,
    "start_time": "2022-01-23T22:12:36.687Z"
   },
   {
    "duration": 302,
    "start_time": "2022-01-23T22:15:02.836Z"
   },
   {
    "duration": 295,
    "start_time": "2022-01-23T22:16:02.622Z"
   },
   {
    "duration": 728,
    "start_time": "2022-01-23T22:16:25.020Z"
   },
   {
    "duration": 292,
    "start_time": "2022-01-23T22:16:50.418Z"
   },
   {
    "duration": 258,
    "start_time": "2022-01-23T22:19:58.748Z"
   },
   {
    "duration": 637,
    "start_time": "2022-01-23T22:21:00.516Z"
   },
   {
    "duration": 258,
    "start_time": "2022-01-23T22:21:35.025Z"
   },
   {
    "duration": 288,
    "start_time": "2022-01-23T22:22:45.627Z"
   },
   {
    "duration": 311,
    "start_time": "2022-01-23T22:24:03.502Z"
   },
   {
    "duration": 433,
    "start_time": "2022-01-23T22:25:01.786Z"
   },
   {
    "duration": 352,
    "start_time": "2022-01-23T22:25:52.008Z"
   },
   {
    "duration": 5,
    "start_time": "2022-01-24T09:25:29.552Z"
   },
   {
    "duration": 4,
    "start_time": "2022-01-24T09:28:04.711Z"
   },
   {
    "duration": 4,
    "start_time": "2022-01-24T09:29:07.254Z"
   },
   {
    "duration": 8,
    "start_time": "2022-01-24T09:29:37.491Z"
   },
   {
    "duration": 8,
    "start_time": "2022-01-24T09:29:50.027Z"
   },
   {
    "duration": 323,
    "start_time": "2022-01-24T09:31:43.201Z"
   },
   {
    "duration": 335,
    "start_time": "2022-01-24T09:31:56.389Z"
   },
   {
    "duration": 5,
    "start_time": "2022-01-24T09:39:54.088Z"
   },
   {
    "duration": 129,
    "start_time": "2022-01-24T09:45:03.791Z"
   },
   {
    "duration": 8,
    "start_time": "2022-01-24T09:45:13.654Z"
   },
   {
    "duration": 92,
    "start_time": "2022-01-24T12:01:33.985Z"
   },
   {
    "duration": 281,
    "start_time": "2022-01-24T12:02:41.394Z"
   },
   {
    "duration": 416,
    "start_time": "2022-01-24T12:14:21.429Z"
   },
   {
    "duration": 23,
    "start_time": "2022-01-24T12:14:27.047Z"
   },
   {
    "duration": 41,
    "start_time": "2022-01-24T12:14:28.198Z"
   },
   {
    "duration": 22,
    "start_time": "2022-01-24T12:14:28.807Z"
   },
   {
    "duration": 6,
    "start_time": "2022-01-24T12:14:29.248Z"
   },
   {
    "duration": 9,
    "start_time": "2022-01-24T12:14:29.622Z"
   },
   {
    "duration": 9,
    "start_time": "2022-01-24T12:14:30.248Z"
   },
   {
    "duration": 12,
    "start_time": "2022-01-24T12:14:30.778Z"
   },
   {
    "duration": 7,
    "start_time": "2022-01-24T12:14:31.088Z"
   },
   {
    "duration": 23,
    "start_time": "2022-01-24T12:14:31.734Z"
   },
   {
    "duration": 10,
    "start_time": "2022-01-24T12:14:32.259Z"
   },
   {
    "duration": 11,
    "start_time": "2022-01-24T12:14:32.988Z"
   },
   {
    "duration": 15,
    "start_time": "2022-01-24T12:14:34.784Z"
   },
   {
    "duration": 16,
    "start_time": "2022-01-24T12:15:34.222Z"
   },
   {
    "duration": 290,
    "start_time": "2022-01-24T12:24:24.919Z"
   },
   {
    "duration": 328,
    "start_time": "2022-01-24T12:25:23.297Z"
   },
   {
    "duration": 6551,
    "start_time": "2022-01-24T12:28:57.888Z"
   },
   {
    "duration": 7218,
    "start_time": "2022-01-24T12:29:36.415Z"
   },
   {
    "duration": 109,
    "start_time": "2022-01-24T12:30:48.434Z"
   },
   {
    "duration": 11,
    "start_time": "2022-01-24T12:30:49.935Z"
   },
   {
    "duration": 6584,
    "start_time": "2022-01-24T12:30:50.334Z"
   },
   {
    "duration": 137,
    "start_time": "2022-01-24T12:31:36.070Z"
   },
   {
    "duration": 94,
    "start_time": "2022-01-24T12:34:07.163Z"
   },
   {
    "duration": 10,
    "start_time": "2022-01-24T12:35:35.012Z"
   },
   {
    "duration": 287,
    "start_time": "2022-01-24T12:38:21.484Z"
   },
   {
    "duration": 281,
    "start_time": "2022-01-24T13:05:03.019Z"
   },
   {
    "duration": 22,
    "start_time": "2022-01-24T13:05:46.241Z"
   },
   {
    "duration": 6889,
    "start_time": "2022-01-24T13:16:36.369Z"
   },
   {
    "duration": 7265,
    "start_time": "2022-01-24T13:17:20.151Z"
   },
   {
    "duration": 9,
    "start_time": "2022-01-24T13:19:17.211Z"
   },
   {
    "duration": 281,
    "start_time": "2022-01-26T09:26:35.370Z"
   },
   {
    "duration": 1477,
    "start_time": "2022-01-26T09:26:48.534Z"
   },
   {
    "duration": 27,
    "start_time": "2022-01-26T09:26:50.013Z"
   },
   {
    "duration": 46,
    "start_time": "2022-01-26T09:26:50.043Z"
   },
   {
    "duration": 23,
    "start_time": "2022-01-26T09:26:50.091Z"
   },
   {
    "duration": 17,
    "start_time": "2022-01-26T09:26:50.116Z"
   },
   {
    "duration": 15,
    "start_time": "2022-01-26T09:26:50.135Z"
   },
   {
    "duration": 9,
    "start_time": "2022-01-26T09:26:50.152Z"
   },
   {
    "duration": 11,
    "start_time": "2022-01-26T09:26:50.164Z"
   },
   {
    "duration": 29,
    "start_time": "2022-01-26T09:26:50.178Z"
   },
   {
    "duration": 16,
    "start_time": "2022-01-26T09:26:50.208Z"
   },
   {
    "duration": 25,
    "start_time": "2022-01-26T09:26:50.226Z"
   },
   {
    "duration": 9,
    "start_time": "2022-01-26T09:26:50.254Z"
   },
   {
    "duration": 15,
    "start_time": "2022-01-26T09:26:50.265Z"
   },
   {
    "duration": 36,
    "start_time": "2022-01-26T09:26:50.282Z"
   },
   {
    "duration": 392,
    "start_time": "2022-01-26T09:26:50.320Z"
   },
   {
    "duration": 318,
    "start_time": "2022-01-26T09:26:50.713Z"
   },
   {
    "duration": 306,
    "start_time": "2022-01-26T09:26:51.033Z"
   },
   {
    "duration": 389,
    "start_time": "2022-01-26T09:26:51.341Z"
   },
   {
    "duration": 427,
    "start_time": "2022-01-26T09:26:51.732Z"
   },
   {
    "duration": 348,
    "start_time": "2022-01-26T09:26:52.161Z"
   },
   {
    "duration": 7,
    "start_time": "2022-01-26T09:26:52.511Z"
   },
   {
    "duration": 311,
    "start_time": "2022-01-26T09:26:52.520Z"
   },
   {
    "duration": 4,
    "start_time": "2022-01-26T09:26:52.835Z"
   },
   {
    "duration": 133,
    "start_time": "2022-01-26T09:26:52.841Z"
   },
   {
    "duration": 12,
    "start_time": "2022-01-26T09:26:52.976Z"
   },
   {
    "duration": 28,
    "start_time": "2022-01-26T09:26:52.990Z"
   },
   {
    "duration": 27,
    "start_time": "2022-01-26T09:26:53.020Z"
   },
   {
    "duration": 10,
    "start_time": "2022-01-26T09:26:53.048Z"
   },
   {
    "duration": 85,
    "start_time": "2022-01-26T09:30:01.905Z"
   },
   {
    "duration": 620,
    "start_time": "2022-01-26T09:30:21.429Z"
   },
   {
    "duration": 81,
    "start_time": "2022-01-26T09:31:00.210Z"
   },
   {
    "duration": 30,
    "start_time": "2022-01-26T09:31:01.016Z"
   },
   {
    "duration": 47,
    "start_time": "2022-01-26T09:31:01.188Z"
   },
   {
    "duration": 26,
    "start_time": "2022-01-26T09:31:01.320Z"
   },
   {
    "duration": 8,
    "start_time": "2022-01-26T09:31:01.478Z"
   },
   {
    "duration": 10,
    "start_time": "2022-01-26T09:31:02.625Z"
   },
   {
    "duration": 17,
    "start_time": "2022-01-26T09:31:02.638Z"
   },
   {
    "duration": 12,
    "start_time": "2022-01-26T09:31:02.658Z"
   },
   {
    "duration": 448,
    "start_time": "2022-01-26T09:31:02.672Z"
   },
   {
    "duration": 646,
    "start_time": "2022-01-26T09:33:22.536Z"
   },
   {
    "duration": 567,
    "start_time": "2022-01-26T09:33:37.475Z"
   },
   {
    "duration": 382,
    "start_time": "2022-01-26T09:48:40.754Z"
   },
   {
    "duration": 443,
    "start_time": "2022-01-27T17:37:41.546Z"
   },
   {
    "duration": 2297,
    "start_time": "2022-01-27T17:37:51.476Z"
   },
   {
    "duration": 31,
    "start_time": "2022-01-27T17:37:53.776Z"
   },
   {
    "duration": 82,
    "start_time": "2022-01-27T17:37:53.810Z"
   },
   {
    "duration": 25,
    "start_time": "2022-01-27T17:37:53.895Z"
   },
   {
    "duration": 25,
    "start_time": "2022-01-27T17:37:53.924Z"
   },
   {
    "duration": 34,
    "start_time": "2022-01-27T17:37:53.952Z"
   },
   {
    "duration": 21,
    "start_time": "2022-01-27T17:37:53.988Z"
   },
   {
    "duration": 22,
    "start_time": "2022-01-27T17:37:54.014Z"
   },
   {
    "duration": 608,
    "start_time": "2022-01-27T17:37:54.039Z"
   },
   {
    "duration": 18,
    "start_time": "2022-01-27T17:37:54.649Z"
   },
   {
    "duration": 12,
    "start_time": "2022-01-27T17:37:54.669Z"
   },
   {
    "duration": 70,
    "start_time": "2022-01-27T17:37:54.684Z"
   },
   {
    "duration": 16,
    "start_time": "2022-01-27T17:37:54.757Z"
   },
   {
    "duration": 36,
    "start_time": "2022-01-27T17:37:54.775Z"
   },
   {
    "duration": 31,
    "start_time": "2022-01-27T17:37:54.813Z"
   },
   {
    "duration": 649,
    "start_time": "2022-01-27T17:37:54.846Z"
   },
   {
    "duration": 519,
    "start_time": "2022-01-27T17:37:55.498Z"
   },
   {
    "duration": 483,
    "start_time": "2022-01-27T17:37:56.023Z"
   },
   {
    "duration": 725,
    "start_time": "2022-01-27T17:37:56.509Z"
   },
   {
    "duration": 550,
    "start_time": "2022-01-27T17:37:57.237Z"
   },
   {
    "duration": 518,
    "start_time": "2022-01-27T17:37:57.790Z"
   },
   {
    "duration": 20,
    "start_time": "2022-01-27T17:37:58.312Z"
   },
   {
    "duration": 447,
    "start_time": "2022-01-27T17:37:58.337Z"
   },
   {
    "duration": 7,
    "start_time": "2022-01-27T17:37:58.787Z"
   },
   {
    "duration": 301,
    "start_time": "2022-01-27T17:37:58.797Z"
   },
   {
    "duration": 34,
    "start_time": "2022-01-27T17:37:59.101Z"
   },
   {
    "duration": 19,
    "start_time": "2022-01-27T17:37:59.138Z"
   },
   {
    "duration": 169,
    "start_time": "2022-01-27T17:37:59.160Z"
   },
   {
    "duration": 17,
    "start_time": "2022-01-27T17:37:59.332Z"
   },
   {
    "duration": 25,
    "start_time": "2022-01-27T17:44:39.738Z"
   },
   {
    "duration": 8337,
    "start_time": "2022-01-27T17:51:17.627Z"
   },
   {
    "duration": 2238,
    "start_time": "2022-01-27T17:51:44.297Z"
   },
   {
    "duration": 39,
    "start_time": "2022-01-27T17:51:46.539Z"
   },
   {
    "duration": 47,
    "start_time": "2022-01-27T17:51:46.581Z"
   },
   {
    "duration": 35,
    "start_time": "2022-01-27T17:51:46.636Z"
   },
   {
    "duration": 16,
    "start_time": "2022-01-27T17:51:46.674Z"
   },
   {
    "duration": 19,
    "start_time": "2022-01-27T17:51:46.694Z"
   },
   {
    "duration": 27,
    "start_time": "2022-01-27T17:51:46.724Z"
   },
   {
    "duration": 25,
    "start_time": "2022-01-27T17:51:46.761Z"
   },
   {
    "duration": 644,
    "start_time": "2022-01-27T17:51:46.790Z"
   },
   {
    "duration": 26,
    "start_time": "2022-01-27T17:51:47.436Z"
   },
   {
    "duration": 9,
    "start_time": "2022-01-27T17:51:47.465Z"
   },
   {
    "duration": 86,
    "start_time": "2022-01-27T17:51:47.476Z"
   },
   {
    "duration": 13,
    "start_time": "2022-01-27T17:51:47.564Z"
   },
   {
    "duration": 19,
    "start_time": "2022-01-27T17:51:47.580Z"
   },
   {
    "duration": 58,
    "start_time": "2022-01-27T17:51:47.602Z"
   },
   {
    "duration": 675,
    "start_time": "2022-01-27T17:51:47.663Z"
   },
   {
    "duration": 572,
    "start_time": "2022-01-27T17:51:48.340Z"
   },
   {
    "duration": 464,
    "start_time": "2022-01-27T17:51:48.915Z"
   },
   {
    "duration": 617,
    "start_time": "2022-01-27T17:51:49.381Z"
   },
   {
    "duration": 526,
    "start_time": "2022-01-27T17:51:50.001Z"
   },
   {
    "duration": 512,
    "start_time": "2022-01-27T17:51:50.531Z"
   },
   {
    "duration": 11,
    "start_time": "2022-01-27T17:51:51.046Z"
   },
   {
    "duration": 412,
    "start_time": "2022-01-27T17:51:51.064Z"
   },
   {
    "duration": 6,
    "start_time": "2022-01-27T17:51:51.479Z"
   },
   {
    "duration": 327,
    "start_time": "2022-01-27T17:51:51.488Z"
   },
   {
    "duration": 18,
    "start_time": "2022-01-27T17:51:51.822Z"
   },
   {
    "duration": 20,
    "start_time": "2022-01-27T17:51:51.844Z"
   },
   {
    "duration": 181,
    "start_time": "2022-01-27T17:51:51.867Z"
   },
   {
    "duration": 16,
    "start_time": "2022-01-27T17:51:52.052Z"
   },
   {
    "duration": 504,
    "start_time": "2022-01-27T18:12:02.612Z"
   },
   {
    "duration": 655,
    "start_time": "2022-01-27T18:13:26.894Z"
   },
   {
    "duration": 481,
    "start_time": "2022-01-27T18:15:15.749Z"
   },
   {
    "duration": 536,
    "start_time": "2022-01-27T18:20:10.760Z"
   },
   {
    "duration": 109,
    "start_time": "2022-01-27T18:25:34.177Z"
   },
   {
    "duration": 503,
    "start_time": "2022-01-27T18:25:44.221Z"
   },
   {
    "duration": 1215,
    "start_time": "2022-01-27T18:26:03.143Z"
   },
   {
    "duration": 24,
    "start_time": "2022-01-27T18:26:31.597Z"
   },
   {
    "duration": 2065,
    "start_time": "2022-01-27T18:26:44.361Z"
   },
   {
    "duration": 33,
    "start_time": "2022-01-27T18:26:46.429Z"
   },
   {
    "duration": 42,
    "start_time": "2022-01-27T18:26:46.466Z"
   },
   {
    "duration": 29,
    "start_time": "2022-01-27T18:26:46.511Z"
   },
   {
    "duration": 8,
    "start_time": "2022-01-27T18:26:46.547Z"
   },
   {
    "duration": 19,
    "start_time": "2022-01-27T18:26:46.558Z"
   },
   {
    "duration": 16,
    "start_time": "2022-01-27T18:26:46.580Z"
   },
   {
    "duration": 43,
    "start_time": "2022-01-27T18:26:46.600Z"
   },
   {
    "duration": 611,
    "start_time": "2022-01-27T18:26:46.648Z"
   },
   {
    "duration": 23,
    "start_time": "2022-01-27T18:26:47.263Z"
   },
   {
    "duration": 16,
    "start_time": "2022-01-27T18:26:47.289Z"
   },
   {
    "duration": 39,
    "start_time": "2022-01-27T18:26:47.324Z"
   },
   {
    "duration": 13,
    "start_time": "2022-01-27T18:26:47.365Z"
   },
   {
    "duration": 50,
    "start_time": "2022-01-27T18:26:47.381Z"
   },
   {
    "duration": 23,
    "start_time": "2022-01-27T18:26:47.434Z"
   },
   {
    "duration": 665,
    "start_time": "2022-01-27T18:26:47.460Z"
   },
   {
    "duration": 31,
    "start_time": "2022-01-27T18:26:48.130Z"
   },
   {
    "duration": 642,
    "start_time": "2022-01-27T18:26:48.164Z"
   },
   {
    "duration": -269,
    "start_time": "2022-01-27T18:26:49.078Z"
   },
   {
    "duration": -270,
    "start_time": "2022-01-27T18:26:49.081Z"
   },
   {
    "duration": -272,
    "start_time": "2022-01-27T18:26:49.084Z"
   },
   {
    "duration": -279,
    "start_time": "2022-01-27T18:26:49.093Z"
   },
   {
    "duration": -326,
    "start_time": "2022-01-27T18:26:49.141Z"
   },
   {
    "duration": -340,
    "start_time": "2022-01-27T18:26:49.157Z"
   },
   {
    "duration": -350,
    "start_time": "2022-01-27T18:26:49.168Z"
   },
   {
    "duration": -352,
    "start_time": "2022-01-27T18:26:49.172Z"
   },
   {
    "duration": -356,
    "start_time": "2022-01-27T18:26:49.177Z"
   },
   {
    "duration": -356,
    "start_time": "2022-01-27T18:26:49.180Z"
   },
   {
    "duration": -368,
    "start_time": "2022-01-27T18:26:49.193Z"
   },
   {
    "duration": -371,
    "start_time": "2022-01-27T18:26:49.197Z"
   },
   {
    "duration": 1379,
    "start_time": "2022-01-27T18:27:56.949Z"
   },
   {
    "duration": 326,
    "start_time": "2022-01-27T18:28:04.983Z"
   },
   {
    "duration": 662,
    "start_time": "2022-01-27T18:28:09.251Z"
   },
   {
    "duration": 518,
    "start_time": "2022-01-27T18:28:09.915Z"
   },
   {
    "duration": 2031,
    "start_time": "2022-01-27T18:28:35.042Z"
   },
   {
    "duration": 32,
    "start_time": "2022-01-27T18:28:37.076Z"
   },
   {
    "duration": 99,
    "start_time": "2022-01-27T18:28:37.111Z"
   },
   {
    "duration": 65,
    "start_time": "2022-01-27T18:28:37.221Z"
   },
   {
    "duration": 70,
    "start_time": "2022-01-27T18:28:37.296Z"
   },
   {
    "duration": 101,
    "start_time": "2022-01-27T18:28:37.383Z"
   },
   {
    "duration": 22,
    "start_time": "2022-01-27T18:28:37.488Z"
   },
   {
    "duration": 21,
    "start_time": "2022-01-27T18:28:37.515Z"
   },
   {
    "duration": 578,
    "start_time": "2022-01-27T18:28:37.539Z"
   },
   {
    "duration": 17,
    "start_time": "2022-01-27T18:28:38.123Z"
   },
   {
    "duration": 18,
    "start_time": "2022-01-27T18:28:38.143Z"
   },
   {
    "duration": 75,
    "start_time": "2022-01-27T18:28:38.165Z"
   },
   {
    "duration": 18,
    "start_time": "2022-01-27T18:28:38.243Z"
   },
   {
    "duration": 27,
    "start_time": "2022-01-27T18:28:38.264Z"
   },
   {
    "duration": 44,
    "start_time": "2022-01-27T18:28:38.294Z"
   },
   {
    "duration": 650,
    "start_time": "2022-01-27T18:28:38.341Z"
   },
   {
    "duration": 523,
    "start_time": "2022-01-27T18:28:38.994Z"
   },
   {
    "duration": 606,
    "start_time": "2022-01-27T18:28:39.525Z"
   },
   {
    "duration": 565,
    "start_time": "2022-01-27T18:28:40.134Z"
   },
   {
    "duration": 528,
    "start_time": "2022-01-27T18:28:40.702Z"
   },
   {
    "duration": 502,
    "start_time": "2022-01-27T18:28:41.234Z"
   },
   {
    "duration": 11,
    "start_time": "2022-01-27T18:28:41.739Z"
   },
   {
    "duration": 519,
    "start_time": "2022-01-27T18:28:41.756Z"
   },
   {
    "duration": 7,
    "start_time": "2022-01-27T18:28:42.279Z"
   },
   {
    "duration": 280,
    "start_time": "2022-01-27T18:28:42.290Z"
   },
   {
    "duration": 18,
    "start_time": "2022-01-27T18:28:42.572Z"
   },
   {
    "duration": 38,
    "start_time": "2022-01-27T18:28:42.593Z"
   },
   {
    "duration": 172,
    "start_time": "2022-01-27T18:28:42.634Z"
   },
   {
    "duration": 31,
    "start_time": "2022-01-27T18:28:42.809Z"
   },
   {
    "duration": 473,
    "start_time": "2022-01-27T18:30:18.386Z"
   },
   {
    "duration": 109,
    "start_time": "2022-01-27T18:31:00.551Z"
   },
   {
    "duration": 430,
    "start_time": "2022-01-27T18:31:09.783Z"
   },
   {
    "duration": 374,
    "start_time": "2022-01-27T18:31:56.062Z"
   },
   {
    "duration": 319,
    "start_time": "2022-01-27T18:32:15.600Z"
   },
   {
    "duration": 665,
    "start_time": "2022-01-27T18:36:48.419Z"
   },
   {
    "duration": 2247,
    "start_time": "2022-01-27T19:07:10.646Z"
   },
   {
    "duration": 35,
    "start_time": "2022-01-27T19:07:12.896Z"
   },
   {
    "duration": 50,
    "start_time": "2022-01-27T19:07:12.935Z"
   },
   {
    "duration": 26,
    "start_time": "2022-01-27T19:07:12.988Z"
   },
   {
    "duration": 9,
    "start_time": "2022-01-27T19:07:13.017Z"
   },
   {
    "duration": 31,
    "start_time": "2022-01-27T19:07:13.030Z"
   },
   {
    "duration": 25,
    "start_time": "2022-01-27T19:07:13.064Z"
   },
   {
    "duration": 19,
    "start_time": "2022-01-27T19:07:13.093Z"
   },
   {
    "duration": 63164,
    "start_time": "2022-01-27T19:07:13.124Z"
   },
   {
    "duration": 38,
    "start_time": "2022-01-27T19:08:16.291Z"
   },
   {
    "duration": 16,
    "start_time": "2022-01-27T19:08:16.332Z"
   },
   {
    "duration": 102,
    "start_time": "2022-01-27T19:08:16.352Z"
   },
   {
    "duration": 15,
    "start_time": "2022-01-27T19:08:16.457Z"
   },
   {
    "duration": 18,
    "start_time": "2022-01-27T19:08:16.475Z"
   },
   {
    "duration": 24,
    "start_time": "2022-01-27T19:08:16.524Z"
   },
   {
    "duration": 664,
    "start_time": "2022-01-27T19:08:16.551Z"
   },
   {
    "duration": 517,
    "start_time": "2022-01-27T19:08:17.217Z"
   },
   {
    "duration": 539,
    "start_time": "2022-01-27T19:08:17.738Z"
   },
   {
    "duration": 727,
    "start_time": "2022-01-27T19:08:18.281Z"
   },
   {
    "duration": 673,
    "start_time": "2022-01-27T19:08:19.011Z"
   },
   {
    "duration": 553,
    "start_time": "2022-01-27T19:08:19.687Z"
   },
   {
    "duration": 11,
    "start_time": "2022-01-27T19:08:20.242Z"
   },
   {
    "duration": 576,
    "start_time": "2022-01-27T19:08:20.260Z"
   },
   {
    "duration": 7,
    "start_time": "2022-01-27T19:08:20.840Z"
   },
   {
    "duration": 357,
    "start_time": "2022-01-27T19:08:20.851Z"
   },
   {
    "duration": 23,
    "start_time": "2022-01-27T19:08:21.211Z"
   },
   {
    "duration": 20,
    "start_time": "2022-01-27T19:08:21.237Z"
   },
   {
    "duration": 276,
    "start_time": "2022-01-27T19:08:21.260Z"
   },
   {
    "duration": 18,
    "start_time": "2022-01-27T19:08:21.539Z"
   },
   {
    "duration": 1415,
    "start_time": "2022-01-28T11:33:57.528Z"
   },
   {
    "duration": 25,
    "start_time": "2022-01-28T11:33:58.945Z"
   },
   {
    "duration": 70,
    "start_time": "2022-01-28T11:33:58.972Z"
   },
   {
    "duration": 40,
    "start_time": "2022-01-28T11:33:59.044Z"
   },
   {
    "duration": 5,
    "start_time": "2022-01-28T11:33:59.085Z"
   },
   {
    "duration": 10,
    "start_time": "2022-01-28T11:33:59.091Z"
   },
   {
    "duration": 8,
    "start_time": "2022-01-28T11:33:59.103Z"
   },
   {
    "duration": 263,
    "start_time": "2022-01-28T11:34:29.191Z"
   },
   {
    "duration": 246,
    "start_time": "2022-01-28T11:34:29.455Z"
   },
   {
    "duration": 401,
    "start_time": "2022-01-28T11:34:29.703Z"
   },
   {
    "duration": 268,
    "start_time": "2022-01-28T11:34:30.106Z"
   },
   {
    "duration": 325,
    "start_time": "2022-01-28T11:34:30.375Z"
   },
   {
    "duration": 6,
    "start_time": "2022-01-28T11:34:30.701Z"
   },
   {
    "duration": 290,
    "start_time": "2022-01-28T11:34:30.709Z"
   },
   {
    "duration": 4,
    "start_time": "2022-01-28T11:34:31.002Z"
   },
   {
    "duration": 108,
    "start_time": "2022-01-28T11:34:31.008Z"
   },
   {
    "duration": 16,
    "start_time": "2022-01-28T11:34:31.118Z"
   },
   {
    "duration": 9,
    "start_time": "2022-01-28T11:34:31.135Z"
   },
   {
    "duration": 154,
    "start_time": "2022-01-28T11:34:31.146Z"
   },
   {
    "duration": 12,
    "start_time": "2022-01-28T11:34:31.302Z"
   },
   {
    "duration": 2,
    "start_time": "2022-01-28T11:34:31.328Z"
   },
   {
    "duration": 22,
    "start_time": "2022-01-28T11:34:31.332Z"
   },
   {
    "duration": 49,
    "start_time": "2022-01-28T11:34:31.356Z"
   },
   {
    "duration": 20,
    "start_time": "2022-01-28T11:34:31.406Z"
   },
   {
    "duration": 6,
    "start_time": "2022-01-28T11:34:31.428Z"
   },
   {
    "duration": 10,
    "start_time": "2022-01-28T11:34:31.435Z"
   },
   {
    "duration": 9,
    "start_time": "2022-01-28T11:34:31.447Z"
   },
   {
    "duration": 29908,
    "start_time": "2022-01-28T11:34:31.457Z"
   },
   {
    "duration": 10,
    "start_time": "2022-01-28T11:35:01.366Z"
   },
   {
    "duration": 12,
    "start_time": "2022-01-28T11:35:01.378Z"
   },
   {
    "duration": 51,
    "start_time": "2022-01-28T11:35:01.392Z"
   },
   {
    "duration": 9,
    "start_time": "2022-01-28T11:35:01.445Z"
   },
   {
    "duration": 16,
    "start_time": "2022-01-28T11:35:01.455Z"
   },
   {
    "duration": 13,
    "start_time": "2022-01-28T11:35:01.473Z"
   },
   {
    "duration": 364,
    "start_time": "2022-01-28T11:35:01.488Z"
   },
   {
    "duration": 12,
    "start_time": "2022-01-28T11:35:22.215Z"
   },
   {
    "duration": 1690,
    "start_time": "2022-01-28T11:35:33.873Z"
   },
   {
    "duration": 23,
    "start_time": "2022-01-28T11:35:35.565Z"
   },
   {
    "duration": 47,
    "start_time": "2022-01-28T11:35:35.590Z"
   },
   {
    "duration": 25,
    "start_time": "2022-01-28T11:35:35.639Z"
   },
   {
    "duration": 13,
    "start_time": "2022-01-28T11:35:35.665Z"
   },
   {
    "duration": 19,
    "start_time": "2022-01-28T11:35:35.679Z"
   },
   {
    "duration": 22,
    "start_time": "2022-01-28T11:35:35.700Z"
   },
   {
    "duration": 30805,
    "start_time": "2022-01-28T11:35:35.724Z"
   },
   {
    "duration": 13,
    "start_time": "2022-01-28T11:36:06.532Z"
   },
   {
    "duration": 9,
    "start_time": "2022-01-28T11:36:06.547Z"
   },
   {
    "duration": 79,
    "start_time": "2022-01-28T11:36:06.558Z"
   },
   {
    "duration": 8,
    "start_time": "2022-01-28T11:36:06.639Z"
   },
   {
    "duration": 15,
    "start_time": "2022-01-28T11:36:06.649Z"
   },
   {
    "duration": 342,
    "start_time": "2022-01-28T11:36:06.666Z"
   },
   {
    "duration": 264,
    "start_time": "2022-01-28T11:36:07.010Z"
   },
   {
    "duration": 247,
    "start_time": "2022-01-28T11:36:07.276Z"
   },
   {
    "duration": 359,
    "start_time": "2022-01-28T11:36:07.525Z"
   },
   {
    "duration": 273,
    "start_time": "2022-01-28T11:36:07.886Z"
   },
   {
    "duration": 303,
    "start_time": "2022-01-28T11:36:08.161Z"
   },
   {
    "duration": 7,
    "start_time": "2022-01-28T11:36:08.465Z"
   },
   {
    "duration": 283,
    "start_time": "2022-01-28T11:36:08.473Z"
   },
   {
    "duration": 4,
    "start_time": "2022-01-28T11:36:08.758Z"
   },
   {
    "duration": 119,
    "start_time": "2022-01-28T11:36:08.764Z"
   },
   {
    "duration": 9,
    "start_time": "2022-01-28T11:36:08.885Z"
   },
   {
    "duration": 13,
    "start_time": "2022-01-28T11:36:08.895Z"
   },
   {
    "duration": 156,
    "start_time": "2022-01-28T11:36:08.909Z"
   },
   {
    "duration": 11,
    "start_time": "2022-01-28T11:36:09.067Z"
   },
   {
    "duration": 29875,
    "start_time": "2022-01-28T11:42:28.259Z"
   },
   {
    "duration": 3,
    "start_time": "2022-01-28T11:43:07.634Z"
   },
   {
    "duration": 29454,
    "start_time": "2022-01-28T11:43:14.332Z"
   },
   {
    "duration": 14772,
    "start_time": "2022-01-28T11:45:17.742Z"
   },
   {
    "duration": 17311,
    "start_time": "2022-01-28T11:45:32.517Z"
   },
   {
    "duration": 4665,
    "start_time": "2022-01-28T11:45:49.831Z"
   },
   {
    "duration": 3,
    "start_time": "2022-01-28T11:45:54.498Z"
   },
   {
    "duration": 24,
    "start_time": "2022-01-28T11:45:54.503Z"
   },
   {
    "duration": 42,
    "start_time": "2022-01-28T11:45:54.529Z"
   },
   {
    "duration": 21,
    "start_time": "2022-01-28T11:45:54.572Z"
   },
   {
    "duration": 5,
    "start_time": "2022-01-28T11:45:54.595Z"
   },
   {
    "duration": 9,
    "start_time": "2022-01-28T11:45:54.601Z"
   },
   {
    "duration": 10,
    "start_time": "2022-01-28T11:45:54.611Z"
   },
   {
    "duration": 11,
    "start_time": "2022-01-28T11:46:24.601Z"
   },
   {
    "duration": 6,
    "start_time": "2022-01-28T11:46:24.627Z"
   },
   {
    "duration": 19,
    "start_time": "2022-01-28T11:46:24.635Z"
   },
   {
    "duration": 2716,
    "start_time": "2022-01-28T12:21:54.123Z"
   },
   {
    "duration": 2533,
    "start_time": "2022-01-28T12:21:56.841Z"
   },
   {
    "duration": 2316,
    "start_time": "2022-01-28T12:21:59.376Z"
   },
   {
    "duration": 3257,
    "start_time": "2022-01-28T12:22:01.695Z"
   },
   {
    "duration": 24,
    "start_time": "2022-01-28T12:22:04.954Z"
   },
   {
    "duration": 89,
    "start_time": "2022-01-28T12:22:04.980Z"
   },
   {
    "duration": 41,
    "start_time": "2022-01-28T12:22:05.070Z"
   },
   {
    "duration": 4,
    "start_time": "2022-01-28T12:22:05.113Z"
   },
   {
    "duration": 9,
    "start_time": "2022-01-28T12:22:05.119Z"
   },
   {
    "duration": 7,
    "start_time": "2022-01-28T12:22:05.129Z"
   },
   {
    "duration": 2305,
    "start_time": "2022-01-28T13:02:37.940Z"
   },
   {
    "duration": 2531,
    "start_time": "2022-01-28T13:02:40.248Z"
   },
   {
    "duration": 2300,
    "start_time": "2022-01-28T13:02:42.781Z"
   },
   {
    "duration": 1745,
    "start_time": "2022-01-28T13:02:45.083Z"
   },
   {
    "duration": 24,
    "start_time": "2022-01-28T13:02:46.830Z"
   },
   {
    "duration": 70,
    "start_time": "2022-01-28T13:02:46.855Z"
   },
   {
    "duration": 39,
    "start_time": "2022-01-28T13:02:46.926Z"
   },
   {
    "duration": 5,
    "start_time": "2022-01-28T13:02:46.968Z"
   },
   {
    "duration": 9,
    "start_time": "2022-01-28T13:02:46.974Z"
   },
   {
    "duration": 6,
    "start_time": "2022-01-28T13:02:46.985Z"
   },
   {
    "duration": 2404,
    "start_time": "2022-01-28T13:03:13.345Z"
   },
   {
    "duration": 2380,
    "start_time": "2022-01-28T13:03:15.751Z"
   },
   {
    "duration": 2267,
    "start_time": "2022-01-28T13:03:18.134Z"
   },
   {
    "duration": 1826,
    "start_time": "2022-01-28T13:03:20.403Z"
   },
   {
    "duration": 23,
    "start_time": "2022-01-28T13:03:22.231Z"
   },
   {
    "duration": 51,
    "start_time": "2022-01-28T13:03:22.256Z"
   },
   {
    "duration": 41,
    "start_time": "2022-01-28T13:03:22.308Z"
   },
   {
    "duration": 5,
    "start_time": "2022-01-28T13:03:22.351Z"
   },
   {
    "duration": 9,
    "start_time": "2022-01-28T13:03:22.357Z"
   },
   {
    "duration": 7,
    "start_time": "2022-01-28T13:03:22.367Z"
   },
   {
    "duration": 2683,
    "start_time": "2022-01-28T13:03:52.892Z"
   },
   {
    "duration": 2526,
    "start_time": "2022-01-28T13:03:55.577Z"
   },
   {
    "duration": 3082,
    "start_time": "2022-01-28T13:03:58.106Z"
   },
   {
    "duration": 2001,
    "start_time": "2022-01-28T13:04:01.190Z"
   },
   {
    "duration": 24,
    "start_time": "2022-01-28T13:04:03.192Z"
   },
   {
    "duration": 50,
    "start_time": "2022-01-28T13:04:03.218Z"
   },
   {
    "duration": 51,
    "start_time": "2022-01-28T13:04:03.270Z"
   },
   {
    "duration": 4,
    "start_time": "2022-01-28T13:04:03.323Z"
   },
   {
    "duration": 14,
    "start_time": "2022-01-28T13:04:03.328Z"
   },
   {
    "duration": 11,
    "start_time": "2022-01-28T13:04:03.344Z"
   },
   {
    "duration": 2585,
    "start_time": "2022-01-28T13:08:24.322Z"
   },
   {
    "duration": 2481,
    "start_time": "2022-01-28T13:08:26.909Z"
   },
   {
    "duration": 2259,
    "start_time": "2022-01-28T13:11:08.533Z"
   },
   {
    "duration": 2325,
    "start_time": "2022-01-28T13:11:10.794Z"
   },
   {
    "duration": 2309,
    "start_time": "2022-01-28T13:11:13.122Z"
   },
   {
    "duration": 1803,
    "start_time": "2022-01-28T13:11:15.434Z"
   },
   {
    "duration": 24,
    "start_time": "2022-01-28T13:11:17.238Z"
   },
   {
    "duration": 42,
    "start_time": "2022-01-28T13:11:17.263Z"
   },
   {
    "duration": 41,
    "start_time": "2022-01-28T13:11:17.306Z"
   },
   {
    "duration": 6,
    "start_time": "2022-01-28T13:11:17.349Z"
   },
   {
    "duration": 13,
    "start_time": "2022-01-28T13:11:17.357Z"
   },
   {
    "duration": 7,
    "start_time": "2022-01-28T13:11:17.372Z"
   },
   {
    "duration": 359,
    "start_time": "2022-01-28T13:11:38.729Z"
   },
   {
    "duration": -239,
    "start_time": "2022-01-28T13:11:39.329Z"
   },
   {
    "duration": 2369,
    "start_time": "2022-01-28T13:12:05.026Z"
   },
   {
    "duration": 2717,
    "start_time": "2022-01-28T13:12:07.397Z"
   },
   {
    "duration": 2270,
    "start_time": "2022-01-28T13:12:10.116Z"
   },
   {
    "duration": 1740,
    "start_time": "2022-01-28T13:12:12.388Z"
   },
   {
    "duration": 26,
    "start_time": "2022-01-28T13:12:14.129Z"
   },
   {
    "duration": 42,
    "start_time": "2022-01-28T13:12:14.156Z"
   },
   {
    "duration": 39,
    "start_time": "2022-01-28T13:12:14.199Z"
   },
   {
    "duration": 5,
    "start_time": "2022-01-28T13:12:14.240Z"
   },
   {
    "duration": 9,
    "start_time": "2022-01-28T13:12:14.247Z"
   },
   {
    "duration": 8,
    "start_time": "2022-01-28T13:12:14.258Z"
   },
   {
    "duration": 2499,
    "start_time": "2022-01-28T13:14:20.789Z"
   },
   {
    "duration": 2617,
    "start_time": "2022-01-28T13:14:23.290Z"
   },
   {
    "duration": 2238,
    "start_time": "2022-01-28T13:14:25.910Z"
   },
   {
    "duration": 1787,
    "start_time": "2022-01-28T13:14:28.150Z"
   },
   {
    "duration": 26,
    "start_time": "2022-01-28T13:14:29.939Z"
   },
   {
    "duration": 45,
    "start_time": "2022-01-28T13:14:29.967Z"
   },
   {
    "duration": 39,
    "start_time": "2022-01-28T13:14:30.013Z"
   },
   {
    "duration": 4,
    "start_time": "2022-01-28T13:14:30.056Z"
   },
   {
    "duration": 9,
    "start_time": "2022-01-28T13:14:30.062Z"
   },
   {
    "duration": 8,
    "start_time": "2022-01-28T13:14:30.073Z"
   },
   {
    "duration": 364,
    "start_time": "2022-01-28T13:14:51.744Z"
   },
   {
    "duration": -73,
    "start_time": "2022-01-28T13:14:52.183Z"
   },
   {
    "duration": 2623,
    "start_time": "2022-01-28T13:14:57.878Z"
   },
   {
    "duration": 2443,
    "start_time": "2022-01-28T13:15:00.503Z"
   },
   {
    "duration": 2206,
    "start_time": "2022-01-28T13:15:02.949Z"
   },
   {
    "duration": 1778,
    "start_time": "2022-01-28T13:15:05.157Z"
   },
   {
    "duration": 24,
    "start_time": "2022-01-28T13:15:06.936Z"
   },
   {
    "duration": 42,
    "start_time": "2022-01-28T13:15:06.961Z"
   },
   {
    "duration": 38,
    "start_time": "2022-01-28T13:15:07.005Z"
   },
   {
    "duration": 5,
    "start_time": "2022-01-28T13:15:07.045Z"
   },
   {
    "duration": 10,
    "start_time": "2022-01-28T13:15:07.051Z"
   },
   {
    "duration": 7,
    "start_time": "2022-01-28T13:15:07.063Z"
   },
   {
    "duration": 2424,
    "start_time": "2022-01-28T13:15:22.539Z"
   },
   {
    "duration": 2463,
    "start_time": "2022-01-28T13:15:24.965Z"
   },
   {
    "duration": 2302,
    "start_time": "2022-01-28T13:15:27.431Z"
   },
   {
    "duration": 1893,
    "start_time": "2022-01-28T13:15:29.735Z"
   },
   {
    "duration": 24,
    "start_time": "2022-01-28T13:15:31.629Z"
   },
   {
    "duration": 41,
    "start_time": "2022-01-28T13:15:31.655Z"
   },
   {
    "duration": 38,
    "start_time": "2022-01-28T13:15:31.698Z"
   },
   {
    "duration": 5,
    "start_time": "2022-01-28T13:15:31.739Z"
   },
   {
    "duration": 9,
    "start_time": "2022-01-28T13:15:31.746Z"
   },
   {
    "duration": 9,
    "start_time": "2022-01-28T13:15:31.757Z"
   },
   {
    "duration": 100384,
    "start_time": "2022-01-29T10:55:55.505Z"
   },
   {
    "duration": 46823,
    "start_time": "2022-01-29T10:57:50.622Z"
   },
   {
    "duration": 23298,
    "start_time": "2022-01-29T10:58:37.447Z"
   },
   {
    "duration": 99638,
    "start_time": "2022-01-29T10:59:00.748Z"
   },
   {
    "duration": 2005,
    "start_time": "2022-01-29T11:00:40.388Z"
   },
   {
    "duration": 31,
    "start_time": "2022-01-29T11:00:42.395Z"
   },
   {
    "duration": 73,
    "start_time": "2022-01-29T11:00:42.430Z"
   },
   {
    "duration": 27,
    "start_time": "2022-01-29T11:00:42.504Z"
   },
   {
    "duration": 11,
    "start_time": "2022-01-29T11:00:42.534Z"
   },
   {
    "duration": 15,
    "start_time": "2022-01-29T11:00:42.547Z"
   },
   {
    "duration": 13,
    "start_time": "2022-01-29T11:00:42.564Z"
   },
   {
    "duration": 17825,
    "start_time": "2022-01-29T11:12:26.447Z"
   },
   {
    "duration": 101263,
    "start_time": "2022-01-29T11:12:44.275Z"
   },
   {
    "duration": 30,
    "start_time": "2022-01-29T11:16:07.879Z"
   },
   {
    "duration": 66,
    "start_time": "2022-01-29T11:16:07.910Z"
   },
   {
    "duration": 21,
    "start_time": "2022-01-29T11:16:07.978Z"
   },
   {
    "duration": 6,
    "start_time": "2022-01-29T11:16:08.002Z"
   },
   {
    "duration": 10,
    "start_time": "2022-01-29T11:16:08.010Z"
   },
   {
    "duration": 17,
    "start_time": "2022-01-29T11:16:08.022Z"
   },
   {
    "duration": 66551,
    "start_time": "2022-01-29T11:46:56.560Z"
   },
   {
    "duration": 100270,
    "start_time": "2022-01-29T11:48:03.114Z"
   },
   {
    "duration": 100194,
    "start_time": "2022-01-29T11:49:43.387Z"
   },
   {
    "duration": 2065,
    "start_time": "2022-01-29T11:51:23.584Z"
   },
   {
    "duration": 27,
    "start_time": "2022-01-29T11:51:25.651Z"
   },
   {
    "duration": 44,
    "start_time": "2022-01-29T11:51:25.680Z"
   },
   {
    "duration": 23,
    "start_time": "2022-01-29T11:51:25.725Z"
   },
   {
    "duration": 7,
    "start_time": "2022-01-29T11:51:25.750Z"
   },
   {
    "duration": 11,
    "start_time": "2022-01-29T11:51:25.759Z"
   },
   {
    "duration": 8,
    "start_time": "2022-01-29T11:51:25.772Z"
   },
   {
    "duration": 49557,
    "start_time": "2022-01-29T12:01:47.875Z"
   },
   {
    "duration": 33415,
    "start_time": "2022-01-29T12:02:46.772Z"
   },
   {
    "duration": 2822,
    "start_time": "2022-01-29T12:03:20.190Z"
   },
   {
    "duration": 2568,
    "start_time": "2022-01-29T12:03:23.016Z"
   },
   {
    "duration": 2151,
    "start_time": "2022-01-29T12:03:25.587Z"
   },
   {
    "duration": 27,
    "start_time": "2022-01-29T12:03:27.740Z"
   },
   {
    "duration": 71,
    "start_time": "2022-01-29T12:03:27.769Z"
   },
   {
    "duration": 25,
    "start_time": "2022-01-29T12:03:27.842Z"
   },
   {
    "duration": 6,
    "start_time": "2022-01-29T12:03:27.870Z"
   },
   {
    "duration": 11,
    "start_time": "2022-01-29T12:03:27.878Z"
   },
   {
    "duration": 9,
    "start_time": "2022-01-29T12:03:27.891Z"
   },
   {
    "duration": 6,
    "start_time": "2022-01-29T12:03:27.902Z"
   },
   {
    "duration": 14,
    "start_time": "2022-01-29T12:03:27.910Z"
   },
   {
    "duration": 9,
    "start_time": "2022-01-29T12:03:27.926Z"
   },
   {
    "duration": 29,
    "start_time": "2022-01-29T12:03:27.937Z"
   },
   {
    "duration": 31,
    "start_time": "2022-01-29T12:03:27.968Z"
   },
   {
    "duration": 14,
    "start_time": "2022-01-29T12:03:28.001Z"
   },
   {
    "duration": 431,
    "start_time": "2022-01-29T12:03:28.017Z"
   },
   {
    "duration": 472,
    "start_time": "2022-01-29T12:03:28.450Z"
   },
   {
    "duration": 306,
    "start_time": "2022-01-29T12:03:28.925Z"
   },
   {
    "duration": 349,
    "start_time": "2022-01-29T12:03:29.234Z"
   },
   {
    "duration": 445,
    "start_time": "2022-01-29T12:03:29.586Z"
   },
   {
    "duration": 282,
    "start_time": "2022-01-29T12:03:30.033Z"
   },
   {
    "duration": 8,
    "start_time": "2022-01-29T12:03:30.320Z"
   },
   {
    "duration": 281,
    "start_time": "2022-01-29T12:03:30.330Z"
   },
   {
    "duration": 4,
    "start_time": "2022-01-29T12:03:30.613Z"
   },
   {
    "duration": 180,
    "start_time": "2022-01-29T12:03:30.619Z"
   },
   {
    "duration": 12,
    "start_time": "2022-01-29T12:03:30.801Z"
   },
   {
    "duration": 11,
    "start_time": "2022-01-29T12:03:30.815Z"
   },
   {
    "duration": 26,
    "start_time": "2022-01-29T12:03:30.828Z"
   },
   {
    "duration": 10,
    "start_time": "2022-01-29T12:03:30.856Z"
   },
   {
    "duration": 359,
    "start_time": "2022-01-29T12:12:57.979Z"
   },
   {
    "duration": 277,
    "start_time": "2022-01-29T12:13:22.173Z"
   },
   {
    "duration": 313,
    "start_time": "2022-01-29T12:14:45.074Z"
   },
   {
    "duration": 296,
    "start_time": "2022-01-29T12:29:38.192Z"
   },
   {
    "duration": 100197,
    "start_time": "2022-01-29T12:29:48.409Z"
   },
   {
    "duration": 100168,
    "start_time": "2022-01-29T12:31:28.608Z"
   },
   {
    "duration": 100176,
    "start_time": "2022-01-29T12:33:08.778Z"
   },
   {
    "duration": 2022,
    "start_time": "2022-01-29T12:34:48.957Z"
   },
   {
    "duration": 25,
    "start_time": "2022-01-29T12:34:50.981Z"
   },
   {
    "duration": 56,
    "start_time": "2022-01-29T12:34:51.008Z"
   },
   {
    "duration": 24,
    "start_time": "2022-01-29T12:34:51.066Z"
   },
   {
    "duration": 6,
    "start_time": "2022-01-29T12:34:51.094Z"
   },
   {
    "duration": 17,
    "start_time": "2022-01-29T12:34:51.103Z"
   },
   {
    "duration": 11,
    "start_time": "2022-01-29T12:34:51.122Z"
   },
   {
    "duration": 11,
    "start_time": "2022-01-29T12:34:51.135Z"
   },
   {
    "duration": 17,
    "start_time": "2022-01-29T12:34:51.148Z"
   },
   {
    "duration": 11,
    "start_time": "2022-01-29T12:34:51.167Z"
   },
   {
    "duration": 40,
    "start_time": "2022-01-29T12:34:51.179Z"
   },
   {
    "duration": 10,
    "start_time": "2022-01-29T12:34:51.221Z"
   },
   {
    "duration": 20,
    "start_time": "2022-01-29T12:34:51.232Z"
   },
   {
    "duration": 416,
    "start_time": "2022-01-29T12:34:51.254Z"
   },
   {
    "duration": 479,
    "start_time": "2022-01-29T12:34:51.672Z"
   },
   {
    "duration": 374,
    "start_time": "2022-01-29T12:34:52.153Z"
   },
   {
    "duration": 385,
    "start_time": "2022-01-29T12:34:52.529Z"
   },
   {
    "duration": 415,
    "start_time": "2022-01-29T12:34:52.915Z"
   },
   {
    "duration": 275,
    "start_time": "2022-01-29T12:34:53.332Z"
   },
   {
    "duration": 7,
    "start_time": "2022-01-29T12:34:53.610Z"
   },
   {
    "duration": 257,
    "start_time": "2022-01-29T12:34:53.619Z"
   },
   {
    "duration": 4,
    "start_time": "2022-01-29T12:34:53.878Z"
   },
   {
    "duration": 146,
    "start_time": "2022-01-29T12:34:53.884Z"
   },
   {
    "duration": 10,
    "start_time": "2022-01-29T12:34:54.032Z"
   },
   {
    "duration": 11,
    "start_time": "2022-01-29T12:34:54.043Z"
   },
   {
    "duration": 47,
    "start_time": "2022-01-29T12:34:54.056Z"
   },
   {
    "duration": 9,
    "start_time": "2022-01-29T12:34:54.104Z"
   },
   {
    "duration": 3,
    "start_time": "2022-01-29T12:36:58.066Z"
   },
   {
    "duration": 2640,
    "start_time": "2022-01-29T12:37:03.480Z"
   },
   {
    "duration": 4,
    "start_time": "2022-01-29T12:38:08.214Z"
   },
   {
    "duration": 33081,
    "start_time": "2022-01-29T12:38:08.221Z"
   },
   {
    "duration": 2620,
    "start_time": "2022-01-29T12:38:41.305Z"
   },
   {
    "duration": 66282,
    "start_time": "2022-01-29T12:38:43.927Z"
   },
   {
    "duration": 1734,
    "start_time": "2022-01-29T12:39:50.210Z"
   },
   {
    "duration": 29,
    "start_time": "2022-01-29T12:39:51.946Z"
   },
   {
    "duration": 61,
    "start_time": "2022-01-29T12:39:51.977Z"
   },
   {
    "duration": 24,
    "start_time": "2022-01-29T12:39:52.041Z"
   },
   {
    "duration": 13,
    "start_time": "2022-01-29T12:39:52.068Z"
   },
   {
    "duration": 17,
    "start_time": "2022-01-29T12:39:52.083Z"
   },
   {
    "duration": 19,
    "start_time": "2022-01-29T12:39:52.102Z"
   },
   {
    "duration": 7,
    "start_time": "2022-01-29T12:39:52.124Z"
   },
   {
    "duration": 19,
    "start_time": "2022-01-29T12:39:52.133Z"
   },
   {
    "duration": 14,
    "start_time": "2022-01-29T12:39:52.154Z"
   },
   {
    "duration": 32,
    "start_time": "2022-01-29T12:39:52.170Z"
   },
   {
    "duration": 10,
    "start_time": "2022-01-29T12:39:52.204Z"
   },
   {
    "duration": 19,
    "start_time": "2022-01-29T12:39:52.216Z"
   },
   {
    "duration": 429,
    "start_time": "2022-01-29T12:39:52.236Z"
   },
   {
    "duration": 455,
    "start_time": "2022-01-29T12:39:52.667Z"
   },
   {
    "duration": 307,
    "start_time": "2022-01-29T12:39:53.123Z"
   },
   {
    "duration": 387,
    "start_time": "2022-01-29T12:39:53.433Z"
   },
   {
    "duration": 421,
    "start_time": "2022-01-29T12:39:53.822Z"
   },
   {
    "duration": 332,
    "start_time": "2022-01-29T12:39:54.248Z"
   },
   {
    "duration": 17,
    "start_time": "2022-01-29T12:39:54.583Z"
   },
   {
    "duration": 281,
    "start_time": "2022-01-29T12:39:54.602Z"
   },
   {
    "duration": 15,
    "start_time": "2022-01-29T12:39:54.885Z"
   },
   {
    "duration": 139,
    "start_time": "2022-01-29T12:39:54.902Z"
   },
   {
    "duration": 13,
    "start_time": "2022-01-29T12:39:55.043Z"
   },
   {
    "duration": 9,
    "start_time": "2022-01-29T12:39:55.058Z"
   },
   {
    "duration": 46,
    "start_time": "2022-01-29T12:39:55.069Z"
   },
   {
    "duration": 10,
    "start_time": "2022-01-29T12:39:55.117Z"
   },
   {
    "duration": 355,
    "start_time": "2022-01-29T12:51:13.585Z"
   },
   {
    "duration": 388,
    "start_time": "2022-01-29T12:52:06.964Z"
   },
   {
    "duration": 7186,
    "start_time": "2022-01-29T13:43:15.963Z"
   },
   {
    "duration": 431,
    "start_time": "2022-01-29T13:43:48.572Z"
   },
   {
    "duration": 423,
    "start_time": "2022-01-29T13:45:32.185Z"
   },
   {
    "duration": 417,
    "start_time": "2022-01-29T13:46:36.341Z"
   },
   {
    "duration": 13,
    "start_time": "2022-01-29T13:48:04.375Z"
   },
   {
    "duration": 8,
    "start_time": "2022-01-29T13:48:08.970Z"
   },
   {
    "duration": 31,
    "start_time": "2022-01-29T13:48:09.441Z"
   },
   {
    "duration": 10,
    "start_time": "2022-01-29T13:48:10.250Z"
   },
   {
    "duration": 14,
    "start_time": "2022-01-29T13:48:15.128Z"
   },
   {
    "duration": 427,
    "start_time": "2022-01-29T13:48:16.352Z"
   },
   {
    "duration": 400,
    "start_time": "2022-01-29T13:49:29.662Z"
   },
   {
    "duration": 19,
    "start_time": "2022-01-29T13:50:24.369Z"
   },
   {
    "duration": 460,
    "start_time": "2022-01-29T13:55:24.542Z"
   },
   {
    "duration": 401,
    "start_time": "2022-01-29T13:56:14.509Z"
   },
   {
    "duration": 422,
    "start_time": "2022-01-29T13:56:23.112Z"
   },
   {
    "duration": 5,
    "start_time": "2022-01-29T17:21:22.651Z"
   },
   {
    "duration": 19385,
    "start_time": "2022-01-29T17:21:23.252Z"
   },
   {
    "duration": 7994,
    "start_time": "2022-01-29T17:21:42.640Z"
   },
   {
    "duration": 4585,
    "start_time": "2022-01-29T17:21:50.637Z"
   },
   {
    "duration": 2710,
    "start_time": "2022-01-29T17:21:55.225Z"
   },
   {
    "duration": 34,
    "start_time": "2022-01-29T17:21:57.938Z"
   },
   {
    "duration": 59,
    "start_time": "2022-01-29T17:21:57.975Z"
   },
   {
    "duration": 27,
    "start_time": "2022-01-29T17:21:58.037Z"
   },
   {
    "duration": 8,
    "start_time": "2022-01-29T17:21:58.068Z"
   },
   {
    "duration": 16,
    "start_time": "2022-01-29T17:21:58.080Z"
   },
   {
    "duration": 15,
    "start_time": "2022-01-29T17:21:58.099Z"
   },
   {
    "duration": 5,
    "start_time": "2022-01-29T17:21:58.116Z"
   },
   {
    "duration": 19,
    "start_time": "2022-01-29T17:21:58.149Z"
   },
   {
    "duration": 10,
    "start_time": "2022-01-29T17:21:58.171Z"
   },
   {
    "duration": 75,
    "start_time": "2022-01-29T17:21:58.184Z"
   },
   {
    "duration": 14,
    "start_time": "2022-01-29T17:21:58.263Z"
   },
   {
    "duration": 9,
    "start_time": "2022-01-29T17:22:27.756Z"
   },
   {
    "duration": 405,
    "start_time": "2022-01-29T17:22:28.268Z"
   },
   {
    "duration": 289,
    "start_time": "2022-01-29T17:22:37.160Z"
   },
   {
    "duration": 35,
    "start_time": "2022-01-29T17:23:20.976Z"
   },
   {
    "duration": 23,
    "start_time": "2022-01-29T17:23:23.526Z"
   },
   {
    "duration": 13,
    "start_time": "2022-01-29T17:23:24.209Z"
   },
   {
    "duration": 19,
    "start_time": "2022-01-29T17:23:30.161Z"
   },
   {
    "duration": 14,
    "start_time": "2022-01-29T17:23:30.455Z"
   },
   {
    "duration": 588,
    "start_time": "2022-01-29T17:23:31.435Z"
   },
   {
    "duration": 575,
    "start_time": "2022-01-29T17:23:38.257Z"
   },
   {
    "duration": 601,
    "start_time": "2022-01-29T17:26:58.784Z"
   },
   {
    "duration": 5,
    "start_time": "2022-01-29T17:27:49.886Z"
   },
   {
    "duration": 3570,
    "start_time": "2022-01-29T17:27:49.894Z"
   },
   {
    "duration": 3890,
    "start_time": "2022-01-29T17:27:53.467Z"
   },
   {
    "duration": 3517,
    "start_time": "2022-01-29T17:27:57.361Z"
   },
   {
    "duration": 2211,
    "start_time": "2022-01-29T17:28:00.881Z"
   },
   {
    "duration": 35,
    "start_time": "2022-01-29T17:28:03.094Z"
   },
   {
    "duration": 52,
    "start_time": "2022-01-29T17:28:03.131Z"
   },
   {
    "duration": 27,
    "start_time": "2022-01-29T17:28:03.188Z"
   },
   {
    "duration": 14,
    "start_time": "2022-01-29T17:28:03.218Z"
   },
   {
    "duration": 24,
    "start_time": "2022-01-29T17:28:03.234Z"
   },
   {
    "duration": 13,
    "start_time": "2022-01-29T17:28:03.261Z"
   },
   {
    "duration": 7,
    "start_time": "2022-01-29T17:28:03.277Z"
   },
   {
    "duration": 30,
    "start_time": "2022-01-29T17:28:03.286Z"
   },
   {
    "duration": 34,
    "start_time": "2022-01-29T17:28:03.319Z"
   },
   {
    "duration": 34,
    "start_time": "2022-01-29T17:28:03.356Z"
   },
   {
    "duration": 21,
    "start_time": "2022-01-29T17:28:03.392Z"
   },
   {
    "duration": 39,
    "start_time": "2022-01-29T17:28:03.415Z"
   },
   {
    "duration": 680,
    "start_time": "2022-01-29T17:28:03.456Z"
   },
   {
    "duration": 583,
    "start_time": "2022-01-29T17:28:04.139Z"
   },
   {
    "duration": 395,
    "start_time": "2022-01-29T17:28:04.726Z"
   },
   {
    "duration": 486,
    "start_time": "2022-01-29T17:28:05.124Z"
   },
   {
    "duration": 546,
    "start_time": "2022-01-29T17:28:05.613Z"
   },
   {
    "duration": 354,
    "start_time": "2022-01-29T17:28:06.164Z"
   },
   {
    "duration": 10,
    "start_time": "2022-01-29T17:28:06.521Z"
   },
   {
    "duration": 352,
    "start_time": "2022-01-29T17:28:06.533Z"
   },
   {
    "duration": 5,
    "start_time": "2022-01-29T17:28:06.887Z"
   },
   {
    "duration": 220,
    "start_time": "2022-01-29T17:28:06.895Z"
   },
   {
    "duration": 32,
    "start_time": "2022-01-29T17:28:07.118Z"
   },
   {
    "duration": 15,
    "start_time": "2022-01-29T17:28:07.153Z"
   },
   {
    "duration": 42,
    "start_time": "2022-01-29T17:28:07.171Z"
   },
   {
    "duration": 45,
    "start_time": "2022-01-29T17:28:07.216Z"
   },
   {
    "duration": 7254,
    "start_time": "2022-01-29T17:48:17.330Z"
   },
   {
    "duration": -187,
    "start_time": "2022-01-29T17:48:24.774Z"
   },
   {
    "duration": 6,
    "start_time": "2022-01-29T17:48:27.938Z"
   },
   {
    "duration": 8059,
    "start_time": "2022-01-29T17:48:28.171Z"
   },
   {
    "duration": 414,
    "start_time": "2022-01-29T17:48:49.284Z"
   },
   {
    "duration": 5,
    "start_time": "2022-01-29T17:49:06.410Z"
   },
   {
    "duration": 21,
    "start_time": "2022-01-29T17:49:20.511Z"
   },
   {
    "duration": 9,
    "start_time": "2022-01-29T17:49:29.325Z"
   },
   {
    "duration": 8,
    "start_time": "2022-01-29T17:50:01.224Z"
   },
   {
    "duration": 9,
    "start_time": "2022-01-29T17:50:28.107Z"
   },
   {
    "duration": 286,
    "start_time": "2022-01-29T17:54:40.005Z"
   },
   {
    "duration": 404,
    "start_time": "2022-01-29T17:55:15.042Z"
   },
   {
    "duration": 326,
    "start_time": "2022-01-29T17:56:52.208Z"
   },
   {
    "duration": 9,
    "start_time": "2022-01-29T17:57:00.374Z"
   },
   {
    "duration": 270,
    "start_time": "2022-01-29T17:57:14.051Z"
   },
   {
    "duration": 10,
    "start_time": "2022-01-29T17:57:20.550Z"
   },
   {
    "duration": 566,
    "start_time": "2022-01-29T18:05:24.635Z"
   },
   {
    "duration": 360,
    "start_time": "2022-01-29T18:07:02.608Z"
   },
   {
    "duration": 510,
    "start_time": "2022-01-29T18:08:22.546Z"
   },
   {
    "duration": 11,
    "start_time": "2022-01-29T18:08:41.112Z"
   },
   {
    "duration": 315,
    "start_time": "2022-01-29T18:08:52.406Z"
   },
   {
    "duration": 7,
    "start_time": "2022-01-29T18:08:55.516Z"
   },
   {
    "duration": 223,
    "start_time": "2022-01-29T18:08:57.304Z"
   },
   {
    "duration": 8,
    "start_time": "2022-01-29T18:11:27.333Z"
   },
   {
    "duration": 336,
    "start_time": "2022-01-29T18:24:20.317Z"
   },
   {
    "duration": 714,
    "start_time": "2022-01-29T18:25:24.435Z"
   },
   {
    "duration": 99,
    "start_time": "2022-01-29T18:29:46.043Z"
   },
   {
    "duration": 211,
    "start_time": "2022-01-29T18:29:59.959Z"
   },
   {
    "duration": 510,
    "start_time": "2022-01-29T18:36:32.434Z"
   },
   {
    "duration": 341,
    "start_time": "2022-01-29T18:36:57.065Z"
   },
   {
    "duration": 17,
    "start_time": "2022-01-29T18:46:59.910Z"
   },
   {
    "duration": 325,
    "start_time": "2022-01-29T20:51:35.048Z"
   },
   {
    "duration": 5,
    "start_time": "2022-01-29T20:51:51.805Z"
   },
   {
    "duration": 19847,
    "start_time": "2022-01-29T20:51:51.813Z"
   },
   {
    "duration": 8698,
    "start_time": "2022-01-29T20:52:11.664Z"
   },
   {
    "duration": 4835,
    "start_time": "2022-01-29T20:52:20.368Z"
   },
   {
    "duration": 2423,
    "start_time": "2022-01-29T20:52:25.206Z"
   },
   {
    "duration": 32,
    "start_time": "2022-01-29T20:52:27.631Z"
   },
   {
    "duration": 59,
    "start_time": "2022-01-29T20:52:27.666Z"
   },
   {
    "duration": 27,
    "start_time": "2022-01-29T20:52:27.730Z"
   },
   {
    "duration": 9,
    "start_time": "2022-01-29T20:52:27.761Z"
   },
   {
    "duration": 14,
    "start_time": "2022-01-29T20:52:27.772Z"
   },
   {
    "duration": 12,
    "start_time": "2022-01-29T20:52:27.789Z"
   },
   {
    "duration": 45,
    "start_time": "2022-01-29T20:52:27.803Z"
   },
   {
    "duration": 18,
    "start_time": "2022-01-29T20:52:27.851Z"
   },
   {
    "duration": 11,
    "start_time": "2022-01-29T20:52:27.871Z"
   },
   {
    "duration": 64,
    "start_time": "2022-01-29T20:52:27.885Z"
   },
   {
    "duration": 20,
    "start_time": "2022-01-29T20:52:27.951Z"
   },
   {
    "duration": 8,
    "start_time": "2022-01-29T20:52:27.973Z"
   },
   {
    "duration": 13,
    "start_time": "2022-01-29T20:52:27.983Z"
   },
   {
    "duration": 605,
    "start_time": "2022-01-29T20:52:27.999Z"
   },
   {
    "duration": 581,
    "start_time": "2022-01-29T20:52:28.606Z"
   },
   {
    "duration": 419,
    "start_time": "2022-01-29T20:52:29.191Z"
   },
   {
    "duration": 511,
    "start_time": "2022-01-29T20:52:29.612Z"
   },
   {
    "duration": 445,
    "start_time": "2022-01-29T20:52:30.127Z"
   },
   {
    "duration": 7,
    "start_time": "2022-01-29T20:52:30.575Z"
   },
   {
    "duration": 20,
    "start_time": "2022-01-29T20:52:30.585Z"
   },
   {
    "duration": 31,
    "start_time": "2022-01-29T20:52:30.608Z"
   },
   {
    "duration": 543,
    "start_time": "2022-01-29T20:52:30.642Z"
   },
   {
    "duration": 6,
    "start_time": "2022-01-29T20:52:31.188Z"
   },
   {
    "duration": 345,
    "start_time": "2022-01-29T20:52:31.196Z"
   },
   {
    "duration": 7,
    "start_time": "2022-01-29T20:52:31.544Z"
   },
   {
    "duration": 226,
    "start_time": "2022-01-29T20:52:31.553Z"
   },
   {
    "duration": 14,
    "start_time": "2022-01-29T20:52:31.781Z"
   },
   {
    "duration": 7983,
    "start_time": "2022-01-29T20:52:31.797Z"
   },
   {
    "duration": 8662,
    "start_time": "2022-01-29T20:55:52.693Z"
   },
   {
    "duration": 7293,
    "start_time": "2022-01-29T20:56:32.558Z"
   },
   {
    "duration": 7614,
    "start_time": "2022-01-29T20:58:48.919Z"
   },
   {
    "duration": 387,
    "start_time": "2022-01-29T20:59:23.839Z"
   },
   {
    "duration": 13,
    "start_time": "2022-01-29T20:59:31.556Z"
   },
   {
    "duration": 7512,
    "start_time": "2022-01-29T21:00:34.224Z"
   },
   {
    "duration": 248,
    "start_time": "2022-01-29T21:01:20.836Z"
   },
   {
    "duration": 379,
    "start_time": "2022-01-29T21:02:26.371Z"
   },
   {
    "duration": 11,
    "start_time": "2022-01-29T21:03:02.525Z"
   },
   {
    "duration": 21,
    "start_time": "2022-01-29T21:03:54.421Z"
   },
   {
    "duration": 14,
    "start_time": "2022-01-29T21:05:14.150Z"
   },
   {
    "duration": 9,
    "start_time": "2022-01-29T21:06:13.616Z"
   },
   {
    "duration": 7413,
    "start_time": "2022-01-29T21:11:44.856Z"
   },
   {
    "duration": 7234,
    "start_time": "2022-01-29T21:12:42.798Z"
   },
   {
    "duration": 25,
    "start_time": "2022-01-29T21:13:17.252Z"
   },
   {
    "duration": 13,
    "start_time": "2022-01-29T21:19:42.119Z"
   },
   {
    "duration": 240,
    "start_time": "2022-01-29T21:19:47.813Z"
   },
   {
    "duration": 14,
    "start_time": "2022-01-29T21:19:56.464Z"
   },
   {
    "duration": 9,
    "start_time": "2022-01-29T21:19:57.378Z"
   },
   {
    "duration": 242,
    "start_time": "2022-01-29T21:20:15.658Z"
   },
   {
    "duration": 14,
    "start_time": "2022-01-29T21:20:18.350Z"
   },
   {
    "duration": 9,
    "start_time": "2022-01-29T21:20:19.306Z"
   },
   {
    "duration": 21,
    "start_time": "2022-01-29T21:20:22.319Z"
   },
   {
    "duration": 528,
    "start_time": "2022-01-29T21:20:23.783Z"
   },
   {
    "duration": 5,
    "start_time": "2022-01-29T21:35:42.928Z"
   },
   {
    "duration": 3518,
    "start_time": "2022-01-29T21:35:42.936Z"
   },
   {
    "duration": 3896,
    "start_time": "2022-01-29T21:35:46.457Z"
   },
   {
    "duration": 3439,
    "start_time": "2022-01-29T21:35:50.357Z"
   },
   {
    "duration": 2032,
    "start_time": "2022-01-29T21:35:53.799Z"
   },
   {
    "duration": 33,
    "start_time": "2022-01-29T21:35:55.834Z"
   },
   {
    "duration": 53,
    "start_time": "2022-01-29T21:35:55.869Z"
   },
   {
    "duration": 26,
    "start_time": "2022-01-29T21:35:55.926Z"
   },
   {
    "duration": 8,
    "start_time": "2022-01-29T21:35:55.955Z"
   },
   {
    "duration": 13,
    "start_time": "2022-01-29T21:35:55.965Z"
   },
   {
    "duration": 11,
    "start_time": "2022-01-29T21:35:55.980Z"
   },
   {
    "duration": 7,
    "start_time": "2022-01-29T21:35:55.993Z"
   },
   {
    "duration": 50,
    "start_time": "2022-01-29T21:35:56.002Z"
   },
   {
    "duration": 22,
    "start_time": "2022-01-29T21:35:56.055Z"
   },
   {
    "duration": 35,
    "start_time": "2022-01-29T21:35:56.080Z"
   },
   {
    "duration": 44,
    "start_time": "2022-01-29T21:35:56.117Z"
   },
   {
    "duration": 8,
    "start_time": "2022-01-29T21:35:56.164Z"
   },
   {
    "duration": 16,
    "start_time": "2022-01-29T21:35:56.174Z"
   },
   {
    "duration": 619,
    "start_time": "2022-01-29T21:35:56.192Z"
   },
   {
    "duration": 560,
    "start_time": "2022-01-29T21:35:56.814Z"
   },
   {
    "duration": 395,
    "start_time": "2022-01-29T21:35:57.376Z"
   },
   {
    "duration": 409,
    "start_time": "2022-01-29T21:35:57.773Z"
   },
   {
    "duration": 467,
    "start_time": "2022-01-29T21:35:58.187Z"
   },
   {
    "duration": 7,
    "start_time": "2022-01-29T21:35:58.657Z"
   },
   {
    "duration": 10,
    "start_time": "2022-01-29T21:35:58.667Z"
   },
   {
    "duration": 7,
    "start_time": "2022-01-29T21:35:58.680Z"
   },
   {
    "duration": 569,
    "start_time": "2022-01-29T21:35:58.689Z"
   },
   {
    "duration": 6,
    "start_time": "2022-01-29T21:35:59.261Z"
   },
   {
    "duration": 319,
    "start_time": "2022-01-29T21:35:59.269Z"
   },
   {
    "duration": 6,
    "start_time": "2022-01-29T21:35:59.590Z"
   },
   {
    "duration": 225,
    "start_time": "2022-01-29T21:35:59.598Z"
   },
   {
    "duration": 27,
    "start_time": "2022-01-29T21:35:59.825Z"
   },
   {
    "duration": 237,
    "start_time": "2022-01-29T21:35:59.855Z"
   },
   {
    "duration": 15,
    "start_time": "2022-01-29T21:36:00.096Z"
   },
   {
    "duration": 40,
    "start_time": "2022-01-29T21:36:00.114Z"
   },
   {
    "duration": 22,
    "start_time": "2022-01-29T21:36:00.157Z"
   },
   {
    "duration": 96,
    "start_time": "2022-01-29T21:36:00.182Z"
   },
   {
    "duration": 99,
    "start_time": "2022-01-29T21:56:09.929Z"
   },
   {
    "duration": 741,
    "start_time": "2022-01-29T21:56:20.827Z"
   },
   {
    "duration": 352,
    "start_time": "2022-01-29T21:56:32.119Z"
   },
   {
    "duration": 402,
    "start_time": "2022-01-29T21:59:34.897Z"
   },
   {
    "duration": 382,
    "start_time": "2022-01-29T22:00:08.618Z"
   },
   {
    "duration": 370,
    "start_time": "2022-01-29T22:00:42.730Z"
   },
   {
    "duration": 720,
    "start_time": "2022-01-29T22:02:14.589Z"
   },
   {
    "duration": 862,
    "start_time": "2022-01-29T22:02:38.565Z"
   },
   {
    "duration": 686,
    "start_time": "2022-01-29T22:02:45.566Z"
   },
   {
    "duration": 769,
    "start_time": "2022-01-29T22:03:33.519Z"
   },
   {
    "duration": 412,
    "start_time": "2022-01-29T22:04:35.488Z"
   },
   {
    "duration": 683,
    "start_time": "2022-01-29T22:04:47.756Z"
   },
   {
    "duration": 363,
    "start_time": "2022-01-30T11:17:32.726Z"
   },
   {
    "duration": 6,
    "start_time": "2022-01-30T11:17:43.884Z"
   },
   {
    "duration": 5623,
    "start_time": "2022-01-30T11:17:43.893Z"
   },
   {
    "duration": 5615,
    "start_time": "2022-01-30T11:17:49.520Z"
   },
   {
    "duration": 5320,
    "start_time": "2022-01-30T11:17:55.139Z"
   },
   {
    "duration": 2954,
    "start_time": "2022-01-30T11:18:00.463Z"
   },
   {
    "duration": 35,
    "start_time": "2022-01-30T11:18:03.420Z"
   },
   {
    "duration": 63,
    "start_time": "2022-01-30T11:18:03.458Z"
   },
   {
    "duration": 40,
    "start_time": "2022-01-30T11:18:03.526Z"
   },
   {
    "duration": 14,
    "start_time": "2022-01-30T11:18:03.570Z"
   },
   {
    "duration": 22,
    "start_time": "2022-01-30T11:18:03.586Z"
   },
   {
    "duration": 13,
    "start_time": "2022-01-30T11:18:03.611Z"
   },
   {
    "duration": 889,
    "start_time": "2022-01-30T11:18:03.627Z"
   },
   {
    "duration": 29,
    "start_time": "2022-01-30T11:18:04.519Z"
   },
   {
    "duration": 11,
    "start_time": "2022-01-30T11:18:04.551Z"
   },
   {
    "duration": 63,
    "start_time": "2022-01-30T11:18:04.569Z"
   },
   {
    "duration": 1091,
    "start_time": "2022-01-30T11:18:04.635Z"
   },
   {
    "duration": -71,
    "start_time": "2022-01-30T11:18:05.800Z"
   },
   {
    "duration": -74,
    "start_time": "2022-01-30T11:18:05.805Z"
   },
   {
    "duration": -78,
    "start_time": "2022-01-30T11:18:05.810Z"
   },
   {
    "duration": -79,
    "start_time": "2022-01-30T11:18:05.813Z"
   },
   {
    "duration": -81,
    "start_time": "2022-01-30T11:18:05.816Z"
   },
   {
    "duration": -89,
    "start_time": "2022-01-30T11:18:05.825Z"
   },
   {
    "duration": -90,
    "start_time": "2022-01-30T11:18:05.828Z"
   },
   {
    "duration": -93,
    "start_time": "2022-01-30T11:18:05.832Z"
   },
   {
    "duration": -95,
    "start_time": "2022-01-30T11:18:05.836Z"
   },
   {
    "duration": -124,
    "start_time": "2022-01-30T11:18:05.867Z"
   },
   {
    "duration": -134,
    "start_time": "2022-01-30T11:18:05.878Z"
   },
   {
    "duration": -142,
    "start_time": "2022-01-30T11:18:05.888Z"
   },
   {
    "duration": -146,
    "start_time": "2022-01-30T11:18:05.893Z"
   },
   {
    "duration": -137,
    "start_time": "2022-01-30T11:18:05.896Z"
   },
   {
    "duration": -138,
    "start_time": "2022-01-30T11:18:05.899Z"
   },
   {
    "duration": -139,
    "start_time": "2022-01-30T11:18:05.902Z"
   },
   {
    "duration": -142,
    "start_time": "2022-01-30T11:18:05.906Z"
   },
   {
    "duration": -144,
    "start_time": "2022-01-30T11:18:05.910Z"
   },
   {
    "duration": -143,
    "start_time": "2022-01-30T11:18:05.913Z"
   },
   {
    "duration": -144,
    "start_time": "2022-01-30T11:18:05.916Z"
   },
   {
    "duration": -144,
    "start_time": "2022-01-30T11:18:05.919Z"
   },
   {
    "duration": 342,
    "start_time": "2022-01-30T11:19:04.052Z"
   },
   {
    "duration": 6,
    "start_time": "2022-01-30T11:19:29.736Z"
   },
   {
    "duration": 604,
    "start_time": "2022-01-30T11:20:22.972Z"
   },
   {
    "duration": 269,
    "start_time": "2022-01-30T11:20:35.599Z"
   },
   {
    "duration": 366,
    "start_time": "2022-01-30T15:54:05.832Z"
   },
   {
    "duration": 6,
    "start_time": "2022-01-30T15:54:18.708Z"
   },
   {
    "duration": 3815,
    "start_time": "2022-01-30T15:54:18.717Z"
   },
   {
    "duration": 4477,
    "start_time": "2022-01-30T15:54:22.537Z"
   },
   {
    "duration": 3913,
    "start_time": "2022-01-30T15:54:27.018Z"
   },
   {
    "duration": 2776,
    "start_time": "2022-01-30T15:54:30.934Z"
   },
   {
    "duration": 36,
    "start_time": "2022-01-30T15:54:33.712Z"
   },
   {
    "duration": 52,
    "start_time": "2022-01-30T15:54:33.751Z"
   },
   {
    "duration": 32,
    "start_time": "2022-01-30T15:54:33.806Z"
   },
   {
    "duration": 11,
    "start_time": "2022-01-30T15:54:33.849Z"
   },
   {
    "duration": 34,
    "start_time": "2022-01-30T15:54:33.864Z"
   },
   {
    "duration": 17,
    "start_time": "2022-01-30T15:54:33.901Z"
   },
   {
    "duration": 754,
    "start_time": "2022-01-30T15:54:33.922Z"
   },
   {
    "duration": 18,
    "start_time": "2022-01-30T15:54:34.678Z"
   },
   {
    "duration": 453,
    "start_time": "2022-01-30T15:54:34.698Z"
   },
   {
    "duration": -80,
    "start_time": "2022-01-30T15:54:35.235Z"
   },
   {
    "duration": -81,
    "start_time": "2022-01-30T15:54:35.239Z"
   },
   {
    "duration": -85,
    "start_time": "2022-01-30T15:54:35.245Z"
   },
   {
    "duration": -87,
    "start_time": "2022-01-30T15:54:35.250Z"
   },
   {
    "duration": -88,
    "start_time": "2022-01-30T15:54:35.253Z"
   },
   {
    "duration": -89,
    "start_time": "2022-01-30T15:54:35.256Z"
   },
   {
    "duration": -90,
    "start_time": "2022-01-30T15:54:35.259Z"
   },
   {
    "duration": -91,
    "start_time": "2022-01-30T15:54:35.262Z"
   },
   {
    "duration": -92,
    "start_time": "2022-01-30T15:54:35.265Z"
   },
   {
    "duration": -93,
    "start_time": "2022-01-30T15:54:35.268Z"
   },
   {
    "duration": -94,
    "start_time": "2022-01-30T15:54:35.271Z"
   },
   {
    "duration": -95,
    "start_time": "2022-01-30T15:54:35.274Z"
   },
   {
    "duration": -101,
    "start_time": "2022-01-30T15:54:35.282Z"
   },
   {
    "duration": -102,
    "start_time": "2022-01-30T15:54:35.285Z"
   },
   {
    "duration": -118,
    "start_time": "2022-01-30T15:54:35.303Z"
   },
   {
    "duration": -122,
    "start_time": "2022-01-30T15:54:35.309Z"
   },
   {
    "duration": -125,
    "start_time": "2022-01-30T15:54:35.314Z"
   },
   {
    "duration": -133,
    "start_time": "2022-01-30T15:54:35.324Z"
   },
   {
    "duration": -133,
    "start_time": "2022-01-30T15:54:35.327Z"
   },
   {
    "duration": -135,
    "start_time": "2022-01-30T15:54:35.330Z"
   },
   {
    "duration": -136,
    "start_time": "2022-01-30T15:54:35.333Z"
   },
   {
    "duration": -139,
    "start_time": "2022-01-30T15:54:35.337Z"
   },
   {
    "duration": -93,
    "start_time": "2022-01-30T15:54:35.341Z"
   },
   {
    "duration": -94,
    "start_time": "2022-01-30T15:54:35.344Z"
   },
   {
    "duration": 333,
    "start_time": "2022-01-30T15:55:55.765Z"
   },
   {
    "duration": 12,
    "start_time": "2022-01-30T15:56:44.477Z"
   },
   {
    "duration": 48,
    "start_time": "2022-01-30T15:56:44.682Z"
   },
   {
    "duration": 286,
    "start_time": "2022-01-30T15:56:44.877Z"
   },
   {
    "duration": 22,
    "start_time": "2022-01-30T15:56:45.166Z"
   },
   {
    "duration": 7,
    "start_time": "2022-01-30T15:56:45.191Z"
   },
   {
    "duration": 15,
    "start_time": "2022-01-30T15:56:45.510Z"
   },
   {
    "duration": 653,
    "start_time": "2022-01-30T15:56:45.847Z"
   },
   {
    "duration": 591,
    "start_time": "2022-01-30T15:56:46.503Z"
   },
   {
    "duration": 524,
    "start_time": "2022-01-30T15:56:47.098Z"
   },
   {
    "duration": 651,
    "start_time": "2022-01-30T15:56:47.625Z"
   },
   {
    "duration": 579,
    "start_time": "2022-01-30T15:56:48.280Z"
   },
   {
    "duration": 7,
    "start_time": "2022-01-30T15:56:48.862Z"
   },
   {
    "duration": 14,
    "start_time": "2022-01-30T15:56:48.873Z"
   },
   {
    "duration": 16,
    "start_time": "2022-01-30T15:56:48.890Z"
   },
   {
    "duration": 495,
    "start_time": "2022-01-30T16:08:54.424Z"
   },
   {
    "duration": 33,
    "start_time": "2022-01-30T16:09:02.214Z"
   },
   {
    "duration": 63,
    "start_time": "2022-01-30T16:09:17.182Z"
   },
   {
    "duration": 318,
    "start_time": "2022-01-30T16:15:17.796Z"
   },
   {
    "duration": 304,
    "start_time": "2022-01-30T16:15:26.768Z"
   },
   {
    "duration": 331,
    "start_time": "2022-01-30T16:15:34.322Z"
   },
   {
    "duration": 428,
    "start_time": "2022-01-30T16:23:13.607Z"
   },
   {
    "duration": 6,
    "start_time": "2022-01-30T16:23:20.625Z"
   },
   {
    "duration": 14,
    "start_time": "2022-01-30T16:23:40.848Z"
   },
   {
    "duration": 21,
    "start_time": "2022-01-30T16:23:49.889Z"
   },
   {
    "duration": 377,
    "start_time": "2022-01-30T16:28:08.602Z"
   },
   {
    "duration": 110,
    "start_time": "2022-01-30T16:28:18.884Z"
   },
   {
    "duration": 337,
    "start_time": "2022-01-30T16:55:43.492Z"
   },
   {
    "duration": 326,
    "start_time": "2022-01-30T16:55:49.908Z"
   },
   {
    "duration": 498,
    "start_time": "2022-01-30T16:55:55.681Z"
   },
   {
    "duration": 9,
    "start_time": "2022-01-30T17:08:47.424Z"
   },
   {
    "duration": 21,
    "start_time": "2022-01-30T17:10:42.992Z"
   },
   {
    "duration": 42,
    "start_time": "2022-01-30T17:12:22.003Z"
   },
   {
    "duration": 32,
    "start_time": "2022-01-30T17:13:02.335Z"
   },
   {
    "duration": 10,
    "start_time": "2022-01-30T17:13:08.447Z"
   },
   {
    "duration": 9,
    "start_time": "2022-01-30T17:13:39.183Z"
   },
   {
    "duration": 622,
    "start_time": "2022-01-30T17:28:38.330Z"
   },
   {
    "duration": 482,
    "start_time": "2022-01-30T17:29:37.019Z"
   },
   {
    "duration": 599,
    "start_time": "2022-01-30T17:30:44.137Z"
   },
   {
    "duration": 8,
    "start_time": "2022-01-30T17:31:02.646Z"
   },
   {
    "duration": 353,
    "start_time": "2022-01-30T17:31:44.222Z"
   },
   {
    "duration": 12,
    "start_time": "2022-01-30T17:31:54.248Z"
   },
   {
    "duration": 226,
    "start_time": "2022-01-30T17:32:31.304Z"
   },
   {
    "duration": 15,
    "start_time": "2022-01-30T17:33:41.602Z"
   },
   {
    "duration": 217,
    "start_time": "2022-01-30T17:34:05.928Z"
   },
   {
    "duration": 15,
    "start_time": "2022-01-30T17:34:11.988Z"
   },
   {
    "duration": 13,
    "start_time": "2022-01-30T17:34:12.993Z"
   },
   {
    "duration": 23,
    "start_time": "2022-01-30T17:35:21.269Z"
   },
   {
    "duration": 730,
    "start_time": "2022-01-30T18:11:11.293Z"
   },
   {
    "duration": 369,
    "start_time": "2022-01-30T18:11:34.271Z"
   },
   {
    "duration": 713,
    "start_time": "2022-01-30T18:12:15.076Z"
   },
   {
    "duration": 12,
    "start_time": "2022-01-30T18:27:06.183Z"
   },
   {
    "duration": 5,
    "start_time": "2022-01-30T18:57:54.113Z"
   },
   {
    "duration": 3945,
    "start_time": "2022-01-30T18:57:54.121Z"
   },
   {
    "duration": 4426,
    "start_time": "2022-01-30T18:57:58.070Z"
   },
   {
    "duration": 4390,
    "start_time": "2022-01-30T18:58:02.500Z"
   },
   {
    "duration": 2336,
    "start_time": "2022-01-30T18:58:06.894Z"
   },
   {
    "duration": 53,
    "start_time": "2022-01-30T18:58:09.232Z"
   },
   {
    "duration": 74,
    "start_time": "2022-01-30T18:58:09.288Z"
   },
   {
    "duration": 29,
    "start_time": "2022-01-30T18:58:09.367Z"
   },
   {
    "duration": 7,
    "start_time": "2022-01-30T18:58:09.399Z"
   },
   {
    "duration": 20,
    "start_time": "2022-01-30T18:58:09.408Z"
   },
   {
    "duration": 30,
    "start_time": "2022-01-30T18:58:09.430Z"
   },
   {
    "duration": 710,
    "start_time": "2022-01-30T18:58:09.463Z"
   },
   {
    "duration": 19,
    "start_time": "2022-01-30T18:58:10.177Z"
   },
   {
    "duration": 10,
    "start_time": "2022-01-30T18:58:10.199Z"
   },
   {
    "duration": 42,
    "start_time": "2022-01-30T18:58:10.248Z"
   },
   {
    "duration": 10,
    "start_time": "2022-01-30T18:58:10.293Z"
   },
   {
    "duration": 49,
    "start_time": "2022-01-30T18:58:10.306Z"
   },
   {
    "duration": 12,
    "start_time": "2022-01-30T18:58:10.358Z"
   },
   {
    "duration": 13,
    "start_time": "2022-01-30T18:58:10.373Z"
   },
   {
    "duration": 14,
    "start_time": "2022-01-30T18:58:10.388Z"
   },
   {
    "duration": 637,
    "start_time": "2022-01-30T18:58:10.405Z"
   },
   {
    "duration": 588,
    "start_time": "2022-01-30T18:58:11.045Z"
   },
   {
    "duration": 477,
    "start_time": "2022-01-30T18:58:11.638Z"
   },
   {
    "duration": 388,
    "start_time": "2022-01-30T18:58:12.119Z"
   },
   {
    "duration": 430,
    "start_time": "2022-01-30T18:58:12.509Z"
   },
   {
    "duration": 12,
    "start_time": "2022-01-30T18:58:12.941Z"
   },
   {
    "duration": 19,
    "start_time": "2022-01-30T18:58:12.956Z"
   },
   {
    "duration": 8,
    "start_time": "2022-01-30T18:58:12.978Z"
   },
   {
    "duration": 545,
    "start_time": "2022-01-30T18:58:12.989Z"
   },
   {
    "duration": 11,
    "start_time": "2022-01-30T18:58:13.537Z"
   },
   {
    "duration": 326,
    "start_time": "2022-01-30T18:58:13.551Z"
   },
   {
    "duration": 6,
    "start_time": "2022-01-30T18:58:13.879Z"
   },
   {
    "duration": 233,
    "start_time": "2022-01-30T18:58:13.887Z"
   },
   {
    "duration": 27,
    "start_time": "2022-01-30T18:58:14.123Z"
   },
   {
    "duration": 245,
    "start_time": "2022-01-30T18:58:14.154Z"
   },
   {
    "duration": 13,
    "start_time": "2022-01-30T18:58:14.402Z"
   },
   {
    "duration": 30,
    "start_time": "2022-01-30T18:58:14.418Z"
   },
   {
    "duration": 25,
    "start_time": "2022-01-30T18:58:14.451Z"
   },
   {
    "duration": 5,
    "start_time": "2022-01-31T16:28:05.897Z"
   },
   {
    "duration": 19949,
    "start_time": "2022-01-31T16:28:05.909Z"
   },
   {
    "duration": 13454,
    "start_time": "2022-01-31T16:28:25.862Z"
   },
   {
    "duration": 4508,
    "start_time": "2022-01-31T16:28:39.319Z"
   },
   {
    "duration": 2615,
    "start_time": "2022-01-31T16:28:43.830Z"
   },
   {
    "duration": 31,
    "start_time": "2022-01-31T16:28:46.448Z"
   },
   {
    "duration": 75,
    "start_time": "2022-01-31T16:28:46.482Z"
   },
   {
    "duration": 26,
    "start_time": "2022-01-31T16:28:46.559Z"
   },
   {
    "duration": 23,
    "start_time": "2022-01-31T16:28:46.588Z"
   },
   {
    "duration": 17,
    "start_time": "2022-01-31T16:28:46.617Z"
   },
   {
    "duration": 18,
    "start_time": "2022-01-31T16:28:46.637Z"
   },
   {
    "duration": 837,
    "start_time": "2022-01-31T16:28:46.657Z"
   },
   {
    "duration": 16,
    "start_time": "2022-01-31T16:28:47.496Z"
   },
   {
    "duration": 11,
    "start_time": "2022-01-31T16:28:47.531Z"
   },
   {
    "duration": 38,
    "start_time": "2022-01-31T16:28:47.545Z"
   },
   {
    "duration": 8,
    "start_time": "2022-01-31T16:28:47.585Z"
   },
   {
    "duration": 43,
    "start_time": "2022-01-31T16:28:47.596Z"
   },
   {
    "duration": 9,
    "start_time": "2022-01-31T16:28:47.641Z"
   },
   {
    "duration": 10,
    "start_time": "2022-01-31T16:28:47.653Z"
   },
   {
    "duration": 18,
    "start_time": "2022-01-31T16:28:47.665Z"
   },
   {
    "duration": 659,
    "start_time": "2022-01-31T16:28:47.686Z"
   },
   {
    "duration": 606,
    "start_time": "2022-01-31T16:28:48.348Z"
   },
   {
    "duration": 482,
    "start_time": "2022-01-31T16:28:48.956Z"
   },
   {
    "duration": 451,
    "start_time": "2022-01-31T16:28:49.441Z"
   },
   {
    "duration": 459,
    "start_time": "2022-01-31T16:28:49.894Z"
   },
   {
    "duration": 7,
    "start_time": "2022-01-31T16:28:50.355Z"
   },
   {
    "duration": 20,
    "start_time": "2022-01-31T16:28:50.364Z"
   },
   {
    "duration": 15,
    "start_time": "2022-01-31T16:28:50.389Z"
   },
   {
    "duration": 569,
    "start_time": "2022-01-31T16:28:50.407Z"
   },
   {
    "duration": 7,
    "start_time": "2022-01-31T16:28:50.979Z"
   },
   {
    "duration": 345,
    "start_time": "2022-01-31T16:28:50.989Z"
   },
   {
    "duration": 7,
    "start_time": "2022-01-31T16:28:51.338Z"
   },
   {
    "duration": 240,
    "start_time": "2022-01-31T16:28:51.348Z"
   },
   {
    "duration": 16,
    "start_time": "2022-01-31T16:28:51.591Z"
   },
   {
    "duration": 286,
    "start_time": "2022-01-31T16:28:51.610Z"
   },
   {
    "duration": 37,
    "start_time": "2022-01-31T16:28:51.898Z"
   },
   {
    "duration": 10,
    "start_time": "2022-01-31T16:28:51.938Z"
   },
   {
    "duration": 20,
    "start_time": "2022-01-31T16:28:51.950Z"
   },
   {
    "duration": 16,
    "start_time": "2022-01-31T16:31:36.207Z"
   },
   {
    "duration": 338,
    "start_time": "2022-01-31T16:53:07.296Z"
   },
   {
    "duration": 3,
    "start_time": "2022-01-31T16:53:14.331Z"
   },
   {
    "duration": 17471,
    "start_time": "2022-01-31T16:53:14.335Z"
   },
   {
    "duration": 7933,
    "start_time": "2022-01-31T16:53:31.808Z"
   },
   {
    "duration": 3138,
    "start_time": "2022-01-31T16:53:39.743Z"
   },
   {
    "duration": 1725,
    "start_time": "2022-01-31T16:53:42.883Z"
   },
   {
    "duration": 26,
    "start_time": "2022-01-31T16:53:44.610Z"
   },
   {
    "duration": 88,
    "start_time": "2022-01-31T16:53:44.638Z"
   },
   {
    "duration": 23,
    "start_time": "2022-01-31T16:53:44.728Z"
   },
   {
    "duration": 6,
    "start_time": "2022-01-31T16:53:44.752Z"
   },
   {
    "duration": 14,
    "start_time": "2022-01-31T16:53:44.759Z"
   },
   {
    "duration": 10,
    "start_time": "2022-01-31T16:53:44.775Z"
   },
   {
    "duration": 522,
    "start_time": "2022-01-31T16:53:44.787Z"
   },
   {
    "duration": 26,
    "start_time": "2022-01-31T16:53:45.311Z"
   },
   {
    "duration": 6,
    "start_time": "2022-01-31T16:53:45.339Z"
   },
   {
    "duration": 25,
    "start_time": "2022-01-31T16:53:45.347Z"
   },
   {
    "duration": 6,
    "start_time": "2022-01-31T16:53:45.374Z"
   },
   {
    "duration": 9,
    "start_time": "2022-01-31T16:53:45.381Z"
   },
   {
    "duration": 5,
    "start_time": "2022-01-31T16:53:45.392Z"
   },
   {
    "duration": 7,
    "start_time": "2022-01-31T16:53:45.400Z"
   },
   {
    "duration": 9,
    "start_time": "2022-01-31T16:53:45.409Z"
   },
   {
    "duration": 357,
    "start_time": "2022-01-31T16:53:45.419Z"
   },
   {
    "duration": 385,
    "start_time": "2022-01-31T16:53:45.777Z"
   },
   {
    "duration": 326,
    "start_time": "2022-01-31T16:53:46.164Z"
   },
   {
    "duration": 239,
    "start_time": "2022-01-31T16:53:46.492Z"
   },
   {
    "duration": 309,
    "start_time": "2022-01-31T16:53:46.733Z"
   },
   {
    "duration": 5,
    "start_time": "2022-01-31T16:53:47.044Z"
   },
   {
    "duration": 22,
    "start_time": "2022-01-31T16:53:47.050Z"
   },
   {
    "duration": 7,
    "start_time": "2022-01-31T16:53:47.073Z"
   },
   {
    "duration": 347,
    "start_time": "2022-01-31T16:53:47.081Z"
   },
   {
    "duration": 4,
    "start_time": "2022-01-31T16:53:47.429Z"
   },
   {
    "duration": 190,
    "start_time": "2022-01-31T16:53:47.435Z"
   },
   {
    "duration": 4,
    "start_time": "2022-01-31T16:53:47.626Z"
   },
   {
    "duration": 123,
    "start_time": "2022-01-31T16:53:47.673Z"
   },
   {
    "duration": 9,
    "start_time": "2022-01-31T16:53:47.798Z"
   },
   {
    "duration": 119,
    "start_time": "2022-01-31T16:53:47.809Z"
   },
   {
    "duration": 11,
    "start_time": "2022-01-31T16:53:47.930Z"
   },
   {
    "duration": 9,
    "start_time": "2022-01-31T16:53:47.942Z"
   },
   {
    "duration": 26,
    "start_time": "2022-01-31T16:53:47.953Z"
   },
   {
    "duration": 674,
    "start_time": "2022-01-31T17:01:54.757Z"
   },
   {
    "duration": 293,
    "start_time": "2022-01-31T17:02:47.706Z"
   },
   {
    "duration": 251,
    "start_time": "2022-01-31T17:03:19.482Z"
   },
   {
    "duration": 595,
    "start_time": "2022-01-31T17:07:15.117Z"
   },
   {
    "duration": 651,
    "start_time": "2022-01-31T17:07:22.270Z"
   },
   {
    "duration": 223,
    "start_time": "2022-01-31T17:07:36.904Z"
   },
   {
    "duration": 355,
    "start_time": "2022-01-31T17:09:28.073Z"
   },
   {
    "duration": 534,
    "start_time": "2022-01-31T17:13:04.758Z"
   },
   {
    "duration": 321,
    "start_time": "2022-01-31T17:13:19.004Z"
   },
   {
    "duration": 191,
    "start_time": "2022-01-31T17:14:19.121Z"
   },
   {
    "duration": 360,
    "start_time": "2022-01-31T17:25:31.273Z"
   },
   {
    "duration": 9,
    "start_time": "2022-01-31T17:25:41.614Z"
   },
   {
    "duration": 11,
    "start_time": "2022-01-31T17:26:20.806Z"
   },
   {
    "duration": 11,
    "start_time": "2022-01-31T17:26:43.638Z"
   },
   {
    "duration": 7,
    "start_time": "2022-01-31T17:26:57.206Z"
   },
   {
    "duration": 7,
    "start_time": "2022-01-31T17:27:47.070Z"
   },
   {
    "duration": 6,
    "start_time": "2022-01-31T17:27:54.168Z"
   },
   {
    "duration": 6,
    "start_time": "2022-01-31T17:28:18.481Z"
   },
   {
    "duration": 108,
    "start_time": "2022-01-31T17:29:20.433Z"
   },
   {
    "duration": 6,
    "start_time": "2022-01-31T17:30:51.929Z"
   },
   {
    "duration": 6,
    "start_time": "2022-01-31T17:33:48.813Z"
   },
   {
    "duration": 7,
    "start_time": "2022-01-31T17:33:50.440Z"
   },
   {
    "duration": 4,
    "start_time": "2022-01-31T17:51:56.809Z"
   },
   {
    "duration": 3694,
    "start_time": "2022-01-31T17:51:56.824Z"
   },
   {
    "duration": 2562,
    "start_time": "2022-01-31T17:52:00.521Z"
   },
   {
    "duration": 2358,
    "start_time": "2022-01-31T17:52:03.087Z"
   },
   {
    "duration": 2093,
    "start_time": "2022-01-31T17:52:05.447Z"
   },
   {
    "duration": 25,
    "start_time": "2022-01-31T17:52:07.543Z"
   },
   {
    "duration": 100,
    "start_time": "2022-01-31T17:52:07.569Z"
   },
   {
    "duration": 22,
    "start_time": "2022-01-31T17:52:07.671Z"
   },
   {
    "duration": 6,
    "start_time": "2022-01-31T17:52:07.695Z"
   },
   {
    "duration": 13,
    "start_time": "2022-01-31T17:52:07.704Z"
   },
   {
    "duration": 10,
    "start_time": "2022-01-31T17:52:07.719Z"
   },
   {
    "duration": 474,
    "start_time": "2022-01-31T17:52:07.731Z"
   },
   {
    "duration": 11,
    "start_time": "2022-01-31T17:52:08.208Z"
   },
   {
    "duration": 7,
    "start_time": "2022-01-31T17:52:08.221Z"
   },
   {
    "duration": 43,
    "start_time": "2022-01-31T17:52:08.229Z"
   },
   {
    "duration": 6,
    "start_time": "2022-01-31T17:52:08.274Z"
   },
   {
    "duration": 9,
    "start_time": "2022-01-31T17:52:08.282Z"
   },
   {
    "duration": 5,
    "start_time": "2022-01-31T17:52:08.293Z"
   },
   {
    "duration": 5,
    "start_time": "2022-01-31T17:52:08.300Z"
   },
   {
    "duration": 8,
    "start_time": "2022-01-31T17:52:08.306Z"
   },
   {
    "duration": 350,
    "start_time": "2022-01-31T17:52:08.315Z"
   },
   {
    "duration": 410,
    "start_time": "2022-01-31T17:52:08.667Z"
   },
   {
    "duration": 375,
    "start_time": "2022-01-31T17:52:09.079Z"
   },
   {
    "duration": 279,
    "start_time": "2022-01-31T17:52:09.456Z"
   },
   {
    "duration": 321,
    "start_time": "2022-01-31T17:52:09.737Z"
   },
   {
    "duration": 5,
    "start_time": "2022-01-31T17:52:10.071Z"
   },
   {
    "duration": 12,
    "start_time": "2022-01-31T17:52:10.077Z"
   },
   {
    "duration": 7,
    "start_time": "2022-01-31T17:52:10.093Z"
   },
   {
    "duration": 332,
    "start_time": "2022-01-31T17:52:10.102Z"
   },
   {
    "duration": 336,
    "start_time": "2022-01-31T17:52:10.436Z"
   },
   {
    "duration": 4,
    "start_time": "2022-01-31T17:52:10.774Z"
   },
   {
    "duration": 247,
    "start_time": "2022-01-31T17:52:10.780Z"
   },
   {
    "duration": 3,
    "start_time": "2022-01-31T17:52:11.029Z"
   },
   {
    "duration": 117,
    "start_time": "2022-01-31T17:52:11.034Z"
   },
   {
    "duration": 23,
    "start_time": "2022-01-31T17:52:11.152Z"
   },
   {
    "duration": 120,
    "start_time": "2022-01-31T17:52:11.177Z"
   },
   {
    "duration": 8,
    "start_time": "2022-01-31T17:52:11.299Z"
   },
   {
    "duration": 415,
    "start_time": "2022-01-31T17:52:11.308Z"
   },
   {
    "duration": -84,
    "start_time": "2022-01-31T17:52:11.809Z"
   },
   {
    "duration": -87,
    "start_time": "2022-01-31T17:52:11.813Z"
   },
   {
    "duration": -90,
    "start_time": "2022-01-31T17:52:11.817Z"
   },
   {
    "duration": 329,
    "start_time": "2022-01-31T17:52:27.412Z"
   },
   {
    "duration": 5,
    "start_time": "2022-01-31T17:52:32.750Z"
   },
   {
    "duration": 4,
    "start_time": "2022-01-31T17:52:58.144Z"
   },
   {
    "duration": 10,
    "start_time": "2022-05-22T17:11:56.029Z"
   },
   {
    "duration": 10332,
    "start_time": "2022-05-22T17:11:56.041Z"
   },
   {
    "duration": 2296,
    "start_time": "2022-05-22T17:12:06.376Z"
   },
   {
    "duration": 2112,
    "start_time": "2022-05-22T17:12:08.675Z"
   },
   {
    "duration": 1432,
    "start_time": "2022-05-22T17:12:10.789Z"
   },
   {
    "duration": 44,
    "start_time": "2022-05-22T17:12:12.223Z"
   },
   {
    "duration": 42,
    "start_time": "2022-05-22T17:12:12.268Z"
   },
   {
    "duration": 31,
    "start_time": "2022-05-22T17:12:12.312Z"
   },
   {
    "duration": 4,
    "start_time": "2022-05-22T17:12:12.344Z"
   },
   {
    "duration": 13,
    "start_time": "2022-05-22T17:12:12.350Z"
   },
   {
    "duration": 7,
    "start_time": "2022-05-22T17:12:12.364Z"
   },
   {
    "duration": 541,
    "start_time": "2022-05-22T17:12:12.372Z"
   },
   {
    "duration": 11,
    "start_time": "2022-05-22T17:12:12.914Z"
   },
   {
    "duration": 14,
    "start_time": "2022-05-22T17:12:12.926Z"
   },
   {
    "duration": 22,
    "start_time": "2022-05-22T17:12:12.941Z"
   },
   {
    "duration": 5,
    "start_time": "2022-05-22T17:12:12.965Z"
   },
   {
    "duration": 9,
    "start_time": "2022-05-22T17:12:12.972Z"
   },
   {
    "duration": 17,
    "start_time": "2022-05-22T17:12:12.982Z"
   },
   {
    "duration": 5,
    "start_time": "2022-05-22T17:12:13.001Z"
   },
   {
    "duration": 9,
    "start_time": "2022-05-22T17:12:13.007Z"
   },
   {
    "duration": 325,
    "start_time": "2022-05-22T17:12:13.018Z"
   },
   {
    "duration": 454,
    "start_time": "2022-05-22T17:12:13.345Z"
   },
   {
    "duration": 298,
    "start_time": "2022-05-22T17:12:13.801Z"
   },
   {
    "duration": 266,
    "start_time": "2022-05-22T17:12:14.100Z"
   },
   {
    "duration": 313,
    "start_time": "2022-05-22T17:12:14.368Z"
   },
   {
    "duration": 12,
    "start_time": "2022-05-22T17:12:14.683Z"
   },
   {
    "duration": 16,
    "start_time": "2022-05-22T17:12:14.697Z"
   },
   {
    "duration": 16,
    "start_time": "2022-05-22T17:12:14.717Z"
   },
   {
    "duration": 424,
    "start_time": "2022-05-22T17:12:14.734Z"
   },
   {
    "duration": 0,
    "start_time": "2022-05-22T17:12:15.160Z"
   },
   {
    "duration": 0,
    "start_time": "2022-05-22T17:12:15.162Z"
   },
   {
    "duration": 0,
    "start_time": "2022-05-22T17:12:15.163Z"
   },
   {
    "duration": 1,
    "start_time": "2022-05-22T17:12:15.163Z"
   },
   {
    "duration": 0,
    "start_time": "2022-05-22T17:12:15.165Z"
   },
   {
    "duration": 0,
    "start_time": "2022-05-22T17:12:15.166Z"
   },
   {
    "duration": 0,
    "start_time": "2022-05-22T17:12:15.167Z"
   },
   {
    "duration": 0,
    "start_time": "2022-05-22T17:12:15.168Z"
   },
   {
    "duration": 0,
    "start_time": "2022-05-22T17:12:15.194Z"
   },
   {
    "duration": 0,
    "start_time": "2022-05-22T17:12:15.195Z"
   },
   {
    "duration": 0,
    "start_time": "2022-05-22T17:12:15.196Z"
   },
   {
    "duration": 0,
    "start_time": "2022-05-22T17:12:15.197Z"
   },
   {
    "duration": 0,
    "start_time": "2022-05-22T17:12:15.198Z"
   },
   {
    "duration": 381,
    "start_time": "2022-05-22T17:13:31.276Z"
   },
   {
    "duration": 4,
    "start_time": "2022-05-22T17:13:33.373Z"
   },
   {
    "duration": 177,
    "start_time": "2022-05-22T17:13:34.140Z"
   },
   {
    "duration": 4,
    "start_time": "2022-05-22T17:13:34.517Z"
   },
   {
    "duration": 131,
    "start_time": "2022-05-22T17:13:35.117Z"
   },
   {
    "duration": 10,
    "start_time": "2022-05-22T17:13:35.976Z"
   },
   {
    "duration": 106,
    "start_time": "2022-05-22T17:13:36.553Z"
   },
   {
    "duration": 8,
    "start_time": "2022-05-22T17:13:36.927Z"
   },
   {
    "duration": 11,
    "start_time": "2022-05-22T17:13:37.125Z"
   },
   {
    "duration": 4,
    "start_time": "2022-05-22T17:13:37.323Z"
   },
   {
    "duration": 24,
    "start_time": "2022-05-22T17:13:37.717Z"
   },
   {
    "duration": 25,
    "start_time": "2022-05-22T17:13:37.907Z"
   },
   {
    "duration": 13,
    "start_time": "2022-05-22T17:13:38.298Z"
   },
   {
    "duration": 279,
    "start_time": "2022-05-22T17:13:58.596Z"
   },
   {
    "duration": 336,
    "start_time": "2022-05-22T17:14:12.519Z"
   },
   {
    "duration": 228,
    "start_time": "2022-05-22T17:14:24.116Z"
   }
  ],
  "kernelspec": {
   "display_name": "Python 3 (ipykernel)",
   "language": "python",
   "name": "python3"
  },
  "language_info": {
   "codemirror_mode": {
    "name": "ipython",
    "version": 3
   },
   "file_extension": ".py",
   "mimetype": "text/x-python",
   "name": "python",
   "nbconvert_exporter": "python",
   "pygments_lexer": "ipython3",
   "version": "3.9.7"
  },
  "toc": {
   "base_numbering": 1,
   "nav_menu": {},
   "number_sections": true,
   "sideBar": true,
   "skip_h1_title": true,
   "title_cell": "Table of Contents",
   "title_sidebar": "Contents",
   "toc_cell": false,
   "toc_position": {},
   "toc_section_display": true,
   "toc_window_display": false
  }
 },
 "nbformat": 4,
 "nbformat_minor": 2
}
